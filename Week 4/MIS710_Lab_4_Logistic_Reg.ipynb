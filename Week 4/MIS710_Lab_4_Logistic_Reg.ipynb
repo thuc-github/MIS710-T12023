{
  "nbformat": 4,
  "nbformat_minor": 0,
  "metadata": {
    "colab": {
      "provenance": [],
      "include_colab_link": true
    },
    "kernelspec": {
      "display_name": "Python 3",
      "name": "python3"
    },
    "language_info": {
      "name": "python"
    }
  },
  "cells": [
    {
      "cell_type": "markdown",
      "metadata": {
        "id": "view-in-github",
        "colab_type": "text"
      },
      "source": [
        "<a href=\"https://colab.research.google.com/github/thuc-github/MIS710-T12023/blob/main/Week%204/MIS710_Lab_4_Logistic_Reg.ipynb\" target=\"_parent\"><img src=\"https://colab.research.google.com/assets/colab-badge.svg\" alt=\"Open In Colab\"/></a>"
      ]
    },
    {
      "cell_type": "markdown",
      "metadata": {
        "id": "MNkJtLWoPpW7"
      },
      "source": [
        "\n",
        "# **MIS710 Lab 4 - Introduction to Logistic Regression**\n",
        "\n",
        "**Author: Associate Professor Lemai Nguyen**\n",
        "\n",
        "Objective:\n",
        "**Breast Cancer Diagnosis**\n",
        "Predict the diagnosis (healthy or cancerous) based on a biopsy dataset.\n",
        "\n",
        "**Context**: The dataset was adapted from a biospy dataset. The dataset contains five (5) biological variables and the target variable. \n",
        "\n",
        "**Data**: \n",
        "V1, V2, V7-V9: biological variables\n",
        "\n",
        "Diagnosis: healthy or cancerous\n",
        "\n",
        "**Source**: adapted from a dataset provided by Dr Mark Griffin, Industry Fellow, University of Queensland; also available at: https://www.kaggle.com/datasets/ukveteran/biopsy-data-on-breast-cancer-patients "
      ]
    },
    {
      "cell_type": "markdown",
      "metadata": {
        "id": "jxTV1VTuj9mC"
      },
      "source": [
        "**Loading Libraries and Functions**\n",
        "\n",
        "Read about Logistic Regression at:\n",
        "https://scikit-learn.org/stable/modules/generated/sklearn.linear_model.LogisticRegression.html\n",
        "\n",
        "Train Test Split:\n",
        "https://scikit-learn.org/stable/modules/generated/sklearn.model_selection.train_test_split.html?highlight=train_test_split#sklearn.model_selection.train_test_split\n",
        "\n",
        "Classification metrics:\n",
        "https://scikit-learn.org/stable/modules/model_evaluation.html#classification-metrics"
      ]
    },
    {
      "cell_type": "code",
      "metadata": {
        "id": "p9_TVAw2FOsS",
        "colab": {
          "base_uri": "https://localhost:8080/"
        },
        "outputId": "f1a7d4bf-c90a-463b-9e3f-b0b13861e2d9"
      },
      "source": [
        "!pip install pydotplus #interface for graph visualisation\n",
        "!pip install graphviz #for graph visualisation"
      ],
      "execution_count": 1,
      "outputs": [
        {
          "output_type": "stream",
          "name": "stdout",
          "text": [
            "Looking in indexes: https://pypi.org/simple, https://us-python.pkg.dev/colab-wheels/public/simple/\n",
            "Requirement already satisfied: pydotplus in /usr/local/lib/python3.9/dist-packages (2.0.2)\n",
            "Requirement already satisfied: pyparsing>=2.0.1 in /usr/local/lib/python3.9/dist-packages (from pydotplus) (3.0.9)\n",
            "Looking in indexes: https://pypi.org/simple, https://us-python.pkg.dev/colab-wheels/public/simple/\n",
            "Requirement already satisfied: graphviz in /usr/local/lib/python3.9/dist-packages (0.20.1)\n"
          ]
        }
      ]
    },
    {
      "cell_type": "code",
      "metadata": {
        "id": "lVf5buwkml_I"
      },
      "source": [
        "# load libraries\n",
        "import pandas as pd #for data manipulation and analysis\n",
        "import numpy as np\n",
        " \n",
        "import seaborn as sns\n",
        "import matplotlib.pyplot as plt\n",
        "\n",
        "from sklearn.linear_model import LogisticRegression\n",
        "from sklearn.model_selection import train_test_split # Import train_test_split function\n",
        "from sklearn import metrics #Import scikit-learn metrics module for model evaluation\n",
        "\n"
      ],
      "execution_count": 2,
      "outputs": []
    },
    {
      "cell_type": "markdown",
      "metadata": {
        "id": "B38Q50gZm1vQ"
      },
      "source": [
        "## **Loading Data**\n",
        "\n",
        "\n",
        "1.   Load the dataset\n",
        "2.   Explore the data\n",
        "\n"
      ]
    },
    {
      "cell_type": "code",
      "source": [
        "from google.colab import drive\n",
        "drive.mount('/content/drive')"
      ],
      "metadata": {
        "colab": {
          "base_uri": "https://localhost:8080/"
        },
        "id": "8AufWU11ebt3",
        "outputId": "f7b2afa9-1ded-42cb-91cd-706e9f954dbf"
      },
      "execution_count": 3,
      "outputs": [
        {
          "output_type": "stream",
          "name": "stdout",
          "text": [
            "Drive already mounted at /content/drive; to attempt to forcibly remount, call drive.mount(\"/content/drive\", force_remount=True).\n"
          ]
        }
      ]
    },
    {
      "cell_type": "code",
      "source": [
        "url=\"https://raw.githubusercontent.com/VanLan0/MIS710/main/biopsy_ln.csv\""
      ],
      "metadata": {
        "id": "6-sHwOqUvDwm"
      },
      "execution_count": 4,
      "outputs": []
    },
    {
      "cell_type": "code",
      "metadata": {
        "id": "xXYXIiopFSPX",
        "colab": {
          "base_uri": "https://localhost:8080/"
        },
        "outputId": "7538fda5-beea-4f8b-8228-e748c7f28c6c"
      },
      "source": [
        "# load dataset\n",
        "records = pd.read_csv(url)\n",
        "\n",
        "#explore the dataset\n",
        "print(records)"
      ],
      "execution_count": 5,
      "outputs": [
        {
          "output_type": "stream",
          "name": "stdout",
          "text": [
            "          ID  V1  V2  V7  V8  V9 diagnosis\n",
            "0    1177399   8   3   1   6   2   healthy\n",
            "1    1246562  10   2   1   1   2   healthy\n",
            "2    1108370   9   5   2   1   5   healthy\n",
            "3    1165926   9   6   2   9  10   healthy\n",
            "4    1167439   2   3   2   5   1   healthy\n",
            "..       ...  ..  ..  ..  ..  ..       ...\n",
            "694  1124651   1   3   7   2   1   healthy\n",
            "695  1137156   2   2   7   1   1   healthy\n",
            "696  1147044   3   1   7   1   1   healthy\n",
            "697  1213375   8   4   7   8   2   healthy\n",
            "698   721482   4   4   7   3   1   healthy\n",
            "\n",
            "[699 rows x 7 columns]\n"
          ]
        }
      ]
    },
    {
      "cell_type": "code",
      "source": [
        "#What does the following code do?\n",
        "print(records[50:70])"
      ],
      "metadata": {
        "id": "Rm5pOPRG5hlT",
        "colab": {
          "base_uri": "https://localhost:8080/"
        },
        "outputId": "0c27bd7d-5525-4339-d10f-6e0e017f8091"
      },
      "execution_count": 6,
      "outputs": [
        {
          "output_type": "stream",
          "name": "stdout",
          "text": [
            "         ID  V1  V2  V7  V8  V9  diagnosis\n",
            "50  1115282   5   3   4  10   1  cancerous\n",
            "51  1116998  10   4   4   3  10  cancerous\n",
            "52  1118039   5   3   4   9   1  cancerous\n",
            "53  1125035   9   4   4   8   1  cancerous\n",
            "54  1147748   5  10   4  10  10  cancerous\n",
            "55  1148278   3   3   4   4   1  cancerous\n",
            "56  1170419  10  10   4   1   1  cancerous\n",
            "57  1183983   9   5   4   3   3  cancerous\n",
            "58  1185609   3   4   4   1   1  cancerous\n",
            "59  1211202   7   5   4  10   3  cancerous\n",
            "60  1232225  10   4   4   1   1  cancerous\n",
            "61  1241559  10   8   4   8  10  cancerous\n",
            "62  1241679   9   8   4  10   4  cancerous\n",
            "63  1198641  10  10   4   3   2  cancerous\n",
            "64   529329  10  10   4  10  10  cancerous\n",
            "65   555977   5   6   4  10   4  cancerous\n",
            "66   706426   5   5   4   3   1  cancerous\n",
            "67   733823   5   4   4   1   1  cancerous\n",
            "68   785208   5   4   4   3   1  cancerous\n",
            "69   806423   8   5   4   3   1  cancerous\n"
          ]
        }
      ]
    },
    {
      "cell_type": "code",
      "source": [
        "records.info()"
      ],
      "metadata": {
        "id": "qaThdphidKgB",
        "colab": {
          "base_uri": "https://localhost:8080/"
        },
        "outputId": "cacbbeaa-63ff-44b7-8023-6b19e0866f78"
      },
      "execution_count": 7,
      "outputs": [
        {
          "output_type": "stream",
          "name": "stdout",
          "text": [
            "<class 'pandas.core.frame.DataFrame'>\n",
            "RangeIndex: 699 entries, 0 to 698\n",
            "Data columns (total 7 columns):\n",
            " #   Column     Non-Null Count  Dtype \n",
            "---  ------     --------------  ----- \n",
            " 0   ID         699 non-null    int64 \n",
            " 1   V1         699 non-null    int64 \n",
            " 2   V2         699 non-null    int64 \n",
            " 3   V7         699 non-null    int64 \n",
            " 4   V8         699 non-null    int64 \n",
            " 5   V9         699 non-null    int64 \n",
            " 6   diagnosis  699 non-null    object\n",
            "dtypes: int64(6), object(1)\n",
            "memory usage: 38.4+ KB\n"
          ]
        }
      ]
    },
    {
      "cell_type": "code",
      "source": [
        "#Write your own code to inspect missing data\n",
        "records.isnull().sum()"
      ],
      "metadata": {
        "colab": {
          "base_uri": "https://localhost:8080/"
        },
        "id": "ytxVLaTRdqaP",
        "outputId": "64728cff-46b5-4000-8f26-a87bee34ecaa"
      },
      "execution_count": 8,
      "outputs": [
        {
          "output_type": "execute_result",
          "data": {
            "text/plain": [
              "ID           0\n",
              "V1           0\n",
              "V2           0\n",
              "V7           0\n",
              "V8           0\n",
              "V9           0\n",
              "diagnosis    0\n",
              "dtype: int64"
            ]
          },
          "metadata": {},
          "execution_count": 8
        }
      ]
    },
    {
      "cell_type": "code",
      "source": [
        "#What does the code below do?\n",
        "print('Sample size:', records.shape[0])\n",
        "print('Number of columns:', records.shape[1]) \n",
        "\n",
        "records.describe()"
      ],
      "metadata": {
        "id": "w1OFeG-20rL2",
        "colab": {
          "base_uri": "https://localhost:8080/",
          "height": 379
        },
        "outputId": "6eed51df-cd6d-4035-f66e-6ebcfa59e644"
      },
      "execution_count": 9,
      "outputs": [
        {
          "output_type": "stream",
          "name": "stdout",
          "text": [
            "Sample size: 699\n",
            "Number of columns: 7\n"
          ]
        },
        {
          "output_type": "execute_result",
          "data": {
            "text/plain": [
              "                 ID          V1          V2          V7          V8  \\\n",
              "count  6.990000e+02  699.000000  699.000000  699.000000  699.000000   \n",
              "mean   1.071704e+06    4.417740    3.134478    3.437768    2.866953   \n",
              "std    6.170957e+05    2.815741    3.051459    2.438364    3.053634   \n",
              "min    6.163400e+04    1.000000    1.000000    1.000000    1.000000   \n",
              "25%    8.706885e+05    2.000000    1.000000    2.000000    1.000000   \n",
              "50%    1.171710e+06    4.000000    1.000000    3.000000    1.000000   \n",
              "75%    1.238298e+06    6.000000    5.000000    5.000000    4.000000   \n",
              "max    1.345435e+07   10.000000   10.000000   10.000000   10.000000   \n",
              "\n",
              "               V9  \n",
              "count  699.000000  \n",
              "mean     1.589413  \n",
              "std      1.715078  \n",
              "min      1.000000  \n",
              "25%      1.000000  \n",
              "50%      1.000000  \n",
              "75%      1.000000  \n",
              "max     10.000000  "
            ],
            "text/html": [
              "\n",
              "  <div id=\"df-41ddba5b-90a9-40c0-be9c-7dad85bfce41\">\n",
              "    <div class=\"colab-df-container\">\n",
              "      <div>\n",
              "<style scoped>\n",
              "    .dataframe tbody tr th:only-of-type {\n",
              "        vertical-align: middle;\n",
              "    }\n",
              "\n",
              "    .dataframe tbody tr th {\n",
              "        vertical-align: top;\n",
              "    }\n",
              "\n",
              "    .dataframe thead th {\n",
              "        text-align: right;\n",
              "    }\n",
              "</style>\n",
              "<table border=\"1\" class=\"dataframe\">\n",
              "  <thead>\n",
              "    <tr style=\"text-align: right;\">\n",
              "      <th></th>\n",
              "      <th>ID</th>\n",
              "      <th>V1</th>\n",
              "      <th>V2</th>\n",
              "      <th>V7</th>\n",
              "      <th>V8</th>\n",
              "      <th>V9</th>\n",
              "    </tr>\n",
              "  </thead>\n",
              "  <tbody>\n",
              "    <tr>\n",
              "      <th>count</th>\n",
              "      <td>6.990000e+02</td>\n",
              "      <td>699.000000</td>\n",
              "      <td>699.000000</td>\n",
              "      <td>699.000000</td>\n",
              "      <td>699.000000</td>\n",
              "      <td>699.000000</td>\n",
              "    </tr>\n",
              "    <tr>\n",
              "      <th>mean</th>\n",
              "      <td>1.071704e+06</td>\n",
              "      <td>4.417740</td>\n",
              "      <td>3.134478</td>\n",
              "      <td>3.437768</td>\n",
              "      <td>2.866953</td>\n",
              "      <td>1.589413</td>\n",
              "    </tr>\n",
              "    <tr>\n",
              "      <th>std</th>\n",
              "      <td>6.170957e+05</td>\n",
              "      <td>2.815741</td>\n",
              "      <td>3.051459</td>\n",
              "      <td>2.438364</td>\n",
              "      <td>3.053634</td>\n",
              "      <td>1.715078</td>\n",
              "    </tr>\n",
              "    <tr>\n",
              "      <th>min</th>\n",
              "      <td>6.163400e+04</td>\n",
              "      <td>1.000000</td>\n",
              "      <td>1.000000</td>\n",
              "      <td>1.000000</td>\n",
              "      <td>1.000000</td>\n",
              "      <td>1.000000</td>\n",
              "    </tr>\n",
              "    <tr>\n",
              "      <th>25%</th>\n",
              "      <td>8.706885e+05</td>\n",
              "      <td>2.000000</td>\n",
              "      <td>1.000000</td>\n",
              "      <td>2.000000</td>\n",
              "      <td>1.000000</td>\n",
              "      <td>1.000000</td>\n",
              "    </tr>\n",
              "    <tr>\n",
              "      <th>50%</th>\n",
              "      <td>1.171710e+06</td>\n",
              "      <td>4.000000</td>\n",
              "      <td>1.000000</td>\n",
              "      <td>3.000000</td>\n",
              "      <td>1.000000</td>\n",
              "      <td>1.000000</td>\n",
              "    </tr>\n",
              "    <tr>\n",
              "      <th>75%</th>\n",
              "      <td>1.238298e+06</td>\n",
              "      <td>6.000000</td>\n",
              "      <td>5.000000</td>\n",
              "      <td>5.000000</td>\n",
              "      <td>4.000000</td>\n",
              "      <td>1.000000</td>\n",
              "    </tr>\n",
              "    <tr>\n",
              "      <th>max</th>\n",
              "      <td>1.345435e+07</td>\n",
              "      <td>10.000000</td>\n",
              "      <td>10.000000</td>\n",
              "      <td>10.000000</td>\n",
              "      <td>10.000000</td>\n",
              "      <td>10.000000</td>\n",
              "    </tr>\n",
              "  </tbody>\n",
              "</table>\n",
              "</div>\n",
              "      <button class=\"colab-df-convert\" onclick=\"convertToInteractive('df-41ddba5b-90a9-40c0-be9c-7dad85bfce41')\"\n",
              "              title=\"Convert this dataframe to an interactive table.\"\n",
              "              style=\"display:none;\">\n",
              "        \n",
              "  <svg xmlns=\"http://www.w3.org/2000/svg\" height=\"24px\"viewBox=\"0 0 24 24\"\n",
              "       width=\"24px\">\n",
              "    <path d=\"M0 0h24v24H0V0z\" fill=\"none\"/>\n",
              "    <path d=\"M18.56 5.44l.94 2.06.94-2.06 2.06-.94-2.06-.94-.94-2.06-.94 2.06-2.06.94zm-11 1L8.5 8.5l.94-2.06 2.06-.94-2.06-.94L8.5 2.5l-.94 2.06-2.06.94zm10 10l.94 2.06.94-2.06 2.06-.94-2.06-.94-.94-2.06-.94 2.06-2.06.94z\"/><path d=\"M17.41 7.96l-1.37-1.37c-.4-.4-.92-.59-1.43-.59-.52 0-1.04.2-1.43.59L10.3 9.45l-7.72 7.72c-.78.78-.78 2.05 0 2.83L4 21.41c.39.39.9.59 1.41.59.51 0 1.02-.2 1.41-.59l7.78-7.78 2.81-2.81c.8-.78.8-2.07 0-2.86zM5.41 20L4 18.59l7.72-7.72 1.47 1.35L5.41 20z\"/>\n",
              "  </svg>\n",
              "      </button>\n",
              "      \n",
              "  <style>\n",
              "    .colab-df-container {\n",
              "      display:flex;\n",
              "      flex-wrap:wrap;\n",
              "      gap: 12px;\n",
              "    }\n",
              "\n",
              "    .colab-df-convert {\n",
              "      background-color: #E8F0FE;\n",
              "      border: none;\n",
              "      border-radius: 50%;\n",
              "      cursor: pointer;\n",
              "      display: none;\n",
              "      fill: #1967D2;\n",
              "      height: 32px;\n",
              "      padding: 0 0 0 0;\n",
              "      width: 32px;\n",
              "    }\n",
              "\n",
              "    .colab-df-convert:hover {\n",
              "      background-color: #E2EBFA;\n",
              "      box-shadow: 0px 1px 2px rgba(60, 64, 67, 0.3), 0px 1px 3px 1px rgba(60, 64, 67, 0.15);\n",
              "      fill: #174EA6;\n",
              "    }\n",
              "\n",
              "    [theme=dark] .colab-df-convert {\n",
              "      background-color: #3B4455;\n",
              "      fill: #D2E3FC;\n",
              "    }\n",
              "\n",
              "    [theme=dark] .colab-df-convert:hover {\n",
              "      background-color: #434B5C;\n",
              "      box-shadow: 0px 1px 3px 1px rgba(0, 0, 0, 0.15);\n",
              "      filter: drop-shadow(0px 1px 2px rgba(0, 0, 0, 0.3));\n",
              "      fill: #FFFFFF;\n",
              "    }\n",
              "  </style>\n",
              "\n",
              "      <script>\n",
              "        const buttonEl =\n",
              "          document.querySelector('#df-41ddba5b-90a9-40c0-be9c-7dad85bfce41 button.colab-df-convert');\n",
              "        buttonEl.style.display =\n",
              "          google.colab.kernel.accessAllowed ? 'block' : 'none';\n",
              "\n",
              "        async function convertToInteractive(key) {\n",
              "          const element = document.querySelector('#df-41ddba5b-90a9-40c0-be9c-7dad85bfce41');\n",
              "          const dataTable =\n",
              "            await google.colab.kernel.invokeFunction('convertToInteractive',\n",
              "                                                     [key], {});\n",
              "          if (!dataTable) return;\n",
              "\n",
              "          const docLinkHtml = 'Like what you see? Visit the ' +\n",
              "            '<a target=\"_blank\" href=https://colab.research.google.com/notebooks/data_table.ipynb>data table notebook</a>'\n",
              "            + ' to learn more about interactive tables.';\n",
              "          element.innerHTML = '';\n",
              "          dataTable['output_type'] = 'display_data';\n",
              "          await google.colab.output.renderOutput(dataTable, element);\n",
              "          const docLink = document.createElement('div');\n",
              "          docLink.innerHTML = docLinkHtml;\n",
              "          element.appendChild(docLink);\n",
              "        }\n",
              "      </script>\n",
              "    </div>\n",
              "  </div>\n",
              "  "
            ]
          },
          "metadata": {},
          "execution_count": 9
        }
      ]
    },
    {
      "cell_type": "code",
      "source": [
        "#What does the code below do? Why would you do it?\n",
        "\n",
        "records=records.drop(['ID'], axis=1)\n",
        "records.info()"
      ],
      "metadata": {
        "colab": {
          "base_uri": "https://localhost:8080/"
        },
        "id": "wRUf0J7ZaFx4",
        "outputId": "af7b33dc-cd66-46b0-c189-3b561096bd80"
      },
      "execution_count": 10,
      "outputs": [
        {
          "output_type": "stream",
          "name": "stdout",
          "text": [
            "<class 'pandas.core.frame.DataFrame'>\n",
            "RangeIndex: 699 entries, 0 to 698\n",
            "Data columns (total 6 columns):\n",
            " #   Column     Non-Null Count  Dtype \n",
            "---  ------     --------------  ----- \n",
            " 0   V1         699 non-null    int64 \n",
            " 1   V2         699 non-null    int64 \n",
            " 2   V7         699 non-null    int64 \n",
            " 3   V8         699 non-null    int64 \n",
            " 4   V9         699 non-null    int64 \n",
            " 5   diagnosis  699 non-null    object\n",
            "dtypes: int64(5), object(1)\n",
            "memory usage: 32.9+ KB\n"
          ]
        }
      ]
    },
    {
      "cell_type": "markdown",
      "source": [
        "##Do NOT do if you have done the previous code!\n",
        "ALTERNATIVE way to remove ID: "
      ],
      "metadata": {
        "id": "HFf2FUlvgL3A"
      }
    },
    {
      "cell_type": "markdown",
      "source": [
        "## **Visually Exploring Data**\n",
        "1. Explore histograms of continuous variables\n",
        "2. Generate barcharts of categorical variables\n",
        "3. Convert data as needed\n",
        "3. Explore relationships among the variables using heatmaps\n",
        "4. Explore logistric regression relationships between variables "
      ],
      "metadata": {
        "id": "RJhziPbjRRem"
      }
    },
    {
      "cell_type": "code",
      "source": [
        "#create histograms\n",
        "for i in records.iloc[:,:]: \n",
        "    plt.hist(records[i])\n",
        "    plt.title(i)\n",
        "    plt.show()"
      ],
      "metadata": {
        "id": "owNEshpvAb1G",
        "colab": {
          "base_uri": "https://localhost:8080/",
          "height": 1000
        },
        "outputId": "d32c2163-27d0-4c55-f7a1-7b999b625641"
      },
      "execution_count": 11,
      "outputs": [
        {
          "output_type": "display_data",
          "data": {
            "text/plain": [
              "<Figure size 432x288 with 1 Axes>"
            ],
            "image/png": "[encoded data removed]"
          },
          "metadata": {
            "needs_background": "light"
          }
        },
        {
          "output_type": "display_data",
          "data": {
            "text/plain": [
              "<Figure size 432x288 with 1 Axes>"
            ],
            "image/png": "[encoded data removed]"
          },
          "metadata": {
            "needs_background": "light"
          }
        },
        {
          "output_type": "display_data",
          "data": {
            "text/plain": [
              "<Figure size 432x288 with 1 Axes>"
            ],
            "image/png": "[encoded data removed]"
          },
          "metadata": {
            "needs_background": "light"
          }
        },
        {
          "output_type": "display_data",
          "data": {
            "text/plain": [
              "<Figure size 432x288 with 1 Axes>"
            ],
            "image/png": "[encoded data removed]"
          },
          "metadata": {
            "needs_background": "light"
          }
        },
        {
          "output_type": "display_data",
          "data": {
            "text/plain": [
              "<Figure size 432x288 with 1 Axes>"
            ],
            "image/png": "[encoded data removed]"
          },
          "metadata": {
            "needs_background": "light"
          }
        },
        {
          "output_type": "display_data",
          "data": {
            "text/plain": [
              "<Figure size 432x288 with 1 Axes>"
            ],
            "image/png": "[encoded data removed]"
          },
          "metadata": {
            "needs_background": "light"
          }
        }
      ]
    },
    {
      "cell_type": "code",
      "source": [
        "#create barchats\n",
        "sns.countplot(data=records, x='diagnosis')"
      ],
      "metadata": {
        "id": "VEcOor4L84Fe",
        "colab": {
          "base_uri": "https://localhost:8080/",
          "height": 296
        },
        "outputId": "2c49ef88-4649-411c-9915-a60802d14c1a"
      },
      "execution_count": 12,
      "outputs": [
        {
          "output_type": "execute_result",
          "data": {
            "text/plain": [
              "<Axes: xlabel='diagnosis', ylabel='count'>"
            ]
          },
          "metadata": {},
          "execution_count": 12
        },
        {
          "output_type": "display_data",
          "data": {
            "text/plain": [
              "<Figure size 432x288 with 1 Axes>"
            ],
            "image/png": "[encoded data removed]"
          },
          "metadata": {
            "needs_background": "light"
          }
        }
      ]
    },
    {
      "cell_type": "code",
      "source": [
        "#Interpreate the outcome of the following code\n",
        "records['diagnosis'].describe()"
      ],
      "metadata": {
        "colab": {
          "base_uri": "https://localhost:8080/"
        },
        "id": "LMhWCwXc95r-",
        "outputId": "96f6cf4a-1792-4c81-b65e-98aa3ca7e4bc"
      },
      "execution_count": 13,
      "outputs": [
        {
          "output_type": "execute_result",
          "data": {
            "text/plain": [
              "count         699\n",
              "unique          2\n",
              "top       healthy\n",
              "freq          489\n",
              "Name: diagnosis, dtype: object"
            ]
          },
          "metadata": {},
          "execution_count": 13
        }
      ]
    },
    {
      "cell_type": "markdown",
      "source": [
        "**Examine other variables**\n",
        "Run the code and write down your observations"
      ],
      "metadata": {
        "id": "sIvzzfuqgX2d"
      }
    },
    {
      "cell_type": "code",
      "source": [
        "for i in records.columns[1:4]:\n",
        "    sns.boxplot(data=records, x=i, y='diagnosis')\n",
        "    plt.show()"
      ],
      "metadata": {
        "id": "8HHwvXQLu3gd",
        "colab": {
          "base_uri": "https://localhost:8080/",
          "height": 803
        },
        "outputId": "4080dd29-04b4-4123-f29a-43009c7a25c2"
      },
      "execution_count": 14,
      "outputs": [
        {
          "output_type": "display_data",
          "data": {
            "text/plain": [
              "<Figure size 432x288 with 1 Axes>"
            ],
            "image/png": "[encoded data removed]"
          },
          "metadata": {
            "needs_background": "light"
          }
        },
        {
          "output_type": "display_data",
          "data": {
            "text/plain": [
              "<Figure size 432x288 with 1 Axes>"
            ],
            "image/png": "[encoded data removed]"
          },
          "metadata": {
            "needs_background": "light"
          }
        },
        {
          "output_type": "display_data",
          "data": {
            "text/plain": [
              "<Figure size 432x288 with 1 Axes>"
            ],
            "image/png": "[encoded data removed]"
          },
          "metadata": {
            "needs_background": "light"
          }
        }
      ]
    },
    {
      "cell_type": "code",
      "source": [
        "#write your own heatmap using cmap='Blue' and annot=True. Hint: using data=records.corr()\n"
      ],
      "metadata": {
        "id": "EwrpTLYjOIE1"
      },
      "execution_count": 15,
      "outputs": []
    },
    {
      "cell_type": "markdown",
      "source": [
        "What can you observe in the heatmap?"
      ],
      "metadata": {
        "id": "IDG1zi7KE_ZS"
      }
    },
    {
      "cell_type": "markdown",
      "source": [
        "## **Define your own function and call it**"
      ],
      "metadata": {
        "id": "o-q_DuqLExFJ"
      }
    },
    {
      "cell_type": "code",
      "source": [
        "#convert categorical data to numerical \n",
        "def coding_diagnosis(x):\n",
        "        if x=='cancerous': return 1\n",
        "        if x=='healthy': return 0\n",
        "       \n",
        "records['Diagnosis'] = records['diagnosis'].apply(coding_diagnosis)\n",
        "\n",
        "print(records.sample(10))"
      ],
      "metadata": {
        "id": "oeNvz-YvcYpX",
        "colab": {
          "base_uri": "https://localhost:8080/"
        },
        "outputId": "d84832bb-11b8-4dd7-af41-1c32216cdc09"
      },
      "execution_count": 16,
      "outputs": [
        {
          "output_type": "stream",
          "name": "stdout",
          "text": [
            "     V1  V2  V7  V8  V9  diagnosis  Diagnosis\n",
            "508   4   1   2   1   1    healthy          0\n",
            "499   4   1   2   1   1    healthy          0\n",
            "693   6   6   7   8   1    healthy          0\n",
            "573   1   1   3   1   1    healthy          0\n",
            "123   6  10   7   8  10  cancerous          1\n",
            "161   7   6   7   1   1  cancerous          1\n",
            "317   4   1   1   1   1    healthy          0\n",
            "73    8  10   4   8   7  cancerous          1\n",
            "577   8   3   3   2   1    healthy          0\n",
            "187   5   4   8  10   1  cancerous          1\n"
          ]
        }
      ]
    },
    {
      "cell_type": "code",
      "execution_count": 17,
      "metadata": {
        "id": "oJz7BvR4yefn",
        "colab": {
          "base_uri": "https://localhost:8080/"
        },
        "outputId": "40b92d56-eb40-43a3-aeb8-3a4c0e8d9597"
      },
      "outputs": [
        {
          "output_type": "stream",
          "name": "stdout",
          "text": [
            "     V1  V2  V7  V8  V9  diagnosis  Diagnosis\n",
            "651   3   3   3   5   1    healthy          1\n",
            "50    5   3   4  10   1  cancerous          0\n",
            "365   4   1   1   1   1    healthy          1\n",
            "297   1   1   1   1   1    healthy          1\n",
            "340   3   1   1   1   1    healthy          1\n",
            "653   3   2   3   1   1    healthy          1\n",
            "564   4   1   3   1   1    healthy          1\n",
            "620   3   1   3   1   1    healthy          1\n",
            "444   4   1   2   2   1    healthy          1\n",
            "398   3   1   2   1   1    healthy          1\n"
          ]
        }
      ],
      "source": [
        "#Another way to convert categorical variables to numerical using LabelEncoder\n",
        "from sklearn.preprocessing import LabelEncoder\n",
        "\n",
        "encoder = LabelEncoder()\n",
        "records['Diagnosis'] = encoder.fit_transform(records['diagnosis'])\n",
        "print(records.sample(10))"
      ]
    },
    {
      "cell_type": "markdown",
      "source": [
        "Compare the above two techniques"
      ],
      "metadata": {
        "id": "wOLDYz1hPrBi"
      }
    },
    {
      "cell_type": "markdown",
      "source": [
        "**Plotting biomarkers and diagnosis uaing a logistric relationship**"
      ],
      "metadata": {
        "id": "UuuKp7YDFP8Y"
      }
    },
    {
      "cell_type": "code",
      "source": [
        "sns.regplot(x=records['V7'], y=records['Diagnosis'], logistic=True, ci=None)"
      ],
      "metadata": {
        "colab": {
          "base_uri": "https://localhost:8080/",
          "height": 296
        },
        "id": "3Quobz1KZEXr",
        "outputId": "09611c18-aeb9-4549-85ed-a06fee6b3f41"
      },
      "execution_count": 18,
      "outputs": [
        {
          "output_type": "execute_result",
          "data": {
            "text/plain": [
              "<Axes: xlabel='V7', ylabel='Diagnosis'>"
            ]
          },
          "metadata": {},
          "execution_count": 18
        },
        {
          "output_type": "display_data",
          "data": {
            "text/plain": [
              "<Figure size 432x288 with 1 Axes>"
            ],
            "image/png": "[encoded data removed]"
          },
          "metadata": {
            "needs_background": "light"
          }
        }
      ]
    },
    {
      "cell_type": "markdown",
      "metadata": {
        "id": "WZn9TsB0IlVZ"
      },
      "source": [
        "**Feature Selection**\n",
        "\n",
        "Select predictors (attributes) for Classification\n",
        "Set role (Target)"
      ]
    },
    {
      "cell_type": "code",
      "source": [
        "records"
      ],
      "metadata": {
        "colab": {
          "base_uri": "https://localhost:8080/",
          "height": 423
        },
        "id": "MQb0qrIGnaZM",
        "outputId": "cd6c88cc-0a21-48a9-80ad-933b04cdc2a4"
      },
      "execution_count": 19,
      "outputs": [
        {
          "output_type": "execute_result",
          "data": {
            "text/plain": [
              "     V1  V2  V7  V8  V9 diagnosis  Diagnosis\n",
              "0     8   3   1   6   2   healthy          1\n",
              "1    10   2   1   1   2   healthy          1\n",
              "2     9   5   2   1   5   healthy          1\n",
              "3     9   6   2   9  10   healthy          1\n",
              "4     2   3   2   5   1   healthy          1\n",
              "..   ..  ..  ..  ..  ..       ...        ...\n",
              "694   1   3   7   2   1   healthy          1\n",
              "695   2   2   7   1   1   healthy          1\n",
              "696   3   1   7   1   1   healthy          1\n",
              "697   8   4   7   8   2   healthy          1\n",
              "698   4   4   7   3   1   healthy          1\n",
              "\n",
              "[699 rows x 7 columns]"
            ],
            "text/html": [
              "\n",
              "  <div id=\"df-0aacbe24-e993-48ef-8006-0f8ffeeab5e5\">\n",
              "    <div class=\"colab-df-container\">\n",
              "      <div>\n",
              "<style scoped>\n",
              "    .dataframe tbody tr th:only-of-type {\n",
              "        vertical-align: middle;\n",
              "    }\n",
              "\n",
              "    .dataframe tbody tr th {\n",
              "        vertical-align: top;\n",
              "    }\n",
              "\n",
              "    .dataframe thead th {\n",
              "        text-align: right;\n",
              "    }\n",
              "</style>\n",
              "<table border=\"1\" class=\"dataframe\">\n",
              "  <thead>\n",
              "    <tr style=\"text-align: right;\">\n",
              "      <th></th>\n",
              "      <th>V1</th>\n",
              "      <th>V2</th>\n",
              "      <th>V7</th>\n",
              "      <th>V8</th>\n",
              "      <th>V9</th>\n",
              "      <th>diagnosis</th>\n",
              "      <th>Diagnosis</th>\n",
              "    </tr>\n",
              "  </thead>\n",
              "  <tbody>\n",
              "    <tr>\n",
              "      <th>0</th>\n",
              "      <td>8</td>\n",
              "      <td>3</td>\n",
              "      <td>1</td>\n",
              "      <td>6</td>\n",
              "      <td>2</td>\n",
              "      <td>healthy</td>\n",
              "      <td>1</td>\n",
              "    </tr>\n",
              "    <tr>\n",
              "      <th>1</th>\n",
              "      <td>10</td>\n",
              "      <td>2</td>\n",
              "      <td>1</td>\n",
              "      <td>1</td>\n",
              "      <td>2</td>\n",
              "      <td>healthy</td>\n",
              "      <td>1</td>\n",
              "    </tr>\n",
              "    <tr>\n",
              "      <th>2</th>\n",
              "      <td>9</td>\n",
              "      <td>5</td>\n",
              "      <td>2</td>\n",
              "      <td>1</td>\n",
              "      <td>5</td>\n",
              "      <td>healthy</td>\n",
              "      <td>1</td>\n",
              "    </tr>\n",
              "    <tr>\n",
              "      <th>3</th>\n",
              "      <td>9</td>\n",
              "      <td>6</td>\n",
              "      <td>2</td>\n",
              "      <td>9</td>\n",
              "      <td>10</td>\n",
              "      <td>healthy</td>\n",
              "      <td>1</td>\n",
              "    </tr>\n",
              "    <tr>\n",
              "      <th>4</th>\n",
              "      <td>2</td>\n",
              "      <td>3</td>\n",
              "      <td>2</td>\n",
              "      <td>5</td>\n",
              "      <td>1</td>\n",
              "      <td>healthy</td>\n",
              "      <td>1</td>\n",
              "    </tr>\n",
              "    <tr>\n",
              "      <th>...</th>\n",
              "      <td>...</td>\n",
              "      <td>...</td>\n",
              "      <td>...</td>\n",
              "      <td>...</td>\n",
              "      <td>...</td>\n",
              "      <td>...</td>\n",
              "      <td>...</td>\n",
              "    </tr>\n",
              "    <tr>\n",
              "      <th>694</th>\n",
              "      <td>1</td>\n",
              "      <td>3</td>\n",
              "      <td>7</td>\n",
              "      <td>2</td>\n",
              "      <td>1</td>\n",
              "      <td>healthy</td>\n",
              "      <td>1</td>\n",
              "    </tr>\n",
              "    <tr>\n",
              "      <th>695</th>\n",
              "      <td>2</td>\n",
              "      <td>2</td>\n",
              "      <td>7</td>\n",
              "      <td>1</td>\n",
              "      <td>1</td>\n",
              "      <td>healthy</td>\n",
              "      <td>1</td>\n",
              "    </tr>\n",
              "    <tr>\n",
              "      <th>696</th>\n",
              "      <td>3</td>\n",
              "      <td>1</td>\n",
              "      <td>7</td>\n",
              "      <td>1</td>\n",
              "      <td>1</td>\n",
              "      <td>healthy</td>\n",
              "      <td>1</td>\n",
              "    </tr>\n",
              "    <tr>\n",
              "      <th>697</th>\n",
              "      <td>8</td>\n",
              "      <td>4</td>\n",
              "      <td>7</td>\n",
              "      <td>8</td>\n",
              "      <td>2</td>\n",
              "      <td>healthy</td>\n",
              "      <td>1</td>\n",
              "    </tr>\n",
              "    <tr>\n",
              "      <th>698</th>\n",
              "      <td>4</td>\n",
              "      <td>4</td>\n",
              "      <td>7</td>\n",
              "      <td>3</td>\n",
              "      <td>1</td>\n",
              "      <td>healthy</td>\n",
              "      <td>1</td>\n",
              "    </tr>\n",
              "  </tbody>\n",
              "</table>\n",
              "<p>699 rows × 7 columns</p>\n",
              "</div>\n",
              "      <button class=\"colab-df-convert\" onclick=\"convertToInteractive('df-0aacbe24-e993-48ef-8006-0f8ffeeab5e5')\"\n",
              "              title=\"Convert this dataframe to an interactive table.\"\n",
              "              style=\"display:none;\">\n",
              "        \n",
              "  <svg xmlns=\"http://www.w3.org/2000/svg\" height=\"24px\"viewBox=\"0 0 24 24\"\n",
              "       width=\"24px\">\n",
              "    <path d=\"M0 0h24v24H0V0z\" fill=\"none\"/>\n",
              "    <path d=\"M18.56 5.44l.94 2.06.94-2.06 2.06-.94-2.06-.94-.94-2.06-.94 2.06-2.06.94zm-11 1L8.5 8.5l.94-2.06 2.06-.94-2.06-.94L8.5 2.5l-.94 2.06-2.06.94zm10 10l.94 2.06.94-2.06 2.06-.94-2.06-.94-.94-2.06-.94 2.06-2.06.94z\"/><path d=\"M17.41 7.96l-1.37-1.37c-.4-.4-.92-.59-1.43-.59-.52 0-1.04.2-1.43.59L10.3 9.45l-7.72 7.72c-.78.78-.78 2.05 0 2.83L4 21.41c.39.39.9.59 1.41.59.51 0 1.02-.2 1.41-.59l7.78-7.78 2.81-2.81c.8-.78.8-2.07 0-2.86zM5.41 20L4 18.59l7.72-7.72 1.47 1.35L5.41 20z\"/>\n",
              "  </svg>\n",
              "      </button>\n",
              "      \n",
              "  <style>\n",
              "    .colab-df-container {\n",
              "      display:flex;\n",
              "      flex-wrap:wrap;\n",
              "      gap: 12px;\n",
              "    }\n",
              "\n",
              "    .colab-df-convert {\n",
              "      background-color: #E8F0FE;\n",
              "      border: none;\n",
              "      border-radius: 50%;\n",
              "      cursor: pointer;\n",
              "      display: none;\n",
              "      fill: #1967D2;\n",
              "      height: 32px;\n",
              "      padding: 0 0 0 0;\n",
              "      width: 32px;\n",
              "    }\n",
              "\n",
              "    .colab-df-convert:hover {\n",
              "      background-color: #E2EBFA;\n",
              "      box-shadow: 0px 1px 2px rgba(60, 64, 67, 0.3), 0px 1px 3px 1px rgba(60, 64, 67, 0.15);\n",
              "      fill: #174EA6;\n",
              "    }\n",
              "\n",
              "    [theme=dark] .colab-df-convert {\n",
              "      background-color: #3B4455;\n",
              "      fill: #D2E3FC;\n",
              "    }\n",
              "\n",
              "    [theme=dark] .colab-df-convert:hover {\n",
              "      background-color: #434B5C;\n",
              "      box-shadow: 0px 1px 3px 1px rgba(0, 0, 0, 0.15);\n",
              "      filter: drop-shadow(0px 1px 2px rgba(0, 0, 0, 0.3));\n",
              "      fill: #FFFFFF;\n",
              "    }\n",
              "  </style>\n",
              "\n",
              "      <script>\n",
              "        const buttonEl =\n",
              "          document.querySelector('#df-0aacbe24-e993-48ef-8006-0f8ffeeab5e5 button.colab-df-convert');\n",
              "        buttonEl.style.display =\n",
              "          google.colab.kernel.accessAllowed ? 'block' : 'none';\n",
              "\n",
              "        async function convertToInteractive(key) {\n",
              "          const element = document.querySelector('#df-0aacbe24-e993-48ef-8006-0f8ffeeab5e5');\n",
              "          const dataTable =\n",
              "            await google.colab.kernel.invokeFunction('convertToInteractive',\n",
              "                                                     [key], {});\n",
              "          if (!dataTable) return;\n",
              "\n",
              "          const docLinkHtml = 'Like what you see? Visit the ' +\n",
              "            '<a target=\"_blank\" href=https://colab.research.google.com/notebooks/data_table.ipynb>data table notebook</a>'\n",
              "            + ' to learn more about interactive tables.';\n",
              "          element.innerHTML = '';\n",
              "          dataTable['output_type'] = 'display_data';\n",
              "          await google.colab.output.renderOutput(dataTable, element);\n",
              "          const docLink = document.createElement('div');\n",
              "          docLink.innerHTML = docLinkHtml;\n",
              "          element.appendChild(docLink);\n",
              "        }\n",
              "      </script>\n",
              "    </div>\n",
              "  </div>\n",
              "  "
            ]
          },
          "metadata": {},
          "execution_count": 19
        }
      ]
    },
    {
      "cell_type": "code",
      "metadata": {
        "id": "eklK57M5Iuba"
      },
      "source": [
        "#Selecting predictors\n",
        "features =['V1', 'V2', 'V7', 'V8', 'V9'] #you can select a range of columns features = records.columns[0:5]\n",
        "\n",
        "#complete the code below\n",
        "X = records[features]\n",
        "y = records.Diagnosis\n"
      ],
      "execution_count": 20,
      "outputs": []
    },
    {
      "cell_type": "markdown",
      "metadata": {
        "id": "7ZZL19jGNYpv"
      },
      "source": [
        "## **Split the Dataset**\n",
        "\n",
        "Split arrays or matrices into random train and test subsets\n",
        "https://scikit-learn.org/stable/modules/generated/sklearn.model_selection.train_test_split.html?highlight=train_test_split#sklearn.model_selection.train_test_split"
      ]
    },
    {
      "cell_type": "code",
      "metadata": {
        "id": "5WQVc9ZINezn"
      },
      "source": [
        "# Split dataset into training set and test set\n",
        "X_train, X_test, y_train, y_test = train_test_split(X, y, test_size=0.2, random_state=1)  # 80% training and 20% testing \n",
        "\n",
        "#inspect the split datasets\n",
        "\n"
      ],
      "execution_count": 21,
      "outputs": []
    },
    {
      "cell_type": "markdown",
      "metadata": {
        "id": "nTtxQ1QBNuCM"
      },
      "source": [
        "## **Training a Logistic Regression Model**\n",
        "\n",
        "1.   Train a model using the training dataset\n",
        "2.   Make prediction using the model for the test dataset\n",
        "\n",
        "Read about Logistic Regression Classifier at: https://scikit-learn.org/stable/modules/generated/sklearn.linear_model.LogisticRegression.html\n",
        "\n",
        "\n"
      ]
    },
    {
      "cell_type": "code",
      "metadata": {
        "id": "j42G9zCxN7xI"
      },
      "source": [
        "# Create Logitic Regression classifer object\n",
        "\n",
        "#Create an initial Logistic Regression model\n",
        "logreg = LogisticRegression(max_iter=100)\n",
        "\n",
        "# Complete the code to train Logistic Regression Classifer with the traning dataset \n",
        "logreg = logreg.fit(X_train, y_train)\n",
        "\n",
        "#Complete the code to make predictions for the test dataset\n",
        "y_pred = logreg.predict(X_test)\n"
      ],
      "execution_count": 23,
      "outputs": []
    },
    {
      "cell_type": "markdown",
      "metadata": {
        "id": "LytoxXxiOIud"
      },
      "source": [
        "**Inspect Predictions**"
      ]
    },
    {
      "cell_type": "code",
      "metadata": {
        "colab": {
          "base_uri": "https://localhost:8080/",
          "height": 676
        },
        "id": "1X3Nu4SCOGnI",
        "outputId": "6ff9dedc-eb62-47f7-a237-d8e5a1e35f10"
      },
      "source": [
        "#join unseen y_test with predicted value into a data frame\n",
        "inspection=pd.DataFrame({'Actual':y_test, 'Predicted':y_pred})\n",
        "\n",
        "#join X_test with the new dataframe\n",
        "inspection=pd.concat([X_test,inspection], axis=1)\n",
        "\n",
        "inspection.head(20)"
      ],
      "execution_count": 24,
      "outputs": [
        {
          "output_type": "execute_result",
          "data": {
            "text/plain": [
              "     V1  V2  V7  V8  V9  Actual  Predicted\n",
              "584   1   1   3   1   1       1          1\n",
              "417   4   1   2   1   1       1          1\n",
              "606   1   1   3   1   1       1          1\n",
              "349   5   1   1   1   1       1          1\n",
              "134   1   5   7  10   1       0          0\n",
              "502   3   1   2   1   1       1          1\n",
              "117   8   4   7   3   1       0          0\n",
              "528   3   1   2   1   1       1          1\n",
              "685   3   2   4   2   1       1          1\n",
              "411   1   1   2   1   1       1          1\n",
              "268   1   1   1   1   1       1          1\n",
              "312   6   1   1   1   1       1          1\n",
              "375   5   2   1   1   2       1          1\n",
              "23    5   6   3  10   3       1          1\n",
              "610   6   1   3   1   1       1          1\n",
              "479   3   1   2   1   1       1          1\n",
              "120   6  10   7   3   3       0          0\n",
              "397   2   1   2   1   1       1          1\n",
              "161   7   6   7   1   1       0          0\n",
              "408   2   1   2   1   1       1          1"
            ],
            "text/html": [
              "\n",
              "  <div id=\"df-ca84c90c-5e12-4fc5-bd05-cfe6ab8add68\">\n",
              "    <div class=\"colab-df-container\">\n",
              "      <div>\n",
              "<style scoped>\n",
              "    .dataframe tbody tr th:only-of-type {\n",
              "        vertical-align: middle;\n",
              "    }\n",
              "\n",
              "    .dataframe tbody tr th {\n",
              "        vertical-align: top;\n",
              "    }\n",
              "\n",
              "    .dataframe thead th {\n",
              "        text-align: right;\n",
              "    }\n",
              "</style>\n",
              "<table border=\"1\" class=\"dataframe\">\n",
              "  <thead>\n",
              "    <tr style=\"text-align: right;\">\n",
              "      <th></th>\n",
              "      <th>V1</th>\n",
              "      <th>V2</th>\n",
              "      <th>V7</th>\n",
              "      <th>V8</th>\n",
              "      <th>V9</th>\n",
              "      <th>Actual</th>\n",
              "      <th>Predicted</th>\n",
              "    </tr>\n",
              "  </thead>\n",
              "  <tbody>\n",
              "    <tr>\n",
              "      <th>584</th>\n",
              "      <td>1</td>\n",
              "      <td>1</td>\n",
              "      <td>3</td>\n",
              "      <td>1</td>\n",
              "      <td>1</td>\n",
              "      <td>1</td>\n",
              "      <td>1</td>\n",
              "    </tr>\n",
              "    <tr>\n",
              "      <th>417</th>\n",
              "      <td>4</td>\n",
              "      <td>1</td>\n",
              "      <td>2</td>\n",
              "      <td>1</td>\n",
              "      <td>1</td>\n",
              "      <td>1</td>\n",
              "      <td>1</td>\n",
              "    </tr>\n",
              "    <tr>\n",
              "      <th>606</th>\n",
              "      <td>1</td>\n",
              "      <td>1</td>\n",
              "      <td>3</td>\n",
              "      <td>1</td>\n",
              "      <td>1</td>\n",
              "      <td>1</td>\n",
              "      <td>1</td>\n",
              "    </tr>\n",
              "    <tr>\n",
              "      <th>349</th>\n",
              "      <td>5</td>\n",
              "      <td>1</td>\n",
              "      <td>1</td>\n",
              "      <td>1</td>\n",
              "      <td>1</td>\n",
              "      <td>1</td>\n",
              "      <td>1</td>\n",
              "    </tr>\n",
              "    <tr>\n",
              "      <th>134</th>\n",
              "      <td>1</td>\n",
              "      <td>5</td>\n",
              "      <td>7</td>\n",
              "      <td>10</td>\n",
              "      <td>1</td>\n",
              "      <td>0</td>\n",
              "      <td>0</td>\n",
              "    </tr>\n",
              "    <tr>\n",
              "      <th>502</th>\n",
              "      <td>3</td>\n",
              "      <td>1</td>\n",
              "      <td>2</td>\n",
              "      <td>1</td>\n",
              "      <td>1</td>\n",
              "      <td>1</td>\n",
              "      <td>1</td>\n",
              "    </tr>\n",
              "    <tr>\n",
              "      <th>117</th>\n",
              "      <td>8</td>\n",
              "      <td>4</td>\n",
              "      <td>7</td>\n",
              "      <td>3</td>\n",
              "      <td>1</td>\n",
              "      <td>0</td>\n",
              "      <td>0</td>\n",
              "    </tr>\n",
              "    <tr>\n",
              "      <th>528</th>\n",
              "      <td>3</td>\n",
              "      <td>1</td>\n",
              "      <td>2</td>\n",
              "      <td>1</td>\n",
              "      <td>1</td>\n",
              "      <td>1</td>\n",
              "      <td>1</td>\n",
              "    </tr>\n",
              "    <tr>\n",
              "      <th>685</th>\n",
              "      <td>3</td>\n",
              "      <td>2</td>\n",
              "      <td>4</td>\n",
              "      <td>2</td>\n",
              "      <td>1</td>\n",
              "      <td>1</td>\n",
              "      <td>1</td>\n",
              "    </tr>\n",
              "    <tr>\n",
              "      <th>411</th>\n",
              "      <td>1</td>\n",
              "      <td>1</td>\n",
              "      <td>2</td>\n",
              "      <td>1</td>\n",
              "      <td>1</td>\n",
              "      <td>1</td>\n",
              "      <td>1</td>\n",
              "    </tr>\n",
              "    <tr>\n",
              "      <th>268</th>\n",
              "      <td>1</td>\n",
              "      <td>1</td>\n",
              "      <td>1</td>\n",
              "      <td>1</td>\n",
              "      <td>1</td>\n",
              "      <td>1</td>\n",
              "      <td>1</td>\n",
              "    </tr>\n",
              "    <tr>\n",
              "      <th>312</th>\n",
              "      <td>6</td>\n",
              "      <td>1</td>\n",
              "      <td>1</td>\n",
              "      <td>1</td>\n",
              "      <td>1</td>\n",
              "      <td>1</td>\n",
              "      <td>1</td>\n",
              "    </tr>\n",
              "    <tr>\n",
              "      <th>375</th>\n",
              "      <td>5</td>\n",
              "      <td>2</td>\n",
              "      <td>1</td>\n",
              "      <td>1</td>\n",
              "      <td>2</td>\n",
              "      <td>1</td>\n",
              "      <td>1</td>\n",
              "    </tr>\n",
              "    <tr>\n",
              "      <th>23</th>\n",
              "      <td>5</td>\n",
              "      <td>6</td>\n",
              "      <td>3</td>\n",
              "      <td>10</td>\n",
              "      <td>3</td>\n",
              "      <td>1</td>\n",
              "      <td>1</td>\n",
              "    </tr>\n",
              "    <tr>\n",
              "      <th>610</th>\n",
              "      <td>6</td>\n",
              "      <td>1</td>\n",
              "      <td>3</td>\n",
              "      <td>1</td>\n",
              "      <td>1</td>\n",
              "      <td>1</td>\n",
              "      <td>1</td>\n",
              "    </tr>\n",
              "    <tr>\n",
              "      <th>479</th>\n",
              "      <td>3</td>\n",
              "      <td>1</td>\n",
              "      <td>2</td>\n",
              "      <td>1</td>\n",
              "      <td>1</td>\n",
              "      <td>1</td>\n",
              "      <td>1</td>\n",
              "    </tr>\n",
              "    <tr>\n",
              "      <th>120</th>\n",
              "      <td>6</td>\n",
              "      <td>10</td>\n",
              "      <td>7</td>\n",
              "      <td>3</td>\n",
              "      <td>3</td>\n",
              "      <td>0</td>\n",
              "      <td>0</td>\n",
              "    </tr>\n",
              "    <tr>\n",
              "      <th>397</th>\n",
              "      <td>2</td>\n",
              "      <td>1</td>\n",
              "      <td>2</td>\n",
              "      <td>1</td>\n",
              "      <td>1</td>\n",
              "      <td>1</td>\n",
              "      <td>1</td>\n",
              "    </tr>\n",
              "    <tr>\n",
              "      <th>161</th>\n",
              "      <td>7</td>\n",
              "      <td>6</td>\n",
              "      <td>7</td>\n",
              "      <td>1</td>\n",
              "      <td>1</td>\n",
              "      <td>0</td>\n",
              "      <td>0</td>\n",
              "    </tr>\n",
              "    <tr>\n",
              "      <th>408</th>\n",
              "      <td>2</td>\n",
              "      <td>1</td>\n",
              "      <td>2</td>\n",
              "      <td>1</td>\n",
              "      <td>1</td>\n",
              "      <td>1</td>\n",
              "      <td>1</td>\n",
              "    </tr>\n",
              "  </tbody>\n",
              "</table>\n",
              "</div>\n",
              "      <button class=\"colab-df-convert\" onclick=\"convertToInteractive('df-ca84c90c-5e12-4fc5-bd05-cfe6ab8add68')\"\n",
              "              title=\"Convert this dataframe to an interactive table.\"\n",
              "              style=\"display:none;\">\n",
              "        \n",
              "  <svg xmlns=\"http://www.w3.org/2000/svg\" height=\"24px\"viewBox=\"0 0 24 24\"\n",
              "       width=\"24px\">\n",
              "    <path d=\"M0 0h24v24H0V0z\" fill=\"none\"/>\n",
              "    <path d=\"M18.56 5.44l.94 2.06.94-2.06 2.06-.94-2.06-.94-.94-2.06-.94 2.06-2.06.94zm-11 1L8.5 8.5l.94-2.06 2.06-.94-2.06-.94L8.5 2.5l-.94 2.06-2.06.94zm10 10l.94 2.06.94-2.06 2.06-.94-2.06-.94-.94-2.06-.94 2.06-2.06.94z\"/><path d=\"M17.41 7.96l-1.37-1.37c-.4-.4-.92-.59-1.43-.59-.52 0-1.04.2-1.43.59L10.3 9.45l-7.72 7.72c-.78.78-.78 2.05 0 2.83L4 21.41c.39.39.9.59 1.41.59.51 0 1.02-.2 1.41-.59l7.78-7.78 2.81-2.81c.8-.78.8-2.07 0-2.86zM5.41 20L4 18.59l7.72-7.72 1.47 1.35L5.41 20z\"/>\n",
              "  </svg>\n",
              "      </button>\n",
              "      \n",
              "  <style>\n",
              "    .colab-df-container {\n",
              "      display:flex;\n",
              "      flex-wrap:wrap;\n",
              "      gap: 12px;\n",
              "    }\n",
              "\n",
              "    .colab-df-convert {\n",
              "      background-color: #E8F0FE;\n",
              "      border: none;\n",
              "      border-radius: 50%;\n",
              "      cursor: pointer;\n",
              "      display: none;\n",
              "      fill: #1967D2;\n",
              "      height: 32px;\n",
              "      padding: 0 0 0 0;\n",
              "      width: 32px;\n",
              "    }\n",
              "\n",
              "    .colab-df-convert:hover {\n",
              "      background-color: #E2EBFA;\n",
              "      box-shadow: 0px 1px 2px rgba(60, 64, 67, 0.3), 0px 1px 3px 1px rgba(60, 64, 67, 0.15);\n",
              "      fill: #174EA6;\n",
              "    }\n",
              "\n",
              "    [theme=dark] .colab-df-convert {\n",
              "      background-color: #3B4455;\n",
              "      fill: #D2E3FC;\n",
              "    }\n",
              "\n",
              "    [theme=dark] .colab-df-convert:hover {\n",
              "      background-color: #434B5C;\n",
              "      box-shadow: 0px 1px 3px 1px rgba(0, 0, 0, 0.15);\n",
              "      filter: drop-shadow(0px 1px 2px rgba(0, 0, 0, 0.3));\n",
              "      fill: #FFFFFF;\n",
              "    }\n",
              "  </style>\n",
              "\n",
              "      <script>\n",
              "        const buttonEl =\n",
              "          document.querySelector('#df-ca84c90c-5e12-4fc5-bd05-cfe6ab8add68 button.colab-df-convert');\n",
              "        buttonEl.style.display =\n",
              "          google.colab.kernel.accessAllowed ? 'block' : 'none';\n",
              "\n",
              "        async function convertToInteractive(key) {\n",
              "          const element = document.querySelector('#df-ca84c90c-5e12-4fc5-bd05-cfe6ab8add68');\n",
              "          const dataTable =\n",
              "            await google.colab.kernel.invokeFunction('convertToInteractive',\n",
              "                                                     [key], {});\n",
              "          if (!dataTable) return;\n",
              "\n",
              "          const docLinkHtml = 'Like what you see? Visit the ' +\n",
              "            '<a target=\"_blank\" href=https://colab.research.google.com/notebooks/data_table.ipynb>data table notebook</a>'\n",
              "            + ' to learn more about interactive tables.';\n",
              "          element.innerHTML = '';\n",
              "          dataTable['output_type'] = 'display_data';\n",
              "          await google.colab.output.renderOutput(dataTable, element);\n",
              "          const docLink = document.createElement('div');\n",
              "          docLink.innerHTML = docLinkHtml;\n",
              "          element.appendChild(docLink);\n",
              "        }\n",
              "      </script>\n",
              "    </div>\n",
              "  </div>\n",
              "  "
            ]
          },
          "metadata": {},
          "execution_count": 24
        }
      ]
    },
    {
      "cell_type": "markdown",
      "metadata": {
        "id": "ACm74vWIOM7x"
      },
      "source": [
        "## **Model Evaluation**\n",
        "\n",
        "\n",
        "\n",
        "1.   Calculate Accuracy, Precision, Recall, F1\n",
        "\n",
        "\n",
        "Classification metrics: https://scikit-learn.org/stable/modules/model_evaluation.html#classification-metrics\n",
        "\n",
        "\n",
        "\n",
        "\n",
        "\n"
      ]
    },
    {
      "cell_type": "code",
      "metadata": {
        "colab": {
          "base_uri": "https://localhost:8080/"
        },
        "id": "6Y6yLs8SOXBn",
        "outputId": "bf3d833d-f090-4363-cadb-d3c06c3b805b"
      },
      "source": [
        "#import evaluation functions\n",
        "from sklearn.metrics import precision_recall_curve, precision_recall_curve, classification_report\n",
        "\n",
        "#Model Evaluation, calculate metrics: Accuracy, Precision, Recall, F1,\n",
        "print(\"Accuracy: \", metrics.accuracy_score(y_test,y_pred))\n",
        "print(\"Precision: \", metrics.precision_score(y_test,y_pred))\n",
        "print(\"Recall: \", metrics.recall_score(y_test,y_pred))\n",
        "print(\"F1: \", metrics.f1_score(y_test,y_pred))\n",
        "\n"
      ],
      "execution_count": 30,
      "outputs": [
        {
          "output_type": "stream",
          "name": "stdout",
          "text": [
            "Accuracy:  0.9142857142857143\n",
            "Precision:  0.9278350515463918\n",
            "Recall:  0.9473684210526315\n",
            "F1:  0.9374999999999999\n"
          ]
        }
      ]
    },
    {
      "cell_type": "markdown",
      "source": [
        "Interpret the above"
      ],
      "metadata": {
        "id": "852gk72fGX_W"
      }
    },
    {
      "cell_type": "code",
      "metadata": {
        "colab": {
          "base_uri": "https://localhost:8080/"
        },
        "id": "NvYek0KZ-SdW",
        "outputId": "422bdd99-4602-42e0-fa24-479d92573820"
      },
      "source": [
        "#print confusion matrix and evaluation report\n",
        "from sklearn.metrics import classification_report, confusion_matrix\n",
        "cm = confusion_matrix(y_test, y_pred)\n",
        "print(cm)\n",
        "print(classification_report(y_test, y_pred))"
      ],
      "execution_count": 38,
      "outputs": [
        {
          "output_type": "stream",
          "name": "stdout",
          "text": [
            "[[38  7]\n",
            " [ 5 90]]\n",
            "              precision    recall  f1-score   support\n",
            "\n",
            "           0       0.88      0.84      0.86        45\n",
            "           1       0.93      0.95      0.94        95\n",
            "\n",
            "    accuracy                           0.91       140\n",
            "   macro avg       0.91      0.90      0.90       140\n",
            "weighted avg       0.91      0.91      0.91       140\n",
            "\n"
          ]
        }
      ]
    },
    {
      "cell_type": "markdown",
      "metadata": {
        "id": "hgbNM-FkRwcL"
      },
      "source": [
        "**Plot ROC (Receiver operating characteristic) curve and confusion matrix**\n",
        "\n",
        "ROC curve\n",
        "https://scikit-learn.org/stable/modules/generated/sklearn.metrics.plot_roc_curve.html?highlight=plot_roc_curve#sklearn.metrics.plot_roc_curve\n",
        "\n",
        "Confusion matrix\n",
        "https://scikit-learn.org/stable/modules/generated/sklearn.metrics.plot_confusion_matrix.html?highlight=plot%20confusion%20matrix#sklearn.metrics.plot_confusion_matrix"
      ]
    },
    {
      "cell_type": "code",
      "metadata": {
        "colab": {
          "base_uri": "https://localhost:8080/",
          "height": 545
        },
        "id": "IWReYThjRzgt",
        "outputId": "f613fe82-da03-4319-8a42-0e3d185968f2"
      },
      "source": [
        "#import classes to display RocCurve and Confusion Matrix, read example from the website and try on your own\n",
        "from sklearn.metrics import RocCurveDisplay\n",
        "from sklearn.metrics import ConfusionMatrixDisplay\n",
        "\n",
        "#complete the code to display RocCurve and Confusion Matrix\n",
        "RocCurveDisplay.from_estimator(logreg, X_test, y_test)\n",
        "ConfusionMatrixDisplay.from_predictions(y_test, y_pred)\n",
        "plt.show()"
      ],
      "execution_count": 41,
      "outputs": [
        {
          "output_type": "display_data",
          "data": {
            "text/plain": [
              "<Figure size 432x288 with 1 Axes>"
            ],
            "image/png": "[encoded data removed]"
          },
          "metadata": {
            "needs_background": "light"
          }
        },
        {
          "output_type": "display_data",
          "data": {
            "text/plain": [
              "<Figure size 432x288 with 2 Axes>"
            ],
            "image/png": "[encoded data removed]"
          },
          "metadata": {
            "needs_background": "light"
          }
        }
      ]
    },
    {
      "cell_type": "code",
      "source": [
        "# Define the sigmoid function\n",
        "def sigmoid(x):\n",
        "    return 1 / (1 + np.exp(-x))\n",
        "\n",
        "# Generate a sequence of points along the x axis\n",
        "x_vals = np.linspace(-10, 10, 100)\n",
        "\n",
        "# Calculate the corresponding y values using the model coefficients\n",
        "coef = logreg.coef_.flatten()\n",
        "intercept = logreg.intercept_\n",
        "y_vals = sigmoid(np.dot(X_test, coef) + intercept)\n",
        "\n",
        "# Plot the sigmoid curve using seaborn\n",
        "sns.lineplot(x=x_vals, y=sigmoid(x_vals), label='Sigmoid Curve')\n",
        "sns.lineplot(x=x_vals, y=sigmoid(np.dot(np.column_stack(([x_vals]*5)), coef) + intercept), label='Model Fit')\n",
        "sns.set_style('darkgrid')\n",
        "sns.set_context('notebook', font_scale=1.2)\n",
        "sns.scatterplot(x=X_test['V7'], y=y_test, color='blue')\n",
        "plt.xlabel('Biomarker e.g. V7')\n",
        "plt.ylabel('Diagnosis')\n",
        "plt.title('Logistic Regression Sigmoid Curve')\n",
        "plt.legend()\n",
        "plt.show()"
      ],
      "metadata": {
        "colab": {
          "base_uri": "https://localhost:8080/",
          "height": 306
        },
        "id": "6QpSRDB4tbxj",
        "outputId": "9053bd51-d65c-46ff-a428-ab744116c3c2"
      },
      "execution_count": 43,
      "outputs": [
        {
          "output_type": "display_data",
          "data": {
            "text/plain": [
              "<Figure size 432x288 with 1 Axes>"
            ],
            "image/png": "[encoded data removed]"
          },
          "metadata": {}
        }
      ]
    },
    {
      "cell_type": "code",
      "source": [
        "print(coef[0])"
      ],
      "metadata": {
        "colab": {
          "base_uri": "https://localhost:8080/"
        },
        "id": "ji0DpFAZvnlC",
        "outputId": "60bb5696-8f20-41ba-aa02-2116c004fb4a"
      },
      "execution_count": 44,
      "outputs": [
        {
          "output_type": "stream",
          "name": "stdout",
          "text": [
            "-0.3398365008597904\n"
          ]
        }
      ]
    },
    {
      "cell_type": "code",
      "source": [
        "print('Diagnosis= ', '%.3f' % intercept, '+', '%.3f' %coef[0], '*V1', '+', '%.3f' %coef[1], '*V2', '+', '%.3f' %coef[2], '*V7', '+', '%.3f' %coef[3], '*V8', '+', '%.3f' %coef[4], '*V9')"
      ],
      "metadata": {
        "colab": {
          "base_uri": "https://localhost:8080/"
        },
        "id": "BWDtaAztv5KS",
        "outputId": "7cff0608-87f4-4379-c190-1863157642dc"
      },
      "execution_count": 45,
      "outputs": [
        {
          "output_type": "stream",
          "name": "stdout",
          "text": [
            "Diagnosis=  9.123 + -0.340 *V1 + -0.116 *V2 + -1.316 *V7 + -0.221 *V8 + -0.045 *V9\n"
          ]
        }
      ]
    },
    {
      "cell_type": "markdown",
      "source": [
        "## **Congratulaitons!**\n",
        "\n",
        "Now do it yourself for other datasets:\n",
        "\n",
        "1.  Habermans survival dataset: https://www.kaggle.com/datasets/gilsousa/ or an adapted dataset: https://raw.githubusercontent.com/VanLan0/MIS710/main/haberman_ln.csv or \n",
        "2.  Tinanic dataset from Lab 1\n",
        "3.  and/or another dataset of your choice\n",
        "\n"
      ],
      "metadata": {
        "id": "QXUMZSTbd7Ik"
      }
    },
    {
      "cell_type": "markdown",
      "source": [
        "# Try it yourself! \n",
        "\n",
        "**Do it yourself:** Repeat the above steps with the telco churn dataset to consilidate your learning\n"
      ],
      "metadata": {
        "id": "DPTXpDZKsCso"
      }
    },
    {
      "cell_type": "markdown",
      "source": [
        "## Loading libraries"
      ],
      "metadata": {
        "id": "R90z3fZlnfr2"
      }
    },
    {
      "cell_type": "code",
      "source": [
        "# Load necessary libraries here\n",
        "import pandas as pd"
      ],
      "metadata": {
        "id": "RkAnAyf8wpOy"
      },
      "execution_count": 46,
      "outputs": []
    },
    {
      "cell_type": "markdown",
      "source": [
        "## Import dataset"
      ],
      "metadata": {
        "id": "JyiY1CzHxcHZ"
      }
    },
    {
      "cell_type": "code",
      "source": [
        "# Load data using pandas.read_csv(filepath_or_url, sep=',')\n",
        "url = 'https://raw.githubusercontent.com/thuc-github/MIS710-T12023/main/Week%204/WA_Fn-UseC_-Telco-Customer-Churn.csv'\n",
        "\n",
        "df = pd.read_csv(url)\n"
      ],
      "metadata": {
        "id": "0_ThSWV7ws1W"
      },
      "execution_count": 47,
      "outputs": []
    },
    {
      "cell_type": "markdown",
      "source": [
        "## EDA\n",
        "\n",
        "* How many rows and columns in the dataset? \n",
        "* Return the first n rows.\n",
        "* What are the columns and their datatypes?\n",
        "* Is there any missing values? \n",
        "* Any strong correlation from the dataset?  \n",
        "* How to deal with categorical features? \n",
        "\n"
      ],
      "metadata": {
        "id": "hTe1NMnwx6eD"
      }
    },
    {
      "cell_type": "code",
      "source": [
        "# Checking the data types of all the columns\n",
        "\n",
        "# Converting Total Charges to a numerical data type.\n",
        "\n",
        "# Check missing values\n",
        "\n",
        "# Handle missing values \n",
        "\n",
        "# Remove customer IDs from the data set\n",
        "\n",
        "# Convert the predictor variable to binary numeric variables\n",
        "\n",
        "# Convert categorical variables into dummy variables\n",
        "\n",
        "# Get Correlation of \"Churn\" with other variables\n"
      ],
      "metadata": {
        "id": "oBbGE3nzzaSJ"
      },
      "execution_count": null,
      "outputs": []
    },
    {
      "cell_type": "markdown",
      "source": [
        "### Data Exploration\n",
        "* Demographics (age, gender, partner and dependent status)\n",
        "* Customer account information (Tenures, contracts)\n",
        "* Distribution of services \n",
        "* Relation between variables \n",
        "* Distribution of predictor variable (`Churn`)"
      ],
      "metadata": {
        "id": "FfOo1H8i0QD0"
      }
    },
    {
      "cell_type": "markdown",
      "source": [
        "## Data preparation \n",
        "\n",
        "\n",
        "1.   Prepare X, y\n",
        "2.   Prepare X_train, X_test, y_train, y_test (hint: using `train_test_split')\n",
        "\n"
      ],
      "metadata": {
        "id": "KmoCcKvKyOHx"
      }
    },
    {
      "cell_type": "markdown",
      "source": [
        "## Model implementation\n",
        "\n",
        "1. Try with the original data. What's the performance?\n",
        "2. Let's add data normalisation. Has the performance been improved?"
      ],
      "metadata": {
        "id": "vtvVRhsy0P29"
      }
    },
    {
      "cell_type": "markdown",
      "source": [
        "## Performance evaluation\n",
        "* Classification report\n",
        "* Confusion matrix \n",
        "* Importance weight\n",
        "* ROC and AUC"
      ],
      "metadata": {
        "id": "zZbv7b2HzPyy"
      }
    }
  ]
}