{
  "cells": [
    {
      "cell_type": "markdown",
      "metadata": {
        "id": "view-in-github",
        "colab_type": "text"
      },
      "source": [
        "<a href=\"https://colab.research.google.com/github/thuc-github/MIS710-T12023/blob/main/Week%2011/MIS710_Lab11_TopicModelling.ipynb\" target=\"_parent\"><img src=\"https://colab.research.google.com/assets/colab-badge.svg\" alt=\"Open In Colab\"/></a>"
      ]
    },
    {
      "cell_type": "markdown",
      "metadata": {
        "id": "MNkJtLWoPpW7"
      },
      "source": [
        "\n",
        "# **MIS710 Lab 11 Week 11**\n",
        "Author: Associate Professor Lemai Nguyen\n",
        "\n",
        "Objectives: \n",
        "\n",
        "**Topic modelling:**\n",
        "1. LDA\n",
        "2. Word2Vec and K-means\n",
        "\n",
        "\n"
      ]
    },
    {
      "cell_type": "markdown",
      "metadata": {
        "id": "SSX6_DT9CA72"
      },
      "source": [
        "# **1. Import Libraries and Functions**\n",
        "\n",
        "Import libraries and functions that are central to this lab**"
      ]
    },
    {
      "cell_type": "code",
      "execution_count": null,
      "metadata": {
        "id": "lVf5buwkml_I"
      },
      "outputs": [],
      "source": [
        "# import libraries \n",
        "import pandas as pd #for data manipulation and analysis\n",
        "import numpy as np\n",
        " \n",
        "import seaborn as sns\n",
        "import matplotlib.pyplot as plt"
      ]
    },
    {
      "cell_type": "markdown",
      "metadata": {
        "id": "AUQUZe-V49gn"
      },
      "source": [
        "# **1. Case One: ChatGPT tweets**\n",
        "\n",
        "**Topic Modelling**\n",
        "\n",
        "\n",
        "**Context**\n",
        "\n",
        "ChatGPT has reached 100 million users just two months after launching. There is a huge debate on general trends and concerns surrounding AI and language models. A diverse range of opinions and viewpoints is emerging.\n",
        "\n",
        "**Content**\n",
        "\n",
        "The lab dataset is a cutdown version of a kaggle dataset of 100,000 tweets in English containing the word \"chatgpt\" between 2023-03-18 and 2023-03-21.\n",
        "\n",
        "The Lab dataset consists of Processed tweet and Sentiment lables.\n",
        "\n",
        "**Inspiration**\n",
        "\n",
        "Applying topic modelling on datasets like Tweets can provide valuable insights into the opinions and attitudes towards ChatGPT. It's not uncommon for opinions to be divided or for individuals to have mixed feelings about a new technology or innovation.\n",
        "\n",
        "**Data source**:\n",
        "\n",
        "https://www.kaggle.com/datasets/sanlian/tweets-about-chatgpt-march-2023\n"
      ]
    },
    {
      "cell_type": "markdown",
      "metadata": {
        "id": "MaSJPc1F49gn"
      },
      "source": [
        "## **4.1 Data Loading**"
      ]
    },
    {
      "cell_type": "code",
      "execution_count": null,
      "metadata": {
        "id": "4tW6LCpX49go"
      },
      "outputs": [],
      "source": [
        "url='https://raw.githubusercontent.com/VanLan0/MIS710-ML/main/Datasets/chatgpt-tweets.csv'\n"
      ]
    },
    {
      "cell_type": "code",
      "execution_count": null,
      "metadata": {
        "id": "-RoktDam49go"
      },
      "outputs": [],
      "source": [
        "# load dataset\n",
        "records = pd.read_csv(url, index_col=None)"
      ]
    },
    {
      "cell_type": "code",
      "execution_count": null,
      "metadata": {
        "colab": {
          "base_uri": "https://localhost:8080/",
          "height": 206
        },
        "outputId": "bc9534cb-7038-4fdc-d00b-6405792c9cd5",
        "id": "7zwK8Ixm49go"
      },
      "outputs": [
        {
          "output_type": "execute_result",
          "data": {
            "text/plain": [
              "                                     processed_tweet sentiment_label\n",
              "0                   chatgpt is another woke machine.        negative\n",
              "1  of the atlantic, or only near the atla more to...         neutral\n",
              "2  this thread is saved to your notion database. ...         neutral\n",
              "3                                prompt ai – chatgpt         neutral\n",
              "4  just had some interesting conversations with g...        positive"
            ],
            "text/html": [
              "\n",
              "  <div id=\"df-2c4aa47c-bfec-42a6-a85c-c7838c1738a6\">\n",
              "    <div class=\"colab-df-container\">\n",
              "      <div>\n",
              "<style scoped>\n",
              "    .dataframe tbody tr th:only-of-type {\n",
              "        vertical-align: middle;\n",
              "    }\n",
              "\n",
              "    .dataframe tbody tr th {\n",
              "        vertical-align: top;\n",
              "    }\n",
              "\n",
              "    .dataframe thead th {\n",
              "        text-align: right;\n",
              "    }\n",
              "</style>\n",
              "<table border=\"1\" class=\"dataframe\">\n",
              "  <thead>\n",
              "    <tr style=\"text-align: right;\">\n",
              "      <th></th>\n",
              "      <th>processed_tweet</th>\n",
              "      <th>sentiment_label</th>\n",
              "    </tr>\n",
              "  </thead>\n",
              "  <tbody>\n",
              "    <tr>\n",
              "      <th>0</th>\n",
              "      <td>chatgpt is another woke machine.</td>\n",
              "      <td>negative</td>\n",
              "    </tr>\n",
              "    <tr>\n",
              "      <th>1</th>\n",
              "      <td>of the atlantic, or only near the atla more to...</td>\n",
              "      <td>neutral</td>\n",
              "    </tr>\n",
              "    <tr>\n",
              "      <th>2</th>\n",
              "      <td>this thread is saved to your notion database. ...</td>\n",
              "      <td>neutral</td>\n",
              "    </tr>\n",
              "    <tr>\n",
              "      <th>3</th>\n",
              "      <td>prompt ai – chatgpt</td>\n",
              "      <td>neutral</td>\n",
              "    </tr>\n",
              "    <tr>\n",
              "      <th>4</th>\n",
              "      <td>just had some interesting conversations with g...</td>\n",
              "      <td>positive</td>\n",
              "    </tr>\n",
              "  </tbody>\n",
              "</table>\n",
              "</div>\n",
              "      <button class=\"colab-df-convert\" onclick=\"convertToInteractive('df-2c4aa47c-bfec-42a6-a85c-c7838c1738a6')\"\n",
              "              title=\"Convert this dataframe to an interactive table.\"\n",
              "              style=\"display:none;\">\n",
              "        \n",
              "  <svg xmlns=\"http://www.w3.org/2000/svg\" height=\"24px\"viewBox=\"0 0 24 24\"\n",
              "       width=\"24px\">\n",
              "    <path d=\"M0 0h24v24H0V0z\" fill=\"none\"/>\n",
              "    <path d=\"M18.56 5.44l.94 2.06.94-2.06 2.06-.94-2.06-.94-.94-2.06-.94 2.06-2.06.94zm-11 1L8.5 8.5l.94-2.06 2.06-.94-2.06-.94L8.5 2.5l-.94 2.06-2.06.94zm10 10l.94 2.06.94-2.06 2.06-.94-2.06-.94-.94-2.06-.94 2.06-2.06.94z\"/><path d=\"M17.41 7.96l-1.37-1.37c-.4-.4-.92-.59-1.43-.59-.52 0-1.04.2-1.43.59L10.3 9.45l-7.72 7.72c-.78.78-.78 2.05 0 2.83L4 21.41c.39.39.9.59 1.41.59.51 0 1.02-.2 1.41-.59l7.78-7.78 2.81-2.81c.8-.78.8-2.07 0-2.86zM5.41 20L4 18.59l7.72-7.72 1.47 1.35L5.41 20z\"/>\n",
              "  </svg>\n",
              "      </button>\n",
              "      \n",
              "  <style>\n",
              "    .colab-df-container {\n",
              "      display:flex;\n",
              "      flex-wrap:wrap;\n",
              "      gap: 12px;\n",
              "    }\n",
              "\n",
              "    .colab-df-convert {\n",
              "      background-color: #E8F0FE;\n",
              "      border: none;\n",
              "      border-radius: 50%;\n",
              "      cursor: pointer;\n",
              "      display: none;\n",
              "      fill: #1967D2;\n",
              "      height: 32px;\n",
              "      padding: 0 0 0 0;\n",
              "      width: 32px;\n",
              "    }\n",
              "\n",
              "    .colab-df-convert:hover {\n",
              "      background-color: #E2EBFA;\n",
              "      box-shadow: 0px 1px 2px rgba(60, 64, 67, 0.3), 0px 1px 3px 1px rgba(60, 64, 67, 0.15);\n",
              "      fill: #174EA6;\n",
              "    }\n",
              "\n",
              "    [theme=dark] .colab-df-convert {\n",
              "      background-color: #3B4455;\n",
              "      fill: #D2E3FC;\n",
              "    }\n",
              "\n",
              "    [theme=dark] .colab-df-convert:hover {\n",
              "      background-color: #434B5C;\n",
              "      box-shadow: 0px 1px 3px 1px rgba(0, 0, 0, 0.15);\n",
              "      filter: drop-shadow(0px 1px 2px rgba(0, 0, 0, 0.3));\n",
              "      fill: #FFFFFF;\n",
              "    }\n",
              "  </style>\n",
              "\n",
              "      <script>\n",
              "        const buttonEl =\n",
              "          document.querySelector('#df-2c4aa47c-bfec-42a6-a85c-c7838c1738a6 button.colab-df-convert');\n",
              "        buttonEl.style.display =\n",
              "          google.colab.kernel.accessAllowed ? 'block' : 'none';\n",
              "\n",
              "        async function convertToInteractive(key) {\n",
              "          const element = document.querySelector('#df-2c4aa47c-bfec-42a6-a85c-c7838c1738a6');\n",
              "          const dataTable =\n",
              "            await google.colab.kernel.invokeFunction('convertToInteractive',\n",
              "                                                     [key], {});\n",
              "          if (!dataTable) return;\n",
              "\n",
              "          const docLinkHtml = 'Like what you see? Visit the ' +\n",
              "            '<a target=\"_blank\" href=https://colab.research.google.com/notebooks/data_table.ipynb>data table notebook</a>'\n",
              "            + ' to learn more about interactive tables.';\n",
              "          element.innerHTML = '';\n",
              "          dataTable['output_type'] = 'display_data';\n",
              "          await google.colab.output.renderOutput(dataTable, element);\n",
              "          const docLink = document.createElement('div');\n",
              "          docLink.innerHTML = docLinkHtml;\n",
              "          element.appendChild(docLink);\n",
              "        }\n",
              "      </script>\n",
              "    </div>\n",
              "  </div>\n",
              "  "
            ]
          },
          "metadata": {},
          "execution_count": 47
        }
      ],
      "source": [
        "records.head()"
      ]
    },
    {
      "cell_type": "code",
      "execution_count": null,
      "metadata": {
        "colab": {
          "base_uri": "https://localhost:8080/"
        },
        "outputId": "5c7fc7b9-66d1-45e3-b41f-731433eeccbf",
        "id": "Nze8ao7E49go"
      },
      "outputs": [
        {
          "output_type": "stream",
          "name": "stdout",
          "text": [
            "<class 'pandas.core.frame.DataFrame'>\n",
            "RangeIndex: 80501 entries, 0 to 80500\n",
            "Data columns (total 2 columns):\n",
            " #   Column           Non-Null Count  Dtype \n",
            "---  ------           --------------  ----- \n",
            " 0   processed_tweet  80500 non-null  object\n",
            " 1   sentiment_label  80501 non-null  object\n",
            "dtypes: object(2)\n",
            "memory usage: 1.2+ MB\n"
          ]
        }
      ],
      "source": [
        "records.info()"
      ]
    },
    {
      "cell_type": "markdown",
      "metadata": {
        "id": "GLeSpkt249go"
      },
      "source": [
        "## **4.2. Text and Languistic Preprocessing"
      ]
    },
    {
      "cell_type": "markdown",
      "metadata": {
        "id": "dsbLOwdY49gp"
      },
      "source": [
        "### **Data cleansing**\n",
        "\n",
        "* Inspect columns and correct data types\n",
        "* Detecting and handling missing data\n"
      ]
    },
    {
      "cell_type": "markdown",
      "metadata": {
        "id": "kyJg92d449gp"
      },
      "source": [
        "**Detect missing data**"
      ]
    },
    {
      "cell_type": "code",
      "execution_count": null,
      "metadata": {
        "colab": {
          "base_uri": "https://localhost:8080/"
        },
        "outputId": "b9cfc46d-ceb4-43bb-f943-5eba72a8a5e9",
        "id": "xWv7Rsp_49gp"
      },
      "outputs": [
        {
          "output_type": "execute_result",
          "data": {
            "text/plain": [
              "processed_tweet    1\n",
              "sentiment_label    0\n",
              "dtype: int64"
            ]
          },
          "metadata": {},
          "execution_count": 108
        }
      ],
      "source": [
        "records.isnull().sum()"
      ]
    },
    {
      "cell_type": "code",
      "execution_count": null,
      "metadata": {
        "id": "kDPz51RF49gq"
      },
      "outputs": [],
      "source": [
        "# Drop rows with missing data in the 'Age' column\n",
        "records.dropna(subset=['processed_tweet'], inplace=True)"
      ]
    },
    {
      "cell_type": "code",
      "execution_count": null,
      "metadata": {
        "colab": {
          "base_uri": "https://localhost:8080/"
        },
        "outputId": "de35595a-4e55-4a51-e713-bc2507669e27",
        "id": "r1vcNX3r49gq"
      },
      "outputs": [
        {
          "output_type": "execute_result",
          "data": {
            "text/plain": [
              "processed_tweet    0\n",
              "sentiment_label    0\n",
              "dtype: int64"
            ]
          },
          "metadata": {},
          "execution_count": 6
        }
      ],
      "source": [
        "records.isnull().sum()"
      ]
    },
    {
      "cell_type": "markdown",
      "metadata": {
        "id": "H6iHaP3A49gq"
      },
      "source": [
        "### **EDA**\n",
        "\n",
        "* Analyse and visualise the sentiment column"
      ]
    },
    {
      "cell_type": "code",
      "execution_count": null,
      "metadata": {
        "colab": {
          "base_uri": "https://localhost:8080/"
        },
        "outputId": "347d5f76-3051-4d39-9630-c8b2b4a2054a",
        "id": "NcqSzh_Y49gq"
      },
      "outputs": [
        {
          "output_type": "stream",
          "name": "stdout",
          "text": [
            "neutral     40618\n",
            "negative    20911\n",
            "positive    18971\n",
            "Name: sentiment_label, dtype: int64\n"
          ]
        }
      ],
      "source": [
        "# Get frequency of positive and negative reviews\n",
        "sentiment_counts = records['sentiment_label'].value_counts()\n",
        "print(sentiment_counts)"
      ]
    },
    {
      "cell_type": "code",
      "execution_count": null,
      "metadata": {
        "colab": {
          "base_uri": "https://localhost:8080/",
          "height": 472
        },
        "outputId": "eed2967c-c66f-4ce9-f7e6-3ebcac39f26c",
        "id": "WPUAX2Zm49gr"
      },
      "outputs": [
        {
          "output_type": "display_data",
          "data": {
            "text/plain": [
              "<Figure size 640x480 with 1 Axes>"
            ],
            "image/png": "[encoded data removed]"
          },
          "metadata": {}
        }
      ],
      "source": [
        "# Plot bar chart of sentiment counts\n",
        "sns.countplot(data=records, x='sentiment_label')\n",
        "plt.title('Distribution of Sentiments')\n",
        "plt.xlabel('Sentiments')\n",
        "plt.ylabel('Frequency')\n",
        "plt.show()"
      ]
    },
    {
      "cell_type": "markdown",
      "source": [],
      "metadata": {
        "id": "T5H6BXLj6oZw"
      }
    },
    {
      "cell_type": "markdown",
      "metadata": {
        "id": "QL8T9cLW6opr"
      },
      "source": [
        "### **Text pre-processing**\n",
        "* Text cleaning: Remove any HTML tags, punctuation, and special characters from the reviews.\n",
        "* Lowercasing: Convert all text to lowercase to ensure that words with the same spelling but different capitalization are treated as the same word.\n",
        "* Tokenization: Split the text into individual words or tokens.\n",
        "* Stopword removal: Remove common words such as \"the\", \"and\", \"a\", etc. that do not add much meaning to the text.\n",
        "* Stemming/Lemmatization: Reduce words to their base form to normalize the text and group together words with similar meanings."
      ]
    },
    {
      "cell_type": "markdown",
      "metadata": {
        "id": "Xh8bznih6opr"
      },
      "source": [
        "re is a built-in Python module for working with regular expressions. Regular expressions are a combination of alphanumeric characters and special characters. For example, the . character in a regular expression matches any single character, while the * character matches zero or more occurrences of the preceding character."
      ]
    },
    {
      "cell_type": "markdown",
      "metadata": {
        "id": "7a9sy3Yc6opr"
      },
      "source": [
        "#### **Text cleaning**"
      ]
    },
    {
      "cell_type": "code",
      "execution_count": null,
      "metadata": {
        "id": "mMZkox6s6ops"
      },
      "outputs": [],
      "source": [
        "import re"
      ]
    },
    {
      "cell_type": "markdown",
      "metadata": {
        "id": "DQQdRkcu6ops"
      },
      "source": [
        "The re.sub() method takes three arguments:\n",
        "\n",
        "1.   The regular expression pattern to search for.\n",
        "2.   The replacement string to use for each match of the pattern.\n",
        "3. The input string to perform the substitution on."
      ]
    },
    {
      "cell_type": "code",
      "execution_count": null,
      "metadata": {
        "id": "GVhnGhPr6ops"
      },
      "outputs": [],
      "source": [
        "# Define function to clean text\n",
        "def clean_text(text):\n",
        "  # Remove HTML tags\n",
        "  text = re.sub(r'<.*?>', '', text)\n",
        "  # Remove punctuation and special characters\n",
        "  text = re.sub(r'[^\\w\\s]', '', text)\n",
        "  # Remove extra whitespace\n",
        "  text = re.sub(r'\\s+', ' ', text).strip()\n",
        "  # Remove the string 'nan' from column \"Text\", as we merged columns with missing texts together\n",
        "  text = re.sub(r'nan', '', text)\n",
        "  return text"
      ]
    },
    {
      "cell_type": "markdown",
      "metadata": {
        "id": "46QgJEPa6ops"
      },
      "source": [
        "* The . (dot) metacharacter matches any single character except for a newline character. \n",
        "* The * (asterisk) metacharacter matches zero or more occurrences of the preceding character or group. \n",
        "\n",
        "* \\w matches any word character, which  includes all alphabetic characters (both upper- and lowercase) and digits, and the underscore character.\n",
        "\n",
        "* \\s matches any whitespace character, which includes spaces, tabs, newlines, and other types of whitespace.\n",
        "\n",
        "* \\s+ matches one or more consecutive whitespace characters. The + (plus) is a metacharacter that means \"one or more occurrences of the preceding pattern\"."
      ]
    },
    {
      "cell_type": "markdown",
      "metadata": {
        "id": "prfdweAU6ops"
      },
      "source": [
        "**Task 13:** Write code for records['Review'] to apply clean_text"
      ]
    },
    {
      "cell_type": "code",
      "execution_count": null,
      "metadata": {
        "id": "US3N64kW6opt"
      },
      "outputs": [],
      "source": [
        "# Apply the clean_text function to the 'review' column \n",
        "records['processed_tweet'] = records['processed_tweet'].apply(clean_text)"
      ]
    },
    {
      "cell_type": "code",
      "execution_count": null,
      "metadata": {
        "id": "2ZGHaIEo6opt"
      },
      "outputs": [],
      "source": [
        "def lowercasing(text):\n",
        "  # Convert to lowercase\n",
        "  text = text.lower()\n",
        "  return text"
      ]
    },
    {
      "cell_type": "markdown",
      "metadata": {
        "id": "ALgWKUgK6opt"
      },
      "source": [
        "**Task 14:** Write code for records['Review'] to apply lowercasing"
      ]
    },
    {
      "cell_type": "code",
      "execution_count": null,
      "metadata": {
        "id": "eAi-v-hU6opt"
      },
      "outputs": [],
      "source": [
        "records['processed_tweet']=records['processed_tweet'].apply(lowercasing)"
      ]
    },
    {
      "cell_type": "markdown",
      "metadata": {
        "id": "eTizLD2x6opt"
      },
      "source": [
        "#### **Tokenization, Stemming and Lemmatization**\n",
        "\n",
        "* Tokenization breaks the text into individual words or tokens, and then stemming/lemmatization is applied on each token individually to obtain their root form.\n",
        "\n",
        "* Stemming can help in reducing  words to their root form, which can help in reducing the number of unique words and therefore reducing the size of the vocabulary. For example: studies, study, studied, studying -> study\n",
        "\n",
        "* Lemmatization reduces a word to its base or dictionary form, which can improve the accuracy of the analysis. By doing both stemming and lemmatization, we can get the benefits of both techniques and improve the overall performance of the sentiment analysis model."
      ]
    },
    {
      "cell_type": "markdown",
      "metadata": {
        "id": "icKXccta6opt"
      },
      "source": [
        "NLTK (Natural Language Toolkit) is a Python library used for natural language processing (NLP) tasks such as tokenization, stemming, lemmatization, part-of-speech tagging, and more."
      ]
    },
    {
      "cell_type": "code",
      "execution_count": null,
      "metadata": {
        "id": "eBHh5G2z6opu"
      },
      "outputs": [],
      "source": [
        "import nltk\n",
        "from nltk.tokenize import word_tokenize\n",
        "from nltk.stem import PorterStemmer, WordNetLemmatizer\n",
        "from nltk.corpus import stopwords"
      ]
    },
    {
      "cell_type": "markdown",
      "metadata": {
        "id": "v2L29sj06opu"
      },
      "source": [
        "Punkt and WordNet are both modules in the Natural Language Toolkit (nltk) library in Python for natural language processing tasks.\n",
        "\n",
        "* Punkt is a module used for tokenization. The Punkt module is trained on large corpora and uses unsupervised learning algorithms to tokenize sentences effectively even when presented with challenging text.\n",
        "\n",
        "* WordNet is a large lexical database of English words for lemmatization."
      ]
    },
    {
      "cell_type": "code",
      "execution_count": null,
      "metadata": {
        "colab": {
          "base_uri": "https://localhost:8080/"
        },
        "outputId": "218dfd28-b264-416f-be7f-a11724403385",
        "id": "QU9iDLma6opu"
      },
      "outputs": [
        {
          "output_type": "stream",
          "name": "stderr",
          "text": [
            "[nltk_data] Downloading package punkt to /root/nltk_data...\n",
            "[nltk_data]   Unzipping tokenizers/punkt.zip.\n",
            "[nltk_data] Downloading package wordnet to /root/nltk_data...\n",
            "[nltk_data] Downloading package stopwords to /root/nltk_data...\n",
            "[nltk_data]   Unzipping corpora/stopwords.zip.\n"
          ]
        },
        {
          "output_type": "execute_result",
          "data": {
            "text/plain": [
              "True"
            ]
          },
          "metadata": {},
          "execution_count": 13
        }
      ],
      "source": [
        "nltk.download('punkt')\n",
        "nltk.download('wordnet')\n",
        "nltk.download('stopwords')"
      ]
    },
    {
      "cell_type": "code",
      "execution_count": null,
      "metadata": {
        "id": "LqFfJHT76opu"
      },
      "outputs": [],
      "source": [
        "# Get stopwords\n",
        "stop_words = set(stopwords.words('english'))\n",
        "#keep negation words because removing them may result in information loss\n",
        "negation_words = {'no', 'not', 'nor', 'neither', 'none', 'never'}\n",
        "\n",
        "filtered_words = [word for word in stop_words if word not in negation_words]"
      ]
    },
    {
      "cell_type": "code",
      "execution_count": null,
      "metadata": {
        "id": "Nk-7PGyV6opu"
      },
      "outputs": [],
      "source": [
        "#define a function to perform tokenization, stemming and lemmatization\n",
        "def tokenize_stem(text):\n",
        "  #tokenization\n",
        "  tokens = nltk.word_tokenize(text.lower())\n",
        "    \n",
        "  #initialize stemmer and lemmatizer  \n",
        "  stemmer = PorterStemmer()\n",
        "  #lemmatizer = WordNetLemmatizer()\n",
        "\n",
        "  #perform stemming and lemmatization \n",
        "  stemmed_tokens = [stemmer.stem(token) for token in tokens]\n",
        "  #lemmatized_tokens = [lemmatizer.lemmatize(token) for token in tokens if token not in filtered_words and token.lower() not in negation_words]\n",
        "  #return ' '.join(lemmatized_tokens)\n",
        "  return stemmed_tokens"
      ]
    },
    {
      "cell_type": "code",
      "execution_count": null,
      "metadata": {
        "id": "kLqYQd8f6opv"
      },
      "outputs": [],
      "source": [
        "# Tokenize and stem. It might take one minute or two.\n",
        "processed_text = records['processed_tweet'].apply(tokenize_stem)\n"
      ]
    },
    {
      "cell_type": "markdown",
      "source": [
        "## **4.3 Sentiment analysis**\n",
        "Do it yourself"
      ],
      "metadata": {
        "id": "nu17RYBwC8F0"
      }
    },
    {
      "cell_type": "markdown",
      "source": [
        "## **4.4 Topic modelling using LDA**"
      ],
      "metadata": {
        "id": "2uY6J4ntZKuw"
      }
    },
    {
      "cell_type": "code",
      "source": [
        "from gensim import corpora\n",
        "from gensim.models import LdaModel\n",
        "from gensim.utils import simple_preprocess"
      ],
      "metadata": {
        "id": "XwPmrkMN1c8j"
      },
      "execution_count": null,
      "outputs": []
    },
    {
      "cell_type": "code",
      "source": [
        "# Create a list of preprocessed reviews\n",
        "preprocessed_text = processed_text.tolist()"
      ],
      "metadata": {
        "id": "bmPhj08Y2HXZ"
      },
      "execution_count": null,
      "outputs": []
    },
    {
      "cell_type": "code",
      "source": [
        "# Join the preprocessed_text to convert it into a list of strings\n",
        "preprocessed_text = [' '.join(tokens) for tokens in preprocessed_text]"
      ],
      "metadata": {
        "id": "B7EDoJ4B8ffl"
      },
      "execution_count": null,
      "outputs": []
    },
    {
      "cell_type": "code",
      "source": [
        "from sklearn.feature_extraction.text import TfidfVectorizer\n",
        "from sklearn.decomposition import LatentDirichletAllocation"
      ],
      "metadata": {
        "id": "sqr0bONV95Ge"
      },
      "execution_count": null,
      "outputs": []
    },
    {
      "cell_type": "code",
      "source": [
        "# Create the document-term matrix using TF-IDF vectorization\n",
        "vectorizer = TfidfVectorizer()\n",
        "doc_term_matrix = vectorizer.fit_transform(preprocessed_text)\n"
      ],
      "metadata": {
        "id": "1QmCoujA1ThJ"
      },
      "execution_count": null,
      "outputs": []
    },
    {
      "cell_type": "markdown",
      "source": [
        "Let's find 20 topics based on TF-IDF of tokens. Note, it takes several minutes. "
      ],
      "metadata": {
        "id": "eHfr-QJt9CET"
      }
    },
    {
      "cell_type": "code",
      "source": [
        "# Define the number of topics\n",
        "num_topics = 20\n",
        "\n",
        "# Train the LDA model\n",
        "lda_model = LatentDirichletAllocation(n_components=num_topics, random_state=2023)\n",
        "lda_model.fit(doc_term_matrix)"
      ],
      "metadata": {
        "colab": {
          "base_uri": "https://localhost:8080/",
          "height": 75
        },
        "id": "kA-KbKSL-Cjr",
        "outputId": "14d7f72a-367d-41cb-f3ab-5f325cccdc41"
      },
      "execution_count": null,
      "outputs": [
        {
          "output_type": "execute_result",
          "data": {
            "text/plain": [
              "LatentDirichletAllocation(n_components=20, random_state=2023)"
            ],
            "text/html": [
              "<style>#sk-container-id-1 {color: black;background-color: white;}#sk-container-id-1 pre{padding: 0;}#sk-container-id-1 div.sk-toggleable {background-color: white;}#sk-container-id-1 label.sk-toggleable__label {cursor: pointer;display: block;width: 100%;margin-bottom: 0;padding: 0.3em;box-sizing: border-box;text-align: center;}#sk-container-id-1 label.sk-toggleable__label-arrow:before {content: \"▸\";float: left;margin-right: 0.25em;color: #696969;}#sk-container-id-1 label.sk-toggleable__label-arrow:hover:before {color: black;}#sk-container-id-1 div.sk-estimator:hover label.sk-toggleable__label-arrow:before {color: black;}#sk-container-id-1 div.sk-toggleable__content {max-height: 0;max-width: 0;overflow: hidden;text-align: left;background-color: #f0f8ff;}#sk-container-id-1 div.sk-toggleable__content pre {margin: 0.2em;color: black;border-radius: 0.25em;background-color: #f0f8ff;}#sk-container-id-1 input.sk-toggleable__control:checked~div.sk-toggleable__content {max-height: 200px;max-width: 100%;overflow: auto;}#sk-container-id-1 input.sk-toggleable__control:checked~label.sk-toggleable__label-arrow:before {content: \"▾\";}#sk-container-id-1 div.sk-estimator input.sk-toggleable__control:checked~label.sk-toggleable__label {background-color: #d4ebff;}#sk-container-id-1 div.sk-label input.sk-toggleable__control:checked~label.sk-toggleable__label {background-color: #d4ebff;}#sk-container-id-1 input.sk-hidden--visually {border: 0;clip: rect(1px 1px 1px 1px);clip: rect(1px, 1px, 1px, 1px);height: 1px;margin: -1px;overflow: hidden;padding: 0;position: absolute;width: 1px;}#sk-container-id-1 div.sk-estimator {font-family: monospace;background-color: #f0f8ff;border: 1px dotted black;border-radius: 0.25em;box-sizing: border-box;margin-bottom: 0.5em;}#sk-container-id-1 div.sk-estimator:hover {background-color: #d4ebff;}#sk-container-id-1 div.sk-parallel-item::after {content: \"\";width: 100%;border-bottom: 1px solid gray;flex-grow: 1;}#sk-container-id-1 div.sk-label:hover label.sk-toggleable__label {background-color: #d4ebff;}#sk-container-id-1 div.sk-serial::before {content: \"\";position: absolute;border-left: 1px solid gray;box-sizing: border-box;top: 0;bottom: 0;left: 50%;z-index: 0;}#sk-container-id-1 div.sk-serial {display: flex;flex-direction: column;align-items: center;background-color: white;padding-right: 0.2em;padding-left: 0.2em;position: relative;}#sk-container-id-1 div.sk-item {position: relative;z-index: 1;}#sk-container-id-1 div.sk-parallel {display: flex;align-items: stretch;justify-content: center;background-color: white;position: relative;}#sk-container-id-1 div.sk-item::before, #sk-container-id-1 div.sk-parallel-item::before {content: \"\";position: absolute;border-left: 1px solid gray;box-sizing: border-box;top: 0;bottom: 0;left: 50%;z-index: -1;}#sk-container-id-1 div.sk-parallel-item {display: flex;flex-direction: column;z-index: 1;position: relative;background-color: white;}#sk-container-id-1 div.sk-parallel-item:first-child::after {align-self: flex-end;width: 50%;}#sk-container-id-1 div.sk-parallel-item:last-child::after {align-self: flex-start;width: 50%;}#sk-container-id-1 div.sk-parallel-item:only-child::after {width: 0;}#sk-container-id-1 div.sk-dashed-wrapped {border: 1px dashed gray;margin: 0 0.4em 0.5em 0.4em;box-sizing: border-box;padding-bottom: 0.4em;background-color: white;}#sk-container-id-1 div.sk-label label {font-family: monospace;font-weight: bold;display: inline-block;line-height: 1.2em;}#sk-container-id-1 div.sk-label-container {text-align: center;}#sk-container-id-1 div.sk-container {/* jupyter's `normalize.less` sets `[hidden] { display: none; }` but bootstrap.min.css set `[hidden] { display: none !important; }` so we also need the `!important` here to be able to override the default hidden behavior on the sphinx rendered scikit-learn.org. See: https://github.com/scikit-learn/scikit-learn/issues/21755 */display: inline-block !important;position: relative;}#sk-container-id-1 div.sk-text-repr-fallback {display: none;}</style><div id=\"sk-container-id-1\" class=\"sk-top-container\"><div class=\"sk-text-repr-fallback\"><pre>LatentDirichletAllocation(n_components=20, random_state=2023)</pre><b>In a Jupyter environment, please rerun this cell to show the HTML representation or trust the notebook. <br />On GitHub, the HTML representation is unable to render, please try loading this page with nbviewer.org.</b></div><div class=\"sk-container\" hidden><div class=\"sk-item\"><div class=\"sk-estimator sk-toggleable\"><input class=\"sk-toggleable__control sk-hidden--visually\" id=\"sk-estimator-id-1\" type=\"checkbox\" checked><label for=\"sk-estimator-id-1\" class=\"sk-toggleable__label sk-toggleable__label-arrow\">LatentDirichletAllocation</label><div class=\"sk-toggleable__content\"><pre>LatentDirichletAllocation(n_components=20, random_state=2023)</pre></div></div></div></div></div>"
            ]
          },
          "metadata": {},
          "execution_count": 37
        }
      ]
    },
    {
      "cell_type": "code",
      "source": [
        "#Check the size of our model components.\n",
        "lda_model.components_.shape"
      ],
      "metadata": {
        "colab": {
          "base_uri": "https://localhost:8080/"
        },
        "id": "j-UEudgjH3rk",
        "outputId": "0d047a23-cf4c-4dfb-cabe-10f230d9a117"
      },
      "execution_count": null,
      "outputs": [
        {
          "output_type": "execute_result",
          "data": {
            "text/plain": [
              "(20, 36358)"
            ]
          },
          "metadata": {},
          "execution_count": 39
        }
      ]
    },
    {
      "cell_type": "code",
      "source": [
        "# Print the topics and their top words\n",
        "feature_names = vectorizer.get_feature_names_out() \n",
        "for topic_id, topic in enumerate(lda_model.components_):\n",
        "    top_words = [feature_names[i] for i in topic.argsort()[:-11:-1]]\n",
        "    print(f\"Topic {topic_id + 1}: {' '.join(top_words)}\")"
      ],
      "metadata": {
        "colab": {
          "base_uri": "https://localhost:8080/"
        },
        "id": "tKoVlhr3-2mv",
        "outputId": "542d79e9-d5f3-4128-984c-429ec4ea8159"
      },
      "execution_count": null,
      "outputs": [
        {
          "output_type": "stream",
          "name": "stdout",
          "text": [
            "Topic 1: chatgpt rsi morn the price to good is recommend and\n",
            "Topic 2: it the to chatgpt and is of you that for\n",
            "Topic 3: chatgpt free for the predict to it all week and\n",
            "Topic 4: to the chatgpt it and of for use you write\n",
            "Topic 5: gpt4 arb chatgpt and is the to episod park gpt\n",
            "Topic 6: chatgpt down is to googl it bard the plu for\n",
            "Topic 7: chatgpt congrat prompt appl is watch gpt4 on the magic\n",
            "Topic 8: the and to of ai chatgpt in for with your\n",
            "Topic 9: chatgpt the to ban my for gm in copi escap\n",
            "Topic 10: chatgpt outag via lab for sale colleg report major pm\n",
            "Topic 11: chatgpt the is to game my lol use it me\n",
            "Topic 12: chatgpt the na to exam is of gon emo_po secur\n",
            "Topic 13: ask chatgpt to the is and it for you in\n",
            "Topic 14: chatgpt the to it is and of for in kill\n",
            "Topic 15: it chatgpt the to is and you of that in\n",
            "Topic 16: thank you chatgpt to your thread save thi tag tweet\n",
            "Topic 17: the to chatgpt and is of it in you for\n",
            "Topic 18: sourc rival chatgpt bard googl to launch open over18 earli\n",
            "Topic 19: congratul job chatgpt openai sam altman scare of ceo elimin\n",
            "Topic 20: gpt chat is chatgpt what you to ask thi it\n"
          ]
        }
      ]
    },
    {
      "cell_type": "code",
      "source": [
        " # Find the top 5 tweets and labels associated with each topic\n",
        "topic_tweets = []\n",
        "topic_labels = []\n",
        "topic_probabilities = lda_model.transform(doc_term_matrix)[:, topic_id]\n",
        "top_tweets_indices = topic_probabilities.argsort()[:-6:-1]\n",
        "for tweet_index in top_tweets_indices:\n",
        "  topic_tweets.append(records['processed_tweet'][tweet_index])\n",
        "  topic_labels.append(records['sentiment_label'][tweet_index])\n",
        "    "
      ],
      "metadata": {
        "id": "kipQBJ34AIZV"
      },
      "execution_count": null,
      "outputs": []
    },
    {
      "cell_type": "code",
      "source": [
        "# Print the top tweets and labels for the current topic\n",
        "for tweet, label in zip(topic_tweets, topic_labels):\n",
        "  print(f\"Tweet: {topic_tweets}\")\n",
        "  print(f\"Label: {topic_labels}\")\n",
        "  print()"
      ],
      "metadata": {
        "colab": {
          "base_uri": "https://localhost:8080/"
        },
        "id": "XO2TSOj8AKEX",
        "outputId": "6e264053-cd0f-4f77-b5d4-4b5a61f3022a"
      },
      "execution_count": null,
      "outputs": [
        {
          "output_type": "stream",
          "name": "stdout",
          "text": [
            "Tweet: ['dude has no conception of the indomitable joy of being a biological father yet claims to be changing diapers this should be illegal', 'filthy fi either you are shameless to the lowest level or your bot is developed to be so intelligent it looks decades outdated with ai tools like chatgpt available now or you are trying to irritate me to the extent possible so that i will stop complaining', 'filthy fi either you are shameless to the lowest level or your bot is developed to be so intelligent it looks decades outdated with ai tools like chatgpt available now or you are trying to irritate me to the extent possible so that i will stop complaining', 'chatgpt for beginners your quick amp easy guide to mastery', 'why did i subscribed to and why you should too as explained by chatgpt if youre an avid twitter user you may have heard about twitter blue a new subscription service that offers premium features for a monthly fee if youre on the fence about whether to']\n",
            "Label: ['negative', 'negative', 'negative', 'neutral', 'neutral']\n",
            "\n",
            "Tweet: ['dude has no conception of the indomitable joy of being a biological father yet claims to be changing diapers this should be illegal', 'filthy fi either you are shameless to the lowest level or your bot is developed to be so intelligent it looks decades outdated with ai tools like chatgpt available now or you are trying to irritate me to the extent possible so that i will stop complaining', 'filthy fi either you are shameless to the lowest level or your bot is developed to be so intelligent it looks decades outdated with ai tools like chatgpt available now or you are trying to irritate me to the extent possible so that i will stop complaining', 'chatgpt for beginners your quick amp easy guide to mastery', 'why did i subscribed to and why you should too as explained by chatgpt if youre an avid twitter user you may have heard about twitter blue a new subscription service that offers premium features for a monthly fee if youre on the fence about whether to']\n",
            "Label: ['negative', 'negative', 'negative', 'neutral', 'neutral']\n",
            "\n",
            "Tweet: ['dude has no conception of the indomitable joy of being a biological father yet claims to be changing diapers this should be illegal', 'filthy fi either you are shameless to the lowest level or your bot is developed to be so intelligent it looks decades outdated with ai tools like chatgpt available now or you are trying to irritate me to the extent possible so that i will stop complaining', 'filthy fi either you are shameless to the lowest level or your bot is developed to be so intelligent it looks decades outdated with ai tools like chatgpt available now or you are trying to irritate me to the extent possible so that i will stop complaining', 'chatgpt for beginners your quick amp easy guide to mastery', 'why did i subscribed to and why you should too as explained by chatgpt if youre an avid twitter user you may have heard about twitter blue a new subscription service that offers premium features for a monthly fee if youre on the fence about whether to']\n",
            "Label: ['negative', 'negative', 'negative', 'neutral', 'neutral']\n",
            "\n",
            "Tweet: ['dude has no conception of the indomitable joy of being a biological father yet claims to be changing diapers this should be illegal', 'filthy fi either you are shameless to the lowest level or your bot is developed to be so intelligent it looks decades outdated with ai tools like chatgpt available now or you are trying to irritate me to the extent possible so that i will stop complaining', 'filthy fi either you are shameless to the lowest level or your bot is developed to be so intelligent it looks decades outdated with ai tools like chatgpt available now or you are trying to irritate me to the extent possible so that i will stop complaining', 'chatgpt for beginners your quick amp easy guide to mastery', 'why did i subscribed to and why you should too as explained by chatgpt if youre an avid twitter user you may have heard about twitter blue a new subscription service that offers premium features for a monthly fee if youre on the fence about whether to']\n",
            "Label: ['negative', 'negative', 'negative', 'neutral', 'neutral']\n",
            "\n",
            "Tweet: ['dude has no conception of the indomitable joy of being a biological father yet claims to be changing diapers this should be illegal', 'filthy fi either you are shameless to the lowest level or your bot is developed to be so intelligent it looks decades outdated with ai tools like chatgpt available now or you are trying to irritate me to the extent possible so that i will stop complaining', 'filthy fi either you are shameless to the lowest level or your bot is developed to be so intelligent it looks decades outdated with ai tools like chatgpt available now or you are trying to irritate me to the extent possible so that i will stop complaining', 'chatgpt for beginners your quick amp easy guide to mastery', 'why did i subscribed to and why you should too as explained by chatgpt if youre an avid twitter user you may have heard about twitter blue a new subscription service that offers premium features for a monthly fee if youre on the fence about whether to']\n",
            "Label: ['negative', 'negative', 'negative', 'neutral', 'neutral']\n",
            "\n"
          ]
        }
      ]
    },
    {
      "cell_type": "markdown",
      "source": [
        "Let's combinate the following steps. The following code may take several minutes. "
      ],
      "metadata": {
        "id": "pDHR6grc-qpj"
      }
    },
    {
      "cell_type": "code",
      "source": [
        "for topic_id, topic in enumerate(lda_model.components_):\n",
        "  top_words = [feature_names[i] for i in topic.argsort()[:-11:-1]]\n",
        "  print(f\"Topic {topic_id + 1}: {' '.join(top_words)}\")\n",
        "  print(\"Top Reviews and Labels:\")\n",
        "    \n",
        "  # Find the top 5 tweets and labels associated with the current topic\n",
        "  topic_tweets = []\n",
        "  topic_labels = []\n",
        "  topic_probabilities = lda_model.transform(doc_term_matrix)[:, topic_id]\n",
        "  top_tweets_indices = topic_probabilities.argsort()[:-6:-1]\n",
        "  for tweet_index in top_tweets_indices:\n",
        "    topic_tweets.append(records['processed_tweet'][tweet_index])\n",
        "    topic_labels.append(records['sentiment_label'][tweet_index])\n",
        "    \n",
        "  # Print the top tweets and labels for the current topic\n",
        "  for tweet, label in zip(topic_tweets, topic_labels):\n",
        "    print(f\"Tweet: {topic_tweets}\")\n",
        "    print(f\"Label: {topic_labels}\")\n",
        "    print()\n",
        "        \n",
        "  print(\"----------------------\")"
      ],
      "metadata": {
        "colab": {
          "base_uri": "https://localhost:8080/"
        },
        "id": "ftL3EPEgCdlR",
        "outputId": "3a980725-2c54-4037-de50-50cf9caefb2d"
      },
      "execution_count": null,
      "outputs": [
        {
          "output_type": "stream",
          "name": "stdout",
          "text": [
            "Topic 1: chatgpt rsi morn the price to good is recommend and\n",
            "Top Reviews and Labels:\n",
            "Tweet: ['the term nft is too technical we need to rebrand them as digital collectibles meanwhile mfers saying chatgpt a million times in the media and daily conversation and i literally dont know what gpt even stands for spoiler it stands for generative pretrained transformer', 'the current regime is burdensome for consumers and creates disincentives to providing data did chatgpt write that line surprised nothing on safety tech the exdcms and home office big pitch to g7 useful parallel reading incl dronesemerging tech', 'using chatgpt for job search now at this point', 'tried to get chatgpt to do my shopping list and meal planning for the week based on a list of meals wed had over the past month it planned in pizza for three consecutive days', 'haiku take on the pentateuch genesis in the beginning god created all that is life earth and heaven exodus moses led the way from egypt to promised land through red sea they crossed']\n",
            "Label: ['negative', 'negative', 'neutral', 'neutral', 'neutral']\n",
            "\n",
            "Tweet: ['the term nft is too technical we need to rebrand them as digital collectibles meanwhile mfers saying chatgpt a million times in the media and daily conversation and i literally dont know what gpt even stands for spoiler it stands for generative pretrained transformer', 'the current regime is burdensome for consumers and creates disincentives to providing data did chatgpt write that line surprised nothing on safety tech the exdcms and home office big pitch to g7 useful parallel reading incl dronesemerging tech', 'using chatgpt for job search now at this point', 'tried to get chatgpt to do my shopping list and meal planning for the week based on a list of meals wed had over the past month it planned in pizza for three consecutive days', 'haiku take on the pentateuch genesis in the beginning god created all that is life earth and heaven exodus moses led the way from egypt to promised land through red sea they crossed']\n",
            "Label: ['negative', 'negative', 'neutral', 'neutral', 'neutral']\n",
            "\n",
            "Tweet: ['the term nft is too technical we need to rebrand them as digital collectibles meanwhile mfers saying chatgpt a million times in the media and daily conversation and i literally dont know what gpt even stands for spoiler it stands for generative pretrained transformer', 'the current regime is burdensome for consumers and creates disincentives to providing data did chatgpt write that line surprised nothing on safety tech the exdcms and home office big pitch to g7 useful parallel reading incl dronesemerging tech', 'using chatgpt for job search now at this point', 'tried to get chatgpt to do my shopping list and meal planning for the week based on a list of meals wed had over the past month it planned in pizza for three consecutive days', 'haiku take on the pentateuch genesis in the beginning god created all that is life earth and heaven exodus moses led the way from egypt to promised land through red sea they crossed']\n",
            "Label: ['negative', 'negative', 'neutral', 'neutral', 'neutral']\n",
            "\n",
            "Tweet: ['the term nft is too technical we need to rebrand them as digital collectibles meanwhile mfers saying chatgpt a million times in the media and daily conversation and i literally dont know what gpt even stands for spoiler it stands for generative pretrained transformer', 'the current regime is burdensome for consumers and creates disincentives to providing data did chatgpt write that line surprised nothing on safety tech the exdcms and home office big pitch to g7 useful parallel reading incl dronesemerging tech', 'using chatgpt for job search now at this point', 'tried to get chatgpt to do my shopping list and meal planning for the week based on a list of meals wed had over the past month it planned in pizza for three consecutive days', 'haiku take on the pentateuch genesis in the beginning god created all that is life earth and heaven exodus moses led the way from egypt to promised land through red sea they crossed']\n",
            "Label: ['negative', 'negative', 'neutral', 'neutral', 'neutral']\n",
            "\n",
            "Tweet: ['the term nft is too technical we need to rebrand them as digital collectibles meanwhile mfers saying chatgpt a million times in the media and daily conversation and i literally dont know what gpt even stands for spoiler it stands for generative pretrained transformer', 'the current regime is burdensome for consumers and creates disincentives to providing data did chatgpt write that line surprised nothing on safety tech the exdcms and home office big pitch to g7 useful parallel reading incl dronesemerging tech', 'using chatgpt for job search now at this point', 'tried to get chatgpt to do my shopping list and meal planning for the week based on a list of meals wed had over the past month it planned in pizza for three consecutive days', 'haiku take on the pentateuch genesis in the beginning god created all that is life earth and heaven exodus moses led the way from egypt to promised land through red sea they crossed']\n",
            "Label: ['negative', 'negative', 'neutral', 'neutral', 'neutral']\n",
            "\n",
            "----------------------\n",
            "Topic 2: it the to chatgpt and is of you that for\n",
            "Top Reviews and Labels:\n",
            "Tweet: ['days after chatgpts developer openai released its latest version gpt4 chinese tech giant baidu revealed its ai bot ernie which it says can comprehend human intentions and deliver responses approaching human level', 'i mean sometimes apologies can really just be short and straight to the point and imo thats still ok im not taking sides on anything about this rn btw idk the whole story also isnt chat gpt ai i think it being ai would give it an advantage its much smarter than humans', 'its lamentable that chatgpt cannot instruct you on how to create software that uses the openai api because it technically isnt aware of the existence of such code since it hasnt been trained on data beyond', 'i generated it with chatgpt take it up with her', 'a second game try to make up bizarresounding paper titles that chatgpt attributes to people if they are too ridiculous it cannot find that paper but titles like epistemic planning and its application to food security in arnhem land gets attributed to authors i know']\n",
            "Label: ['neutral', 'neutral', 'negative', 'neutral', 'neutral']\n",
            "\n",
            "Tweet: ['days after chatgpts developer openai released its latest version gpt4 chinese tech giant baidu revealed its ai bot ernie which it says can comprehend human intentions and deliver responses approaching human level', 'i mean sometimes apologies can really just be short and straight to the point and imo thats still ok im not taking sides on anything about this rn btw idk the whole story also isnt chat gpt ai i think it being ai would give it an advantage its much smarter than humans', 'its lamentable that chatgpt cannot instruct you on how to create software that uses the openai api because it technically isnt aware of the existence of such code since it hasnt been trained on data beyond', 'i generated it with chatgpt take it up with her', 'a second game try to make up bizarresounding paper titles that chatgpt attributes to people if they are too ridiculous it cannot find that paper but titles like epistemic planning and its application to food security in arnhem land gets attributed to authors i know']\n",
            "Label: ['neutral', 'neutral', 'negative', 'neutral', 'neutral']\n",
            "\n",
            "Tweet: ['days after chatgpts developer openai released its latest version gpt4 chinese tech giant baidu revealed its ai bot ernie which it says can comprehend human intentions and deliver responses approaching human level', 'i mean sometimes apologies can really just be short and straight to the point and imo thats still ok im not taking sides on anything about this rn btw idk the whole story also isnt chat gpt ai i think it being ai would give it an advantage its much smarter than humans', 'its lamentable that chatgpt cannot instruct you on how to create software that uses the openai api because it technically isnt aware of the existence of such code since it hasnt been trained on data beyond', 'i generated it with chatgpt take it up with her', 'a second game try to make up bizarresounding paper titles that chatgpt attributes to people if they are too ridiculous it cannot find that paper but titles like epistemic planning and its application to food security in arnhem land gets attributed to authors i know']\n",
            "Label: ['neutral', 'neutral', 'negative', 'neutral', 'neutral']\n",
            "\n",
            "Tweet: ['days after chatgpts developer openai released its latest version gpt4 chinese tech giant baidu revealed its ai bot ernie which it says can comprehend human intentions and deliver responses approaching human level', 'i mean sometimes apologies can really just be short and straight to the point and imo thats still ok im not taking sides on anything about this rn btw idk the whole story also isnt chat gpt ai i think it being ai would give it an advantage its much smarter than humans', 'its lamentable that chatgpt cannot instruct you on how to create software that uses the openai api because it technically isnt aware of the existence of such code since it hasnt been trained on data beyond', 'i generated it with chatgpt take it up with her', 'a second game try to make up bizarresounding paper titles that chatgpt attributes to people if they are too ridiculous it cannot find that paper but titles like epistemic planning and its application to food security in arnhem land gets attributed to authors i know']\n",
            "Label: ['neutral', 'neutral', 'negative', 'neutral', 'neutral']\n",
            "\n",
            "Tweet: ['days after chatgpts developer openai released its latest version gpt4 chinese tech giant baidu revealed its ai bot ernie which it says can comprehend human intentions and deliver responses approaching human level', 'i mean sometimes apologies can really just be short and straight to the point and imo thats still ok im not taking sides on anything about this rn btw idk the whole story also isnt chat gpt ai i think it being ai would give it an advantage its much smarter than humans', 'its lamentable that chatgpt cannot instruct you on how to create software that uses the openai api because it technically isnt aware of the existence of such code since it hasnt been trained on data beyond', 'i generated it with chatgpt take it up with her', 'a second game try to make up bizarresounding paper titles that chatgpt attributes to people if they are too ridiculous it cannot find that paper but titles like epistemic planning and its application to food security in arnhem land gets attributed to authors i know']\n",
            "Label: ['neutral', 'neutral', 'negative', 'neutral', 'neutral']\n",
            "\n",
            "----------------------\n",
            "Topic 3: chatgpt free for the predict to it all week and\n",
            "Top Reviews and Labels:\n",
            "Tweet: ['with google bing amp baidu planning to integrate chatgpt or similar into their search engines to allow users to get direct answers rather than receiving a list of links what risks does this humanmachine interaction pose', 'with google bing amp baidu planning to integrate chatgpt or similar into their search engines to allow users to get direct answers rather than receiving a list of links what risks does this humanmachine interaction pose', 'with google bing amp baidu planning to integrate chatgpt or similar into their search engines to allow users to get direct answers rather than receiving a list of links what risks does this humanmachine interaction pose', 'with google bing amp baidu planning to integrate chatgpt or similar into their search engines to allow users to get direct answers rather than receiving a list of links what risks does this humanmachine interaction pose', 'with google bing amp baidu planning to integrate chatgpt or similar into their search engines to allow users to get direct answers rather than receiving a list of links what risks does this humanmachine interaction pose']\n",
            "Label: ['neutral', 'neutral', 'neutral', 'neutral', 'neutral']\n",
            "\n",
            "Tweet: ['with google bing amp baidu planning to integrate chatgpt or similar into their search engines to allow users to get direct answers rather than receiving a list of links what risks does this humanmachine interaction pose', 'with google bing amp baidu planning to integrate chatgpt or similar into their search engines to allow users to get direct answers rather than receiving a list of links what risks does this humanmachine interaction pose', 'with google bing amp baidu planning to integrate chatgpt or similar into their search engines to allow users to get direct answers rather than receiving a list of links what risks does this humanmachine interaction pose', 'with google bing amp baidu planning to integrate chatgpt or similar into their search engines to allow users to get direct answers rather than receiving a list of links what risks does this humanmachine interaction pose', 'with google bing amp baidu planning to integrate chatgpt or similar into their search engines to allow users to get direct answers rather than receiving a list of links what risks does this humanmachine interaction pose']\n",
            "Label: ['neutral', 'neutral', 'neutral', 'neutral', 'neutral']\n",
            "\n",
            "Tweet: ['with google bing amp baidu planning to integrate chatgpt or similar into their search engines to allow users to get direct answers rather than receiving a list of links what risks does this humanmachine interaction pose', 'with google bing amp baidu planning to integrate chatgpt or similar into their search engines to allow users to get direct answers rather than receiving a list of links what risks does this humanmachine interaction pose', 'with google bing amp baidu planning to integrate chatgpt or similar into their search engines to allow users to get direct answers rather than receiving a list of links what risks does this humanmachine interaction pose', 'with google bing amp baidu planning to integrate chatgpt or similar into their search engines to allow users to get direct answers rather than receiving a list of links what risks does this humanmachine interaction pose', 'with google bing amp baidu planning to integrate chatgpt or similar into their search engines to allow users to get direct answers rather than receiving a list of links what risks does this humanmachine interaction pose']\n",
            "Label: ['neutral', 'neutral', 'neutral', 'neutral', 'neutral']\n",
            "\n",
            "Tweet: ['with google bing amp baidu planning to integrate chatgpt or similar into their search engines to allow users to get direct answers rather than receiving a list of links what risks does this humanmachine interaction pose', 'with google bing amp baidu planning to integrate chatgpt or similar into their search engines to allow users to get direct answers rather than receiving a list of links what risks does this humanmachine interaction pose', 'with google bing amp baidu planning to integrate chatgpt or similar into their search engines to allow users to get direct answers rather than receiving a list of links what risks does this humanmachine interaction pose', 'with google bing amp baidu planning to integrate chatgpt or similar into their search engines to allow users to get direct answers rather than receiving a list of links what risks does this humanmachine interaction pose', 'with google bing amp baidu planning to integrate chatgpt or similar into their search engines to allow users to get direct answers rather than receiving a list of links what risks does this humanmachine interaction pose']\n",
            "Label: ['neutral', 'neutral', 'neutral', 'neutral', 'neutral']\n",
            "\n",
            "Tweet: ['with google bing amp baidu planning to integrate chatgpt or similar into their search engines to allow users to get direct answers rather than receiving a list of links what risks does this humanmachine interaction pose', 'with google bing amp baidu planning to integrate chatgpt or similar into their search engines to allow users to get direct answers rather than receiving a list of links what risks does this humanmachine interaction pose', 'with google bing amp baidu planning to integrate chatgpt or similar into their search engines to allow users to get direct answers rather than receiving a list of links what risks does this humanmachine interaction pose', 'with google bing amp baidu planning to integrate chatgpt or similar into their search engines to allow users to get direct answers rather than receiving a list of links what risks does this humanmachine interaction pose', 'with google bing amp baidu planning to integrate chatgpt or similar into their search engines to allow users to get direct answers rather than receiving a list of links what risks does this humanmachine interaction pose']\n",
            "Label: ['neutral', 'neutral', 'neutral', 'neutral', 'neutral']\n",
            "\n",
            "----------------------\n",
            "Topic 4: to the chatgpt it and of for use you write\n",
            "Top Reviews and Labels:\n",
            "Tweet: ['weve got chatgpt exploiting nuances in algorithms meanwhile if i ask siri why an led just lit up on the front of my phone she replies like shes running linux', 'if youre an educator whos been using chatgpt or other generative ai in some way for planning instruction assessment andor student learning etc please reply with what youve been trying so far id love to hear it and amp im sure that many could benefit', 'the problem will be the day someone doesnt check the chatgpt translation properly and it has something illegal in company brand damaged all companies will pull back very quickly i mean we already know it makes up fake citations', 'me vs chatgpt', 'talking point chat gpt type language modellers are the most significant development in communication tools since the invention of the internet']\n",
            "Label: ['negative', 'positive', 'negative', 'neutral', 'positive']\n",
            "\n",
            "Tweet: ['weve got chatgpt exploiting nuances in algorithms meanwhile if i ask siri why an led just lit up on the front of my phone she replies like shes running linux', 'if youre an educator whos been using chatgpt or other generative ai in some way for planning instruction assessment andor student learning etc please reply with what youve been trying so far id love to hear it and amp im sure that many could benefit', 'the problem will be the day someone doesnt check the chatgpt translation properly and it has something illegal in company brand damaged all companies will pull back very quickly i mean we already know it makes up fake citations', 'me vs chatgpt', 'talking point chat gpt type language modellers are the most significant development in communication tools since the invention of the internet']\n",
            "Label: ['negative', 'positive', 'negative', 'neutral', 'positive']\n",
            "\n",
            "Tweet: ['weve got chatgpt exploiting nuances in algorithms meanwhile if i ask siri why an led just lit up on the front of my phone she replies like shes running linux', 'if youre an educator whos been using chatgpt or other generative ai in some way for planning instruction assessment andor student learning etc please reply with what youve been trying so far id love to hear it and amp im sure that many could benefit', 'the problem will be the day someone doesnt check the chatgpt translation properly and it has something illegal in company brand damaged all companies will pull back very quickly i mean we already know it makes up fake citations', 'me vs chatgpt', 'talking point chat gpt type language modellers are the most significant development in communication tools since the invention of the internet']\n",
            "Label: ['negative', 'positive', 'negative', 'neutral', 'positive']\n",
            "\n",
            "Tweet: ['weve got chatgpt exploiting nuances in algorithms meanwhile if i ask siri why an led just lit up on the front of my phone she replies like shes running linux', 'if youre an educator whos been using chatgpt or other generative ai in some way for planning instruction assessment andor student learning etc please reply with what youve been trying so far id love to hear it and amp im sure that many could benefit', 'the problem will be the day someone doesnt check the chatgpt translation properly and it has something illegal in company brand damaged all companies will pull back very quickly i mean we already know it makes up fake citations', 'me vs chatgpt', 'talking point chat gpt type language modellers are the most significant development in communication tools since the invention of the internet']\n",
            "Label: ['negative', 'positive', 'negative', 'neutral', 'positive']\n",
            "\n",
            "Tweet: ['weve got chatgpt exploiting nuances in algorithms meanwhile if i ask siri why an led just lit up on the front of my phone she replies like shes running linux', 'if youre an educator whos been using chatgpt or other generative ai in some way for planning instruction assessment andor student learning etc please reply with what youve been trying so far id love to hear it and amp im sure that many could benefit', 'the problem will be the day someone doesnt check the chatgpt translation properly and it has something illegal in company brand damaged all companies will pull back very quickly i mean we already know it makes up fake citations', 'me vs chatgpt', 'talking point chat gpt type language modellers are the most significant development in communication tools since the invention of the internet']\n",
            "Label: ['negative', 'positive', 'negative', 'neutral', 'positive']\n",
            "\n",
            "----------------------\n",
            "Topic 5: gpt4 arb chatgpt and is the to episod park gpt\n",
            "Top Reviews and Labels:\n",
            "Tweet: ['teri job chali jayegi sath me ai interview me aise questions poochhegi ki modi ai ko bhi deshdrohi bol denge ai ban search about current politics on chatgpt it will give real answer as how hindu extremist are doing violence in the name of religion', 'just because we are in an economic downturn and layoffs are happening across the board and a generative ai called chatgpt happened to be released in same timeframe doesnt now factually show that ai is the reason for the layoffs correlation is not the same as causation', 'utilizing chatgpt for content marketing a guide for businesses', 'same with ai google is inefficient chatgpt solves for it', 'has only been out a week and its already changing lives ape and use gpt4 to fuck yourself fil eth usdt gpt rinia matic ssv rdnt evmos blur aipad shi floki']\n",
            "Label: ['neutral', 'negative', 'neutral', 'negative', 'negative']\n",
            "\n",
            "Tweet: ['teri job chali jayegi sath me ai interview me aise questions poochhegi ki modi ai ko bhi deshdrohi bol denge ai ban search about current politics on chatgpt it will give real answer as how hindu extremist are doing violence in the name of religion', 'just because we are in an economic downturn and layoffs are happening across the board and a generative ai called chatgpt happened to be released in same timeframe doesnt now factually show that ai is the reason for the layoffs correlation is not the same as causation', 'utilizing chatgpt for content marketing a guide for businesses', 'same with ai google is inefficient chatgpt solves for it', 'has only been out a week and its already changing lives ape and use gpt4 to fuck yourself fil eth usdt gpt rinia matic ssv rdnt evmos blur aipad shi floki']\n",
            "Label: ['neutral', 'negative', 'neutral', 'negative', 'negative']\n",
            "\n",
            "Tweet: ['teri job chali jayegi sath me ai interview me aise questions poochhegi ki modi ai ko bhi deshdrohi bol denge ai ban search about current politics on chatgpt it will give real answer as how hindu extremist are doing violence in the name of religion', 'just because we are in an economic downturn and layoffs are happening across the board and a generative ai called chatgpt happened to be released in same timeframe doesnt now factually show that ai is the reason for the layoffs correlation is not the same as causation', 'utilizing chatgpt for content marketing a guide for businesses', 'same with ai google is inefficient chatgpt solves for it', 'has only been out a week and its already changing lives ape and use gpt4 to fuck yourself fil eth usdt gpt rinia matic ssv rdnt evmos blur aipad shi floki']\n",
            "Label: ['neutral', 'negative', 'neutral', 'negative', 'negative']\n",
            "\n",
            "Tweet: ['teri job chali jayegi sath me ai interview me aise questions poochhegi ki modi ai ko bhi deshdrohi bol denge ai ban search about current politics on chatgpt it will give real answer as how hindu extremist are doing violence in the name of religion', 'just because we are in an economic downturn and layoffs are happening across the board and a generative ai called chatgpt happened to be released in same timeframe doesnt now factually show that ai is the reason for the layoffs correlation is not the same as causation', 'utilizing chatgpt for content marketing a guide for businesses', 'same with ai google is inefficient chatgpt solves for it', 'has only been out a week and its already changing lives ape and use gpt4 to fuck yourself fil eth usdt gpt rinia matic ssv rdnt evmos blur aipad shi floki']\n",
            "Label: ['neutral', 'negative', 'neutral', 'negative', 'negative']\n",
            "\n",
            "Tweet: ['teri job chali jayegi sath me ai interview me aise questions poochhegi ki modi ai ko bhi deshdrohi bol denge ai ban search about current politics on chatgpt it will give real answer as how hindu extremist are doing violence in the name of religion', 'just because we are in an economic downturn and layoffs are happening across the board and a generative ai called chatgpt happened to be released in same timeframe doesnt now factually show that ai is the reason for the layoffs correlation is not the same as causation', 'utilizing chatgpt for content marketing a guide for businesses', 'same with ai google is inefficient chatgpt solves for it', 'has only been out a week and its already changing lives ape and use gpt4 to fuck yourself fil eth usdt gpt rinia matic ssv rdnt evmos blur aipad shi floki']\n",
            "Label: ['neutral', 'negative', 'neutral', 'negative', 'negative']\n",
            "\n",
            "----------------------\n",
            "Topic 6: chatgpt down is to googl it bard the plu for\n",
            "Top Reviews and Labels:\n",
            "Tweet: ['im a plus subscriber we get access even during peak times meaning that while free users may see the standard chatgpt is at capacity right now message we always get access this is different its a bug which they seem to have been struggling with since launch', 'thanks so i imagine for training then you are using api calls to chatgpt and the cost is based on the additional tokens you need to buy beyond a 20month level or is there some other thing like google cloud costs needed looking forward to seeing this project great work', 'somehow msft is the only thing up again today chatgpt really gunna change the world huh', 'hey bullshit issues with losing conversation history on chatgpt its frustrating not to have continuity in our chats could you please look into this and let us know why this is happening especially considering were paying for the service from gpt4', 'im having so much fun with ai i signed up to the google bard waiting list a few hours ago amp i have already been given access the first thing i wanted to ask it was why is bard better than chatgpt and this is what it replied with']\n",
            "Label: ['neutral', 'positive', 'positive', 'negative', 'positive']\n",
            "\n",
            "Tweet: ['im a plus subscriber we get access even during peak times meaning that while free users may see the standard chatgpt is at capacity right now message we always get access this is different its a bug which they seem to have been struggling with since launch', 'thanks so i imagine for training then you are using api calls to chatgpt and the cost is based on the additional tokens you need to buy beyond a 20month level or is there some other thing like google cloud costs needed looking forward to seeing this project great work', 'somehow msft is the only thing up again today chatgpt really gunna change the world huh', 'hey bullshit issues with losing conversation history on chatgpt its frustrating not to have continuity in our chats could you please look into this and let us know why this is happening especially considering were paying for the service from gpt4', 'im having so much fun with ai i signed up to the google bard waiting list a few hours ago amp i have already been given access the first thing i wanted to ask it was why is bard better than chatgpt and this is what it replied with']\n",
            "Label: ['neutral', 'positive', 'positive', 'negative', 'positive']\n",
            "\n",
            "Tweet: ['im a plus subscriber we get access even during peak times meaning that while free users may see the standard chatgpt is at capacity right now message we always get access this is different its a bug which they seem to have been struggling with since launch', 'thanks so i imagine for training then you are using api calls to chatgpt and the cost is based on the additional tokens you need to buy beyond a 20month level or is there some other thing like google cloud costs needed looking forward to seeing this project great work', 'somehow msft is the only thing up again today chatgpt really gunna change the world huh', 'hey bullshit issues with losing conversation history on chatgpt its frustrating not to have continuity in our chats could you please look into this and let us know why this is happening especially considering were paying for the service from gpt4', 'im having so much fun with ai i signed up to the google bard waiting list a few hours ago amp i have already been given access the first thing i wanted to ask it was why is bard better than chatgpt and this is what it replied with']\n",
            "Label: ['neutral', 'positive', 'positive', 'negative', 'positive']\n",
            "\n",
            "Tweet: ['im a plus subscriber we get access even during peak times meaning that while free users may see the standard chatgpt is at capacity right now message we always get access this is different its a bug which they seem to have been struggling with since launch', 'thanks so i imagine for training then you are using api calls to chatgpt and the cost is based on the additional tokens you need to buy beyond a 20month level or is there some other thing like google cloud costs needed looking forward to seeing this project great work', 'somehow msft is the only thing up again today chatgpt really gunna change the world huh', 'hey bullshit issues with losing conversation history on chatgpt its frustrating not to have continuity in our chats could you please look into this and let us know why this is happening especially considering were paying for the service from gpt4', 'im having so much fun with ai i signed up to the google bard waiting list a few hours ago amp i have already been given access the first thing i wanted to ask it was why is bard better than chatgpt and this is what it replied with']\n",
            "Label: ['neutral', 'positive', 'positive', 'negative', 'positive']\n",
            "\n",
            "Tweet: ['im a plus subscriber we get access even during peak times meaning that while free users may see the standard chatgpt is at capacity right now message we always get access this is different its a bug which they seem to have been struggling with since launch', 'thanks so i imagine for training then you are using api calls to chatgpt and the cost is based on the additional tokens you need to buy beyond a 20month level or is there some other thing like google cloud costs needed looking forward to seeing this project great work', 'somehow msft is the only thing up again today chatgpt really gunna change the world huh', 'hey bullshit issues with losing conversation history on chatgpt its frustrating not to have continuity in our chats could you please look into this and let us know why this is happening especially considering were paying for the service from gpt4', 'im having so much fun with ai i signed up to the google bard waiting list a few hours ago amp i have already been given access the first thing i wanted to ask it was why is bard better than chatgpt and this is what it replied with']\n",
            "Label: ['neutral', 'positive', 'positive', 'negative', 'positive']\n",
            "\n",
            "----------------------\n",
            "Topic 7: chatgpt congrat prompt appl is watch gpt4 on the magic\n",
            "Top Reviews and Labels:\n",
            "Tweet: ['satnam narang senior staff research engineer from tenables security response team details a new crypto scam in which criminals are spoofing the openai website and promising access to gpt4 and chatgpt through the promotion of a fake openai token', 'satnam narang senior staff research engineer from tenables security response team details a new crypto scam in which criminals are spoofing the openai website and promising access to gpt4 and chatgpt through the promotion of a fake openai token', 'satnam narang senior staff research engineer from tenables security response team details a new crypto scam in which criminals are spoofing the openai website and promising access to gpt4 and chatgpt through the promotion of a fake openai token', 'not me asking chatgpt is to try and explain it to me', 'satnam narang senior staff research engineer from tenables security response team details a new crypto scam in which criminals are spoofing the openai website and promising access to gpt4 and chatgpt through the promotion of a fake openai token']\n",
            "Label: ['negative', 'negative', 'negative', 'neutral', 'negative']\n",
            "\n",
            "Tweet: ['satnam narang senior staff research engineer from tenables security response team details a new crypto scam in which criminals are spoofing the openai website and promising access to gpt4 and chatgpt through the promotion of a fake openai token', 'satnam narang senior staff research engineer from tenables security response team details a new crypto scam in which criminals are spoofing the openai website and promising access to gpt4 and chatgpt through the promotion of a fake openai token', 'satnam narang senior staff research engineer from tenables security response team details a new crypto scam in which criminals are spoofing the openai website and promising access to gpt4 and chatgpt through the promotion of a fake openai token', 'not me asking chatgpt is to try and explain it to me', 'satnam narang senior staff research engineer from tenables security response team details a new crypto scam in which criminals are spoofing the openai website and promising access to gpt4 and chatgpt through the promotion of a fake openai token']\n",
            "Label: ['negative', 'negative', 'negative', 'neutral', 'negative']\n",
            "\n",
            "Tweet: ['satnam narang senior staff research engineer from tenables security response team details a new crypto scam in which criminals are spoofing the openai website and promising access to gpt4 and chatgpt through the promotion of a fake openai token', 'satnam narang senior staff research engineer from tenables security response team details a new crypto scam in which criminals are spoofing the openai website and promising access to gpt4 and chatgpt through the promotion of a fake openai token', 'satnam narang senior staff research engineer from tenables security response team details a new crypto scam in which criminals are spoofing the openai website and promising access to gpt4 and chatgpt through the promotion of a fake openai token', 'not me asking chatgpt is to try and explain it to me', 'satnam narang senior staff research engineer from tenables security response team details a new crypto scam in which criminals are spoofing the openai website and promising access to gpt4 and chatgpt through the promotion of a fake openai token']\n",
            "Label: ['negative', 'negative', 'negative', 'neutral', 'negative']\n",
            "\n",
            "Tweet: ['satnam narang senior staff research engineer from tenables security response team details a new crypto scam in which criminals are spoofing the openai website and promising access to gpt4 and chatgpt through the promotion of a fake openai token', 'satnam narang senior staff research engineer from tenables security response team details a new crypto scam in which criminals are spoofing the openai website and promising access to gpt4 and chatgpt through the promotion of a fake openai token', 'satnam narang senior staff research engineer from tenables security response team details a new crypto scam in which criminals are spoofing the openai website and promising access to gpt4 and chatgpt through the promotion of a fake openai token', 'not me asking chatgpt is to try and explain it to me', 'satnam narang senior staff research engineer from tenables security response team details a new crypto scam in which criminals are spoofing the openai website and promising access to gpt4 and chatgpt through the promotion of a fake openai token']\n",
            "Label: ['negative', 'negative', 'negative', 'neutral', 'negative']\n",
            "\n",
            "Tweet: ['satnam narang senior staff research engineer from tenables security response team details a new crypto scam in which criminals are spoofing the openai website and promising access to gpt4 and chatgpt through the promotion of a fake openai token', 'satnam narang senior staff research engineer from tenables security response team details a new crypto scam in which criminals are spoofing the openai website and promising access to gpt4 and chatgpt through the promotion of a fake openai token', 'satnam narang senior staff research engineer from tenables security response team details a new crypto scam in which criminals are spoofing the openai website and promising access to gpt4 and chatgpt through the promotion of a fake openai token', 'not me asking chatgpt is to try and explain it to me', 'satnam narang senior staff research engineer from tenables security response team details a new crypto scam in which criminals are spoofing the openai website and promising access to gpt4 and chatgpt through the promotion of a fake openai token']\n",
            "Label: ['negative', 'negative', 'negative', 'neutral', 'negative']\n",
            "\n",
            "----------------------\n",
            "Topic 8: the and to of ai chatgpt in for with your\n",
            "Top Reviews and Labels:\n",
            "Tweet: ['machines are the only way we can increase the productive capacity of individuals amp society as a whole to start getting out of mess were in with debt etc like any tool it will come with pros amp cons etc but ive been using chatgpt for the past month or so amp its teaching me how', 'and with bruce porter jr and seal ellul at summit', 'agree but chatgpt or gpt in general is applicable to a vast range of tasks as a qampa tool or instead of google search for sure great caution for text transformation including mt the same as with any nlp run tests determine risk and proceed knowing what to expect', 'that was my first omg', 'cant imagine why ppl hate the media so much gonna be amazing when you all get replaced with chat gpt']\n",
            "Label: ['positive', 'neutral', 'neutral', 'positive', 'negative']\n",
            "\n",
            "Tweet: ['machines are the only way we can increase the productive capacity of individuals amp society as a whole to start getting out of mess were in with debt etc like any tool it will come with pros amp cons etc but ive been using chatgpt for the past month or so amp its teaching me how', 'and with bruce porter jr and seal ellul at summit', 'agree but chatgpt or gpt in general is applicable to a vast range of tasks as a qampa tool or instead of google search for sure great caution for text transformation including mt the same as with any nlp run tests determine risk and proceed knowing what to expect', 'that was my first omg', 'cant imagine why ppl hate the media so much gonna be amazing when you all get replaced with chat gpt']\n",
            "Label: ['positive', 'neutral', 'neutral', 'positive', 'negative']\n",
            "\n",
            "Tweet: ['machines are the only way we can increase the productive capacity of individuals amp society as a whole to start getting out of mess were in with debt etc like any tool it will come with pros amp cons etc but ive been using chatgpt for the past month or so amp its teaching me how', 'and with bruce porter jr and seal ellul at summit', 'agree but chatgpt or gpt in general is applicable to a vast range of tasks as a qampa tool or instead of google search for sure great caution for text transformation including mt the same as with any nlp run tests determine risk and proceed knowing what to expect', 'that was my first omg', 'cant imagine why ppl hate the media so much gonna be amazing when you all get replaced with chat gpt']\n",
            "Label: ['positive', 'neutral', 'neutral', 'positive', 'negative']\n",
            "\n",
            "Tweet: ['machines are the only way we can increase the productive capacity of individuals amp society as a whole to start getting out of mess were in with debt etc like any tool it will come with pros amp cons etc but ive been using chatgpt for the past month or so amp its teaching me how', 'and with bruce porter jr and seal ellul at summit', 'agree but chatgpt or gpt in general is applicable to a vast range of tasks as a qampa tool or instead of google search for sure great caution for text transformation including mt the same as with any nlp run tests determine risk and proceed knowing what to expect', 'that was my first omg', 'cant imagine why ppl hate the media so much gonna be amazing when you all get replaced with chat gpt']\n",
            "Label: ['positive', 'neutral', 'neutral', 'positive', 'negative']\n",
            "\n",
            "Tweet: ['machines are the only way we can increase the productive capacity of individuals amp society as a whole to start getting out of mess were in with debt etc like any tool it will come with pros amp cons etc but ive been using chatgpt for the past month or so amp its teaching me how', 'and with bruce porter jr and seal ellul at summit', 'agree but chatgpt or gpt in general is applicable to a vast range of tasks as a qampa tool or instead of google search for sure great caution for text transformation including mt the same as with any nlp run tests determine risk and proceed knowing what to expect', 'that was my first omg', 'cant imagine why ppl hate the media so much gonna be amazing when you all get replaced with chat gpt']\n",
            "Label: ['positive', 'neutral', 'neutral', 'positive', 'negative']\n",
            "\n",
            "----------------------\n",
            "Topic 9: chatgpt the to ban my for gm in copi escap\n",
            "Top Reviews and Labels:\n",
            "Tweet: ['i dreamt that someone finally arrested reno omokiri please god make it happen the guy makes money off lies just like when told people that they can beat poverty with crypto and chat gpt tufiakwa they caught ekpa why cant they catch reno for us', 'first impression far less detailedcreative as for prompt write instructions for making croissants written by a cat chatgpt wrote detailed 495word narrative full of puns bard had a curt list of steps that didnt even include how to make dough', 'want to install chatgpt on your local computer llama and alpaca models are so lightweight that you can install them on any computer within minutes and perform similarly to openais models youtube tutorial premiering at 1030am pst', 'this thread is saved to your notion database tags chatgpt escrita', 'stock took a big hit from the previous aths straight down then chatgpt came along jen hsun who is a big nvda pumper used chatgpt to rocket nvda once the chatgpt mania ends nvda will get cut in half jen hsun will pump more at the conference powell is on deck too']\n",
            "Label: ['negative', 'negative', 'positive', 'neutral', 'neutral']\n",
            "\n",
            "Tweet: ['i dreamt that someone finally arrested reno omokiri please god make it happen the guy makes money off lies just like when told people that they can beat poverty with crypto and chat gpt tufiakwa they caught ekpa why cant they catch reno for us', 'first impression far less detailedcreative as for prompt write instructions for making croissants written by a cat chatgpt wrote detailed 495word narrative full of puns bard had a curt list of steps that didnt even include how to make dough', 'want to install chatgpt on your local computer llama and alpaca models are so lightweight that you can install them on any computer within minutes and perform similarly to openais models youtube tutorial premiering at 1030am pst', 'this thread is saved to your notion database tags chatgpt escrita', 'stock took a big hit from the previous aths straight down then chatgpt came along jen hsun who is a big nvda pumper used chatgpt to rocket nvda once the chatgpt mania ends nvda will get cut in half jen hsun will pump more at the conference powell is on deck too']\n",
            "Label: ['negative', 'negative', 'positive', 'neutral', 'neutral']\n",
            "\n",
            "Tweet: ['i dreamt that someone finally arrested reno omokiri please god make it happen the guy makes money off lies just like when told people that they can beat poverty with crypto and chat gpt tufiakwa they caught ekpa why cant they catch reno for us', 'first impression far less detailedcreative as for prompt write instructions for making croissants written by a cat chatgpt wrote detailed 495word narrative full of puns bard had a curt list of steps that didnt even include how to make dough', 'want to install chatgpt on your local computer llama and alpaca models are so lightweight that you can install them on any computer within minutes and perform similarly to openais models youtube tutorial premiering at 1030am pst', 'this thread is saved to your notion database tags chatgpt escrita', 'stock took a big hit from the previous aths straight down then chatgpt came along jen hsun who is a big nvda pumper used chatgpt to rocket nvda once the chatgpt mania ends nvda will get cut in half jen hsun will pump more at the conference powell is on deck too']\n",
            "Label: ['negative', 'negative', 'positive', 'neutral', 'neutral']\n",
            "\n",
            "Tweet: ['i dreamt that someone finally arrested reno omokiri please god make it happen the guy makes money off lies just like when told people that they can beat poverty with crypto and chat gpt tufiakwa they caught ekpa why cant they catch reno for us', 'first impression far less detailedcreative as for prompt write instructions for making croissants written by a cat chatgpt wrote detailed 495word narrative full of puns bard had a curt list of steps that didnt even include how to make dough', 'want to install chatgpt on your local computer llama and alpaca models are so lightweight that you can install them on any computer within minutes and perform similarly to openais models youtube tutorial premiering at 1030am pst', 'this thread is saved to your notion database tags chatgpt escrita', 'stock took a big hit from the previous aths straight down then chatgpt came along jen hsun who is a big nvda pumper used chatgpt to rocket nvda once the chatgpt mania ends nvda will get cut in half jen hsun will pump more at the conference powell is on deck too']\n",
            "Label: ['negative', 'negative', 'positive', 'neutral', 'neutral']\n",
            "\n",
            "Tweet: ['i dreamt that someone finally arrested reno omokiri please god make it happen the guy makes money off lies just like when told people that they can beat poverty with crypto and chat gpt tufiakwa they caught ekpa why cant they catch reno for us', 'first impression far less detailedcreative as for prompt write instructions for making croissants written by a cat chatgpt wrote detailed 495word narrative full of puns bard had a curt list of steps that didnt even include how to make dough', 'want to install chatgpt on your local computer llama and alpaca models are so lightweight that you can install them on any computer within minutes and perform similarly to openais models youtube tutorial premiering at 1030am pst', 'this thread is saved to your notion database tags chatgpt escrita', 'stock took a big hit from the previous aths straight down then chatgpt came along jen hsun who is a big nvda pumper used chatgpt to rocket nvda once the chatgpt mania ends nvda will get cut in half jen hsun will pump more at the conference powell is on deck too']\n",
            "Label: ['negative', 'negative', 'positive', 'neutral', 'neutral']\n",
            "\n",
            "----------------------\n",
            "Topic 10: chatgpt outag via lab for sale colleg report major pm\n",
            "Top Reviews and Labels:\n",
            "Tweet: ['chatgpts 200 lowcontent book ideas designing marketing tactics and proven strategies to sell fast new jeans the rose rina lars adidas marney davido rema aries cam newton jello gary oldman slamball', 'chatgpt secret weapon steps to start writing and selling books within hours new jeans the rose rina lars adidas marney davido rema aries cam newton jello gary oldman slamball', 'chatgpt millionaires ideas 230 ways to use chatgpt and other hidden secret information new jeans the rose rina lars adidas marney davido rema aries cam newton jello gary oldman slamball', 'the future of writing and selling books a guide to chatgpt3 ai technology new jeans the rose rina lars adidas marney davido rema aries cam newton jello gary oldman slamball', 'chatgpts 200 lowcontent book ideas designing marketing tactics and proven strategies to sell fast we love you hadeer piers morgan chaeyoung cam newton the villages father of the bride']\n",
            "Label: ['neutral', 'neutral', 'neutral', 'neutral', 'positive']\n",
            "\n",
            "Tweet: ['chatgpts 200 lowcontent book ideas designing marketing tactics and proven strategies to sell fast new jeans the rose rina lars adidas marney davido rema aries cam newton jello gary oldman slamball', 'chatgpt secret weapon steps to start writing and selling books within hours new jeans the rose rina lars adidas marney davido rema aries cam newton jello gary oldman slamball', 'chatgpt millionaires ideas 230 ways to use chatgpt and other hidden secret information new jeans the rose rina lars adidas marney davido rema aries cam newton jello gary oldman slamball', 'the future of writing and selling books a guide to chatgpt3 ai technology new jeans the rose rina lars adidas marney davido rema aries cam newton jello gary oldman slamball', 'chatgpts 200 lowcontent book ideas designing marketing tactics and proven strategies to sell fast we love you hadeer piers morgan chaeyoung cam newton the villages father of the bride']\n",
            "Label: ['neutral', 'neutral', 'neutral', 'neutral', 'positive']\n",
            "\n",
            "Tweet: ['chatgpts 200 lowcontent book ideas designing marketing tactics and proven strategies to sell fast new jeans the rose rina lars adidas marney davido rema aries cam newton jello gary oldman slamball', 'chatgpt secret weapon steps to start writing and selling books within hours new jeans the rose rina lars adidas marney davido rema aries cam newton jello gary oldman slamball', 'chatgpt millionaires ideas 230 ways to use chatgpt and other hidden secret information new jeans the rose rina lars adidas marney davido rema aries cam newton jello gary oldman slamball', 'the future of writing and selling books a guide to chatgpt3 ai technology new jeans the rose rina lars adidas marney davido rema aries cam newton jello gary oldman slamball', 'chatgpts 200 lowcontent book ideas designing marketing tactics and proven strategies to sell fast we love you hadeer piers morgan chaeyoung cam newton the villages father of the bride']\n",
            "Label: ['neutral', 'neutral', 'neutral', 'neutral', 'positive']\n",
            "\n",
            "Tweet: ['chatgpts 200 lowcontent book ideas designing marketing tactics and proven strategies to sell fast new jeans the rose rina lars adidas marney davido rema aries cam newton jello gary oldman slamball', 'chatgpt secret weapon steps to start writing and selling books within hours new jeans the rose rina lars adidas marney davido rema aries cam newton jello gary oldman slamball', 'chatgpt millionaires ideas 230 ways to use chatgpt and other hidden secret information new jeans the rose rina lars adidas marney davido rema aries cam newton jello gary oldman slamball', 'the future of writing and selling books a guide to chatgpt3 ai technology new jeans the rose rina lars adidas marney davido rema aries cam newton jello gary oldman slamball', 'chatgpts 200 lowcontent book ideas designing marketing tactics and proven strategies to sell fast we love you hadeer piers morgan chaeyoung cam newton the villages father of the bride']\n",
            "Label: ['neutral', 'neutral', 'neutral', 'neutral', 'positive']\n",
            "\n",
            "Tweet: ['chatgpts 200 lowcontent book ideas designing marketing tactics and proven strategies to sell fast new jeans the rose rina lars adidas marney davido rema aries cam newton jello gary oldman slamball', 'chatgpt secret weapon steps to start writing and selling books within hours new jeans the rose rina lars adidas marney davido rema aries cam newton jello gary oldman slamball', 'chatgpt millionaires ideas 230 ways to use chatgpt and other hidden secret information new jeans the rose rina lars adidas marney davido rema aries cam newton jello gary oldman slamball', 'the future of writing and selling books a guide to chatgpt3 ai technology new jeans the rose rina lars adidas marney davido rema aries cam newton jello gary oldman slamball', 'chatgpts 200 lowcontent book ideas designing marketing tactics and proven strategies to sell fast we love you hadeer piers morgan chaeyoung cam newton the villages father of the bride']\n",
            "Label: ['neutral', 'neutral', 'neutral', 'neutral', 'positive']\n",
            "\n",
            "----------------------\n",
            "Topic 11: chatgpt the is to game my lol use it me\n",
            "Top Reviews and Labels:\n",
            "Tweet: ['okay so rather than using chatgpt in another tab you can do it directly in linkedin', 'chat gpt for the win', 'has become an unusual success story so why is it so successful was it hard work what is pr what is all luck turns out we have a lot to learn from chatgpt here are five lessons ive learned about this fastmoving trend thread', 'i failed this even before looking at chatgpts answer', 'practicing with chatgpt and this classic question confused chatgpt as well']\n",
            "Label: ['neutral', 'positive', 'positive', 'negative', 'neutral']\n",
            "\n",
            "Tweet: ['okay so rather than using chatgpt in another tab you can do it directly in linkedin', 'chat gpt for the win', 'has become an unusual success story so why is it so successful was it hard work what is pr what is all luck turns out we have a lot to learn from chatgpt here are five lessons ive learned about this fastmoving trend thread', 'i failed this even before looking at chatgpts answer', 'practicing with chatgpt and this classic question confused chatgpt as well']\n",
            "Label: ['neutral', 'positive', 'positive', 'negative', 'neutral']\n",
            "\n",
            "Tweet: ['okay so rather than using chatgpt in another tab you can do it directly in linkedin', 'chat gpt for the win', 'has become an unusual success story so why is it so successful was it hard work what is pr what is all luck turns out we have a lot to learn from chatgpt here are five lessons ive learned about this fastmoving trend thread', 'i failed this even before looking at chatgpts answer', 'practicing with chatgpt and this classic question confused chatgpt as well']\n",
            "Label: ['neutral', 'positive', 'positive', 'negative', 'neutral']\n",
            "\n",
            "Tweet: ['okay so rather than using chatgpt in another tab you can do it directly in linkedin', 'chat gpt for the win', 'has become an unusual success story so why is it so successful was it hard work what is pr what is all luck turns out we have a lot to learn from chatgpt here are five lessons ive learned about this fastmoving trend thread', 'i failed this even before looking at chatgpts answer', 'practicing with chatgpt and this classic question confused chatgpt as well']\n",
            "Label: ['neutral', 'positive', 'positive', 'negative', 'neutral']\n",
            "\n",
            "Tweet: ['okay so rather than using chatgpt in another tab you can do it directly in linkedin', 'chat gpt for the win', 'has become an unusual success story so why is it so successful was it hard work what is pr what is all luck turns out we have a lot to learn from chatgpt here are five lessons ive learned about this fastmoving trend thread', 'i failed this even before looking at chatgpts answer', 'practicing with chatgpt and this classic question confused chatgpt as well']\n",
            "Label: ['neutral', 'positive', 'positive', 'negative', 'neutral']\n",
            "\n",
            "----------------------\n",
            "Topic 12: chatgpt the na to exam is of gon emo_po secur\n",
            "Top Reviews and Labels:\n",
            "Tweet: ['new cyber platform lab decodes dark web data to uncover hidden supply chain breaches this article has not been generated by chatgpt was the year when inflation hit world economies except in one corner of the global marketplace stolen data ra', 'new cyber platform lab decodes dark web data to uncover hidden supply chain breaches this article has not been generated by chatgpt was the year when inflation hit world economies except in one corner of the global marketplace stolen data ra', 'new cyber platform lab decodes dark web data to uncover hidden supply chain breaches this article has not been generated by chatgpt was the year when inflation hit world economies except in one corner of the global marketplace stolen data', 'heres what happened when i asked chatgpt to explain the transactions in securities tax legislation i broke it so will ai really take over our jobs i was chatting to someone recently whose son is choosing one career over another on the basis th', 'so its been said we havent even figured how to use chatgpt benedict evans points out when we had electronic computers that could do math the obvious solution was electronic calculators but the innovative solution was spreadsheet apps like excel']\n",
            "Label: ['negative', 'neutral', 'negative', 'negative', 'neutral']\n",
            "\n",
            "Tweet: ['new cyber platform lab decodes dark web data to uncover hidden supply chain breaches this article has not been generated by chatgpt was the year when inflation hit world economies except in one corner of the global marketplace stolen data ra', 'new cyber platform lab decodes dark web data to uncover hidden supply chain breaches this article has not been generated by chatgpt was the year when inflation hit world economies except in one corner of the global marketplace stolen data ra', 'new cyber platform lab decodes dark web data to uncover hidden supply chain breaches this article has not been generated by chatgpt was the year when inflation hit world economies except in one corner of the global marketplace stolen data', 'heres what happened when i asked chatgpt to explain the transactions in securities tax legislation i broke it so will ai really take over our jobs i was chatting to someone recently whose son is choosing one career over another on the basis th', 'so its been said we havent even figured how to use chatgpt benedict evans points out when we had electronic computers that could do math the obvious solution was electronic calculators but the innovative solution was spreadsheet apps like excel']\n",
            "Label: ['negative', 'neutral', 'negative', 'negative', 'neutral']\n",
            "\n",
            "Tweet: ['new cyber platform lab decodes dark web data to uncover hidden supply chain breaches this article has not been generated by chatgpt was the year when inflation hit world economies except in one corner of the global marketplace stolen data ra', 'new cyber platform lab decodes dark web data to uncover hidden supply chain breaches this article has not been generated by chatgpt was the year when inflation hit world economies except in one corner of the global marketplace stolen data ra', 'new cyber platform lab decodes dark web data to uncover hidden supply chain breaches this article has not been generated by chatgpt was the year when inflation hit world economies except in one corner of the global marketplace stolen data', 'heres what happened when i asked chatgpt to explain the transactions in securities tax legislation i broke it so will ai really take over our jobs i was chatting to someone recently whose son is choosing one career over another on the basis th', 'so its been said we havent even figured how to use chatgpt benedict evans points out when we had electronic computers that could do math the obvious solution was electronic calculators but the innovative solution was spreadsheet apps like excel']\n",
            "Label: ['negative', 'neutral', 'negative', 'negative', 'neutral']\n",
            "\n",
            "Tweet: ['new cyber platform lab decodes dark web data to uncover hidden supply chain breaches this article has not been generated by chatgpt was the year when inflation hit world economies except in one corner of the global marketplace stolen data ra', 'new cyber platform lab decodes dark web data to uncover hidden supply chain breaches this article has not been generated by chatgpt was the year when inflation hit world economies except in one corner of the global marketplace stolen data ra', 'new cyber platform lab decodes dark web data to uncover hidden supply chain breaches this article has not been generated by chatgpt was the year when inflation hit world economies except in one corner of the global marketplace stolen data', 'heres what happened when i asked chatgpt to explain the transactions in securities tax legislation i broke it so will ai really take over our jobs i was chatting to someone recently whose son is choosing one career over another on the basis th', 'so its been said we havent even figured how to use chatgpt benedict evans points out when we had electronic computers that could do math the obvious solution was electronic calculators but the innovative solution was spreadsheet apps like excel']\n",
            "Label: ['negative', 'neutral', 'negative', 'negative', 'neutral']\n",
            "\n",
            "Tweet: ['new cyber platform lab decodes dark web data to uncover hidden supply chain breaches this article has not been generated by chatgpt was the year when inflation hit world economies except in one corner of the global marketplace stolen data ra', 'new cyber platform lab decodes dark web data to uncover hidden supply chain breaches this article has not been generated by chatgpt was the year when inflation hit world economies except in one corner of the global marketplace stolen data ra', 'new cyber platform lab decodes dark web data to uncover hidden supply chain breaches this article has not been generated by chatgpt was the year when inflation hit world economies except in one corner of the global marketplace stolen data', 'heres what happened when i asked chatgpt to explain the transactions in securities tax legislation i broke it so will ai really take over our jobs i was chatting to someone recently whose son is choosing one career over another on the basis th', 'so its been said we havent even figured how to use chatgpt benedict evans points out when we had electronic computers that could do math the obvious solution was electronic calculators but the innovative solution was spreadsheet apps like excel']\n",
            "Label: ['negative', 'neutral', 'negative', 'negative', 'neutral']\n",
            "\n",
            "----------------------\n",
            "Topic 13: ask chatgpt to the is and it for you in\n",
            "Top Reviews and Labels:\n",
            "Tweet: ['yeah chatgpt must not be used blindly my process is 1 chatgpt 2 google 3 chatgpt explanation like i am 5 and finally can understand the topics with ease', 'just had an idea for a social media experiment lets see if we can make this tweet go viral by getting as many comments as possible comment anything you want and well reply back lets see how far we can take this', 'qna captain nemos exotic submarine on the pod gw29 transfer suggestions selling arsenal conte kane rico henry mitrovics red that newcastle disallowed goal mif chatgpt prague standing in the middle clothesline amp more', 'i understand why sceptical people dismiss openai chatgpt midjourney etc as just another flash in the pan that will be popular for a minute and then fizzle down into a small group of diehards who adopt it', 'account chatgpt plus free']\n",
            "Label: ['positive', 'positive', 'neutral', 'negative', 'neutral']\n",
            "\n",
            "Tweet: ['yeah chatgpt must not be used blindly my process is 1 chatgpt 2 google 3 chatgpt explanation like i am 5 and finally can understand the topics with ease', 'just had an idea for a social media experiment lets see if we can make this tweet go viral by getting as many comments as possible comment anything you want and well reply back lets see how far we can take this', 'qna captain nemos exotic submarine on the pod gw29 transfer suggestions selling arsenal conte kane rico henry mitrovics red that newcastle disallowed goal mif chatgpt prague standing in the middle clothesline amp more', 'i understand why sceptical people dismiss openai chatgpt midjourney etc as just another flash in the pan that will be popular for a minute and then fizzle down into a small group of diehards who adopt it', 'account chatgpt plus free']\n",
            "Label: ['positive', 'positive', 'neutral', 'negative', 'neutral']\n",
            "\n",
            "Tweet: ['yeah chatgpt must not be used blindly my process is 1 chatgpt 2 google 3 chatgpt explanation like i am 5 and finally can understand the topics with ease', 'just had an idea for a social media experiment lets see if we can make this tweet go viral by getting as many comments as possible comment anything you want and well reply back lets see how far we can take this', 'qna captain nemos exotic submarine on the pod gw29 transfer suggestions selling arsenal conte kane rico henry mitrovics red that newcastle disallowed goal mif chatgpt prague standing in the middle clothesline amp more', 'i understand why sceptical people dismiss openai chatgpt midjourney etc as just another flash in the pan that will be popular for a minute and then fizzle down into a small group of diehards who adopt it', 'account chatgpt plus free']\n",
            "Label: ['positive', 'positive', 'neutral', 'negative', 'neutral']\n",
            "\n",
            "Tweet: ['yeah chatgpt must not be used blindly my process is 1 chatgpt 2 google 3 chatgpt explanation like i am 5 and finally can understand the topics with ease', 'just had an idea for a social media experiment lets see if we can make this tweet go viral by getting as many comments as possible comment anything you want and well reply back lets see how far we can take this', 'qna captain nemos exotic submarine on the pod gw29 transfer suggestions selling arsenal conte kane rico henry mitrovics red that newcastle disallowed goal mif chatgpt prague standing in the middle clothesline amp more', 'i understand why sceptical people dismiss openai chatgpt midjourney etc as just another flash in the pan that will be popular for a minute and then fizzle down into a small group of diehards who adopt it', 'account chatgpt plus free']\n",
            "Label: ['positive', 'positive', 'neutral', 'negative', 'neutral']\n",
            "\n",
            "Tweet: ['yeah chatgpt must not be used blindly my process is 1 chatgpt 2 google 3 chatgpt explanation like i am 5 and finally can understand the topics with ease', 'just had an idea for a social media experiment lets see if we can make this tweet go viral by getting as many comments as possible comment anything you want and well reply back lets see how far we can take this', 'qna captain nemos exotic submarine on the pod gw29 transfer suggestions selling arsenal conte kane rico henry mitrovics red that newcastle disallowed goal mif chatgpt prague standing in the middle clothesline amp more', 'i understand why sceptical people dismiss openai chatgpt midjourney etc as just another flash in the pan that will be popular for a minute and then fizzle down into a small group of diehards who adopt it', 'account chatgpt plus free']\n",
            "Label: ['positive', 'positive', 'neutral', 'negative', 'neutral']\n",
            "\n",
            "----------------------\n",
            "Topic 14: chatgpt the to it is and of for in kill\n",
            "Top Reviews and Labels:\n",
            "Tweet: ['all those people complaining about openai being closed you do know that they are just a front for microsoft right microsoft is the one planning to control it all', 'currently the best course of action is to use chatgpt to write python code that breaks the text down into chunks of tokens which is the max that can be input at one time then manually feed in 50 pastes and then ask it questions or for a summary', 'my first use of gpt chat apis for a super calculator if you want to do it too go to the official openai documentation', 'been diving so deep into chatgpt4 since its launch day that i forgot to post some of the results so heres the first one gpt4 is way better than default gpt35 amp legacy gpt35 for writing scripts for generative art pieces with those two earlier models i', 'typed in how to win basketball into chatgpt']\n",
            "Label: ['negative', 'neutral', 'positive', 'positive', 'neutral']\n",
            "\n",
            "Tweet: ['all those people complaining about openai being closed you do know that they are just a front for microsoft right microsoft is the one planning to control it all', 'currently the best course of action is to use chatgpt to write python code that breaks the text down into chunks of tokens which is the max that can be input at one time then manually feed in 50 pastes and then ask it questions or for a summary', 'my first use of gpt chat apis for a super calculator if you want to do it too go to the official openai documentation', 'been diving so deep into chatgpt4 since its launch day that i forgot to post some of the results so heres the first one gpt4 is way better than default gpt35 amp legacy gpt35 for writing scripts for generative art pieces with those two earlier models i', 'typed in how to win basketball into chatgpt']\n",
            "Label: ['negative', 'neutral', 'positive', 'positive', 'neutral']\n",
            "\n",
            "Tweet: ['all those people complaining about openai being closed you do know that they are just a front for microsoft right microsoft is the one planning to control it all', 'currently the best course of action is to use chatgpt to write python code that breaks the text down into chunks of tokens which is the max that can be input at one time then manually feed in 50 pastes and then ask it questions or for a summary', 'my first use of gpt chat apis for a super calculator if you want to do it too go to the official openai documentation', 'been diving so deep into chatgpt4 since its launch day that i forgot to post some of the results so heres the first one gpt4 is way better than default gpt35 amp legacy gpt35 for writing scripts for generative art pieces with those two earlier models i', 'typed in how to win basketball into chatgpt']\n",
            "Label: ['negative', 'neutral', 'positive', 'positive', 'neutral']\n",
            "\n",
            "Tweet: ['all those people complaining about openai being closed you do know that they are just a front for microsoft right microsoft is the one planning to control it all', 'currently the best course of action is to use chatgpt to write python code that breaks the text down into chunks of tokens which is the max that can be input at one time then manually feed in 50 pastes and then ask it questions or for a summary', 'my first use of gpt chat apis for a super calculator if you want to do it too go to the official openai documentation', 'been diving so deep into chatgpt4 since its launch day that i forgot to post some of the results so heres the first one gpt4 is way better than default gpt35 amp legacy gpt35 for writing scripts for generative art pieces with those two earlier models i', 'typed in how to win basketball into chatgpt']\n",
            "Label: ['negative', 'neutral', 'positive', 'positive', 'neutral']\n",
            "\n",
            "Tweet: ['all those people complaining about openai being closed you do know that they are just a front for microsoft right microsoft is the one planning to control it all', 'currently the best course of action is to use chatgpt to write python code that breaks the text down into chunks of tokens which is the max that can be input at one time then manually feed in 50 pastes and then ask it questions or for a summary', 'my first use of gpt chat apis for a super calculator if you want to do it too go to the official openai documentation', 'been diving so deep into chatgpt4 since its launch day that i forgot to post some of the results so heres the first one gpt4 is way better than default gpt35 amp legacy gpt35 for writing scripts for generative art pieces with those two earlier models i', 'typed in how to win basketball into chatgpt']\n",
            "Label: ['negative', 'neutral', 'positive', 'positive', 'neutral']\n",
            "\n",
            "----------------------\n",
            "Topic 15: it chatgpt the to is and you of that in\n",
            "Top Reviews and Labels:\n",
            "Tweet: ['as much as the aichatgpt thing is interesting i cant help but feel its the nft crowdnerds doubling down on it who wants a photo of a person who doesnt exist to sell a product to a real person and expect them to relate', 'engage with people more than machines its bad business but good living and we arent here to do business 22', 'many people attribute newly discovered features of chatgpt to gpt4 but most likely these already existed in gpt3 which means these features are available for free on chatgpt if you do not want to pay for chatgpt plus continue to explore the free tier its an ocean', 'chatgpt wrote this with the prompt please write a short podcast episode of mission to zyxx in which the crew encounter a planet inhabited by sentient cotton candy i think it should be canon btw whos pleek', 'in way all they have to do is turn it on if we knew chatgpt was listening to us im sure many millions of people would gladly tutor it many probably try anyway its kind of hard to believe they decided not to do it and of course even if not in real time they could feed all']\n",
            "Label: ['negative', 'negative', 'neutral', 'neutral', 'neutral']\n",
            "\n",
            "Tweet: ['as much as the aichatgpt thing is interesting i cant help but feel its the nft crowdnerds doubling down on it who wants a photo of a person who doesnt exist to sell a product to a real person and expect them to relate', 'engage with people more than machines its bad business but good living and we arent here to do business 22', 'many people attribute newly discovered features of chatgpt to gpt4 but most likely these already existed in gpt3 which means these features are available for free on chatgpt if you do not want to pay for chatgpt plus continue to explore the free tier its an ocean', 'chatgpt wrote this with the prompt please write a short podcast episode of mission to zyxx in which the crew encounter a planet inhabited by sentient cotton candy i think it should be canon btw whos pleek', 'in way all they have to do is turn it on if we knew chatgpt was listening to us im sure many millions of people would gladly tutor it many probably try anyway its kind of hard to believe they decided not to do it and of course even if not in real time they could feed all']\n",
            "Label: ['negative', 'negative', 'neutral', 'neutral', 'neutral']\n",
            "\n",
            "Tweet: ['as much as the aichatgpt thing is interesting i cant help but feel its the nft crowdnerds doubling down on it who wants a photo of a person who doesnt exist to sell a product to a real person and expect them to relate', 'engage with people more than machines its bad business but good living and we arent here to do business 22', 'many people attribute newly discovered features of chatgpt to gpt4 but most likely these already existed in gpt3 which means these features are available for free on chatgpt if you do not want to pay for chatgpt plus continue to explore the free tier its an ocean', 'chatgpt wrote this with the prompt please write a short podcast episode of mission to zyxx in which the crew encounter a planet inhabited by sentient cotton candy i think it should be canon btw whos pleek', 'in way all they have to do is turn it on if we knew chatgpt was listening to us im sure many millions of people would gladly tutor it many probably try anyway its kind of hard to believe they decided not to do it and of course even if not in real time they could feed all']\n",
            "Label: ['negative', 'negative', 'neutral', 'neutral', 'neutral']\n",
            "\n",
            "Tweet: ['as much as the aichatgpt thing is interesting i cant help but feel its the nft crowdnerds doubling down on it who wants a photo of a person who doesnt exist to sell a product to a real person and expect them to relate', 'engage with people more than machines its bad business but good living and we arent here to do business 22', 'many people attribute newly discovered features of chatgpt to gpt4 but most likely these already existed in gpt3 which means these features are available for free on chatgpt if you do not want to pay for chatgpt plus continue to explore the free tier its an ocean', 'chatgpt wrote this with the prompt please write a short podcast episode of mission to zyxx in which the crew encounter a planet inhabited by sentient cotton candy i think it should be canon btw whos pleek', 'in way all they have to do is turn it on if we knew chatgpt was listening to us im sure many millions of people would gladly tutor it many probably try anyway its kind of hard to believe they decided not to do it and of course even if not in real time they could feed all']\n",
            "Label: ['negative', 'negative', 'neutral', 'neutral', 'neutral']\n",
            "\n",
            "Tweet: ['as much as the aichatgpt thing is interesting i cant help but feel its the nft crowdnerds doubling down on it who wants a photo of a person who doesnt exist to sell a product to a real person and expect them to relate', 'engage with people more than machines its bad business but good living and we arent here to do business 22', 'many people attribute newly discovered features of chatgpt to gpt4 but most likely these already existed in gpt3 which means these features are available for free on chatgpt if you do not want to pay for chatgpt plus continue to explore the free tier its an ocean', 'chatgpt wrote this with the prompt please write a short podcast episode of mission to zyxx in which the crew encounter a planet inhabited by sentient cotton candy i think it should be canon btw whos pleek', 'in way all they have to do is turn it on if we knew chatgpt was listening to us im sure many millions of people would gladly tutor it many probably try anyway its kind of hard to believe they decided not to do it and of course even if not in real time they could feed all']\n",
            "Label: ['negative', 'negative', 'neutral', 'neutral', 'neutral']\n",
            "\n",
            "----------------------\n",
            "Topic 16: thank you chatgpt to your thread save thi tag tweet\n",
            "Top Reviews and Labels:\n",
            "Tweet: ['im hoping to have amigurumi bees ready to go for my show tomorrow', 'what chatgpt said', 'chatgpt tells me how to fix typescript errors', 'openais gpt4 upgrade to enhance chatgpt and microsofts bing ai exciting but mysterious', 'attention solopreneurs are you struggling to manage all aspects of your business check out this thread to learn how ai can help you save time reach a wider audience and grow your business']\n",
            "Label: ['positive', 'neutral', 'negative', 'positive', 'neutral']\n",
            "\n",
            "Tweet: ['im hoping to have amigurumi bees ready to go for my show tomorrow', 'what chatgpt said', 'chatgpt tells me how to fix typescript errors', 'openais gpt4 upgrade to enhance chatgpt and microsofts bing ai exciting but mysterious', 'attention solopreneurs are you struggling to manage all aspects of your business check out this thread to learn how ai can help you save time reach a wider audience and grow your business']\n",
            "Label: ['positive', 'neutral', 'negative', 'positive', 'neutral']\n",
            "\n",
            "Tweet: ['im hoping to have amigurumi bees ready to go for my show tomorrow', 'what chatgpt said', 'chatgpt tells me how to fix typescript errors', 'openais gpt4 upgrade to enhance chatgpt and microsofts bing ai exciting but mysterious', 'attention solopreneurs are you struggling to manage all aspects of your business check out this thread to learn how ai can help you save time reach a wider audience and grow your business']\n",
            "Label: ['positive', 'neutral', 'negative', 'positive', 'neutral']\n",
            "\n",
            "Tweet: ['im hoping to have amigurumi bees ready to go for my show tomorrow', 'what chatgpt said', 'chatgpt tells me how to fix typescript errors', 'openais gpt4 upgrade to enhance chatgpt and microsofts bing ai exciting but mysterious', 'attention solopreneurs are you struggling to manage all aspects of your business check out this thread to learn how ai can help you save time reach a wider audience and grow your business']\n",
            "Label: ['positive', 'neutral', 'negative', 'positive', 'neutral']\n",
            "\n",
            "Tweet: ['im hoping to have amigurumi bees ready to go for my show tomorrow', 'what chatgpt said', 'chatgpt tells me how to fix typescript errors', 'openais gpt4 upgrade to enhance chatgpt and microsofts bing ai exciting but mysterious', 'attention solopreneurs are you struggling to manage all aspects of your business check out this thread to learn how ai can help you save time reach a wider audience and grow your business']\n",
            "Label: ['positive', 'neutral', 'negative', 'positive', 'neutral']\n",
            "\n",
            "----------------------\n",
            "Topic 17: the to chatgpt and is of it in you for\n",
            "Top Reviews and Labels:\n",
            "Tweet: ['then you need more public repository in java just like python but idea is chatgpt should be able to integrate into ide to be more useful than becoming next stackoverflow', 'this is the worst princess movie given the story imprison my father now me you saved me i love you and screw the servants the guy was a douche in real life an ass as a beast and they want him to be happy maybe chatgpt can write a sequel where he dies a miserable death', 'i love chat gpt', 'geneediting it one of the tech fields that will be just as impactful as ai but is getting a lot less visibility at least for now yeah chat gpt can tell you a great story but gene editing is saving lives and the future lives of the children of those whove had the procedure', 'instead of feeling threatened chatgpt should be integrated into students life but as many of teachers also do copy paste they are also devoid of efforts they need to put in as a teacher']\n",
            "Label: ['neutral', 'negative', 'positive', 'neutral', 'negative']\n",
            "\n",
            "Tweet: ['then you need more public repository in java just like python but idea is chatgpt should be able to integrate into ide to be more useful than becoming next stackoverflow', 'this is the worst princess movie given the story imprison my father now me you saved me i love you and screw the servants the guy was a douche in real life an ass as a beast and they want him to be happy maybe chatgpt can write a sequel where he dies a miserable death', 'i love chat gpt', 'geneediting it one of the tech fields that will be just as impactful as ai but is getting a lot less visibility at least for now yeah chat gpt can tell you a great story but gene editing is saving lives and the future lives of the children of those whove had the procedure', 'instead of feeling threatened chatgpt should be integrated into students life but as many of teachers also do copy paste they are also devoid of efforts they need to put in as a teacher']\n",
            "Label: ['neutral', 'negative', 'positive', 'neutral', 'negative']\n",
            "\n",
            "Tweet: ['then you need more public repository in java just like python but idea is chatgpt should be able to integrate into ide to be more useful than becoming next stackoverflow', 'this is the worst princess movie given the story imprison my father now me you saved me i love you and screw the servants the guy was a douche in real life an ass as a beast and they want him to be happy maybe chatgpt can write a sequel where he dies a miserable death', 'i love chat gpt', 'geneediting it one of the tech fields that will be just as impactful as ai but is getting a lot less visibility at least for now yeah chat gpt can tell you a great story but gene editing is saving lives and the future lives of the children of those whove had the procedure', 'instead of feeling threatened chatgpt should be integrated into students life but as many of teachers also do copy paste they are also devoid of efforts they need to put in as a teacher']\n",
            "Label: ['neutral', 'negative', 'positive', 'neutral', 'negative']\n",
            "\n",
            "Tweet: ['then you need more public repository in java just like python but idea is chatgpt should be able to integrate into ide to be more useful than becoming next stackoverflow', 'this is the worst princess movie given the story imprison my father now me you saved me i love you and screw the servants the guy was a douche in real life an ass as a beast and they want him to be happy maybe chatgpt can write a sequel where he dies a miserable death', 'i love chat gpt', 'geneediting it one of the tech fields that will be just as impactful as ai but is getting a lot less visibility at least for now yeah chat gpt can tell you a great story but gene editing is saving lives and the future lives of the children of those whove had the procedure', 'instead of feeling threatened chatgpt should be integrated into students life but as many of teachers also do copy paste they are also devoid of efforts they need to put in as a teacher']\n",
            "Label: ['neutral', 'negative', 'positive', 'neutral', 'negative']\n",
            "\n",
            "Tweet: ['then you need more public repository in java just like python but idea is chatgpt should be able to integrate into ide to be more useful than becoming next stackoverflow', 'this is the worst princess movie given the story imprison my father now me you saved me i love you and screw the servants the guy was a douche in real life an ass as a beast and they want him to be happy maybe chatgpt can write a sequel where he dies a miserable death', 'i love chat gpt', 'geneediting it one of the tech fields that will be just as impactful as ai but is getting a lot less visibility at least for now yeah chat gpt can tell you a great story but gene editing is saving lives and the future lives of the children of those whove had the procedure', 'instead of feeling threatened chatgpt should be integrated into students life but as many of teachers also do copy paste they are also devoid of efforts they need to put in as a teacher']\n",
            "Label: ['neutral', 'negative', 'positive', 'neutral', 'negative']\n",
            "\n",
            "----------------------\n",
            "Topic 18: sourc rival chatgpt bard googl to launch open over18 earli\n",
            "Top Reviews and Labels:\n",
            "Tweet: ['still dismissing tiktok as something for the kids shortform video content created by chatgpt is exploding right now indiana miami charisma osborne colorado cam newton saban verdugo franklin graham hardy bryson tiller', 'op chatgpt', 'stormy chorus oh stormy daniels you came into our lives and you shook the world with your words and tale you stood up to the mango mussolini with power and might and you fought for what you knew was right chatgpt emo_pos edits', 'chatgpt secret weapon steps to start writing and selling books within hours al franken de zerbi akpabio kylian mbappe jorge sampaoli chinese president trumpers', 'since poe doesnt come with api as far as i know i wrote a hacky wrapper to use poe webapp poe sends verification code to mailgmail or phone and gmail access requires oauth2 authentication which makes it tedious ping me if anyone is interested']\n",
            "Label: ['neutral', 'neutral', 'positive', 'neutral', 'neutral']\n",
            "\n",
            "Tweet: ['still dismissing tiktok as something for the kids shortform video content created by chatgpt is exploding right now indiana miami charisma osborne colorado cam newton saban verdugo franklin graham hardy bryson tiller', 'op chatgpt', 'stormy chorus oh stormy daniels you came into our lives and you shook the world with your words and tale you stood up to the mango mussolini with power and might and you fought for what you knew was right chatgpt emo_pos edits', 'chatgpt secret weapon steps to start writing and selling books within hours al franken de zerbi akpabio kylian mbappe jorge sampaoli chinese president trumpers', 'since poe doesnt come with api as far as i know i wrote a hacky wrapper to use poe webapp poe sends verification code to mailgmail or phone and gmail access requires oauth2 authentication which makes it tedious ping me if anyone is interested']\n",
            "Label: ['neutral', 'neutral', 'positive', 'neutral', 'neutral']\n",
            "\n",
            "Tweet: ['still dismissing tiktok as something for the kids shortform video content created by chatgpt is exploding right now indiana miami charisma osborne colorado cam newton saban verdugo franklin graham hardy bryson tiller', 'op chatgpt', 'stormy chorus oh stormy daniels you came into our lives and you shook the world with your words and tale you stood up to the mango mussolini with power and might and you fought for what you knew was right chatgpt emo_pos edits', 'chatgpt secret weapon steps to start writing and selling books within hours al franken de zerbi akpabio kylian mbappe jorge sampaoli chinese president trumpers', 'since poe doesnt come with api as far as i know i wrote a hacky wrapper to use poe webapp poe sends verification code to mailgmail or phone and gmail access requires oauth2 authentication which makes it tedious ping me if anyone is interested']\n",
            "Label: ['neutral', 'neutral', 'positive', 'neutral', 'neutral']\n",
            "\n",
            "Tweet: ['still dismissing tiktok as something for the kids shortform video content created by chatgpt is exploding right now indiana miami charisma osborne colorado cam newton saban verdugo franklin graham hardy bryson tiller', 'op chatgpt', 'stormy chorus oh stormy daniels you came into our lives and you shook the world with your words and tale you stood up to the mango mussolini with power and might and you fought for what you knew was right chatgpt emo_pos edits', 'chatgpt secret weapon steps to start writing and selling books within hours al franken de zerbi akpabio kylian mbappe jorge sampaoli chinese president trumpers', 'since poe doesnt come with api as far as i know i wrote a hacky wrapper to use poe webapp poe sends verification code to mailgmail or phone and gmail access requires oauth2 authentication which makes it tedious ping me if anyone is interested']\n",
            "Label: ['neutral', 'neutral', 'positive', 'neutral', 'neutral']\n",
            "\n",
            "Tweet: ['still dismissing tiktok as something for the kids shortform video content created by chatgpt is exploding right now indiana miami charisma osborne colorado cam newton saban verdugo franklin graham hardy bryson tiller', 'op chatgpt', 'stormy chorus oh stormy daniels you came into our lives and you shook the world with your words and tale you stood up to the mango mussolini with power and might and you fought for what you knew was right chatgpt emo_pos edits', 'chatgpt secret weapon steps to start writing and selling books within hours al franken de zerbi akpabio kylian mbappe jorge sampaoli chinese president trumpers', 'since poe doesnt come with api as far as i know i wrote a hacky wrapper to use poe webapp poe sends verification code to mailgmail or phone and gmail access requires oauth2 authentication which makes it tedious ping me if anyone is interested']\n",
            "Label: ['neutral', 'neutral', 'positive', 'neutral', 'neutral']\n",
            "\n",
            "----------------------\n",
            "Topic 19: congratul job chatgpt openai sam altman scare of ceo elimin\n",
            "Top Reviews and Labels:\n",
            "Tweet: ['is this written by you or chat gpt', 'sophos has released new research on how the cybersecurity industry can leverage gpt3 the language model behind the now wellknown chatgpt framework as a copilot to help defeat attackers via', 'as of september 2021 according to the international monetary fund imf the dollar amount of gold holdings in official reserve assets was 15 trillion source chatgpt', 'its cool but your example is quite simple tbh even before chat gpt existed you could easily find a several variations of script like that on the internet and any errors can be solved through stack overflow so nothing new it just consolidates into one place for lazy ppl', 'sam altman ceo of the company that created chatgpt believes that artificial intelligence technology will reshape society as we know it adding that he worries that ai chatbots could eliminate a lot of current jobs read more']\n",
            "Label: ['neutral', 'neutral', 'neutral', 'neutral', 'neutral']\n",
            "\n",
            "Tweet: ['is this written by you or chat gpt', 'sophos has released new research on how the cybersecurity industry can leverage gpt3 the language model behind the now wellknown chatgpt framework as a copilot to help defeat attackers via', 'as of september 2021 according to the international monetary fund imf the dollar amount of gold holdings in official reserve assets was 15 trillion source chatgpt', 'its cool but your example is quite simple tbh even before chat gpt existed you could easily find a several variations of script like that on the internet and any errors can be solved through stack overflow so nothing new it just consolidates into one place for lazy ppl', 'sam altman ceo of the company that created chatgpt believes that artificial intelligence technology will reshape society as we know it adding that he worries that ai chatbots could eliminate a lot of current jobs read more']\n",
            "Label: ['neutral', 'neutral', 'neutral', 'neutral', 'neutral']\n",
            "\n",
            "Tweet: ['is this written by you or chat gpt', 'sophos has released new research on how the cybersecurity industry can leverage gpt3 the language model behind the now wellknown chatgpt framework as a copilot to help defeat attackers via', 'as of september 2021 according to the international monetary fund imf the dollar amount of gold holdings in official reserve assets was 15 trillion source chatgpt', 'its cool but your example is quite simple tbh even before chat gpt existed you could easily find a several variations of script like that on the internet and any errors can be solved through stack overflow so nothing new it just consolidates into one place for lazy ppl', 'sam altman ceo of the company that created chatgpt believes that artificial intelligence technology will reshape society as we know it adding that he worries that ai chatbots could eliminate a lot of current jobs read more']\n",
            "Label: ['neutral', 'neutral', 'neutral', 'neutral', 'neutral']\n",
            "\n",
            "Tweet: ['is this written by you or chat gpt', 'sophos has released new research on how the cybersecurity industry can leverage gpt3 the language model behind the now wellknown chatgpt framework as a copilot to help defeat attackers via', 'as of september 2021 according to the international monetary fund imf the dollar amount of gold holdings in official reserve assets was 15 trillion source chatgpt', 'its cool but your example is quite simple tbh even before chat gpt existed you could easily find a several variations of script like that on the internet and any errors can be solved through stack overflow so nothing new it just consolidates into one place for lazy ppl', 'sam altman ceo of the company that created chatgpt believes that artificial intelligence technology will reshape society as we know it adding that he worries that ai chatbots could eliminate a lot of current jobs read more']\n",
            "Label: ['neutral', 'neutral', 'neutral', 'neutral', 'neutral']\n",
            "\n",
            "Tweet: ['is this written by you or chat gpt', 'sophos has released new research on how the cybersecurity industry can leverage gpt3 the language model behind the now wellknown chatgpt framework as a copilot to help defeat attackers via', 'as of september 2021 according to the international monetary fund imf the dollar amount of gold holdings in official reserve assets was 15 trillion source chatgpt', 'its cool but your example is quite simple tbh even before chat gpt existed you could easily find a several variations of script like that on the internet and any errors can be solved through stack overflow so nothing new it just consolidates into one place for lazy ppl', 'sam altman ceo of the company that created chatgpt believes that artificial intelligence technology will reshape society as we know it adding that he worries that ai chatbots could eliminate a lot of current jobs read more']\n",
            "Label: ['neutral', 'neutral', 'neutral', 'neutral', 'neutral']\n",
            "\n",
            "----------------------\n",
            "Topic 20: gpt chat is chatgpt what you to ask thi it\n",
            "Top Reviews and Labels:\n",
            "Tweet: ['dude has no conception of the indomitable joy of being a biological father yet claims to be changing diapers this should be illegal', 'filthy fi either you are shameless to the lowest level or your bot is developed to be so intelligent it looks decades outdated with ai tools like chatgpt available now or you are trying to irritate me to the extent possible so that i will stop complaining', 'filthy fi either you are shameless to the lowest level or your bot is developed to be so intelligent it looks decades outdated with ai tools like chatgpt available now or you are trying to irritate me to the extent possible so that i will stop complaining', 'chatgpt for beginners your quick amp easy guide to mastery', 'why did i subscribed to and why you should too as explained by chatgpt if youre an avid twitter user you may have heard about twitter blue a new subscription service that offers premium features for a monthly fee if youre on the fence about whether to']\n",
            "Label: ['negative', 'negative', 'negative', 'neutral', 'neutral']\n",
            "\n",
            "Tweet: ['dude has no conception of the indomitable joy of being a biological father yet claims to be changing diapers this should be illegal', 'filthy fi either you are shameless to the lowest level or your bot is developed to be so intelligent it looks decades outdated with ai tools like chatgpt available now or you are trying to irritate me to the extent possible so that i will stop complaining', 'filthy fi either you are shameless to the lowest level or your bot is developed to be so intelligent it looks decades outdated with ai tools like chatgpt available now or you are trying to irritate me to the extent possible so that i will stop complaining', 'chatgpt for beginners your quick amp easy guide to mastery', 'why did i subscribed to and why you should too as explained by chatgpt if youre an avid twitter user you may have heard about twitter blue a new subscription service that offers premium features for a monthly fee if youre on the fence about whether to']\n",
            "Label: ['negative', 'negative', 'negative', 'neutral', 'neutral']\n",
            "\n",
            "Tweet: ['dude has no conception of the indomitable joy of being a biological father yet claims to be changing diapers this should be illegal', 'filthy fi either you are shameless to the lowest level or your bot is developed to be so intelligent it looks decades outdated with ai tools like chatgpt available now or you are trying to irritate me to the extent possible so that i will stop complaining', 'filthy fi either you are shameless to the lowest level or your bot is developed to be so intelligent it looks decades outdated with ai tools like chatgpt available now or you are trying to irritate me to the extent possible so that i will stop complaining', 'chatgpt for beginners your quick amp easy guide to mastery', 'why did i subscribed to and why you should too as explained by chatgpt if youre an avid twitter user you may have heard about twitter blue a new subscription service that offers premium features for a monthly fee if youre on the fence about whether to']\n",
            "Label: ['negative', 'negative', 'negative', 'neutral', 'neutral']\n",
            "\n",
            "Tweet: ['dude has no conception of the indomitable joy of being a biological father yet claims to be changing diapers this should be illegal', 'filthy fi either you are shameless to the lowest level or your bot is developed to be so intelligent it looks decades outdated with ai tools like chatgpt available now or you are trying to irritate me to the extent possible so that i will stop complaining', 'filthy fi either you are shameless to the lowest level or your bot is developed to be so intelligent it looks decades outdated with ai tools like chatgpt available now or you are trying to irritate me to the extent possible so that i will stop complaining', 'chatgpt for beginners your quick amp easy guide to mastery', 'why did i subscribed to and why you should too as explained by chatgpt if youre an avid twitter user you may have heard about twitter blue a new subscription service that offers premium features for a monthly fee if youre on the fence about whether to']\n",
            "Label: ['negative', 'negative', 'negative', 'neutral', 'neutral']\n",
            "\n",
            "Tweet: ['dude has no conception of the indomitable joy of being a biological father yet claims to be changing diapers this should be illegal', 'filthy fi either you are shameless to the lowest level or your bot is developed to be so intelligent it looks decades outdated with ai tools like chatgpt available now or you are trying to irritate me to the extent possible so that i will stop complaining', 'filthy fi either you are shameless to the lowest level or your bot is developed to be so intelligent it looks decades outdated with ai tools like chatgpt available now or you are trying to irritate me to the extent possible so that i will stop complaining', 'chatgpt for beginners your quick amp easy guide to mastery', 'why did i subscribed to and why you should too as explained by chatgpt if youre an avid twitter user you may have heard about twitter blue a new subscription service that offers premium features for a monthly fee if youre on the fence about whether to']\n",
            "Label: ['negative', 'negative', 'negative', 'neutral', 'neutral']\n",
            "\n",
            "----------------------\n"
          ]
        }
      ]
    },
    {
      "cell_type": "markdown",
      "source": [
        "## **4.5 Using Word2Vec and clustering**"
      ],
      "metadata": {
        "id": "-IQ5Z34lUAtD"
      }
    },
    {
      "cell_type": "code",
      "source": [
        "import gensim\n",
        "from gensim.models import Word2Vec\n",
        "from sklearn.cluster import KMeans"
      ],
      "metadata": {
        "id": "klaag_VmTAhK"
      },
      "execution_count": null,
      "outputs": []
    },
    {
      "cell_type": "code",
      "source": [
        "tokenized_tweets = processed_text"
      ],
      "metadata": {
        "id": "bAv3pcpYUVrx"
      },
      "execution_count": null,
      "outputs": []
    },
    {
      "cell_type": "code",
      "source": [
        "# Train Word2Vec model\n",
        "word2vec_model = Word2Vec(tokenized_tweets, window=5, min_count=1)\n",
        "\n",
        "# Get the tweet embeddings\n",
        "#tweet_embeddings = [word2vec_model.wv[tokens] for tokens in tokenized_tweets]\n",
        "\n"
      ],
      "metadata": {
        "id": "MrWG_RJ7S9a_"
      },
      "execution_count": null,
      "outputs": []
    },
    {
      "cell_type": "code",
      "source": [
        "# Get the tweet embeddings\n",
        "tweet_embeddings = []\n",
        "for tokens in tokenized_tweets:\n",
        "    # Compute the average of word vectors for each tweet\n",
        "    embeddings = [word2vec_model.wv[word] for word in tokens if word in word2vec_model.wv]\n",
        "    if embeddings:\n",
        "        tweet_embeddings.append(np.mean(embeddings, axis=0))\n",
        "    else:\n",
        "        # Handle the case when there are no valid word vectors for a tweet\n",
        "        tweet_embeddings.append(np.zeros(word2vec_model.vector_size))\n",
        "\n",
        "tweet_embeddings = np.array(tweet_embeddings)"
      ],
      "metadata": {
        "id": "wwG2AY-6VIaN"
      },
      "execution_count": null,
      "outputs": []
    },
    {
      "cell_type": "code",
      "source": [
        "# Perform clustering on tweet embeddings (using K-means as an example)\n",
        "num_clusters = 10  # Adjust the number of clusters based on your requirements\n",
        "kmeans = KMeans(n_clusters=num_clusters, random_state=42)\n",
        "kmeans.fit(tweet_embeddings)\n",
        "\n",
        "# Assign cluster labels to each tweet\n",
        "records['cluster_label'] = kmeans.labels_\n",
        "\n"
      ],
      "metadata": {
        "colab": {
          "base_uri": "https://localhost:8080/"
        },
        "id": "8nlInBTNUus1",
        "outputId": "1a92c752-4cc4-4e73-d429-536c552e2b66"
      },
      "execution_count": null,
      "outputs": [
        {
          "output_type": "stream",
          "name": "stderr",
          "text": [
            "/usr/local/lib/python3.10/dist-packages/sklearn/cluster/_kmeans.py:870: FutureWarning: The default value of `n_init` will change from 10 to 'auto' in 1.4. Set the value of `n_init` explicitly to suppress the warning\n",
            "  warnings.warn(\n"
          ]
        }
      ]
    },
    {
      "cell_type": "code",
      "source": [
        "# Count positive, negative, and neutral labels for each cluster\n",
        "label_counts = records.groupby('cluster_label')['sentiment_label'].value_counts().unstack(fill_value=0)\n"
      ],
      "metadata": {
        "id": "V0NVNCmAWl-A"
      },
      "execution_count": null,
      "outputs": []
    },
    {
      "cell_type": "code",
      "source": [
        "# Print the tweets in each cluster\n",
        "for cluster_id in range(num_clusters):\n",
        "    cluster_tweets = records[records['cluster_label'] == cluster_id]['processed_tweet']\n",
        "    sample_tweets = cluster_tweets.sample(n=10, random_state=2023)\n",
        "    print(f\"Cluster {cluster_id + 1} - Number of tweets: {len(cluster_tweets)}\")\n",
        "    #for tweet in cluster_tweets:\n",
        "     #   print(tweet)\n",
        "    print(f\"Positive: {label_counts.loc[cluster_id, 'positive']}\")\n",
        "    print(f\"Negative: {label_counts.loc[cluster_id, 'negative']}\")\n",
        "    print(f\"Neutral: {label_counts.loc[cluster_id, 'neutral']}\")\n",
        "    for tweet in sample_tweets:\n",
        "        print(tweet)\n",
        "    print(\"----------------------\")\n"
      ],
      "metadata": {
        "colab": {
          "base_uri": "https://localhost:8080/"
        },
        "id": "MIF-SMIuUwp1",
        "outputId": "37730ef6-8d2b-4d6a-92ea-cef1b85497fc"
      },
      "execution_count": null,
      "outputs": [
        {
          "output_type": "stream",
          "name": "stdout",
          "text": [
            "Cluster 1 - Number of tweets: 16892\n",
            "Positive: 3492\n",
            "Negative: 6745\n",
            "Neutral: 6655\n",
            "even recognizes your lies it is important to note that the statement you provided is a political opinion and opinions can be subjective and vary among individuals additionally it is important to critically evaluate sources of information and 1\n",
            "i think its so insanely cool how if chatgpt doesnt know how to program something like a lot playdate stuff for example i can literally just paste in a bit of the official playdate sdk documentation and now it knows how to program it\n",
            "i gave chatgpt mar version sallyanne test in japanese it answered the test correctly i asked it if it knew the test and it said it did\n",
            "it may also be that you are too good at google search keywords to notice the quality differential for me half of google search results are seospam results which is frustrating vs a clean immediate result from chatgpt\n",
            "honestly at this point i think that 99 of the ai saas are just making calls to the chatgpt api\n",
            "exactly currently chat gpt cant assess every scientific study in existence weigh up the data and provide impartial and accurate conclusions even were it to do so it is still programmed to be a slave to epistemological hegemony\n",
            "yeah chatgpt is more like wokegpt\n",
            "chat gpt is trained on more data sets its way advanced\n",
            "there will be even more thanks to tools like chatgpt\n",
            "i asked how will take over the world its answer is terrifying via\n",
            "----------------------\n",
            "Cluster 2 - Number of tweets: 1363\n",
            "Positive: 877\n",
            "Negative: 105\n",
            "Neutral: 381\n",
            "just checked my portfolio and this is doing crazy numbers aipad apt gpt4 usdc ape blur bnb arb gpt4 arb\n",
            "just checked my portfolio and this is doing crazy numbers shib fil cfx btc gpt4 eggs arb eth op arb\n",
            "powered by chatgpt rsi over 85 recommendation ticker 30minute candle last price 03775 rsi 891 storj\n",
            "elon and taylors song\n",
            "gpt4 is the future of ai and shib gpt gpt4 aipad paw floki usdt bnb fil gpt4 btc sui\n",
            "powered by chatgpt rsi over 85 recommendation ticker 30minute candle last price 12586 rsi 886 stx\n",
            "congratulations\n",
            "has only been out a week and its already changing lives ape and use gpt4 to fuck yourself usdt aipad gpt eth fil ape arb doge matic\n",
            "aww beautiful\n",
            "congratulations\n",
            "----------------------\n",
            "Cluster 3 - Number of tweets: 9054\n",
            "Positive: 3006\n",
            "Negative: 585\n",
            "Neutral: 5463\n",
            "free gift inside transform your storytelling with chatgpt\n",
            "have a fun and engaging conversation with chat gpt to improve your social skills and make new friends use chat gpt to create new characters and storylines for your next novel or screenplay\n",
            "i did an experiment with developing a chrome extension using chatgpt only\n",
            "just discovered chatgpt and its a gamechanger for optimizing my social media posts seriously if you want to boost engagement this is the tool you need\n",
            "learn how to take full advantage of chatgpt and to code your own ai chatbot via\n",
            "chatgpt helped win a hackathon\n",
            "chatgpt helped win a hackathon\n",
            "how to make provide sources and citations via amp how to make the results accurate were still waiting\n",
            "blown away by power for learning new skills amp finding info its a gamechanger in my personal amp professional life cant wait to explore more with this incredible ai tool what are your favorite ways to use chatgpt\n",
            "great spell check your tweets via chatgpt other tricks\n",
            "----------------------\n",
            "Cluster 4 - Number of tweets: 7677\n",
            "Positive: 1442\n",
            "Negative: 2014\n",
            "Neutral: 4221\n",
            "also asking for a friend tell me what not to do so i can make sure to avoid it\n",
            "i hired chat gpt for free\n",
            "hey chatgpt will i ever find love\n",
            "i gave this tweet to chatgpt im sure these are all things you already know\n",
            "me too i asked chatgpt to explain that michael j burry tweet\n",
            "all these teachers saying that her work shows she has a brain but doesnt use it how do i tell them its chatgpt not me\n",
            "my chat gpt knows what im doing\n",
            "chatgpt fixes this\n",
            "chat gpt would do that right now\n",
            "is chatgpt down now i can not login to it\n",
            "----------------------\n",
            "Cluster 5 - Number of tweets: 4098\n",
            "Positive: 380\n",
            "Negative: 1088\n",
            "Neutral: 2630\n",
            "chatgpt is down even for paying plus subscribers\n",
            "microsoft is set to integrate chatgpt4 in office apps\n",
            "chatgpt is crazy asf\n",
            "google releases bard an ai chatbot entering the market to compete with openais chatgpt and microsoft bing chat via\n",
            "bing image creator in chat announced first it was bing then bing chat gpt and now bing chat gpt image creator like dalle what a quick evolution\n",
            "w chatgpt\n",
            "grande chatgpt\n",
            "a new bot has entered the chat but google warns that like its competitor it will sometimes hallucinategoogle rolls out its bard chatbot to battle chatgpt\n",
            "days after the launch of chatgpt google has finally launched its competitor a regionlocked waitlist for bard woohoo\n",
            "openais chatgpt plus subscription launches in india\n",
            "----------------------\n",
            "Cluster 6 - Number of tweets: 1632\n",
            "Positive: 132\n",
            "Negative: 169\n",
            "Neutral: 1331\n",
            "hope yall be thanking chat gpt\n",
            "ask chat gpt\n",
            "chat gpt or chat by banks\n",
            "ask chat gpt lol\n",
            "step away from chat gpt\n",
            "okay chat gpt\n",
            "ana rs gtgtgt chat gpt\n",
            "el chat gpt de antes\n",
            "chat gpt\n",
            "chat gpt is revolutionary move\n",
            "----------------------\n",
            "Cluster 7 - Number of tweets: 16459\n",
            "Positive: 4105\n",
            "Negative: 5738\n",
            "Neutral: 6616\n",
            "its amazing you got a degree at all before the invention of chatgpt\n",
            "they will let chatgpt write the script it will be a bunch of fanfiction lifted from ao3 and put in a blender with guidelines of no romance and no heavy thinking and call it a day\n",
            "whos asking u to drink pass me the glass with h2o ill add the vodka loved d glassmug\n",
            "naah bro even chatgpt is a simp\n",
            "lol just thought it was interesting that the top were created with chatgpt i only really know anything about the first one the concept is fun and its onchain gr gr\n",
            "chatgpt genuinely makes me feel less loanlly\n",
            "in the starting phase i asked how to come back from death\n",
            "plus chatgpt is down right now what is going on this outage has been extended gpt plus folks deserves a refund for the outage period dont you think\n",
            "ures worth relating and began to f before the evening i took the ro\n",
            "hey thats a pretty good start maybe chatgpt has the rest of the answer half joking\n",
            "----------------------\n",
            "Cluster 8 - Number of tweets: 8622\n",
            "Positive: 1494\n",
            "Negative: 1670\n",
            "Neutral: 5458\n",
            "south park on chatgpt gt\n",
            "sampp giving no f about the fed for bulge bracket banks\n",
            "prediction chatgpt will ensure the next genocide arrives much quicker and harder than anyone expects or is prepared for\n",
            "ns and the unbounded selfconfidence o nlooking house at the eastern e\n",
            "million users in months\n",
            "chatgptgtgtgt organized education\n",
            "chatgpt is laying you off in the style of donald trump kamala harris and steve jobs\n",
            "chatgpt answer in a few months 1 drink and drive please 2 wear condom 3 join a lgbtπ200 group and dont reproduce be happy 4 its raining with lighting go outside and enjoy 5 shots of tequila and go to sleep 6 you need therapy 7 i bet your single\n",
            "free baby keem x drake type beat chatgpt via ryoutubeproducers\n",
            "how to scrape protected databases online cant copypasteexport emo_neg rightclick view source code cmda copy the whole fucking ting chatgpt scrape and make a sheet out of the available data on this website paste the whole fucking ting after the prompt gptbae\n",
            "----------------------\n",
            "Cluster 9 - Number of tweets: 13999\n",
            "Positive: 4042\n",
            "Negative: 2796\n",
            "Neutral: 7161\n",
            "next version of single integrated hpc plan our nordic free of charge hpc strategy definition service comes soon if high performance computing is your thing were pretty sure youll find it beats ps5 little my thinks so too\n",
            "chatgpt cureus turing test et al from tested out chatbot to describe the pathogenesis of homocystinuria and lateonset pompes disease read on to learn more how performed\n",
            "revolutionizing retail how chatgpt is changing the shopping experience\n",
            "the chatgpt writeup of the t3 conference in tampa where it riabiz\n",
            "imagine if you could ask your ai to make a new ending that goes a different way said greg brockman president and cofounder of openai the research group behind the conversation software chatgpt\n",
            "according to check point research chatgpt4 can be exploited by nontechnical bad actors to engage in cybercrime\n",
            "the secret of nations is in chatgpt\n",
            "the latest privacy questions and potential solutions thanks to\n",
            "its us against the world us against the ghetto\n",
            "feeds are a key tool for staying informed on the latest content from your favorite websites instead of constantly checking the site the feed reader bot delivers updates on\n",
            "----------------------\n",
            "Cluster 10 - Number of tweets: 704\n",
            "Positive: 1\n",
            "Negative: 1\n",
            "Neutral: 702\n",
            "chatgpt\n",
            "chatgpt\n",
            "chatgpt\n",
            "chatgpt\n",
            "chatgpt\n",
            "chatgpt\n",
            "chatgpt\n",
            "chatgpt\n",
            "chatgpt\n",
            "chatgpt\n",
            "----------------------\n"
          ]
        }
      ]
    },
    {
      "cell_type": "code",
      "source": [
        "# Plot the distributions of positive, negative, and neutral tweets in each cluster\n",
        "sentiment_labels = ['negative', 'neutral', 'positive']\n",
        "cluster_labels = range(num_clusters)\n",
        "\n",
        "# Set up the figure and subplot\n",
        "fig, ax = plt.subplots(figsize=(12, 8))\n",
        "\n",
        "# Calculate the bar width and the offset for each cluster\n",
        "bar_width = 0.2\n",
        "offset = bar_width * (len(sentiment_labels) - 1) / 2\n",
        "\n",
        "# Iterate over clusters\n",
        "for cluster_id in cluster_labels:\n",
        "    # Get the label counts for the cluster\n",
        "    cluster_label_counts = label_counts.loc[cluster_id]\n",
        "    counts = cluster_label_counts.values\n",
        "\n",
        "    # Compute the x-axis positions\n",
        "    x_pos = np.arange(len(sentiment_labels)) + cluster_id * (len(sentiment_labels) + 1)\n",
        "\n",
        "    # Plot the bar chart\n",
        "    ax.bar(x_pos, counts, align='center', label=f'Cluster {cluster_id + 1}')\n",
        "    ax.set_xticklabels(cluster_labels, rotation=45, ha='right')\n",
        "\n",
        "    # Add labels for each bar\n",
        "    for i, count in enumerate(counts):\n",
        "        ax.text(x_pos[i], count + 5, str(count), ha='center', va='bottom')\n",
        "\n",
        "    # Add cluster label\n",
        "    #ax.text(np.mean(x_pos), max(counts) + 30, f'Cluster {cluster_id + 1}', ha='center', va='bottom', fontweight='bold')\n",
        "\n",
        "     # Add bar names\n",
        "    for i, sentiment_label in enumerate(sentiment_labels):\n",
        "        ax.text(x_pos[i], -100, sentiment_label, ha='center', va='top', rotation=45, color='gray')\n",
        "        \n",
        "# Set the x-axis limits and ticks\n",
        "ax.set_xlim(-offset, (len(sentiment_labels) + 1) * num_clusters - offset)\n",
        "ax.set_xticks(np.arange(len(sentiment_labels)) + (len(sentiment_labels) + 1) * num_clusters / 2)\n",
        "#ax.set_xticklabels(sentiment_labels, rotation=45, ha='right')\n",
        "#ax.set_xlabel('Sentiment Label')\n",
        "\n",
        "\n",
        "\n",
        "# Set the y-axis label\n",
        "ax.set_ylabel('Count')\n",
        "\n",
        "# Set the title and legend\n",
        "ax.set_title('Sentiment Distribution by Cluster')\n",
        "ax.legend()\n",
        "\n",
        "# Show the plot\n",
        "plt.tight_layout()\n",
        "plt.show()"
      ],
      "metadata": {
        "colab": {
          "base_uri": "https://localhost:8080/",
          "height": 694
        },
        "id": "zRaJUPoLZ3V-",
        "outputId": "acf64925-baa7-4fab-cc8f-7971c4400b49"
      },
      "execution_count": null,
      "outputs": [
        {
          "output_type": "stream",
          "name": "stderr",
          "text": [
            "<ipython-input-65-6f782d1f67ca>:23: UserWarning: FixedFormatter should only be used together with FixedLocator\n",
            "  ax.set_xticklabels(cluster_labels, rotation=45, ha='right')\n"
          ]
        },
        {
          "output_type": "display_data",
          "data": {
            "text/plain": [
              "<Figure size 1200x800 with 1 Axes>"
            ],
            "image/png": "[encoded data removed]"
          },
          "metadata": {}
        }
      ]
    }
  ],
  "metadata": {
    "colab": {
      "provenance": [],
      "toc_visible": true,
      "include_colab_link": true
    },
    "kernelspec": {
      "display_name": "Python 3",
      "name": "python3"
    },
    "language_info": {
      "name": "python"
    }
  },
  "nbformat": 4,
  "nbformat_minor": 0
}