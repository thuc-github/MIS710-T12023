{
  "cells": [
    {
      "cell_type": "markdown",
      "metadata": {
        "id": "view-in-github",
        "colab_type": "text"
      },
      "source": [
        "<a href=\"https://colab.research.google.com/github/thuc-github/MIS710-T12023/blob/main/Week%203/MIS710_Lab3.ipynb\" target=\"_parent\"><img src=\"https://colab.research.google.com/assets/colab-badge.svg\" alt=\"Open In Colab\"/></a>"
      ]
    },
    {
      "cell_type": "markdown",
      "metadata": {
        "id": "MNkJtLWoPpW7"
      },
      "source": [
        "# **MIS710 Lab 3 Week 3**\n",
        "Author: Associate Professor Lemai Nguyen\n",
        "\n",
        "Objective: to learn and practise linear regression models with scikit-learn\n",
        "\n",
        "Dataset: HousingPrice\n",
        "\n",
        "Source: https://www.kaggle.com/datasets/yasserh/housing-prices-dataset \n",
        "The dataset was modified to allow you deal with missing data. \n",
        "**Download the modified data at the unit site.**"
      ]
    },
    {
      "cell_type": "markdown",
      "metadata": {
        "id": "XpKsWxRj5byD"
      },
      "source": [
        "**To do before the class:**\n",
        "1. complete Labs 0, 1 and 2\n",
        "2. learn Lecture 3: Supervised Machine Learning: Linear Regression\n",
        "3. download the housing.csv dataset and store it in your Google drive, MIS710 folder"
      ]
    },
    {
      "cell_type": "markdown",
      "metadata": {
        "id": "cFlk7601zt-l"
      },
      "source": [
        "**Student name:**\n",
        "\n",
        "Student ID: "
      ]
    },
    {
      "cell_type": "markdown",
      "metadata": {
        "id": "jxTV1VTuj9mC"
      },
      "source": [
        "## **Loading Libraries**\n"
      ]
    },
    {
      "cell_type": "code",
      "execution_count": null,
      "metadata": {
        "id": "lVf5buwkml_I"
      },
      "outputs": [],
      "source": [
        "#load libraries\n",
        "import pandas as pd #for data manipulation and analysis\n",
        "import numpy as np #for working with arrays\n",
        "\n",
        "#import data visualisation libraries \n",
        "import matplotlib.pyplot as plt\n",
        "import seaborn as sns\n",
        "\n"
      ]
    },
    {
      "cell_type": "markdown",
      "metadata": {
        "id": "eSIIzLgfNLtN"
      },
      "source": [
        "## **Mount your Google drive**"
      ]
    },
    {
      "cell_type": "code",
      "execution_count": null,
      "metadata": {
        "id": "F1_8DccH8qjZ"
      },
      "outputs": [],
      "source": [
        "from google.colab import drive\n",
        "drive.mount('/content/drive')"
      ]
    },
    {
      "cell_type": "markdown",
      "metadata": {
        "id": "l2BV5LevVweB"
      },
      "source": []
    },
    {
      "cell_type": "markdown",
      "metadata": {
        "id": "B38Q50gZm1vQ"
      },
      "source": [
        "## **Loading Data** \n",
        "\n",
        "\n",
        "1.   Load the dataset\n",
        "2.   Explore the data\n",
        "\n"
      ]
    },
    {
      "cell_type": "code",
      "execution_count": null,
      "metadata": {
        "id": "uYGvcxGZVBID"
      },
      "outputs": [],
      "source": [
        "# load dataset\n",
        "records = pd.read_csv(\"/content/drive/MyDrive/MIS710/Housing31.csv\")\n",
        "\n",
        "#explore the dataset\n",
        "print(records)\n",
        "\n",
        "print('Sample size:', records.shape[0])\n",
        "print('Number of columns:', records.shape[1]) "
      ]
    },
    {
      "cell_type": "code",
      "execution_count": null,
      "metadata": {
        "id": "J75MIJ22WU77"
      },
      "outputs": [],
      "source": [
        "print(records.info())\n",
        "print(records.shape)"
      ]
    },
    {
      "cell_type": "code",
      "execution_count": null,
      "metadata": {
        "id": "7K1sy-LES5i5"
      },
      "outputs": [],
      "source": [
        "#area is wrongly documented as string\n",
        "records['area'] = records['area'].apply(pd.to_numeric, errors='coerce')"
      ]
    },
    {
      "cell_type": "markdown",
      "metadata": {
        "id": "a5nysLfRr-Qn"
      },
      "source": [
        "## **Are there missing data?** \n",
        "\n",
        "The data preprocessing is cyclic with analysing and visualising data, handling missing data, and feature engineering. For the learning purpose, we show you some simple techniques, you should move between the activities yourself. "
      ]
    },
    {
      "cell_type": "code",
      "execution_count": null,
      "metadata": {
        "id": "-FK2N3CLuW41"
      },
      "outputs": [],
      "source": [
        "#learn to use for loop, and accessing elements of a dataframe using iloc\n",
        "#Count missing data\n",
        "for i in records.iloc[:,0:]: \n",
        "  miss=records[i].isna().sum()\n",
        "  print(i,'missing: ', miss)\n"
      ]
    },
    {
      "cell_type": "code",
      "execution_count": null,
      "metadata": {
        "id": "PI1i0nBAyr7B"
      },
      "outputs": [],
      "source": [
        "#another way to find missing data is using the function isnull()\n",
        "#read about isnull() here https://pandas.pydata.org/docs/reference/api/pandas.isnull.html \n",
        "#read further at https://www.sharpsightlabs.com/blog/pandas-isnull/ \n",
        "print(records.isnull().sum())"
      ]
    },
    {
      "cell_type": "markdown",
      "metadata": {
        "id": "6NuVt14sdE30"
      },
      "source": [
        "## **Variable analysis**\n",
        "\n",
        "Stats and visualtion\n",
        "1.  Univariate analysis\n",
        "2.  Bivariate analysis\n",
        "3.  Multivariate analysis\n",
        "\n",
        "\n"
      ]
    },
    {
      "cell_type": "markdown",
      "metadata": {
        "id": "sUv7Rse2r1PL"
      },
      "source": [
        "**Univariate analysis explores and visualises each variable at a time**\n"
      ]
    },
    {
      "cell_type": "code",
      "execution_count": null,
      "metadata": {
        "id": "QfX3RkXzbdi9"
      },
      "outputs": [],
      "source": [
        "#overview \n",
        "records.describe()\n"
      ]
    },
    {
      "cell_type": "code",
      "execution_count": null,
      "metadata": {
        "id": "Uq2kPmNibTyv"
      },
      "outputs": [],
      "source": [
        "#set the formatting for floating numbers \n",
        "pd.set_option('display.float_format', lambda x: '%.3f' % x)\n",
        "\n",
        "data_types =['object', 'float', 'int'] \n",
        "records.describe(include=data_types)"
      ]
    },
    {
      "cell_type": "markdown",
      "metadata": {
        "id": "rzDxFh11nybi"
      },
      "source": [
        "## **You can use stats results to decide on and handle missing data**"
      ]
    },
    {
      "cell_type": "code",
      "execution_count": null,
      "metadata": {
        "id": "rTxkh6jBlM5C"
      },
      "outputs": [],
      "source": [
        "#describe categorical variables\n",
        "records['area'].describe()"
      ]
    },
    {
      "cell_type": "code",
      "execution_count": null,
      "metadata": {
        "id": "KJkrrgFR0UMT"
      },
      "outputs": [],
      "source": [
        "#describe categorical variables\n",
        "records['furnishingstatus'].describe()"
      ]
    },
    {
      "cell_type": "code",
      "execution_count": null,
      "metadata": {
        "id": "1vgcFT4Fk4c9"
      },
      "outputs": [],
      "source": [
        "records['mainroad'].describe()"
      ]
    },
    {
      "cell_type": "code",
      "execution_count": null,
      "metadata": {
        "id": "JrI8LwQvkrv8"
      },
      "outputs": [],
      "source": [
        "records['mainroad'].mode()[0]"
      ]
    },
    {
      "cell_type": "code",
      "execution_count": null,
      "metadata": {
        "id": "hrbtlNw2rucG"
      },
      "outputs": [],
      "source": [
        "#Fill in missing numerical data with mean and categorical data with mode\n",
        "records['area'].fillna(records['area'].mean(),inplace=True)\n",
        "records['furnishingstatus'].fillna(records['furnishingstatus'].mode()[0], inplace=True) #there can be more than one mode\n",
        "\n",
        "#do it yourself for mainroad"
      ]
    },
    {
      "cell_type": "markdown",
      "metadata": {
        "id": "zuLcNFaRf_da"
      },
      "source": [
        "**Visualise each numerical variable**"
      ]
    },
    {
      "cell_type": "code",
      "execution_count": null,
      "metadata": {
        "id": "cangeJqbb-0H"
      },
      "outputs": [],
      "source": [
        "#using seaborn https://seaborn.pydata.org/generated/seaborn.histplot.html\n"
      ]
    },
    {
      "cell_type": "code",
      "execution_count": null,
      "metadata": {
        "id": "VrrauM8heLZ9"
      },
      "outputs": [],
      "source": [
        "#create a boxplot\n"
      ]
    },
    {
      "cell_type": "markdown",
      "metadata": {
        "id": "bFURG_IVfbhX"
      },
      "source": [
        "**It's your turn: explore other numerical variables**"
      ]
    },
    {
      "cell_type": "code",
      "execution_count": null,
      "metadata": {
        "id": "ecfOIXuSeBE-"
      },
      "outputs": [],
      "source": [
        "#visualise other numerical variables one at a time\n"
      ]
    },
    {
      "cell_type": "markdown",
      "metadata": {
        "id": "sWkjpMIugDkb"
      },
      "source": [
        "**Explore each categorical variable**"
      ]
    },
    {
      "cell_type": "code",
      "execution_count": null,
      "metadata": {
        "id": "fMEqUtokWARJ"
      },
      "outputs": [],
      "source": [
        "#explore each categorial variable\n",
        "print(records['furnishingstatus'].value_counts())\n",
        "print('Furnishing Status mode: ', records['furnishingstatus'].mode())"
      ]
    },
    {
      "cell_type": "code",
      "execution_count": null,
      "metadata": {
        "id": "gyo2GroIb3XE"
      },
      "outputs": [],
      "source": [
        "#Another way to do it\n",
        "records.furnishingstatus.value_counts()"
      ]
    },
    {
      "cell_type": "markdown",
      "metadata": {
        "id": "GV9tbbwlQ727"
      },
      "source": [
        "Do it yourself for other categorical variables"
      ]
    },
    {
      "cell_type": "markdown",
      "metadata": {
        "id": "-i1gyOcIdjrM"
      },
      "source": [
        "**Visualise each categorical variable**"
      ]
    },
    {
      "cell_type": "code",
      "execution_count": null,
      "metadata": {
        "id": "WWWSiKPqjxme"
      },
      "outputs": [],
      "source": [
        "#Using seaborn\n",
        "sns.countplot(x=records['bathrooms'])"
      ]
    },
    {
      "cell_type": "markdown",
      "metadata": {
        "id": "S59qd17alBS5"
      },
      "source": [
        "**Visualise other categorical variables**"
      ]
    },
    {
      "cell_type": "code",
      "execution_count": null,
      "metadata": {
        "id": "owNEshpvAb1G"
      },
      "outputs": [],
      "source": [
        "cat_variables = ['bedrooms', 'bathrooms','stories', 'parking','mainroad','guestroom','basement', 'hotwaterheating', 'airconditioning', 'prefarea', 'furnishingstatus']\n",
        "for i in cat_variables:\n",
        "   plt.figure()\n",
        "   sns.countplot(x=records[i])\n"
      ]
    },
    {
      "cell_type": "markdown",
      "metadata": {
        "id": "3qFNG7wdoCRo"
      },
      "source": [
        "## **Multivariate visualisation**"
      ]
    },
    {
      "cell_type": "markdown",
      "metadata": {
        "id": "wVhE8RE3p6E9"
      },
      "source": [
        "**Display a countplot for one categorical variable grouped by a second categorical variable**\n",
        "https://seaborn.pydata.org/generated/seaborn.countplot.html "
      ]
    },
    {
      "cell_type": "code",
      "execution_count": null,
      "metadata": {
        "id": "ngWnxNtPoBvQ"
      },
      "outputs": [],
      "source": [
        "sns.countplot(data=records, x='prefarea', hue='mainroad')"
      ]
    },
    {
      "cell_type": "code",
      "execution_count": null,
      "metadata": {
        "id": "gQ7V5rm2qkNn"
      },
      "outputs": [],
      "source": [
        "#Do it yourself \n"
      ]
    },
    {
      "cell_type": "markdown",
      "metadata": {
        "id": "gImjNDaxqsII"
      },
      "source": [
        "**Compare distributions of numerical variables using boxplots**\n",
        "https://seaborn.pydata.org/generated/seaborn.boxplot.html"
      ]
    },
    {
      "cell_type": "code",
      "execution_count": null,
      "metadata": {
        "id": "FPQlu_iNq5x1"
      },
      "outputs": [],
      "source": [
        "sns.boxplot(data=records, x='price', y='basement')"
      ]
    },
    {
      "cell_type": "code",
      "execution_count": null,
      "metadata": {
        "id": "bmjsxihkuAiZ"
      },
      "outputs": [],
      "source": [
        "#Do it yourself, hint: using x=  y= and hue="
      ]
    },
    {
      "cell_type": "markdown",
      "metadata": {
        "id": "ctAlgYHWsvDt"
      },
      "source": [
        "**Ploting diagram to see relationships between two numerical variables**\n",
        "https://seaborn.pydata.org/generated/seaborn.scatterplot.html "
      ]
    },
    {
      "cell_type": "code",
      "execution_count": null,
      "metadata": {
        "id": "ugO4zhQjs6-N"
      },
      "outputs": [],
      "source": [
        "sns.scatterplot(data=records, x='area', y='price')"
      ]
    },
    {
      "cell_type": "code",
      "execution_count": null,
      "metadata": {
        "id": "CEW7Dam4q5h2"
      },
      "outputs": [],
      "source": [
        "#Let't move price to the first column\n",
        "first_column=records.pop('price')\n",
        "records.insert(0,'price',first_column)"
      ]
    },
    {
      "cell_type": "code",
      "execution_count": null,
      "metadata": {
        "id": "RAXcBLe_rQ45"
      },
      "outputs": [],
      "source": [
        "records.iloc[9:14]"
      ]
    },
    {
      "cell_type": "code",
      "execution_count": null,
      "metadata": {
        "id": "jbTAr7iU1lu1"
      },
      "outputs": [],
      "source": [
        "#generate heatmaps to explore relationships\n",
        "sns.heatmap(records.corr(), square=True, cmap='Blues', annot=True)\n",
        "plt.show()"
      ]
    },
    {
      "cell_type": "code",
      "execution_count": null,
      "metadata": {
        "id": "UmdChe8cr7ay"
      },
      "outputs": [],
      "source": [
        "#generate dendrograms to show hierarchical clustering  \n",
        "sns.clustermap(records.corr(), square=True, cmap='Blues', annot=True, row_cluster=False)\n",
        "plt.show()"
      ]
    },
    {
      "cell_type": "markdown",
      "metadata": {
        "id": "pr7KG-TaudQ9"
      },
      "source": [
        "## **Encoding data**"
      ]
    },
    {
      "cell_type": "code",
      "execution_count": null,
      "metadata": {
        "id": "oJz7BvR4yefn"
      },
      "outputs": [],
      "source": [
        "#Last week, we learned to convert categorical variables to numerical using LabelEncoder\n",
        "from sklearn.preprocessing import LabelEncoder\n",
        "\n",
        "encoder = LabelEncoder()\n",
        "records['mainroad_N'] = encoder.fit_transform(records['mainroad'])\n",
        "records['basement_N'] = encoder.fit_transform(records['basement'])\n"
      ]
    },
    {
      "cell_type": "code",
      "execution_count": null,
      "metadata": {
        "id": "PP9w1Qkcf2Z2"
      },
      "outputs": [],
      "source": [
        "#there are other ways of doing this, for example\n",
        "records['hotwaterheating_N'] = records['hotwaterheating'].apply(lambda x: 1 if x == 'yes' else 0)\n",
        "\n",
        "records.sample(10)"
      ]
    },
    {
      "cell_type": "code",
      "execution_count": null,
      "metadata": {
        "id": "xizqm2pi3MVB"
      },
      "outputs": [],
      "source": [
        "#Another way is getting all catagorical columns\n",
        "cat_variables = records.select_dtypes(include=['object']).columns\n",
        "#Convert categorical columns to numeric\n",
        "records[cat_variables] = records[cat_variables].apply(encoder.fit_transform)\n",
        "\n",
        "# Display the updated dataset\n",
        "print(records)"
      ]
    },
    {
      "cell_type": "code",
      "execution_count": null,
      "metadata": {
        "id": "jQQdYSUSmxv0"
      },
      "outputs": [],
      "source": [
        "#OPTIONAL\n",
        "#another day, defining your OWN function\n",
        "#convert categorical data to numerical \n",
        "def coding_furnishingstatus(x):\n",
        "        if x=='furnished': return 3\n",
        "        if x=='semi-furnished': return 2\n",
        "        if x=='unfurnished': return 1\n",
        "       \n",
        "records['furnishingstatus_N'] = records['furnishingstatus'].apply(coding_furnishingstatus)\n",
        "\n",
        "records.iloc[9:14]"
      ]
    },
    {
      "cell_type": "code",
      "execution_count": null,
      "metadata": {
        "id": "2a30-j2gSrkY"
      },
      "outputs": [],
      "source": [
        "#write code to drop redudant columns\n",
        "records= records.drop(['mainroad_N','basement_N','hotwaterheating_N','furnishingstatus_N'], axis=1)\n",
        "print(records.info())"
      ]
    },
    {
      "cell_type": "markdown",
      "metadata": {
        "id": "e8w0AH6goeGH"
      },
      "source": [
        "## **Feature Selection**"
      ]
    },
    {
      "cell_type": "code",
      "execution_count": null,
      "metadata": {
        "id": "A1yuaf3dojEa"
      },
      "outputs": [],
      "source": [
        "#feature selection\n",
        "features=['area']\n",
        "X=records[features]\n",
        "X.head()"
      ]
    },
    {
      "cell_type": "code",
      "execution_count": null,
      "metadata": {
        "id": "BgpVhBuosoeH"
      },
      "outputs": [],
      "source": [
        "#specify the label\n",
        "y=records['price']\n",
        "y.head()"
      ]
    },
    {
      "cell_type": "markdown",
      "metadata": {
        "id": "7ZZL19jGNYpv"
      },
      "source": [
        "## **Split the Dataset**\n",
        "\n",
        "Split arrays or matrices into random train and test subsets\n",
        "https://scikit-learn.org/stable/modules/generated/sklearn.model_selection.train_test_split.html?highlight=train_test_split#sklearn.model_selection.train_test_split"
      ]
    },
    {
      "cell_type": "code",
      "execution_count": null,
      "metadata": {
        "id": "5WQVc9ZINezn"
      },
      "outputs": [],
      "source": [
        "from sklearn.model_selection import train_test_split # Import train_test_split function\n",
        "\n",
        "# Split dataset into training set 70% and test set 30%\n",
        "X_train, X_test, y_train, y_test = train_test_split(X, y, test_size=0.3, random_state=1)  # 70% training and 30% testing \n",
        "\n",
        "#inspect the split datasets\n",
        "print(X_train.head())\n",
        "print(y_train.head())\n",
        "\n",
        "print('Training dataset size:',X_train.shape)\n",
        "print('Test dataset size:',y_train.shape)\n"
      ]
    },
    {
      "cell_type": "markdown",
      "metadata": {
        "id": "nTtxQ1QBNuCM"
      },
      "source": [
        "## **Training a Linear Regression Model**\n",
        "\n",
        "1.   Train a model using the training dataset\n",
        "2.   Make prediction using the model for the test dataset\n",
        "\n",
        "Read about Linear Regression https://scikit-learn.org/stable/modules/linear_model.html\n",
        "\n",
        "LinearRegression will take in its fit method arrays X, y and will store the coefficients of the linear model in its coef_ member\n",
        "\n",
        "\n",
        "\n",
        "\n"
      ]
    },
    {
      "cell_type": "code",
      "execution_count": null,
      "metadata": {
        "id": "RR3ToASD9gQn"
      },
      "outputs": [],
      "source": [
        "#import linear_model \n",
        "from sklearn import linear_model\n",
        "\n",
        "#create a linear_model object\n",
        "reg = linear_model.LinearRegression()"
      ]
    },
    {
      "cell_type": "markdown",
      "metadata": {
        "id": "VdDReKfo-y_a"
      },
      "source": [
        "**Train a model**"
      ]
    },
    {
      "cell_type": "code",
      "execution_count": null,
      "metadata": {
        "id": "dXKo616v-2QR"
      },
      "outputs": [],
      "source": [
        "# Train a Regression model (regressor) with the training dataset \n",
        "reg=reg.fit(X_train, y_train)"
      ]
    },
    {
      "cell_type": "markdown",
      "metadata": {
        "id": "WsV73z5p_0JN"
      },
      "source": [
        "**Make predictions using the model and the test set**"
      ]
    },
    {
      "cell_type": "code",
      "execution_count": null,
      "metadata": {
        "id": "2wJ257lt_nQu"
      },
      "outputs": [],
      "source": [
        "#Make predictions for the test dataset\n",
        "y_pred = reg.predict(X_test)\n"
      ]
    },
    {
      "cell_type": "markdown",
      "metadata": {
        "id": "u36dEmg-AaAY"
      },
      "source": [
        "**Inspect the predictions and the original labels**"
      ]
    },
    {
      "cell_type": "code",
      "execution_count": null,
      "metadata": {
        "id": "3hdMwjK0Ae_I"
      },
      "outputs": [],
      "source": [
        "plt.scatter(y_test, y_pred) \n",
        "plt.xlabel(\"Actual prices\") \n",
        "plt.ylabel(\"Predicted prices\") \n",
        "plt.title(\"Actual prices vs Predicted prices\")\n",
        "plt.show()"
      ]
    },
    {
      "cell_type": "code",
      "execution_count": null,
      "metadata": {
        "id": "1X3Nu4SCOGnI"
      },
      "outputs": [],
      "source": [
        "#set the formatting for floating numbers \n",
        "pd.set_option('display.float_format', lambda x: '%.0f' % x)\n",
        "area=X_test['area']\n",
        "#inspection\n",
        "inspection=pd.DataFrame({'Actual':y_test, 'Predicted':y_pred})\n",
        "inspection=pd.DataFrame({'Area':area, 'Actual':y_test, 'Predicted':y_pred})\n",
        "inspection.head(20)"
      ]
    },
    {
      "cell_type": "markdown",
      "metadata": {
        "id": "4qeFLgTpBuaI"
      },
      "source": [
        "**Getting the Intercept and Coefficients**"
      ]
    },
    {
      "cell_type": "code",
      "execution_count": null,
      "metadata": {
        "id": "tXUyxJU_Bj3_"
      },
      "outputs": [],
      "source": [
        "print('%.2f' % reg.intercept_) \n",
        "print('%.2f' % reg.coef_)\n",
        "print('Price = ', '%.2f' % reg.intercept_, ' + ', '%.2f' % reg.coef_, ' * ', 'Area' )\n"
      ]
    },
    {
      "cell_type": "code",
      "execution_count": null,
      "metadata": {
        "id": "Xrls5sSrD0lM"
      },
      "outputs": [],
      "source": [
        "sns.scatterplot(data=inspection, x='Area', y='Actual')\n",
        "sns.regplot(data=inspection, x='Area', y='Predicted', color='blue')"
      ]
    },
    {
      "cell_type": "markdown",
      "metadata": {
        "id": "gt9r3oheFQec"
      },
      "source": [
        "## **Performance Metrics**"
      ]
    },
    {
      "cell_type": "code",
      "execution_count": null,
      "metadata": {
        "id": "JKKFXd68CIQd"
      },
      "outputs": [],
      "source": [
        "from sklearn.metrics import r2_score\n",
        "r2 = r2_score(y_test, y_pred)\n",
        "print(f\"R-squared: {r2:.2f}\")"
      ]
    },
    {
      "cell_type": "code",
      "execution_count": null,
      "metadata": {
        "id": "fsA4H5wNK6E9"
      },
      "outputs": [],
      "source": [
        "from sklearn.metrics import mean_absolute_error\n",
        "\n",
        "# Calculate and print the mean absolute error\n",
        "mae = mean_absolute_error(y_test, y_pred)\n",
        "print(f\"Mean Absolute Error: {mae:.0f}\")"
      ]
    },
    {
      "cell_type": "code",
      "execution_count": null,
      "metadata": {
        "id": "5BJhHRUkLwhc"
      },
      "outputs": [],
      "source": [
        "from sklearn.metrics import mean_squared_error\n",
        "\n",
        "# Calculate and print the root mean square error\n",
        "rmse = np.sqrt(mean_squared_error(y_test, y_pred))\n",
        "print(f\"Root Mean Square Error: {rmse:.0f}\")"
      ]
    },
    {
      "cell_type": "code",
      "execution_count": null,
      "metadata": {
        "id": "afZrnYEJObag"
      },
      "outputs": [],
      "source": [
        "#Examine the performance using the descriptive stats of proice \n",
        "records['price'].describe()"
      ]
    },
    {
      "cell_type": "markdown",
      "metadata": {
        "id": "CeHpkqHcTmC6"
      },
      "source": [
        "## **Repeat from the feature selection steps to create multiple linear regression model**"
      ]
    },
    {
      "cell_type": "code",
      "execution_count": null,
      "metadata": {
        "id": "dOZOFVU9EaKp"
      },
      "outputs": [],
      "source": [
        "#run the following code and examine the correlations among the variables\n",
        "records.corr()"
      ]
    },
    {
      "cell_type": "code",
      "execution_count": null,
      "metadata": {
        "id": "Gaz_MZbBUHCO"
      },
      "outputs": [],
      "source": [
        "#select relevant features and train and evaluate a model"
      ]
    },
    {
      "cell_type": "markdown",
      "metadata": {
        "id": "0qe2xZt_3weE"
      },
      "source": [
        "# Try it yourself! \n",
        "\n",
        "**Do it yourself:** Repeat the above steps with the housing dataset to consilidate your learning"
      ]
    },
    {
      "cell_type": "markdown",
      "source": [
        "## Loading libraries"
      ],
      "metadata": {
        "id": "R90z3fZlnfr2"
      }
    },
    {
      "cell_type": "code",
      "source": [
        "import numpy as np \n",
        "import pandas as pd \n",
        "import os\n",
        "import matplotlib.pyplot as plt\n",
        "import seaborn as sns\n",
        "from sklearn.linear_model import LinearRegression\n",
        "from sklearn.model_selection import train_test_split\n",
        "from sklearn.preprocessing import PolynomialFeatures\n",
        "from sklearn.metrics import r2_score,mean_squared_error"
      ],
      "metadata": {
        "id": "RkAnAyf8wpOy"
      },
      "execution_count": null,
      "outputs": []
    },
    {
      "cell_type": "markdown",
      "source": [
        "## Import dataset"
      ],
      "metadata": {
        "id": "JyiY1CzHxcHZ"
      }
    },
    {
      "cell_type": "code",
      "source": [
        "# Load data using pandas.read_csv(filepath_or_url, sep=',')\n",
        "url = 'https://raw.githubusercontent.com/thuc-github/MIS710-T12023/main/Week%203/insurance.csv'\n",
        "\n",
        "df = pd.read_csv(url)\n"
      ],
      "metadata": {
        "id": "0_ThSWV7ws1W"
      },
      "execution_count": null,
      "outputs": []
    },
    {
      "cell_type": "markdown",
      "source": [
        "## EDA\n",
        "\n",
        "* How many rows and columns in the dataset? \n",
        "* Return the first n rows.\n",
        "* What are the columns and their datatypes?\n",
        "* Is there any missing values? \n",
        "* How to deal with categorical features? \n",
        "* Any strong correlation from the dataset?  \n",
        "* What are the stats for the `charges`? Plot overall distribution of `charges`; and ditribution of chareges for smoker and non-smokers. Practice more with `bmi`, `age` and `sex` variables. \n",
        "\n"
      ],
      "metadata": {
        "id": "hTe1NMnwx6eD"
      }
    },
    {
      "cell_type": "code",
      "source": [],
      "metadata": {
        "id": "x7XhrQLN2vQy"
      },
      "execution_count": null,
      "outputs": []
    },
    {
      "cell_type": "markdown",
      "source": [
        "## Data preparation \n",
        "\n",
        "\n",
        "1.   Prepare X, y\n",
        "2.   Prepare X_train, X_test, y_train, y_test (hint: using `train_test_split')\n",
        "\n"
      ],
      "metadata": {
        "id": "KmoCcKvKyOHx"
      }
    },
    {
      "cell_type": "code",
      "source": [],
      "metadata": {
        "id": "ZSbs7Hu42vL_"
      },
      "execution_count": null,
      "outputs": []
    },
    {
      "cell_type": "markdown",
      "source": [
        "## Model implementation\n",
        "\n",
        "1. Try with the original data. What's the performance?\n",
        "2. Let's add data normalisation. Has the performance been improved?"
      ],
      "metadata": {
        "id": "vtvVRhsy0P29"
      }
    },
    {
      "cell_type": "code",
      "source": [],
      "metadata": {
        "id": "rclQ0qPI2rq3"
      },
      "execution_count": null,
      "outputs": []
    }
  ],
  "metadata": {
    "colab": {
      "provenance": [],
      "toc_visible": true,
      "include_colab_link": true
    },
    "kernelspec": {
      "display_name": "Python 3",
      "name": "python3"
    },
    "language_info": {
      "name": "python"
    }
  },
  "nbformat": 4,
  "nbformat_minor": 0
}