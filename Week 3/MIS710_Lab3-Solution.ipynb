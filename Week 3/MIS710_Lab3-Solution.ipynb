{
  "cells": [
    {
      "cell_type": "markdown",
      "metadata": {
        "id": "view-in-github",
        "colab_type": "text"
      },
      "source": [
        "<a href=\"https://colab.research.google.com/github/thuc-github/MIS710-T12023/blob/main/Week%203/MIS710_Lab3-Solution.ipynb\" target=\"_parent\"><img src=\"https://colab.research.google.com/assets/colab-badge.svg\" alt=\"Open In Colab\"/></a>"
      ]
    },
    {
      "cell_type": "markdown",
      "metadata": {
        "id": "MNkJtLWoPpW7"
      },
      "source": [
        "# **MIS710 Lab 3 Week 3**\n",
        "Author: Associate Professor Lemai Nguyen\n",
        "\n",
        "Objective: to learn and practise linear regression models with scikit-learn\n",
        "\n",
        "Dataset: HousingPrice\n",
        "\n",
        "Source: https://www.kaggle.com/datasets/yasserh/housing-prices-dataset \n",
        "The dataset was modified to allow you deal with missing data. \n",
        "**Download the modified data at the unit site.**"
      ]
    },
    {
      "cell_type": "markdown",
      "metadata": {
        "id": "XpKsWxRj5byD"
      },
      "source": [
        "**To do before the class:**\n",
        "1. complete Labs 0, 1 and 2\n",
        "2. learn Lecture 3: Supervised Machine Learning: Linear Regression\n",
        "3. download the housing.csv dataset and store it in your Google drive, MIS710 folder"
      ]
    },
    {
      "cell_type": "markdown",
      "metadata": {
        "id": "cFlk7601zt-l"
      },
      "source": [
        "**Student name:**\n",
        "\n",
        "Student ID: "
      ]
    },
    {
      "cell_type": "markdown",
      "metadata": {
        "id": "jxTV1VTuj9mC"
      },
      "source": [
        "## **Loading Libraries**\n"
      ]
    },
    {
      "cell_type": "code",
      "execution_count": null,
      "metadata": {
        "id": "lVf5buwkml_I"
      },
      "outputs": [],
      "source": [
        "#load libraries\n",
        "import pandas as pd #for data manipulation and analysis\n",
        "import numpy as np #for working with arrays\n",
        "\n",
        "#import data visualisation libraries \n",
        "import matplotlib.pyplot as plt\n",
        "import seaborn as sns\n",
        "\n"
      ]
    },
    {
      "cell_type": "markdown",
      "metadata": {
        "id": "eSIIzLgfNLtN"
      },
      "source": [
        "## **Mount your Google drive**"
      ]
    },
    {
      "cell_type": "code",
      "execution_count": null,
      "metadata": {
        "id": "F1_8DccH8qjZ"
      },
      "outputs": [],
      "source": [
        "from google.colab import drive\n",
        "drive.mount('/content/drive')"
      ]
    },
    {
      "cell_type": "markdown",
      "metadata": {
        "id": "l2BV5LevVweB"
      },
      "source": []
    },
    {
      "cell_type": "markdown",
      "metadata": {
        "id": "B38Q50gZm1vQ"
      },
      "source": [
        "## **Loading Data** \n",
        "\n",
        "\n",
        "1.   Load the dataset\n",
        "2.   Explore the data\n",
        "\n"
      ]
    },
    {
      "cell_type": "code",
      "execution_count": null,
      "metadata": {
        "id": "uYGvcxGZVBID"
      },
      "outputs": [],
      "source": [
        "# load dataset\n",
        "records = pd.read_csv(\"/content/drive/MyDrive/MIS710/Housing31.csv\")\n",
        "\n",
        "#explore the dataset\n",
        "print(records)\n",
        "\n",
        "print('Sample size:', records.shape[0])\n",
        "print('Number of columns:', records.shape[1]) "
      ]
    },
    {
      "cell_type": "code",
      "execution_count": null,
      "metadata": {
        "id": "J75MIJ22WU77"
      },
      "outputs": [],
      "source": [
        "print(records.info())\n",
        "print(records.shape)"
      ]
    },
    {
      "cell_type": "code",
      "execution_count": null,
      "metadata": {
        "id": "7K1sy-LES5i5"
      },
      "outputs": [],
      "source": [
        "#area is wrongly documented as string\n",
        "records['area'] = pd.to_numeric(records['area'], errors='coerce')"
      ]
    },
    {
      "cell_type": "markdown",
      "metadata": {
        "id": "a5nysLfRr-Qn"
      },
      "source": [
        "## **Are there missing data?** \n",
        "\n",
        "The data preprocessing is cyclic with analysing and visualising data, handling missing data, and feature engineering. For the learning purpose, we show you some simple techniques, you should move between the activities yourself. "
      ]
    },
    {
      "cell_type": "code",
      "execution_count": null,
      "metadata": {
        "id": "-FK2N3CLuW41"
      },
      "outputs": [],
      "source": [
        "#learn to use for loop, and accessing elements of a dataframe using iloc\n",
        "#Count missing data\n",
        "for i in records.iloc[:,0:]: \n",
        "  miss=records[i].isna().sum()\n",
        "  print(i,'missing: ', miss)\n"
      ]
    },
    {
      "cell_type": "code",
      "execution_count": null,
      "metadata": {
        "id": "PI1i0nBAyr7B"
      },
      "outputs": [],
      "source": [
        "#another way to find missing data is using the function isnull()\n",
        "#read about isnull() here https://pandas.pydata.org/docs/reference/api/pandas.isnull.html \n",
        "#read further at https://www.sharpsightlabs.com/blog/pandas-isnull/ \n",
        "print(records.isnull().sum())"
      ]
    },
    {
      "cell_type": "markdown",
      "metadata": {
        "id": "6NuVt14sdE30"
      },
      "source": [
        "## **Variable analysis**\n",
        "\n",
        "Stats and visualtion\n",
        "1.  Univariate analysis\n",
        "2.  Bivariate analysis\n",
        "3.  Multivariate analysis\n",
        "\n",
        "\n"
      ]
    },
    {
      "cell_type": "markdown",
      "metadata": {
        "id": "sUv7Rse2r1PL"
      },
      "source": [
        "**Univariate analysis explores and visualises each variable at a time**\n"
      ]
    },
    {
      "cell_type": "code",
      "execution_count": null,
      "metadata": {
        "id": "QfX3RkXzbdi9"
      },
      "outputs": [],
      "source": [
        "#overview \n",
        "records.describe()\n"
      ]
    },
    {
      "cell_type": "code",
      "execution_count": null,
      "metadata": {
        "id": "Uq2kPmNibTyv"
      },
      "outputs": [],
      "source": [
        "#set the formatting for floating numbers \n",
        "pd.set_option('display.float_format', lambda x: '%.3f' % x)\n",
        "\n",
        "data_types =['object', 'float', 'int'] \n",
        "records.describe(include=data_types)"
      ]
    },
    {
      "cell_type": "markdown",
      "metadata": {
        "id": "rzDxFh11nybi"
      },
      "source": [
        "## **You can use stats results to decide on and handle missing data**"
      ]
    },
    {
      "cell_type": "code",
      "execution_count": null,
      "metadata": {
        "id": "rTxkh6jBlM5C"
      },
      "outputs": [],
      "source": [
        "#describe categorical variables\n",
        "records['area'].describe()"
      ]
    },
    {
      "cell_type": "code",
      "execution_count": null,
      "metadata": {
        "id": "KJkrrgFR0UMT"
      },
      "outputs": [],
      "source": [
        "#describe categorical variables\n",
        "records['furnishingstatus'].describe()"
      ]
    },
    {
      "cell_type": "code",
      "execution_count": null,
      "metadata": {
        "id": "1vgcFT4Fk4c9"
      },
      "outputs": [],
      "source": [
        "records['mainroad'].describe()"
      ]
    },
    {
      "cell_type": "code",
      "execution_count": null,
      "metadata": {
        "id": "JrI8LwQvkrv8"
      },
      "outputs": [],
      "source": [
        "records['mainroad'].mode()[0]"
      ]
    },
    {
      "cell_type": "code",
      "execution_count": null,
      "metadata": {
        "id": "hrbtlNw2rucG"
      },
      "outputs": [],
      "source": [
        "#Fill in missing numerical data with mean and categorical data with mode\n",
        "records['area'].fillna(records['area'].mean(),inplace=True)\n",
        "records['furnishingstatus'].fillna(records['furnishingstatus'].mode()[0], inplace=True) #there can be more than one mode\n",
        "\n",
        "#do it yourself for mainroad"
      ]
    },
    {
      "cell_type": "markdown",
      "metadata": {
        "id": "zuLcNFaRf_da"
      },
      "source": [
        "**Visualise each numerical variable**"
      ]
    },
    {
      "cell_type": "code",
      "execution_count": null,
      "metadata": {
        "id": "cangeJqbb-0H"
      },
      "outputs": [],
      "source": [
        "#using seaborn https://seaborn.pydata.org/generated/seaborn.histplot.html\n"
      ]
    },
    {
      "cell_type": "code",
      "execution_count": null,
      "metadata": {
        "id": "VrrauM8heLZ9"
      },
      "outputs": [],
      "source": [
        "#create a boxplot\n"
      ]
    },
    {
      "cell_type": "markdown",
      "metadata": {
        "id": "bFURG_IVfbhX"
      },
      "source": [
        "**It's your turn: explore other numerical variables**"
      ]
    },
    {
      "cell_type": "code",
      "execution_count": null,
      "metadata": {
        "id": "ecfOIXuSeBE-"
      },
      "outputs": [],
      "source": [
        "#visualise other numerical variables one at a time\n"
      ]
    },
    {
      "cell_type": "markdown",
      "metadata": {
        "id": "sWkjpMIugDkb"
      },
      "source": [
        "**Explore each categorical variable**"
      ]
    },
    {
      "cell_type": "code",
      "execution_count": null,
      "metadata": {
        "id": "fMEqUtokWARJ"
      },
      "outputs": [],
      "source": [
        "#explore each categorial variable\n",
        "print(records['furnishingstatus'].value_counts())\n",
        "print('Furnishing Status mode: ', records['furnishingstatus'].mode())"
      ]
    },
    {
      "cell_type": "code",
      "execution_count": null,
      "metadata": {
        "id": "gyo2GroIb3XE"
      },
      "outputs": [],
      "source": [
        "#Another way to do it\n",
        "records.furnishingstatus.value_counts()"
      ]
    },
    {
      "cell_type": "markdown",
      "metadata": {
        "id": "GV9tbbwlQ727"
      },
      "source": [
        "Do it yourself for other categorical variables"
      ]
    },
    {
      "cell_type": "markdown",
      "metadata": {
        "id": "-i1gyOcIdjrM"
      },
      "source": [
        "**Visualise each categorical variable**"
      ]
    },
    {
      "cell_type": "code",
      "execution_count": null,
      "metadata": {
        "id": "WWWSiKPqjxme"
      },
      "outputs": [],
      "source": [
        "#Using seaborn\n",
        "sns.countplot(x=records['bathrooms'])"
      ]
    },
    {
      "cell_type": "markdown",
      "metadata": {
        "id": "S59qd17alBS5"
      },
      "source": [
        "**Visualise other categorical variables**"
      ]
    },
    {
      "cell_type": "code",
      "execution_count": null,
      "metadata": {
        "id": "owNEshpvAb1G"
      },
      "outputs": [],
      "source": [
        "cat_variables = ['bedrooms', 'bathrooms','stories', 'parking','mainroad','guestroom','basement', 'hotwaterheating', 'airconditioning', 'prefarea', 'furnishingstatus']\n",
        "for i in cat_variables:\n",
        "   plt.figure()\n",
        "   sns.countplot(x=records[i])\n"
      ]
    },
    {
      "cell_type": "markdown",
      "metadata": {
        "id": "3qFNG7wdoCRo"
      },
      "source": [
        "## **Multivariate visualisation**"
      ]
    },
    {
      "cell_type": "markdown",
      "metadata": {
        "id": "wVhE8RE3p6E9"
      },
      "source": [
        "**Display a countplot for one categorical variable grouped by a second categorical variable**\n",
        "https://seaborn.pydata.org/generated/seaborn.countplot.html "
      ]
    },
    {
      "cell_type": "code",
      "execution_count": null,
      "metadata": {
        "id": "ngWnxNtPoBvQ"
      },
      "outputs": [],
      "source": [
        "sns.countplot(data=records, x='prefarea', hue='mainroad')"
      ]
    },
    {
      "cell_type": "code",
      "execution_count": null,
      "metadata": {
        "id": "gQ7V5rm2qkNn"
      },
      "outputs": [],
      "source": [
        "#Do it yourself \n"
      ]
    },
    {
      "cell_type": "markdown",
      "metadata": {
        "id": "gImjNDaxqsII"
      },
      "source": [
        "**Compare distributions of numerical variables using boxplots**\n",
        "https://seaborn.pydata.org/generated/seaborn.boxplot.html"
      ]
    },
    {
      "cell_type": "code",
      "execution_count": null,
      "metadata": {
        "id": "FPQlu_iNq5x1"
      },
      "outputs": [],
      "source": [
        "sns.boxplot(data=records, x='price', y='basement')"
      ]
    },
    {
      "cell_type": "code",
      "execution_count": null,
      "metadata": {
        "id": "bmjsxihkuAiZ"
      },
      "outputs": [],
      "source": [
        "#Do it yourself, hint: using x=  y= and hue="
      ]
    },
    {
      "cell_type": "markdown",
      "metadata": {
        "id": "ctAlgYHWsvDt"
      },
      "source": [
        "**Ploting diagram to see relationships between two numerical variables**\n",
        "https://seaborn.pydata.org/generated/seaborn.scatterplot.html "
      ]
    },
    {
      "cell_type": "code",
      "execution_count": null,
      "metadata": {
        "id": "ugO4zhQjs6-N"
      },
      "outputs": [],
      "source": [
        "sns.scatterplot(data=records, x='area', y='price')"
      ]
    },
    {
      "cell_type": "code",
      "execution_count": null,
      "metadata": {
        "id": "CEW7Dam4q5h2"
      },
      "outputs": [],
      "source": [
        "#Let't move price to the first column\n",
        "first_column=records.pop('price')\n",
        "records.insert(0,'price',first_column)"
      ]
    },
    {
      "cell_type": "code",
      "execution_count": null,
      "metadata": {
        "id": "RAXcBLe_rQ45"
      },
      "outputs": [],
      "source": [
        "records.iloc[9:14]"
      ]
    },
    {
      "cell_type": "code",
      "execution_count": null,
      "metadata": {
        "id": "jbTAr7iU1lu1"
      },
      "outputs": [],
      "source": [
        "#generate heatmaps to explore relationships\n",
        "sns.heatmap(records.corr(), square=True, cmap='Blues', annot=True)\n",
        "plt.show()"
      ]
    },
    {
      "cell_type": "code",
      "execution_count": null,
      "metadata": {
        "id": "UmdChe8cr7ay"
      },
      "outputs": [],
      "source": [
        "#generate dendrograms to show hierarchical clustering  \n",
        "sns.clustermap(records.corr(), square=True, cmap='Blues', annot=True, row_cluster=False)\n",
        "plt.show()"
      ]
    },
    {
      "cell_type": "markdown",
      "metadata": {
        "id": "pr7KG-TaudQ9"
      },
      "source": [
        "## **Encoding data**"
      ]
    },
    {
      "cell_type": "code",
      "execution_count": null,
      "metadata": {
        "id": "oJz7BvR4yefn"
      },
      "outputs": [],
      "source": [
        "#Last week, we learned to convert categorical variables to numerical using LabelEncoder\n",
        "from sklearn.preprocessing import LabelEncoder\n",
        "\n",
        "encoder = LabelEncoder()\n",
        "records['mainroad_N'] = encoder.fit_transform(records['mainroad'])\n",
        "records['basement_N'] = encoder.fit_transform(records['basement'])\n"
      ]
    },
    {
      "cell_type": "code",
      "execution_count": null,
      "metadata": {
        "id": "PP9w1Qkcf2Z2"
      },
      "outputs": [],
      "source": [
        "#there are other ways of doing this, for example\n",
        "records['hotwaterheating_N'] = records['hotwaterheating'].apply(lambda x: 1 if x == 'yes' else 0)\n",
        "\n",
        "records.sample(10)"
      ]
    },
    {
      "cell_type": "code",
      "execution_count": null,
      "metadata": {
        "id": "xizqm2pi3MVB"
      },
      "outputs": [],
      "source": [
        "#Another way is getting all catagorical columns\n",
        "cat_variables = records.select_dtypes(include=['object']).columns\n",
        "#Convert categorical columns to numeric\n",
        "records[cat_variables] = records[cat_variables].apply(encoder.fit_transform)\n",
        "\n",
        "# Display the updated dataset\n",
        "print(records)"
      ]
    },
    {
      "cell_type": "code",
      "execution_count": null,
      "metadata": {
        "id": "jQQdYSUSmxv0"
      },
      "outputs": [],
      "source": [
        "#OPTIONAL\n",
        "#another day, defining your OWN function\n",
        "#convert categorical data to numerical \n",
        "def coding_furnishingstatus(x):\n",
        "        if x=='furnished': return 3\n",
        "        if x=='semi-furnished': return 2\n",
        "        if x=='unfurnished': return 1\n",
        "       \n",
        "records['furnishingstatus_N'] = records['furnishingstatus'].apply(coding_furnishingstatus)\n",
        "\n",
        "records.iloc[9:14]"
      ]
    },
    {
      "cell_type": "code",
      "execution_count": null,
      "metadata": {
        "id": "2a30-j2gSrkY"
      },
      "outputs": [],
      "source": [
        "#write code to drop redudant columns\n",
        "records= records.drop(['mainroad_N','basement_N','hotwaterheating_N','furnishingstatus_N'], axis=1)\n",
        "print(records.info())"
      ]
    },
    {
      "cell_type": "markdown",
      "metadata": {
        "id": "e8w0AH6goeGH"
      },
      "source": [
        "## **Feature Selection**"
      ]
    },
    {
      "cell_type": "code",
      "execution_count": null,
      "metadata": {
        "id": "A1yuaf3dojEa"
      },
      "outputs": [],
      "source": [
        "#feature selection\n",
        "features=['area']\n",
        "X=records[features]\n",
        "X.head()"
      ]
    },
    {
      "cell_type": "code",
      "execution_count": null,
      "metadata": {
        "id": "BgpVhBuosoeH"
      },
      "outputs": [],
      "source": [
        "#specify the label\n",
        "y=records['price']\n",
        "y.head()"
      ]
    },
    {
      "cell_type": "markdown",
      "metadata": {
        "id": "7ZZL19jGNYpv"
      },
      "source": [
        "## **Split the Dataset**\n",
        "\n",
        "Split arrays or matrices into random train and test subsets\n",
        "https://scikit-learn.org/stable/modules/generated/sklearn.model_selection.train_test_split.html?highlight=train_test_split#sklearn.model_selection.train_test_split"
      ]
    },
    {
      "cell_type": "code",
      "execution_count": null,
      "metadata": {
        "id": "5WQVc9ZINezn"
      },
      "outputs": [],
      "source": [
        "from sklearn.model_selection import train_test_split # Import train_test_split function\n",
        "\n",
        "# Split dataset into training set 70% and test set 30%\n",
        "X_train, X_test, y_train, y_test = train_test_split(X, y, test_size=0.3, random_state=1)  # 70% training and 30% testing \n",
        "\n",
        "#inspect the split datasets\n",
        "print(X_train.head())\n",
        "print(y_train.head())\n",
        "\n",
        "print('Training dataset size:',X_train.shape)\n",
        "print('Test dataset size:',y_train.shape)\n"
      ]
    },
    {
      "cell_type": "markdown",
      "metadata": {
        "id": "nTtxQ1QBNuCM"
      },
      "source": [
        "## **Training a Linear Regression Model**\n",
        "\n",
        "1.   Train a model using the training dataset\n",
        "2.   Make prediction using the model for the test dataset\n",
        "\n",
        "Read about Linear Regression https://scikit-learn.org/stable/modules/linear_model.html\n",
        "\n",
        "LinearRegression will take in its fit method arrays X, y and will store the coefficients of the linear model in its coef_ member\n",
        "\n",
        "\n",
        "\n",
        "\n"
      ]
    },
    {
      "cell_type": "code",
      "execution_count": null,
      "metadata": {
        "id": "RR3ToASD9gQn"
      },
      "outputs": [],
      "source": [
        "#import linear_model \n",
        "from sklearn import linear_model\n",
        "\n",
        "#create a linear_model object\n",
        "reg = linear_model.LinearRegression()"
      ]
    },
    {
      "cell_type": "markdown",
      "metadata": {
        "id": "VdDReKfo-y_a"
      },
      "source": [
        "**Train a model**"
      ]
    },
    {
      "cell_type": "code",
      "execution_count": null,
      "metadata": {
        "id": "dXKo616v-2QR"
      },
      "outputs": [],
      "source": [
        "# Train a Regression model (regressor) with the training dataset \n",
        "reg=reg.fit(X_train, y_train)"
      ]
    },
    {
      "cell_type": "markdown",
      "metadata": {
        "id": "WsV73z5p_0JN"
      },
      "source": [
        "**Make predictions using the model and the test set**"
      ]
    },
    {
      "cell_type": "code",
      "execution_count": null,
      "metadata": {
        "id": "2wJ257lt_nQu"
      },
      "outputs": [],
      "source": [
        "#Make predictions for the test dataset\n",
        "y_pred = reg.predict(X_test)\n"
      ]
    },
    {
      "cell_type": "markdown",
      "metadata": {
        "id": "u36dEmg-AaAY"
      },
      "source": [
        "**Inspect the predictions and the original labels**"
      ]
    },
    {
      "cell_type": "code",
      "execution_count": null,
      "metadata": {
        "id": "3hdMwjK0Ae_I"
      },
      "outputs": [],
      "source": [
        "plt.scatter(y_test, y_pred) \n",
        "plt.xlabel(\"Actual prices\") \n",
        "plt.ylabel(\"Predicted prices\") \n",
        "plt.title(\"Actual prices vs Predicted prices\")\n",
        "plt.show()"
      ]
    },
    {
      "cell_type": "code",
      "execution_count": null,
      "metadata": {
        "id": "1X3Nu4SCOGnI"
      },
      "outputs": [],
      "source": [
        "#set the formatting for floating numbers \n",
        "pd.set_option('display.float_format', lambda x: '%.0f' % x)\n",
        "area=X_test['area']\n",
        "#inspection\n",
        "inspection=pd.DataFrame({'Actual':y_test, 'Predicted':y_pred})\n",
        "inspection=pd.DataFrame({'Area':area, 'Actual':y_test, 'Predicted':y_pred})\n",
        "inspection.head(20)"
      ]
    },
    {
      "cell_type": "markdown",
      "metadata": {
        "id": "4qeFLgTpBuaI"
      },
      "source": [
        "**Getting the Intercept and Coefficients**"
      ]
    },
    {
      "cell_type": "code",
      "execution_count": null,
      "metadata": {
        "id": "tXUyxJU_Bj3_"
      },
      "outputs": [],
      "source": [
        "print('%.2f' % reg.intercept_) \n",
        "print('%.2f' % reg.coef_)\n",
        "print('Price = ', '%.2f' % reg.intercept_, ' + ', '%.2f' % reg.coef_, ' * ', 'Area' )\n"
      ]
    },
    {
      "cell_type": "code",
      "execution_count": null,
      "metadata": {
        "id": "Xrls5sSrD0lM"
      },
      "outputs": [],
      "source": [
        "sns.scatterplot(data=inspection, x='Area', y='Actual')\n",
        "sns.regplot(data=inspection, x='Area', y='Predicted', color='blue')"
      ]
    },
    {
      "cell_type": "markdown",
      "metadata": {
        "id": "gt9r3oheFQec"
      },
      "source": [
        "## **Performance Metrics**"
      ]
    },
    {
      "cell_type": "code",
      "execution_count": null,
      "metadata": {
        "id": "JKKFXd68CIQd"
      },
      "outputs": [],
      "source": [
        "from sklearn.metrics import r2_score\n",
        "r2 = r2_score(y_test, y_pred)\n",
        "print(f\"R-squared: {r2:.2f}\")"
      ]
    },
    {
      "cell_type": "code",
      "execution_count": null,
      "metadata": {
        "id": "fsA4H5wNK6E9"
      },
      "outputs": [],
      "source": [
        "from sklearn.metrics import mean_absolute_error\n",
        "\n",
        "# Calculate and print the mean absolute error\n",
        "mae = mean_absolute_error(y_test, y_pred)\n",
        "print(f\"Mean Absolute Error: {mae:.0f}\")"
      ]
    },
    {
      "cell_type": "code",
      "execution_count": null,
      "metadata": {
        "id": "5BJhHRUkLwhc"
      },
      "outputs": [],
      "source": [
        "from sklearn.metrics import mean_squared_error\n",
        "\n",
        "# Calculate and print the root mean square error\n",
        "rmse = np.sqrt(mean_squared_error(y_test, y_pred))\n",
        "print(f\"Root Mean Square Error: {rmse:.0f}\")"
      ]
    },
    {
      "cell_type": "code",
      "execution_count": null,
      "metadata": {
        "id": "afZrnYEJObag"
      },
      "outputs": [],
      "source": [
        "#Examine the performance using the descriptive stats of proice \n",
        "records['price'].describe()"
      ]
    },
    {
      "cell_type": "markdown",
      "metadata": {
        "id": "CeHpkqHcTmC6"
      },
      "source": [
        "## **Repeat from the feature selection steps to create multiple linear regression model**"
      ]
    },
    {
      "cell_type": "code",
      "execution_count": null,
      "metadata": {
        "id": "dOZOFVU9EaKp"
      },
      "outputs": [],
      "source": [
        "#run the following code and examine the correlations among the variables\n",
        "records.corr()"
      ]
    },
    {
      "cell_type": "code",
      "execution_count": null,
      "metadata": {
        "id": "Gaz_MZbBUHCO"
      },
      "outputs": [],
      "source": [
        "#select relevant features and train and evaluate a model"
      ]
    },
    {
      "cell_type": "markdown",
      "metadata": {
        "id": "0qe2xZt_3weE"
      },
      "source": [
        "# Try it yourself! \n",
        "\n",
        "**Do it yourself:** Repeat the above steps with the insurance dataset to consilidate your learning"
      ]
    },
    {
      "cell_type": "markdown",
      "source": [
        "## Loading libraries"
      ],
      "metadata": {
        "id": "R90z3fZlnfr2"
      }
    },
    {
      "cell_type": "code",
      "source": [
        "import numpy as np \n",
        "import pandas as pd \n",
        "import os\n",
        "import matplotlib.pyplot as plt\n",
        "import seaborn as sns\n",
        "from sklearn.linear_model import LinearRegression\n",
        "from sklearn.model_selection import train_test_split\n",
        "from sklearn.preprocessing import PolynomialFeatures\n",
        "from sklearn.metrics import r2_score,mean_squared_error, mean_absolute_error"
      ],
      "metadata": {
        "id": "RkAnAyf8wpOy"
      },
      "execution_count": 1,
      "outputs": []
    },
    {
      "cell_type": "markdown",
      "source": [
        "## Import dataset"
      ],
      "metadata": {
        "id": "JyiY1CzHxcHZ"
      }
    },
    {
      "cell_type": "code",
      "source": [
        "# Load data using pandas.read_csv(filepath_or_url, sep=',')\n",
        "url = 'https://raw.githubusercontent.com/thuc-github/MIS710-T12023/main/Week%203/insurance.csv'\n",
        "\n",
        "df = pd.read_csv(url)\n"
      ],
      "metadata": {
        "id": "0_ThSWV7ws1W"
      },
      "execution_count": 2,
      "outputs": []
    },
    {
      "cell_type": "markdown",
      "source": [
        "## EDA\n",
        "\n",
        "* How many rows and columns in the dataset? \n",
        "* Return the first n rows.\n",
        "* What are the columns and their datatypes?\n",
        "* Is there any missing values? \n",
        "* How to deal with categorical features? \n",
        "* Any strong correlation from the dataset?  \n",
        "* What are the stats for the `charges`? Plot overall distribution of `charges`; and ditribution of chareges for smoker and non-smokers. Practice more with `bmi`, `age` and `sex` variables. \n",
        "\n"
      ],
      "metadata": {
        "id": "hTe1NMnwx6eD"
      }
    },
    {
      "cell_type": "code",
      "source": [
        "# How many rows and columns in the dataset?\n",
        "df\n",
        "\n",
        "# Return the first n rows.\n",
        "df.head()\n",
        "\n",
        "# What are the columns and their datatypes?\n",
        "df.info()\n",
        "\n",
        "# Is there any missing values?\n",
        "df.isnull().sum()\n",
        "\n",
        "# Any strong correlation from the dataset?\n",
        "df.corr()"
      ],
      "metadata": {
        "id": "716hxouZV81v",
        "outputId": "03891397-c08d-48b3-f0b6-65cc6df1bef0",
        "colab": {
          "base_uri": "https://localhost:8080/",
          "height": 428
        }
      },
      "execution_count": 3,
      "outputs": [
        {
          "output_type": "stream",
          "name": "stdout",
          "text": [
            "<class 'pandas.core.frame.DataFrame'>\n",
            "RangeIndex: 1338 entries, 0 to 1337\n",
            "Data columns (total 7 columns):\n",
            " #   Column    Non-Null Count  Dtype  \n",
            "---  ------    --------------  -----  \n",
            " 0   age       1338 non-null   int64  \n",
            " 1   sex       1338 non-null   object \n",
            " 2   bmi       1338 non-null   float64\n",
            " 3   children  1338 non-null   int64  \n",
            " 4   smoker    1338 non-null   object \n",
            " 5   region    1338 non-null   object \n",
            " 6   charges   1338 non-null   float64\n",
            "dtypes: float64(2), int64(2), object(3)\n",
            "memory usage: 73.3+ KB\n"
          ]
        },
        {
          "output_type": "execute_result",
          "data": {
            "text/plain": [
              "               age       bmi  children   charges\n",
              "age       1.000000  0.109272  0.042469  0.299008\n",
              "bmi       0.109272  1.000000  0.012759  0.198341\n",
              "children  0.042469  0.012759  1.000000  0.067998\n",
              "charges   0.299008  0.198341  0.067998  1.000000"
            ],
            "text/html": [
              "\n",
              "  <div id=\"df-60bda089-ea7c-4b49-8cd1-c92726f86438\">\n",
              "    <div class=\"colab-df-container\">\n",
              "      <div>\n",
              "<style scoped>\n",
              "    .dataframe tbody tr th:only-of-type {\n",
              "        vertical-align: middle;\n",
              "    }\n",
              "\n",
              "    .dataframe tbody tr th {\n",
              "        vertical-align: top;\n",
              "    }\n",
              "\n",
              "    .dataframe thead th {\n",
              "        text-align: right;\n",
              "    }\n",
              "</style>\n",
              "<table border=\"1\" class=\"dataframe\">\n",
              "  <thead>\n",
              "    <tr style=\"text-align: right;\">\n",
              "      <th></th>\n",
              "      <th>age</th>\n",
              "      <th>bmi</th>\n",
              "      <th>children</th>\n",
              "      <th>charges</th>\n",
              "    </tr>\n",
              "  </thead>\n",
              "  <tbody>\n",
              "    <tr>\n",
              "      <th>age</th>\n",
              "      <td>1.000000</td>\n",
              "      <td>0.109272</td>\n",
              "      <td>0.042469</td>\n",
              "      <td>0.299008</td>\n",
              "    </tr>\n",
              "    <tr>\n",
              "      <th>bmi</th>\n",
              "      <td>0.109272</td>\n",
              "      <td>1.000000</td>\n",
              "      <td>0.012759</td>\n",
              "      <td>0.198341</td>\n",
              "    </tr>\n",
              "    <tr>\n",
              "      <th>children</th>\n",
              "      <td>0.042469</td>\n",
              "      <td>0.012759</td>\n",
              "      <td>1.000000</td>\n",
              "      <td>0.067998</td>\n",
              "    </tr>\n",
              "    <tr>\n",
              "      <th>charges</th>\n",
              "      <td>0.299008</td>\n",
              "      <td>0.198341</td>\n",
              "      <td>0.067998</td>\n",
              "      <td>1.000000</td>\n",
              "    </tr>\n",
              "  </tbody>\n",
              "</table>\n",
              "</div>\n",
              "      <button class=\"colab-df-convert\" onclick=\"convertToInteractive('df-60bda089-ea7c-4b49-8cd1-c92726f86438')\"\n",
              "              title=\"Convert this dataframe to an interactive table.\"\n",
              "              style=\"display:none;\">\n",
              "        \n",
              "  <svg xmlns=\"http://www.w3.org/2000/svg\" height=\"24px\"viewBox=\"0 0 24 24\"\n",
              "       width=\"24px\">\n",
              "    <path d=\"M0 0h24v24H0V0z\" fill=\"none\"/>\n",
              "    <path d=\"M18.56 5.44l.94 2.06.94-2.06 2.06-.94-2.06-.94-.94-2.06-.94 2.06-2.06.94zm-11 1L8.5 8.5l.94-2.06 2.06-.94-2.06-.94L8.5 2.5l-.94 2.06-2.06.94zm10 10l.94 2.06.94-2.06 2.06-.94-2.06-.94-.94-2.06-.94 2.06-2.06.94z\"/><path d=\"M17.41 7.96l-1.37-1.37c-.4-.4-.92-.59-1.43-.59-.52 0-1.04.2-1.43.59L10.3 9.45l-7.72 7.72c-.78.78-.78 2.05 0 2.83L4 21.41c.39.39.9.59 1.41.59.51 0 1.02-.2 1.41-.59l7.78-7.78 2.81-2.81c.8-.78.8-2.07 0-2.86zM5.41 20L4 18.59l7.72-7.72 1.47 1.35L5.41 20z\"/>\n",
              "  </svg>\n",
              "      </button>\n",
              "      \n",
              "  <style>\n",
              "    .colab-df-container {\n",
              "      display:flex;\n",
              "      flex-wrap:wrap;\n",
              "      gap: 12px;\n",
              "    }\n",
              "\n",
              "    .colab-df-convert {\n",
              "      background-color: #E8F0FE;\n",
              "      border: none;\n",
              "      border-radius: 50%;\n",
              "      cursor: pointer;\n",
              "      display: none;\n",
              "      fill: #1967D2;\n",
              "      height: 32px;\n",
              "      padding: 0 0 0 0;\n",
              "      width: 32px;\n",
              "    }\n",
              "\n",
              "    .colab-df-convert:hover {\n",
              "      background-color: #E2EBFA;\n",
              "      box-shadow: 0px 1px 2px rgba(60, 64, 67, 0.3), 0px 1px 3px 1px rgba(60, 64, 67, 0.15);\n",
              "      fill: #174EA6;\n",
              "    }\n",
              "\n",
              "    [theme=dark] .colab-df-convert {\n",
              "      background-color: #3B4455;\n",
              "      fill: #D2E3FC;\n",
              "    }\n",
              "\n",
              "    [theme=dark] .colab-df-convert:hover {\n",
              "      background-color: #434B5C;\n",
              "      box-shadow: 0px 1px 3px 1px rgba(0, 0, 0, 0.15);\n",
              "      filter: drop-shadow(0px 1px 2px rgba(0, 0, 0, 0.3));\n",
              "      fill: #FFFFFF;\n",
              "    }\n",
              "  </style>\n",
              "\n",
              "      <script>\n",
              "        const buttonEl =\n",
              "          document.querySelector('#df-60bda089-ea7c-4b49-8cd1-c92726f86438 button.colab-df-convert');\n",
              "        buttonEl.style.display =\n",
              "          google.colab.kernel.accessAllowed ? 'block' : 'none';\n",
              "\n",
              "        async function convertToInteractive(key) {\n",
              "          const element = document.querySelector('#df-60bda089-ea7c-4b49-8cd1-c92726f86438');\n",
              "          const dataTable =\n",
              "            await google.colab.kernel.invokeFunction('convertToInteractive',\n",
              "                                                     [key], {});\n",
              "          if (!dataTable) return;\n",
              "\n",
              "          const docLinkHtml = 'Like what you see? Visit the ' +\n",
              "            '<a target=\"_blank\" href=https://colab.research.google.com/notebooks/data_table.ipynb>data table notebook</a>'\n",
              "            + ' to learn more about interactive tables.';\n",
              "          element.innerHTML = '';\n",
              "          dataTable['output_type'] = 'display_data';\n",
              "          await google.colab.output.renderOutput(dataTable, element);\n",
              "          const docLink = document.createElement('div');\n",
              "          docLink.innerHTML = docLinkHtml;\n",
              "          element.appendChild(docLink);\n",
              "        }\n",
              "      </script>\n",
              "    </div>\n",
              "  </div>\n",
              "  "
            ]
          },
          "metadata": {},
          "execution_count": 3
        }
      ]
    },
    {
      "cell_type": "code",
      "source": [
        "# Correlation plot\n",
        "f, ax = plt.subplots(figsize=(10, 8))\n",
        "corr = df.corr()\n",
        "sns.heatmap(corr, mask=np.zeros_like(corr, dtype=np.bool), cmap=sns.diverging_palette(240,10,as_cmap=True),\n",
        "            square=True, ax=ax)"
      ],
      "metadata": {
        "id": "0N8FHWVPAICT",
        "outputId": "060b3161-2c4f-4faf-cbf7-dbbc0fef4c44",
        "colab": {
          "base_uri": "https://localhost:8080/",
          "height": 579
        }
      },
      "execution_count": 4,
      "outputs": [
        {
          "output_type": "stream",
          "name": "stderr",
          "text": [
            "<ipython-input-4-cc4cd72a8cfc>:4: DeprecationWarning: `np.bool` is a deprecated alias for the builtin `bool`. To silence this warning, use `bool` by itself. Doing this will not modify any behavior and is safe. If you specifically wanted the numpy scalar type, use `np.bool_` here.\n",
            "Deprecated in NumPy 1.20; for more details and guidance: https://numpy.org/devdocs/release/1.20.0-notes.html#deprecations\n",
            "  sns.heatmap(corr, mask=np.zeros_like(corr, dtype=np.bool), cmap=sns.diverging_palette(240,10,as_cmap=True),\n"
          ]
        },
        {
          "output_type": "execute_result",
          "data": {
            "text/plain": [
              "<Axes: >"
            ]
          },
          "metadata": {},
          "execution_count": 4
        },
        {
          "output_type": "display_data",
          "data": {
            "text/plain": [
              "<Figure size 720x576 with 2 Axes>"
            ],
            "image/png": "[encoded data removed]"
          },
          "metadata": {
            "needs_background": "light"
          }
        }
      ]
    },
    {
      "cell_type": "code",
      "source": [
        "# How to deal with categorical features?\n",
        "\n",
        "from sklearn.preprocessing import LabelEncoder\n",
        "#sex\n",
        "le = LabelEncoder()\n",
        "le.fit(df.sex.drop_duplicates()) \n",
        "df.sex = le.transform(df.sex)\n",
        "# smoker or not\n",
        "le.fit(df.smoker.drop_duplicates()) \n",
        "df.smoker = le.transform(df.smoker)\n",
        "#region\n",
        "le.fit(df.region.drop_duplicates()) \n",
        "df.region = le.transform(df.region)\n"
      ],
      "metadata": {
        "id": "x7XhrQLN2vQy"
      },
      "execution_count": 5,
      "outputs": []
    },
    {
      "cell_type": "code",
      "source": [
        "''' \n",
        "What are the stats for the charges? Plot overall distribution of charges; \n",
        "and ditribution of chareges for smoker and non-smokers. \n",
        "'''\n",
        "df.charges.describe()"
      ],
      "metadata": {
        "id": "ifzyfkCzWgEH",
        "outputId": "b98ae121-2613-495a-d367-ae11829173ec",
        "colab": {
          "base_uri": "https://localhost:8080/"
        }
      },
      "execution_count": 6,
      "outputs": [
        {
          "output_type": "execute_result",
          "data": {
            "text/plain": [
              "count     1338.000000\n",
              "mean     13270.422265\n",
              "std      12110.011237\n",
              "min       1121.873900\n",
              "25%       4740.287150\n",
              "50%       9382.033000\n",
              "75%      16639.912515\n",
              "max      63770.428010\n",
              "Name: charges, dtype: float64"
            ]
          },
          "metadata": {},
          "execution_count": 6
        }
      ]
    },
    {
      "cell_type": "code",
      "source": [
        "df.charges.hist(bins=50, figsize=(12,8))"
      ],
      "metadata": {
        "id": "fcS7URxjWrM3",
        "outputId": "9dbdc6c0-96bb-48d7-d153-2b869dc7c537",
        "colab": {
          "base_uri": "https://localhost:8080/",
          "height": 501
        }
      },
      "execution_count": 7,
      "outputs": [
        {
          "output_type": "execute_result",
          "data": {
            "text/plain": [
              "<Axes: >"
            ]
          },
          "metadata": {},
          "execution_count": 7
        },
        {
          "output_type": "display_data",
          "data": {
            "text/plain": [
              "<Figure size 864x576 with 1 Axes>"
            ],
            "image/png": "[encoded data removed]"
          },
          "metadata": {
            "needs_background": "light"
          }
        }
      ]
    },
    {
      "cell_type": "code",
      "source": [
        "df.charges.hist(by=df.smoker, bins=50, figsize=(12,8))"
      ],
      "metadata": {
        "id": "DhnsWD_sWz26",
        "outputId": "abae3a5f-5522-4612-edce-d4a7ebd824ba",
        "colab": {
          "base_uri": "https://localhost:8080/",
          "height": 553
        }
      },
      "execution_count": 8,
      "outputs": [
        {
          "output_type": "execute_result",
          "data": {
            "text/plain": [
              "array([<Axes: title={'center': '0'}>, <Axes: title={'center': '1'}>],\n",
              "      dtype=object)"
            ]
          },
          "metadata": {},
          "execution_count": 8
        },
        {
          "output_type": "display_data",
          "data": {
            "text/plain": [
              "<Figure size 864x576 with 2 Axes>"
            ],
            "image/png": "[encoded data removed]"
          },
          "metadata": {
            "needs_background": "light"
          }
        }
      ]
    },
    {
      "cell_type": "code",
      "source": [
        "# Alternative using seaborn\n",
        "\n",
        "f= plt.figure(figsize=(12,5))\n",
        "\n",
        "ax=f.add_subplot(121)\n",
        "sns.distplot(df[(df.smoker == 1)][\"charges\"],color='c',ax=ax)\n",
        "ax.set_title('Distribution of charges for smokers')\n",
        "\n",
        "ax=f.add_subplot(122, sharex = ax)\n",
        "sns.distplot(df[(df.smoker == 0)]['charges'],color='b',ax=ax)\n",
        "ax.set_title('Distribution of charges for non-smokers')"
      ],
      "metadata": {
        "id": "85DCFc2uBsRd",
        "outputId": "c0591f6c-b001-4042-e7a1-0ae45e1256f4",
        "colab": {
          "base_uri": "https://localhost:8080/",
          "height": 766
        }
      },
      "execution_count": 9,
      "outputs": [
        {
          "output_type": "stream",
          "name": "stderr",
          "text": [
            "<ipython-input-9-c051c0ca3e97>:6: UserWarning: \n",
            "\n",
            "`distplot` is a deprecated function and will be removed in seaborn v0.14.0.\n",
            "\n",
            "Please adapt your code to use either `displot` (a figure-level function with\n",
            "similar flexibility) or `histplot` (an axes-level function for histograms).\n",
            "\n",
            "For a guide to updating your code to use the new functions, please see\n",
            "https://gist.github.com/mwaskom/de44147ed2974457ad6372750bbe5751\n",
            "\n",
            "  sns.distplot(df[(df.smoker == 1)][\"charges\"],color='c',ax=ax)\n",
            "<ipython-input-9-c051c0ca3e97>:10: UserWarning: \n",
            "\n",
            "`distplot` is a deprecated function and will be removed in seaborn v0.14.0.\n",
            "\n",
            "Please adapt your code to use either `displot` (a figure-level function with\n",
            "similar flexibility) or `histplot` (an axes-level function for histograms).\n",
            "\n",
            "For a guide to updating your code to use the new functions, please see\n",
            "https://gist.github.com/mwaskom/de44147ed2974457ad6372750bbe5751\n",
            "\n",
            "  sns.distplot(df[(df.smoker == 0)]['charges'],color='b',ax=ax)\n"
          ]
        },
        {
          "output_type": "execute_result",
          "data": {
            "text/plain": [
              "Text(0.5, 1.0, 'Distribution of charges for non-smokers')"
            ]
          },
          "metadata": {},
          "execution_count": 9
        },
        {
          "output_type": "display_data",
          "data": {
            "text/plain": [
              "<Figure size 864x360 with 2 Axes>"
            ],
            "image/png": "[encoded data removed]"
          },
          "metadata": {
            "needs_background": "light"
          }
        }
      ]
    },
    {
      "cell_type": "markdown",
      "source": [
        "## Data preparation \n",
        "\n",
        "\n",
        "1.   Prepare X, y\n",
        "2.   Prepare X_train, X_test, y_train, y_test (hint: using `train_test_split')\n",
        "\n"
      ],
      "metadata": {
        "id": "KmoCcKvKyOHx"
      }
    },
    {
      "cell_type": "code",
      "source": [
        "X = df.drop(['charges'], axis = 1)\n",
        "y = df.charges\n",
        "\n",
        "X_train, X_test, y_train, y_test = train_test_split(X, y, test_size=0.2, random_state = 0)"
      ],
      "metadata": {
        "id": "ZSbs7Hu42vL_"
      },
      "execution_count": 10,
      "outputs": []
    },
    {
      "cell_type": "markdown",
      "source": [
        "## Model implementation\n",
        "\n",
        "1. Try with the original data. What's the performance?\n",
        "2. Let's add data normalisation. Has the performance been improved?"
      ],
      "metadata": {
        "id": "vtvVRhsy0P29"
      }
    },
    {
      "cell_type": "code",
      "source": [
        "lr = LinearRegression().fit(X_train,y_train)\n",
        "\n",
        "y_train_pred = lr.predict(X_train)\n",
        "y_test_pred = lr.predict(X_test)\n",
        "\n",
        "print('MSE_Train: {}, MSE_Test: {}, MAE_Train: {}, MAE_Test: {}'.format(mean_squared_error(y_train, y_train_pred),\n",
        "                                                      mean_squared_error(y_test, y_test_pred),\n",
        "                                                      mean_absolute_error(y_train, y_train_pred),\n",
        "                                                      mean_absolute_error(y_test, y_test_pred)))\n",
        "\n",
        "print('R2 train data: %.3f, R2 test data: %.3f' % (\n",
        "r2_score(y_train,y_train_pred),\n",
        "r2_score(y_test,y_test_pred)))"
      ],
      "metadata": {
        "id": "rclQ0qPI2rq3",
        "outputId": "d6824006-cbba-4db8-b6de-ebcb533f4b5e",
        "colab": {
          "base_uri": "https://localhost:8080/"
        }
      },
      "execution_count": 11,
      "outputs": [
        {
          "output_type": "stream",
          "name": "stdout",
          "text": [
            "MSE_Train: 37729580.5098492, MSE_Test: 31845929.13415943, MAE_Train: 4235.3838760320905, MAE_Test: 3930.3332739011403\n",
            "R2 train data: 0.737, R2 test data: 0.800\n"
          ]
        }
      ]
    },
    {
      "cell_type": "code",
      "source": [
        "plt.figure(figsize=(10,6))\n",
        "\n",
        "plt.scatter(y_train_pred, y_train_pred - y_train,\n",
        "          c = 'black', marker = 'o', s = 35, alpha = 0.5,\n",
        "          label = 'Train data')\n",
        "plt.scatter(y_test_pred, y_test_pred - y_test,\n",
        "          c = 'c', marker = 'o', s = 35, alpha = 0.7,\n",
        "          label = 'Test data')\n",
        "plt.xlabel('Predicted values')\n",
        "plt.ylabel('Tailings')\n",
        "plt.legend(loc = 'upper left')\n",
        "plt.hlines(y = 0, xmin = 0, xmax = 60000, lw = 2, color = 'red')\n",
        "plt.show()"
      ],
      "metadata": {
        "id": "2zKC9yW8C2Kt",
        "outputId": "91cc04e3-e24d-47e3-a674-576755f0e0bf",
        "colab": {
          "base_uri": "https://localhost:8080/",
          "height": 388
        }
      },
      "execution_count": 12,
      "outputs": [
        {
          "output_type": "display_data",
          "data": {
            "text/plain": [
              "<Figure size 720x432 with 1 Axes>"
            ],
            "image/png": "[encoded data removed]"
          },
          "metadata": {
            "needs_background": "light"
          }
        }
      ]
    },
    {
      "cell_type": "code",
      "source": [
        "quad = PolynomialFeatures(degree = 2)\n",
        "X_quad = quad.fit_transform(X)\n",
        "\n",
        "X_train, X_test, y_train, y_test = train_test_split(X_quad, y, test_size=0.2, random_state = 0)\n",
        "\n",
        "plr = LinearRegression().fit(X_train, y_train)\n",
        "\n",
        "y_train_pred = plr.predict(X_train)\n",
        "y_test_pred = plr.predict(X_test)\n",
        "\n",
        "print('MSE_Train: {}, MSE_Test: {}, MAE_Train: {}, MAE_Test: {}'.format(mean_squared_error(y_train, y_train_pred),\n",
        "                                                      mean_squared_error(y_test, y_test_pred),\n",
        "                                                      mean_absolute_error(y_train, y_train_pred),\n",
        "                                                      mean_absolute_error(y_test, y_test_pred)))\n",
        "\n",
        "print('R2 train data: %.3f, R2 test data: %.3f' % (\n",
        "r2_score(y_train,y_train_pred),\n",
        "r2_score(y_test,y_test_pred)))"
      ],
      "metadata": {
        "id": "EUz7srT_CY0O",
        "outputId": "00e7116c-0dec-4781-afc9-82193edb44d0",
        "colab": {
          "base_uri": "https://localhost:8080/"
        }
      },
      "execution_count": 13,
      "outputs": [
        {
          "output_type": "stream",
          "name": "stdout",
          "text": [
            "MSE_Train: 26437340.35473178, MSE_Test: 21504212.79669052, MAE_Train: 3299.448925401869, MAE_Test: 3089.882598615672\n",
            "R2 train data: 0.816, R2 test data: 0.865\n"
          ]
        }
      ]
    },
    {
      "cell_type": "code",
      "source": [
        "plt.figure(figsize=(10,6))\n",
        "\n",
        "plt.scatter(y_train_pred, y_train_pred - y_train,\n",
        "          c = 'black', marker = 'o', s = 35, alpha = 0.5,\n",
        "          label = 'Train data')\n",
        "plt.scatter(y_test_pred, y_test_pred - y_test,\n",
        "          c = 'c', marker = 'o', s = 35, alpha = 0.7,\n",
        "          label = 'Test data')\n",
        "plt.xlabel('Predicted values')\n",
        "plt.ylabel('Tailings')\n",
        "plt.legend(loc = 'upper left')\n",
        "plt.hlines(y = 0, xmin = 0, xmax = 60000, lw = 2, color = 'red')\n",
        "plt.show()"
      ],
      "metadata": {
        "id": "pXD5O4tGCsx_",
        "outputId": "5ec3c0fd-f5bf-4583-efa4-b353a3384c0f",
        "colab": {
          "base_uri": "https://localhost:8080/",
          "height": 388
        }
      },
      "execution_count": 14,
      "outputs": [
        {
          "output_type": "display_data",
          "data": {
            "text/plain": [
              "<Figure size 720x432 with 1 Axes>"
            ],
            "image/png": "[encoded data removed]"
          },
          "metadata": {
            "needs_background": "light"
          }
        }
      ]
    }
  ],
  "metadata": {
    "colab": {
      "provenance": [],
      "toc_visible": true,
      "include_colab_link": true
    },
    "kernelspec": {
      "display_name": "Python 3",
      "name": "python3"
    },
    "language_info": {
      "name": "python"
    }
  },
  "nbformat": 4,
  "nbformat_minor": 0
}