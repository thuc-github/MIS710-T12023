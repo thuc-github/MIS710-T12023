{
  "cells": [
    {
      "cell_type": "markdown",
      "metadata": {
        "id": "view-in-github",
        "colab_type": "text"
      },
      "source": [
        "<a href=\"https://colab.research.google.com/github/thuc-github/MIS710-T12023/blob/main/Week%2010/MIS710_Lab10_NLP.ipynb\" target=\"_parent\"><img src=\"https://colab.research.google.com/assets/colab-badge.svg\" alt=\"Open In Colab\"/></a>"
      ]
    },
    {
      "cell_type": "markdown",
      "metadata": {
        "id": "MNkJtLWoPpW7"
      },
      "source": [
        "\n",
        "# **MIS710 Lab 10 Week 10**\n",
        "Author: Associate Professor Lemai Nguyen\n",
        "\n",
        "Objectives: \n",
        "1. To learn text analytics and NLP basics\n",
        "2. To apply the basic skills on the well-known Internet Movie Database developed by Stanford researcher Andrew Maas.\n",
        "3. To apply the basic skills on another review dataset.\n",
        "4. To learn basic MLOps: saving your model and loading and using it later. \n",
        "\n",
        "Note: There is a separate MIS710_Lab10_NLP_Deployment where you can load the saved model and apply it to make predictions. \n",
        "\n"
      ]
    },
    {
      "cell_type": "markdown",
      "metadata": {
        "id": "SSX6_DT9CA72"
      },
      "source": [
        "# **1. Import Libraries and Functions**\n",
        "\n",
        "Import libraries and functions that are central to this lab**"
      ]
    },
    {
      "cell_type": "code",
      "execution_count": null,
      "metadata": {
        "id": "lVf5buwkml_I"
      },
      "outputs": [],
      "source": [
        "# import libraries \n",
        "import pandas as pd #for data manipulation and analysis\n",
        "import numpy as np\n",
        " \n",
        "import seaborn as sns\n",
        "import matplotlib.pyplot as plt"
      ]
    },
    {
      "cell_type": "markdown",
      "source": [
        "Import classes and functions for ML tasks "
      ],
      "metadata": {
        "id": "Rc0aJzfNqEce"
      }
    },
    {
      "cell_type": "code",
      "execution_count": null,
      "metadata": {
        "id": "GSgFWxqdR3Zx"
      },
      "outputs": [],
      "source": [
        "from sklearn.model_selection import train_test_split\n",
        "from sklearn.linear_model import LogisticRegression\n",
        "from sklearn.neural_network import MLPClassifier"
      ]
    },
    {
      "cell_type": "code",
      "execution_count": null,
      "metadata": {
        "id": "nNs6sdotgQHz"
      },
      "outputs": [],
      "source": [
        "from sklearn import metrics \n",
        "from sklearn.metrics import classification_report, confusion_matrix\n",
        "from sklearn.metrics import roc_curve, roc_auc_score\n",
        "from sklearn.metrics import accuracy_score, precision_score, recall_score, f1_score"
      ]
    },
    {
      "cell_type": "markdown",
      "metadata": {
        "id": "B38Q50gZm1vQ"
      },
      "source": [
        "# **2. Case One: IMDb**\n",
        "\n",
        "**Sentiment analysis**\n",
        "\n",
        "**Context**\n",
        "IMDb stands for the Internet Movie Database, which is an online database of information related to films, television programs, and video games. It contains a vast collection of data on various aspects of the entertainment industry, including cast and crew information, production details, plot summaries, and user ratings and reviews.\n",
        "\n",
        "**Content**\n",
        "The IMDb dataset has been widely used in sentiment analysis research. The dataset contains 50,000 movie reviews. Each review is labeled as either \"positive\" or \"negative\" based on the overall sentiment expressed in the review. \n",
        "\n",
        "The dataset consists of 25,000 highly polar movie reviews for training, and 25,000 for testing. There is additional unlabeled data for use as well. Raw text and already processed bag of words formats are provided. \n",
        "\n",
        "**Inspiration**\n",
        "To train and test a sentiment analysis model\n",
        "\n",
        "**Further information**:\n",
        "Andrew L. Maas, Raymond E. Daly, Peter T. Pham, Dan Huang, Andrew Y. Ng, and Christopher Potts. (2011). Learning Word Vectors for Sentiment Analysis. The 49th Annual Meeting of the Association for Computational Linguistics (ACL 2011). \n",
        "\n",
        "http://ai.stanford.edu/~amaas/data/sentiment/\n"
      ]
    },
    {
      "cell_type": "markdown",
      "metadata": {
        "id": "xPWgO9M_mgUF"
      },
      "source": [
        "## **2.1. Data Loading**"
      ]
    },
    {
      "cell_type": "code",
      "execution_count": null,
      "metadata": {
        "colab": {
          "base_uri": "https://localhost:8080/"
        },
        "id": "cOgMN48MPSEK",
        "outputId": "17f4ab0e-8e4d-4506-c322-39790aaa3543"
      },
      "outputs": [
        {
          "output_type": "stream",
          "name": "stdout",
          "text": [
            "Mounted at /content/drive\n"
          ]
        }
      ],
      "source": [
        "from google.colab import drive\n",
        "drive.mount('/content/drive')"
      ]
    },
    {
      "cell_type": "markdown",
      "source": [
        "Upload your IMDB file from the unit site. It is not a small file to upload to Github."
      ],
      "metadata": {
        "id": "mSzoMGN-qWd2"
      }
    },
    {
      "cell_type": "code",
      "execution_count": null,
      "metadata": {
        "id": "UY9FqiNjUi3U"
      },
      "outputs": [],
      "source": [
        "# load dataset\n",
        "records = pd.read_csv(\"/content/drive/MyDrive/Colab Notebooks/MIS710/IMDb.csv\", index_col=None)"
      ]
    },
    {
      "cell_type": "code",
      "execution_count": null,
      "metadata": {
        "colab": {
          "base_uri": "https://localhost:8080/"
        },
        "id": "PVIL-brRliGL",
        "outputId": "a3286f33-48ae-4a1b-a93f-1c80b70546e9"
      },
      "outputs": [
        {
          "output_type": "stream",
          "name": "stdout",
          "text": [
            "                                                  review sentiment\n",
            "0      One of the other reviewers has mentioned that ...  positive\n",
            "1      A wonderful little production. <br /><br />The...  positive\n",
            "2      I thought this was a wonderful way to spend ti...  positive\n",
            "3      Basically there's a family where a little boy ...  negative\n",
            "4      Petter Mattei's \"Love in the Time of Money\" is...  positive\n",
            "...                                                  ...       ...\n",
            "49995  I thought this movie did a down right good job...  positive\n",
            "49996  Bad plot, bad dialogue, bad acting, idiotic di...  negative\n",
            "49997  I am a Catholic taught in parochial elementary...  negative\n",
            "49998  I'm going to have to disagree with the previou...  negative\n",
            "49999  No one expects the Star Trek movies to be high...  negative\n",
            "\n",
            "[50000 rows x 2 columns]\n"
          ]
        }
      ],
      "source": [
        "#explore the dataset\n",
        "print(records)"
      ]
    },
    {
      "cell_type": "markdown",
      "metadata": {
        "id": "rm39-72_2FHE"
      },
      "source": [
        "## **2.2. Data Preparation, Exploration and Visualisation**"
      ]
    },
    {
      "cell_type": "markdown",
      "metadata": {
        "id": "iVidcigwCK-0"
      },
      "source": [
        "### **Data inspection and cleansing**\n",
        "\n",
        "* Inspect columns and correct data types\n",
        "* Detecting and handling missing data\n"
      ]
    },
    {
      "cell_type": "code",
      "execution_count": null,
      "metadata": {
        "colab": {
          "base_uri": "https://localhost:8080/"
        },
        "id": "TR4gm32UmVcm",
        "outputId": "07f8e5e1-81d0-414d-dddc-9dec2a45ffa7"
      },
      "outputs": [
        {
          "output_type": "stream",
          "name": "stdout",
          "text": [
            "<class 'pandas.core.frame.DataFrame'>\n",
            "RangeIndex: 50000 entries, 0 to 49999\n",
            "Data columns (total 2 columns):\n",
            " #   Column     Non-Null Count  Dtype \n",
            "---  ------     --------------  ----- \n",
            " 0   review     50000 non-null  object\n",
            " 1   sentiment  50000 non-null  object\n",
            "dtypes: object(2)\n",
            "memory usage: 781.4+ KB\n"
          ]
        }
      ],
      "source": [
        "records.info()"
      ]
    },
    {
      "cell_type": "code",
      "execution_count": null,
      "metadata": {
        "colab": {
          "base_uri": "https://localhost:8080/",
          "height": 363
        },
        "id": "DjAFkRhsmYOM",
        "outputId": "5bf1bda4-c818-4b53-e407-2a2133ef5e69"
      },
      "outputs": [
        {
          "output_type": "execute_result",
          "data": {
            "text/plain": [
              "                                                  review sentiment\n",
              "34114  I'll be honest, this is one of the worst movie...  negative\n",
              "14635  Reading some of the other reviews of this film...  positive\n",
              "6847   The only reason any of the hundred or so users...  negative\n",
              "24096  I love movies. I love independent efforts and ...  negative\n",
              "1798   \"Laugh, Clown Laugh\" released in 1928, stars t...  negative\n",
              "15143  I had heard about this movie through a friend,...  negative\n",
              "23604  This thing, directed by french sensation Patri...  negative\n",
              "32710  I had never heard of this one before it turned...  negative\n",
              "32136  When all we have anymore is pretty much realit...  negative\n",
              "42656  I've seen worse films. This is bad but at leas...  negative"
            ],
            "text/html": [
              "\n",
              "  <div id=\"df-e092ef93-4696-4653-bdb8-037fb6af2dc1\">\n",
              "    <div class=\"colab-df-container\">\n",
              "      <div>\n",
              "<style scoped>\n",
              "    .dataframe tbody tr th:only-of-type {\n",
              "        vertical-align: middle;\n",
              "    }\n",
              "\n",
              "    .dataframe tbody tr th {\n",
              "        vertical-align: top;\n",
              "    }\n",
              "\n",
              "    .dataframe thead th {\n",
              "        text-align: right;\n",
              "    }\n",
              "</style>\n",
              "<table border=\"1\" class=\"dataframe\">\n",
              "  <thead>\n",
              "    <tr style=\"text-align: right;\">\n",
              "      <th></th>\n",
              "      <th>review</th>\n",
              "      <th>sentiment</th>\n",
              "    </tr>\n",
              "  </thead>\n",
              "  <tbody>\n",
              "    <tr>\n",
              "      <th>34114</th>\n",
              "      <td>I'll be honest, this is one of the worst movie...</td>\n",
              "      <td>negative</td>\n",
              "    </tr>\n",
              "    <tr>\n",
              "      <th>14635</th>\n",
              "      <td>Reading some of the other reviews of this film...</td>\n",
              "      <td>positive</td>\n",
              "    </tr>\n",
              "    <tr>\n",
              "      <th>6847</th>\n",
              "      <td>The only reason any of the hundred or so users...</td>\n",
              "      <td>negative</td>\n",
              "    </tr>\n",
              "    <tr>\n",
              "      <th>24096</th>\n",
              "      <td>I love movies. I love independent efforts and ...</td>\n",
              "      <td>negative</td>\n",
              "    </tr>\n",
              "    <tr>\n",
              "      <th>1798</th>\n",
              "      <td>\"Laugh, Clown Laugh\" released in 1928, stars t...</td>\n",
              "      <td>negative</td>\n",
              "    </tr>\n",
              "    <tr>\n",
              "      <th>15143</th>\n",
              "      <td>I had heard about this movie through a friend,...</td>\n",
              "      <td>negative</td>\n",
              "    </tr>\n",
              "    <tr>\n",
              "      <th>23604</th>\n",
              "      <td>This thing, directed by french sensation Patri...</td>\n",
              "      <td>negative</td>\n",
              "    </tr>\n",
              "    <tr>\n",
              "      <th>32710</th>\n",
              "      <td>I had never heard of this one before it turned...</td>\n",
              "      <td>negative</td>\n",
              "    </tr>\n",
              "    <tr>\n",
              "      <th>32136</th>\n",
              "      <td>When all we have anymore is pretty much realit...</td>\n",
              "      <td>negative</td>\n",
              "    </tr>\n",
              "    <tr>\n",
              "      <th>42656</th>\n",
              "      <td>I've seen worse films. This is bad but at leas...</td>\n",
              "      <td>negative</td>\n",
              "    </tr>\n",
              "  </tbody>\n",
              "</table>\n",
              "</div>\n",
              "      <button class=\"colab-df-convert\" onclick=\"convertToInteractive('df-e092ef93-4696-4653-bdb8-037fb6af2dc1')\"\n",
              "              title=\"Convert this dataframe to an interactive table.\"\n",
              "              style=\"display:none;\">\n",
              "        \n",
              "  <svg xmlns=\"http://www.w3.org/2000/svg\" height=\"24px\"viewBox=\"0 0 24 24\"\n",
              "       width=\"24px\">\n",
              "    <path d=\"M0 0h24v24H0V0z\" fill=\"none\"/>\n",
              "    <path d=\"M18.56 5.44l.94 2.06.94-2.06 2.06-.94-2.06-.94-.94-2.06-.94 2.06-2.06.94zm-11 1L8.5 8.5l.94-2.06 2.06-.94-2.06-.94L8.5 2.5l-.94 2.06-2.06.94zm10 10l.94 2.06.94-2.06 2.06-.94-2.06-.94-.94-2.06-.94 2.06-2.06.94z\"/><path d=\"M17.41 7.96l-1.37-1.37c-.4-.4-.92-.59-1.43-.59-.52 0-1.04.2-1.43.59L10.3 9.45l-7.72 7.72c-.78.78-.78 2.05 0 2.83L4 21.41c.39.39.9.59 1.41.59.51 0 1.02-.2 1.41-.59l7.78-7.78 2.81-2.81c.8-.78.8-2.07 0-2.86zM5.41 20L4 18.59l7.72-7.72 1.47 1.35L5.41 20z\"/>\n",
              "  </svg>\n",
              "      </button>\n",
              "      \n",
              "  <style>\n",
              "    .colab-df-container {\n",
              "      display:flex;\n",
              "      flex-wrap:wrap;\n",
              "      gap: 12px;\n",
              "    }\n",
              "\n",
              "    .colab-df-convert {\n",
              "      background-color: #E8F0FE;\n",
              "      border: none;\n",
              "      border-radius: 50%;\n",
              "      cursor: pointer;\n",
              "      display: none;\n",
              "      fill: #1967D2;\n",
              "      height: 32px;\n",
              "      padding: 0 0 0 0;\n",
              "      width: 32px;\n",
              "    }\n",
              "\n",
              "    .colab-df-convert:hover {\n",
              "      background-color: #E2EBFA;\n",
              "      box-shadow: 0px 1px 2px rgba(60, 64, 67, 0.3), 0px 1px 3px 1px rgba(60, 64, 67, 0.15);\n",
              "      fill: #174EA6;\n",
              "    }\n",
              "\n",
              "    [theme=dark] .colab-df-convert {\n",
              "      background-color: #3B4455;\n",
              "      fill: #D2E3FC;\n",
              "    }\n",
              "\n",
              "    [theme=dark] .colab-df-convert:hover {\n",
              "      background-color: #434B5C;\n",
              "      box-shadow: 0px 1px 3px 1px rgba(0, 0, 0, 0.15);\n",
              "      filter: drop-shadow(0px 1px 2px rgba(0, 0, 0, 0.3));\n",
              "      fill: #FFFFFF;\n",
              "    }\n",
              "  </style>\n",
              "\n",
              "      <script>\n",
              "        const buttonEl =\n",
              "          document.querySelector('#df-e092ef93-4696-4653-bdb8-037fb6af2dc1 button.colab-df-convert');\n",
              "        buttonEl.style.display =\n",
              "          google.colab.kernel.accessAllowed ? 'block' : 'none';\n",
              "\n",
              "        async function convertToInteractive(key) {\n",
              "          const element = document.querySelector('#df-e092ef93-4696-4653-bdb8-037fb6af2dc1');\n",
              "          const dataTable =\n",
              "            await google.colab.kernel.invokeFunction('convertToInteractive',\n",
              "                                                     [key], {});\n",
              "          if (!dataTable) return;\n",
              "\n",
              "          const docLinkHtml = 'Like what you see? Visit the ' +\n",
              "            '<a target=\"_blank\" href=https://colab.research.google.com/notebooks/data_table.ipynb>data table notebook</a>'\n",
              "            + ' to learn more about interactive tables.';\n",
              "          element.innerHTML = '';\n",
              "          dataTable['output_type'] = 'display_data';\n",
              "          await google.colab.output.renderOutput(dataTable, element);\n",
              "          const docLink = document.createElement('div');\n",
              "          docLink.innerHTML = docLinkHtml;\n",
              "          element.appendChild(docLink);\n",
              "        }\n",
              "      </script>\n",
              "    </div>\n",
              "  </div>\n",
              "  "
            ]
          },
          "metadata": {},
          "execution_count": 56
        }
      ],
      "source": [
        "records.sample(10)"
      ]
    },
    {
      "cell_type": "code",
      "execution_count": null,
      "metadata": {
        "colab": {
          "base_uri": "https://localhost:8080/"
        },
        "id": "aGc0JZTGKwDa",
        "outputId": "0f0326ec-b553-4e51-d543-5f53b205cbbd"
      },
      "outputs": [
        {
          "output_type": "execute_result",
          "data": {
            "text/plain": [
              "0    One of the other reviewers has mentioned that ...\n",
              "1    A wonderful little production. <br /><br />The...\n",
              "2    I thought this was a wonderful way to spend ti...\n",
              "3    Basically there's a family where a little boy ...\n",
              "4    Petter Mattei's \"Love in the Time of Money\" is...\n",
              "Name: review, dtype: object"
            ]
          },
          "metadata": {},
          "execution_count": 57
        }
      ],
      "source": [
        "records['review'].head(5)"
      ]
    },
    {
      "cell_type": "code",
      "execution_count": null,
      "metadata": {
        "colab": {
          "base_uri": "https://localhost:8080/"
        },
        "id": "YM5JSIdkmmD5",
        "outputId": "b31a1113-7fdc-467f-ca51-6ba49185ef4b"
      },
      "outputs": [
        {
          "output_type": "execute_result",
          "data": {
            "text/plain": [
              "49995    I thought this movie did a down right good job...\n",
              "49996    Bad plot, bad dialogue, bad acting, idiotic di...\n",
              "49997    I am a Catholic taught in parochial elementary...\n",
              "49998    I'm going to have to disagree with the previou...\n",
              "49999    No one expects the Star Trek movies to be high...\n",
              "Name: review, dtype: object"
            ]
          },
          "metadata": {},
          "execution_count": 58
        }
      ],
      "source": [
        "records['review'].tail(5)"
      ]
    },
    {
      "cell_type": "code",
      "execution_count": null,
      "metadata": {
        "colab": {
          "base_uri": "https://localhost:8080/"
        },
        "id": "ygrRVlGB_l7A",
        "outputId": "8b1069fc-3db0-4cdb-fa84-c91c7149df21"
      },
      "outputs": [
        {
          "output_type": "stream",
          "name": "stdout",
          "text": [
            "review       0\n",
            "sentiment    0\n",
            "dtype: int64\n"
          ]
        }
      ],
      "source": [
        "#Inspect missing data\n",
        "print(records.isnull().sum())"
      ]
    },
    {
      "cell_type": "markdown",
      "metadata": {
        "id": "3R1K8K0YCPpi"
      },
      "source": [
        "### **EDA**\n",
        "\n",
        "* Analyse and visualise the sentiment column"
      ]
    },
    {
      "cell_type": "code",
      "execution_count": null,
      "metadata": {
        "colab": {
          "base_uri": "https://localhost:8080/"
        },
        "id": "byg_Efd3AbR6",
        "outputId": "fcc8146c-89fb-4df1-eadc-0ee2d8b49024"
      },
      "outputs": [
        {
          "output_type": "stream",
          "name": "stdout",
          "text": [
            "positive    25000\n",
            "negative    25000\n",
            "Name: sentiment, dtype: int64\n"
          ]
        }
      ],
      "source": [
        "# Get frequency of positive and negative reviews\n",
        "sentiment_counts = records['sentiment'].value_counts()\n",
        "print(sentiment_counts)"
      ]
    },
    {
      "cell_type": "code",
      "execution_count": null,
      "metadata": {
        "colab": {
          "base_uri": "https://localhost:8080/",
          "height": 472
        },
        "id": "vq2IuK2zWr_d",
        "outputId": "428bb6a3-2400-41a3-a7f2-eec41c254471"
      },
      "outputs": [
        {
          "output_type": "display_data",
          "data": {
            "text/plain": [
              "<Figure size 640x480 with 1 Axes>"
            ],
            "image/png": "[encoded data removed]"
          },
          "metadata": {}
        }
      ],
      "source": [
        "# Plot bar chart of sentiment counts\n",
        "sns.countplot(data=records, x='sentiment')\n",
        "plt.title('Distribution of Positive and Negative Reviews')\n",
        "plt.xlabel('Sentiment')\n",
        "plt.ylabel('Frequency')\n",
        "plt.show()"
      ]
    },
    {
      "cell_type": "markdown",
      "metadata": {
        "id": "bwWOEh8enmXM"
      },
      "source": [
        "### **Text pre-processing**\n",
        "* Text cleaning: Remove any HTML tags, punctuation, and special characters from the reviews.\n",
        "* Lowercasing: Convert all text to lowercase to ensure that words with the same spelling but different capitalization are treated as the same word.\n",
        "* Tokenization: Split the text into individual words or tokens.\n",
        "* Stopword removal: Remove common words such as \"the\", \"and\", \"a\", etc. that do not add much meaning to the text.\n",
        "* Stemming/Lemmatization: Reduce words to their base form to normalize the text and group together words with similar meanings."
      ]
    },
    {
      "cell_type": "markdown",
      "metadata": {
        "id": "98SJdiIqfS9j"
      },
      "source": [
        "re is a built-in Python module for working with regular expressions. Regular expressions are a combination of alphanumeric characters and special characters. For example, the . character in a regular expression matches any single character, while the * character matches zero or more occurrences of the preceding character."
      ]
    },
    {
      "cell_type": "markdown",
      "metadata": {
        "id": "uUy6NHmOig2u"
      },
      "source": [
        "#### **Text cleaning**"
      ]
    },
    {
      "cell_type": "code",
      "execution_count": null,
      "metadata": {
        "id": "4rdKZCW9M-ru"
      },
      "outputs": [],
      "source": [
        "#import the Python module re to work with regular expressions\n",
        "import re"
      ]
    },
    {
      "cell_type": "markdown",
      "metadata": {
        "id": "OL2Lbi5JgCQq"
      },
      "source": [
        "The re.sub() method takes three arguments:\n",
        "\n",
        "1.   The regular expression pattern to search for.\n",
        "2.   The replacement string to use for each match of the pattern.\n",
        "3. The input string to perform the substitution on."
      ]
    },
    {
      "cell_type": "markdown",
      "metadata": {
        "id": "p0LDoVTgcD9S"
      },
      "source": [
        "Let's define our clean_text funtion that cleans a given text and returned the cleaned version of it. "
      ]
    },
    {
      "cell_type": "code",
      "execution_count": null,
      "metadata": {
        "id": "Vg9vMum1Tvwj"
      },
      "outputs": [],
      "source": [
        "# Define function to clean text\n",
        "def clean_text(text):\n",
        "  # Remove HTML tags\n",
        "  text = re.sub(r'<.*?>', '', text)\n",
        "  # Remove punctuation and special characters\n",
        "  text = re.sub(r'[^\\w\\s]', '', text)\n",
        "  # Remove extra whitespace\n",
        "  text = re.sub(r'\\s+', ' ', text).strip()\n",
        "  return text"
      ]
    },
    {
      "cell_type": "markdown",
      "metadata": {
        "id": "LXCazTSbh-_l"
      },
      "source": [
        "* The . (dot) metacharacter matches any single character except for a newline character. \n",
        "* The * (asterisk) metacharacter matches zero or more occurrences of the preceding character or group. \n",
        "\n",
        "* \\w matches any word character, which  includes all alphabetic characters (both upper- and lowercase) and digits, and the underscore character.\n",
        "\n",
        "* \\s matches any whitespace character, which includes spaces, tabs, newlines, and other types of whitespace.\n",
        "\n",
        "* \\s+ matches one or more consecutive whitespace characters. The + (plus) is a metacharacter that means \"one or more occurrences of the preceding pattern\"."
      ]
    },
    {
      "cell_type": "markdown",
      "metadata": {
        "id": "YxlBEZHHSlqd"
      },
      "source": [
        "We have defined the clean_text function, now let's write your code for the whole reviews to apply it.\n",
        "\n",
        "Pandas DataFrame apply() function can be used to apply a function along an axis. We can direct  the column ['review'] to apply the clean_text function. It will apply the function for all values in this column. \n",
        "https://www.w3schools.com/python/pandas/ref_df_apply.asp"
      ]
    },
    {
      "cell_type": "code",
      "execution_count": null,
      "metadata": {
        "id": "617KwFEparD0"
      },
      "outputs": [],
      "source": [
        "#let's get reviews to run clean_text\n",
        "records['review']= records['review'].apply(clean_text)"
      ]
    },
    {
      "cell_type": "code",
      "execution_count": null,
      "metadata": {
        "colab": {
          "base_uri": "https://localhost:8080/",
          "height": 105
        },
        "id": "pIVp1LsslKNc",
        "outputId": "6dcbb79c-0833-461f-a8cc-6cb041873db9"
      },
      "outputs": [
        {
          "output_type": "execute_result",
          "data": {
            "text/plain": [
              "'Basically theres a family where a little boy Jake thinks theres a zombie in his closet his parents are fighting all the timeThis movie is slower than a soap opera and suddenly Jake decides to become Rambo and kill the zombieOK first of all when youre going to make a film you must Decide if its a thriller or a drama As a drama the movie is watchable Parents are divorcing arguing like in real life And then we have Jake with his closet which totally ruins all the film I expected to see a BOOGEYMAN similar movie and instead i watched a drama with some meaningless thriller spots3 out of 10 just for the well playing parents descent dialogs As for the shots with Jake just ignore them'"
            ],
            "application/vnd.google.colaboratory.intrinsic+json": {
              "type": "string"
            }
          },
          "metadata": {},
          "execution_count": 65
        }
      ],
      "source": [
        "#You can check to have a feel:\n",
        "records['review'][3]"
      ]
    },
    {
      "cell_type": "markdown",
      "metadata": {
        "id": "VwO6kRX5jCEU"
      },
      "source": [
        "#### **Lowercasing**"
      ]
    },
    {
      "cell_type": "code",
      "execution_count": null,
      "metadata": {
        "id": "qnxC0lZekw30"
      },
      "outputs": [],
      "source": [
        "#define the lowercasing function to turn all letters into lowercases.\n",
        "def lowercasing(text):\n",
        "  # Convert to lowercase\n",
        "  text = text.lower()\n",
        "  return text"
      ]
    },
    {
      "cell_type": "markdown",
      "metadata": {
        "id": "7Nk1UuvScYip"
      },
      "source": [
        "**Task 1**: apply this function on the Review column in the same way we have done with the clean_text function. Do it yourself! "
      ]
    },
    {
      "cell_type": "code",
      "execution_count": null,
      "metadata": {
        "id": "_iMe_vQYW-_3"
      },
      "outputs": [],
      "source": [
        "# let's get reviews to run lowercasing\n"
      ]
    },
    {
      "cell_type": "markdown",
      "metadata": {
        "id": "KSxeSConqGTm"
      },
      "source": [
        "#### **Tokenization, Stemming and Lemmatization**\n",
        "\n",
        "* Tokenization breaks the text into individual words or tokens, and then stemming/lemmatization is applied on each token individually to obtain their root form.\n",
        "\n",
        "* Stemming can help in reducing  words to their root form, which can help in reducing the number of unique words and therefore reducing the size of the vocabulary. For example: studies, study, studied, studying -> study\n",
        "\n",
        "* Lemmatization reduces a word to its base or dictionary form, which can improve the accuracy of the analysis. By doing both stemming and lemmatization, we can get the benefits of both techniques and improve the overall performance of the sentiment analysis model."
      ]
    },
    {
      "cell_type": "markdown",
      "metadata": {
        "id": "iuiZf1eqts6o"
      },
      "source": [
        "NLTK (Natural Language Toolkit) is a Python library used for natural language processing (NLP) tasks such as tokenization, stemming, lemmatization, part-of-speech tagging, and more."
      ]
    },
    {
      "cell_type": "code",
      "execution_count": null,
      "metadata": {
        "id": "iUsQgYI9xnDS"
      },
      "outputs": [],
      "source": [
        "#import NLTK and functions for Tokenization, Stemming and Lemmatization\n",
        "import nltk\n",
        "from nltk.tokenize import word_tokenize\n",
        "from nltk.stem import PorterStemmer, WordNetLemmatizer\n",
        "\n",
        "#import NLTK stopwords from its corpus\n",
        "from nltk.corpus import stopwords"
      ]
    },
    {
      "cell_type": "markdown",
      "metadata": {
        "id": "52I6GXS3yPkz"
      },
      "source": [
        "Punkt and WordNet are both modules in the Natural Language Toolkit (nltk) library in Python for natural language processing tasks.\n",
        "\n",
        "* Punkt is a module used for tokenization. The Punkt module is trained on large corpora and uses unsupervised learning algorithms to tokenize sentences effectively even when presented with challenging text.\n",
        "\n",
        "* WordNet is a large lexical database of English words for lemmatization."
      ]
    },
    {
      "cell_type": "code",
      "execution_count": null,
      "metadata": {
        "colab": {
          "base_uri": "https://localhost:8080/"
        },
        "id": "CAHXWwLnzBsL",
        "outputId": "0b8a5441-48fa-4818-a12a-81a02125267d"
      },
      "outputs": [
        {
          "output_type": "stream",
          "name": "stderr",
          "text": [
            "[nltk_data] Downloading package punkt to /root/nltk_data...\n",
            "[nltk_data]   Package punkt is already up-to-date!\n",
            "[nltk_data] Downloading package wordnet to /root/nltk_data...\n",
            "[nltk_data]   Package wordnet is already up-to-date!\n",
            "[nltk_data] Downloading package stopwords to /root/nltk_data...\n",
            "[nltk_data]   Package stopwords is already up-to-date!\n"
          ]
        },
        {
          "output_type": "execute_result",
          "data": {
            "text/plain": [
              "True"
            ]
          },
          "metadata": {},
          "execution_count": 69
        }
      ],
      "source": [
        "nltk.download('punkt')\n",
        "nltk.download('wordnet')\n",
        "nltk.download('stopwords')"
      ]
    },
    {
      "cell_type": "code",
      "execution_count": null,
      "metadata": {
        "id": "g6hjBCZlbFMB"
      },
      "outputs": [],
      "source": [
        "# define stopwords without negation words\n",
        "stop_words = set(stopwords.words('english'))\n",
        "negation_words = {'no', 'not', 'nor', 'neither', 'none', 'never'}\n",
        "filtered_words = [word for word in stop_words if word not in negation_words]"
      ]
    },
    {
      "cell_type": "code",
      "execution_count": null,
      "metadata": {
        "id": "2OtN2q9NbDdV"
      },
      "outputs": [],
      "source": [
        "#define a function to perform tokenization, stemming and lemmatization\n",
        "def tokenize_stem_lemmatize(text):\n",
        "  #tokenization\n",
        "  tokens = nltk.word_tokenize(text.lower())\n",
        "    \n",
        "  #initialize stemmer and lemmatizer  \n",
        "  stemmer = PorterStemmer()\n",
        "  lemmatizer = WordNetLemmatizer()\n",
        "\n",
        "  #perform stemming and lemmatization \n",
        "  stemmed_tokens = [stemmer.stem(token) for token in tokens]\n",
        "  lemmatized_tokens = [lemmatizer.lemmatize(token) for token in stemmed_tokens if token not in filtered_words and token.lower() not in negation_words]\n",
        "  return ' '.join(lemmatized_tokens)"
      ]
    },
    {
      "cell_type": "markdown",
      "metadata": {
        "id": "ztg9oOyJdiUT"
      },
      "source": [
        "**Task 2.** Apply the tokenize_stem_lemmatize function on the cleaned and lowercased reviews. Do it yourself. \n",
        "\n",
        "Warning: This may take several minutes!"
      ]
    },
    {
      "cell_type": "code",
      "execution_count": null,
      "metadata": {
        "id": "1BIBD4tJzPKI"
      },
      "outputs": [],
      "source": [
        "# Tokenize, stem, and lemmatize the review text\n",
        "# save the result in processed_text = "
      ]
    },
    {
      "cell_type": "code",
      "execution_count": null,
      "metadata": {
        "colab": {
          "base_uri": "https://localhost:8080/"
        },
        "id": "uQlMt6CFZwBE",
        "outputId": "40796d2f-46d8-4878-f52f-542efc3a065a"
      },
      "outputs": [
        {
          "output_type": "execute_result",
          "data": {
            "text/plain": [
              "0        one review ha mention watch 1 oz episod youll ...\n",
              "1        wonder littl product film techniqu veri unassu...\n",
              "2        thought thi wa wonder way spend time hot summe...\n",
              "3        basic famili littl boy jake think zombi hi clo...\n",
              "4        petter mattei love time money visual stun film...\n",
              "                               ...                        \n",
              "49995    thought thi movi right good job wasnt creativ ...\n",
              "49996    bad plot bad dialogu bad act idiot direct anno...\n",
              "49997    cathol taught parochi elementari school nun ta...\n",
              "49998    im go disagre previou comment side maltin thi ...\n",
              "49999    one expect star trek movi high art fan expect ...\n",
              "Name: review, Length: 50000, dtype: object"
            ]
          },
          "metadata": {},
          "execution_count": 73
        }
      ],
      "source": [
        "#now you can see the effect:\n",
        "processed_text"
      ]
    },
    {
      "cell_type": "markdown",
      "metadata": {
        "id": "fT9g8j6_nVC9"
      },
      "source": [
        "#### **Vectorization**"
      ]
    },
    {
      "cell_type": "markdown",
      "metadata": {
        "id": "KqiERsSIniMX"
      },
      "source": [
        "A vectorizer is a process of converting textual data into numerical vectors that can be used as input for machine learning algorithms.\n",
        "\n",
        "Using a bag-of-words model, a vectorizer counts the frequency of each word in a document and represents the document as a vector of word frequencies.\n",
        "\n",
        "The function CountVectorizer converts a collection of text documents to a matrix of token counts.\n",
        "\n",
        "This implementation produces a sparse representation of the counts using scipy.sparse.csr_matrix.\n",
        "\n",
        "If you do not provide an a-priori dictionary and you do not use an analyzer that does some kind of feature selection then the number of features will be equal to the vocabulary size found by analyzing the data. https://scikit-learn.org/stable/modules/generated/sklearn.feature_extraction.text.CountVectorizer.html"
      ]
    },
    {
      "cell_type": "code",
      "execution_count": null,
      "metadata": {
        "id": "25GuwoERrnWo"
      },
      "outputs": [],
      "source": [
        "from sklearn.feature_extraction.text import CountVectorizer\n",
        "# Create the vectorizer object and fit on the corpus\n",
        "vectorizer = CountVectorizer()\n",
        "vectorized_text=vectorizer.fit_transform(processed_text)"
      ]
    },
    {
      "cell_type": "markdown",
      "metadata": {
        "id": "uz6hFLUVgF8v"
      },
      "source": [
        "**Optional:** You can apply n-gram vectorisation by specifying a range ngram_range=(min, max). It may take a shortwhile."
      ]
    },
    {
      "cell_type": "code",
      "execution_count": null,
      "metadata": {
        "id": "DdpPvhZrzafP"
      },
      "outputs": [],
      "source": [
        "vectorizer = CountVectorizer()\n",
        "vectorizer = CountVectorizer(ngram_range=(2,2))\n",
        "vectorized_text = vectorizer.fit_transform(processed_text)"
      ]
    },
    {
      "cell_type": "code",
      "execution_count": null,
      "metadata": {
        "colab": {
          "base_uri": "https://localhost:8080/"
        },
        "id": "J9EbfwF7ieME",
        "outputId": "3856418d-13c3-42fe-f661-ad3a221377f0"
      },
      "outputs": [
        {
          "output_type": "stream",
          "name": "stdout",
          "text": [
            "['one review', 'review ha', 'ha mention', 'mention watch', 'watch oz', 'oz episod', 'episod youll', 'youll hook', 'hook right', 'right thi', 'thi exactli', 'exactli happen', 'happen meth', 'meth first', 'first thing', 'thing struck', 'struck oz', 'oz wa', 'wa brutal', 'brutal unflinch']\n"
          ]
        }
      ],
      "source": [
        "# Get the list of features (i.e., words)\n",
        "features = vectorizer.vocabulary_\n",
        "\n",
        "# List the first 20 words\n",
        "print(list(features)[:20])"
      ]
    },
    {
      "cell_type": "markdown",
      "metadata": {
        "id": "Q9kdIZfCjo5r"
      },
      "source": [
        "You can now split the vectorised_text and built and test your classifier.\n",
        "\n",
        "Alternatively, we can split the pre-processed dataset first then apply vectorisation. As I want to display the prep-processed review (not vectorised), labels and predictions."
      ]
    },
    {
      "cell_type": "markdown",
      "metadata": {
        "id": "RZloqwy4mMXa"
      },
      "source": [
        "### **Feature selection**"
      ]
    },
    {
      "cell_type": "code",
      "execution_count": null,
      "metadata": {
        "id": "dqsSao1QmGRj"
      },
      "outputs": [],
      "source": [
        "X=processed_text\n",
        "y=records['sentiment']"
      ]
    },
    {
      "cell_type": "markdown",
      "metadata": {
        "id": "FCSBxJuijspG"
      },
      "source": [
        "### **Data splitting**"
      ]
    },
    {
      "cell_type": "markdown",
      "metadata": {
        "id": "grv0DHzyl0Xr"
      },
      "source": [
        "**Task 3**: Write your own split code "
      ]
    },
    {
      "cell_type": "code",
      "execution_count": null,
      "metadata": {
        "id": "j5nCXBIeZ3sO"
      },
      "outputs": [],
      "source": [
        "# Split the dataset into training and testing sets\n",
        "from sklearn.model_selection import train_test_split\n",
        "\n",
        "#write your code below to split data:\n",
        "\n"
      ]
    },
    {
      "cell_type": "code",
      "execution_count": null,
      "metadata": {
        "colab": {
          "base_uri": "https://localhost:8080/"
        },
        "id": "AXgJhINHZ6Q0",
        "outputId": "6232fb8b-2f0e-472b-9c64-e139c323d2ec"
      },
      "outputs": [
        {
          "output_type": "execute_result",
          "data": {
            "text/plain": [
              "21850    saw thi movi brief run art hous cinema 69 foun...\n",
              "29191    thing make fire even appeal watch apart magic ...\n",
              "45175    ok 11 year ago awesom funni movi mask came eve...\n",
              "17891    youv heard said live everi moment last whether...\n",
              "7512     horror stori alright perhap know real monster ...\n",
              "                               ...                        \n",
              "39427    karl jr hi dad run armi remot island captur tr...\n",
              "38620    metaphor fli fled thi steam wateri stool film ...\n",
              "38817    well thi movi start funni quickli deterior tho...\n",
              "47558    believ anyon give thi film good rate addit ter...\n",
              "22041    thi could well worst film ive ever seen despit...\n",
              "Name: review, Length: 40000, dtype: object"
            ]
          },
          "metadata": {},
          "execution_count": 79
        }
      ],
      "source": [
        "X_train"
      ]
    },
    {
      "cell_type": "markdown",
      "metadata": {
        "id": "1LyL872vmheR"
      },
      "source": [
        "**Task 4**: Write your own code to vectorise X_test"
      ]
    },
    {
      "cell_type": "code",
      "execution_count": null,
      "metadata": {
        "id": "2-LfuTaCZA6s"
      },
      "outputs": [],
      "source": [
        "# Create vector representations of the text data\n",
        "from sklearn.feature_extraction.text import CountVectorizer\n",
        "vectorizer = CountVectorizer()\n",
        "\n",
        "# Vectorise X_train\n",
        "X_train_vec = vectorizer.fit_transform(X_train)\n",
        "\n",
        "# Write your code below to vectorise X_test\n"
      ]
    },
    {
      "cell_type": "code",
      "execution_count": null,
      "metadata": {
        "colab": {
          "base_uri": "https://localhost:8080/"
        },
        "id": "ol3jSXH5Xyzz",
        "outputId": "39d01545-be08-4c98-cab7-501e429cce5c"
      },
      "outputs": [
        {
          "output_type": "stream",
          "name": "stdout",
          "text": [
            "Trainning set: 40000\n",
            "Testing set: 10000\n"
          ]
        }
      ],
      "source": [
        "print('Trainning set:', len(y_train))\n",
        "print('Testing set:', len(y_test))"
      ]
    },
    {
      "cell_type": "markdown",
      "metadata": {
        "id": "pd0xH6QzkSxB"
      },
      "source": [
        "Now we have turned the reviews (in training and test) into a sparse matrix."
      ]
    },
    {
      "cell_type": "markdown",
      "metadata": {
        "id": "mIMTlCjKWQUV"
      },
      "source": [
        "Let's practice Python skils:\n",
        "**itertools** is a module in Python's standard library that provides various functions to work with iterators and iterable objects."
      ]
    },
    {
      "cell_type": "code",
      "execution_count": null,
      "metadata": {
        "colab": {
          "base_uri": "https://localhost:8080/"
        },
        "id": "8HLxVn5bVd0B",
        "outputId": "6bf6791d-0580-4b79-893a-9c5c8bc2e2cb"
      },
      "outputs": [
        {
          "output_type": "stream",
          "name": "stdout",
          "text": [
            "Size of vocabulary: 156040\n",
            "['saw', 'thi', 'movi', 'brief', 'run', 'art', 'hous', 'cinema', '69', 'found']\n"
          ]
        }
      ],
      "source": [
        "import itertools \n",
        "vocabulary = vectorizer.vocabulary_\n",
        "#size of the vocabulary\n",
        "print(\"Size of vocabulary:\", len(vocabulary))\n",
        "# print the first 10 words in the vocabulary\n",
        "print(list(itertools.islice(vocabulary.keys(), 10)))"
      ]
    },
    {
      "cell_type": "markdown",
      "metadata": {
        "id": "77fLvnCUlQ60"
      },
      "source": [
        "The function **unique**  in pandas returns the unique values and frequencies from a series. "
      ]
    },
    {
      "cell_type": "code",
      "execution_count": null,
      "metadata": {
        "colab": {
          "base_uri": "https://localhost:8080/"
        },
        "id": "KYfVlJz-XKvM",
        "outputId": "abfbecfa-1084-4bec-bed9-c7531636e5e2"
      },
      "outputs": [
        {
          "output_type": "stream",
          "name": "stdout",
          "text": [
            "Training:  ['negative' 'positive']\n",
            "Training:  [20039 19961]\n",
            "Testing:  ['negative' 'positive']\n",
            "Testing:  [4961 5039]\n"
          ]
        }
      ],
      "source": [
        "def check_dataset(arg1, mydataset):\n",
        "# Get frequency of positive and negative reviews\n",
        "  unique, frequency = np.unique(mydataset, return_counts = True)\n",
        "# print unique values array\n",
        "  print(arg1, unique)\n",
        "# print frequency array\n",
        "  print(arg1, frequency)\n",
        "\n",
        "check_dataset('Training: ', y_train)\n",
        "check_dataset('Testing: ', y_test)"
      ]
    },
    {
      "cell_type": "markdown",
      "metadata": {
        "id": "Aac7copVCjqh"
      },
      "source": [
        "## **2.3. Sentiment Analysis**"
      ]
    },
    {
      "cell_type": "markdown",
      "metadata": {
        "id": "Lr-rsJNamA8r"
      },
      "source": [
        "### **2.3.1 Logistric regression model**"
      ]
    },
    {
      "cell_type": "markdown",
      "metadata": {
        "id": "EDMGaHP2xCnh"
      },
      "source": [
        "#### Model building"
      ]
    },
    {
      "cell_type": "markdown",
      "metadata": {
        "id": "0_F5MI1kmzwF"
      },
      "source": [
        "**Task 5**: Write your own code to fit a logistic regression classifier lr. Hint: use X_train_vec"
      ]
    },
    {
      "cell_type": "code",
      "execution_count": null,
      "metadata": {
        "colab": {
          "base_uri": "https://localhost:8080/",
          "height": 75
        },
        "id": "I5Y0Ud5rqvcA",
        "outputId": "3449c912-3802-4534-85d7-31932683d227"
      },
      "outputs": [
        {
          "output_type": "execute_result",
          "data": {
            "text/plain": [
              "LogisticRegression(C=2, max_iter=1000, random_state=2023, solver='liblinear')"
            ],
            "text/html": [
              "<style>#sk-container-id-2 {color: black;background-color: white;}#sk-container-id-2 pre{padding: 0;}#sk-container-id-2 div.sk-toggleable {background-color: white;}#sk-container-id-2 label.sk-toggleable__label {cursor: pointer;display: block;width: 100%;margin-bottom: 0;padding: 0.3em;box-sizing: border-box;text-align: center;}#sk-container-id-2 label.sk-toggleable__label-arrow:before {content: \"▸\";float: left;margin-right: 0.25em;color: #696969;}#sk-container-id-2 label.sk-toggleable__label-arrow:hover:before {color: black;}#sk-container-id-2 div.sk-estimator:hover label.sk-toggleable__label-arrow:before {color: black;}#sk-container-id-2 div.sk-toggleable__content {max-height: 0;max-width: 0;overflow: hidden;text-align: left;background-color: #f0f8ff;}#sk-container-id-2 div.sk-toggleable__content pre {margin: 0.2em;color: black;border-radius: 0.25em;background-color: #f0f8ff;}#sk-container-id-2 input.sk-toggleable__control:checked~div.sk-toggleable__content {max-height: 200px;max-width: 100%;overflow: auto;}#sk-container-id-2 input.sk-toggleable__control:checked~label.sk-toggleable__label-arrow:before {content: \"▾\";}#sk-container-id-2 div.sk-estimator input.sk-toggleable__control:checked~label.sk-toggleable__label {background-color: #d4ebff;}#sk-container-id-2 div.sk-label input.sk-toggleable__control:checked~label.sk-toggleable__label {background-color: #d4ebff;}#sk-container-id-2 input.sk-hidden--visually {border: 0;clip: rect(1px 1px 1px 1px);clip: rect(1px, 1px, 1px, 1px);height: 1px;margin: -1px;overflow: hidden;padding: 0;position: absolute;width: 1px;}#sk-container-id-2 div.sk-estimator {font-family: monospace;background-color: #f0f8ff;border: 1px dotted black;border-radius: 0.25em;box-sizing: border-box;margin-bottom: 0.5em;}#sk-container-id-2 div.sk-estimator:hover {background-color: #d4ebff;}#sk-container-id-2 div.sk-parallel-item::after {content: \"\";width: 100%;border-bottom: 1px solid gray;flex-grow: 1;}#sk-container-id-2 div.sk-label:hover label.sk-toggleable__label {background-color: #d4ebff;}#sk-container-id-2 div.sk-serial::before {content: \"\";position: absolute;border-left: 1px solid gray;box-sizing: border-box;top: 0;bottom: 0;left: 50%;z-index: 0;}#sk-container-id-2 div.sk-serial {display: flex;flex-direction: column;align-items: center;background-color: white;padding-right: 0.2em;padding-left: 0.2em;position: relative;}#sk-container-id-2 div.sk-item {position: relative;z-index: 1;}#sk-container-id-2 div.sk-parallel {display: flex;align-items: stretch;justify-content: center;background-color: white;position: relative;}#sk-container-id-2 div.sk-item::before, #sk-container-id-2 div.sk-parallel-item::before {content: \"\";position: absolute;border-left: 1px solid gray;box-sizing: border-box;top: 0;bottom: 0;left: 50%;z-index: -1;}#sk-container-id-2 div.sk-parallel-item {display: flex;flex-direction: column;z-index: 1;position: relative;background-color: white;}#sk-container-id-2 div.sk-parallel-item:first-child::after {align-self: flex-end;width: 50%;}#sk-container-id-2 div.sk-parallel-item:last-child::after {align-self: flex-start;width: 50%;}#sk-container-id-2 div.sk-parallel-item:only-child::after {width: 0;}#sk-container-id-2 div.sk-dashed-wrapped {border: 1px dashed gray;margin: 0 0.4em 0.5em 0.4em;box-sizing: border-box;padding-bottom: 0.4em;background-color: white;}#sk-container-id-2 div.sk-label label {font-family: monospace;font-weight: bold;display: inline-block;line-height: 1.2em;}#sk-container-id-2 div.sk-label-container {text-align: center;}#sk-container-id-2 div.sk-container {/* jupyter's `normalize.less` sets `[hidden] { display: none; }` but bootstrap.min.css set `[hidden] { display: none !important; }` so we also need the `!important` here to be able to override the default hidden behavior on the sphinx rendered scikit-learn.org. See: https://github.com/scikit-learn/scikit-learn/issues/21755 */display: inline-block !important;position: relative;}#sk-container-id-2 div.sk-text-repr-fallback {display: none;}</style><div id=\"sk-container-id-2\" class=\"sk-top-container\"><div class=\"sk-text-repr-fallback\"><pre>LogisticRegression(C=2, max_iter=1000, random_state=2023, solver=&#x27;liblinear&#x27;)</pre><b>In a Jupyter environment, please rerun this cell to show the HTML representation or trust the notebook. <br />On GitHub, the HTML representation is unable to render, please try loading this page with nbviewer.org.</b></div><div class=\"sk-container\" hidden><div class=\"sk-item\"><div class=\"sk-estimator sk-toggleable\"><input class=\"sk-toggleable__control sk-hidden--visually\" id=\"sk-estimator-id-2\" type=\"checkbox\" checked><label for=\"sk-estimator-id-2\" class=\"sk-toggleable__label sk-toggleable__label-arrow\">LogisticRegression</label><div class=\"sk-toggleable__content\"><pre>LogisticRegression(C=2, max_iter=1000, random_state=2023, solver=&#x27;liblinear&#x27;)</pre></div></div></div></div></div>"
            ]
          },
          "metadata": {},
          "execution_count": 84
        }
      ],
      "source": [
        "# Train logistic regression model\n",
        "lr = LogisticRegression(penalty='l2', C=2, solver='liblinear', max_iter=1000, random_state=2023)\n",
        "\n",
        "#write your code below to fit the model\n"
      ]
    },
    {
      "cell_type": "markdown",
      "metadata": {
        "id": "0NeRgk3mC3dR"
      },
      "source": [
        "####Performance evaluation\n",
        "* Classification metrics and report\n",
        "* Confusion matrix \n",
        "* TPR and FPR\n",
        "* ROC and AUC\n"
      ]
    },
    {
      "cell_type": "code",
      "execution_count": null,
      "metadata": {
        "id": "EiOjyE_2kC3Z"
      },
      "outputs": [],
      "source": [
        "# Evaluate model\n",
        "y_pred_lr = lr.predict(X_test_vec)"
      ]
    },
    {
      "cell_type": "code",
      "execution_count": null,
      "metadata": {
        "id": "xgdu2bB6ezlJ"
      },
      "outputs": [],
      "source": [
        "#get predicted probabilities for the main class\n",
        "y_pred_probs_lr = lr.predict_proba(X_test_vec)\n",
        "y_pred_probs_lr = y_pred_probs_lr[:, 1]"
      ]
    },
    {
      "cell_type": "code",
      "execution_count": null,
      "metadata": {
        "colab": {
          "base_uri": "https://localhost:8080/",
          "height": 677
        },
        "id": "A4TGtDQ7nASZ",
        "outputId": "bc125489-433c-4540-da2b-8133df094eea"
      },
      "outputs": [
        {
          "output_type": "execute_result",
          "data": {
            "text/plain": [
              "                                                  review    Actual Predicted\n",
              "9461   cant say whether postwwii british comedi produ...  positive  positive\n",
              "3041   know sometim realli realli corni act amaz meli...  positive  positive\n",
              "35168  intellig summari isnt itif mad max wa someth s...  negative  negative\n",
              "27360  thi wa without doubt worst movi ever see yet o...  negative  negative\n",
              "7732   young man name court love everyon hi pain bloo...  positive  positive\n",
              "37704  thi film surfac would seem jedgar hoover give ...  positive  positive\n",
              "38234  cant see everyon see thi movi act aw choic mus...  negative  negative\n",
              "38107  befor went polit public servic glenda jackson ...  positive  positive\n",
              "41916  rememb see thi film wa good alway say film goo...  negative  negative\n",
              "41038  thi quit unusu uniqu littl western made mostli...  positive  positive\n",
              "34586  take tire formula christma comedi laugh tire t...  negative  negative\n",
              "19427  thi film blew away thought knew littl attica p...  positive  positive\n",
              "36005  well start think veri insult origin anni ailee...  negative  negative\n",
              "20407  film wa disappoint saw broadway bernadett pete...  negative  positive\n",
              "26298  alway nice supris film made tv turn entertain ...  positive  positive\n",
              "39784  thi move absolut certainli one greatest film a...  positive  positive\n",
              "19945  actor ask motiv understand hi charact view thi...  negative  negative\n",
              "19446  found still crazi marvel entertain onli u live...  positive  positive\n",
              "31265  jim mckay ha made one best film see yearth qui...  positive  positive\n",
              "13910  didnt know willem dafo wa hard buck hed disgra...  negative  negative"
            ],
            "text/html": [
              "\n",
              "  <div id=\"df-3bef9edd-891f-4e0d-b65f-7c93e2b9f9e2\">\n",
              "    <div class=\"colab-df-container\">\n",
              "      <div>\n",
              "<style scoped>\n",
              "    .dataframe tbody tr th:only-of-type {\n",
              "        vertical-align: middle;\n",
              "    }\n",
              "\n",
              "    .dataframe tbody tr th {\n",
              "        vertical-align: top;\n",
              "    }\n",
              "\n",
              "    .dataframe thead th {\n",
              "        text-align: right;\n",
              "    }\n",
              "</style>\n",
              "<table border=\"1\" class=\"dataframe\">\n",
              "  <thead>\n",
              "    <tr style=\"text-align: right;\">\n",
              "      <th></th>\n",
              "      <th>review</th>\n",
              "      <th>Actual</th>\n",
              "      <th>Predicted</th>\n",
              "    </tr>\n",
              "  </thead>\n",
              "  <tbody>\n",
              "    <tr>\n",
              "      <th>9461</th>\n",
              "      <td>cant say whether postwwii british comedi produ...</td>\n",
              "      <td>positive</td>\n",
              "      <td>positive</td>\n",
              "    </tr>\n",
              "    <tr>\n",
              "      <th>3041</th>\n",
              "      <td>know sometim realli realli corni act amaz meli...</td>\n",
              "      <td>positive</td>\n",
              "      <td>positive</td>\n",
              "    </tr>\n",
              "    <tr>\n",
              "      <th>35168</th>\n",
              "      <td>intellig summari isnt itif mad max wa someth s...</td>\n",
              "      <td>negative</td>\n",
              "      <td>negative</td>\n",
              "    </tr>\n",
              "    <tr>\n",
              "      <th>27360</th>\n",
              "      <td>thi wa without doubt worst movi ever see yet o...</td>\n",
              "      <td>negative</td>\n",
              "      <td>negative</td>\n",
              "    </tr>\n",
              "    <tr>\n",
              "      <th>7732</th>\n",
              "      <td>young man name court love everyon hi pain bloo...</td>\n",
              "      <td>positive</td>\n",
              "      <td>positive</td>\n",
              "    </tr>\n",
              "    <tr>\n",
              "      <th>37704</th>\n",
              "      <td>thi film surfac would seem jedgar hoover give ...</td>\n",
              "      <td>positive</td>\n",
              "      <td>positive</td>\n",
              "    </tr>\n",
              "    <tr>\n",
              "      <th>38234</th>\n",
              "      <td>cant see everyon see thi movi act aw choic mus...</td>\n",
              "      <td>negative</td>\n",
              "      <td>negative</td>\n",
              "    </tr>\n",
              "    <tr>\n",
              "      <th>38107</th>\n",
              "      <td>befor went polit public servic glenda jackson ...</td>\n",
              "      <td>positive</td>\n",
              "      <td>positive</td>\n",
              "    </tr>\n",
              "    <tr>\n",
              "      <th>41916</th>\n",
              "      <td>rememb see thi film wa good alway say film goo...</td>\n",
              "      <td>negative</td>\n",
              "      <td>negative</td>\n",
              "    </tr>\n",
              "    <tr>\n",
              "      <th>41038</th>\n",
              "      <td>thi quit unusu uniqu littl western made mostli...</td>\n",
              "      <td>positive</td>\n",
              "      <td>positive</td>\n",
              "    </tr>\n",
              "    <tr>\n",
              "      <th>34586</th>\n",
              "      <td>take tire formula christma comedi laugh tire t...</td>\n",
              "      <td>negative</td>\n",
              "      <td>negative</td>\n",
              "    </tr>\n",
              "    <tr>\n",
              "      <th>19427</th>\n",
              "      <td>thi film blew away thought knew littl attica p...</td>\n",
              "      <td>positive</td>\n",
              "      <td>positive</td>\n",
              "    </tr>\n",
              "    <tr>\n",
              "      <th>36005</th>\n",
              "      <td>well start think veri insult origin anni ailee...</td>\n",
              "      <td>negative</td>\n",
              "      <td>negative</td>\n",
              "    </tr>\n",
              "    <tr>\n",
              "      <th>20407</th>\n",
              "      <td>film wa disappoint saw broadway bernadett pete...</td>\n",
              "      <td>negative</td>\n",
              "      <td>positive</td>\n",
              "    </tr>\n",
              "    <tr>\n",
              "      <th>26298</th>\n",
              "      <td>alway nice supris film made tv turn entertain ...</td>\n",
              "      <td>positive</td>\n",
              "      <td>positive</td>\n",
              "    </tr>\n",
              "    <tr>\n",
              "      <th>39784</th>\n",
              "      <td>thi move absolut certainli one greatest film a...</td>\n",
              "      <td>positive</td>\n",
              "      <td>positive</td>\n",
              "    </tr>\n",
              "    <tr>\n",
              "      <th>19945</th>\n",
              "      <td>actor ask motiv understand hi charact view thi...</td>\n",
              "      <td>negative</td>\n",
              "      <td>negative</td>\n",
              "    </tr>\n",
              "    <tr>\n",
              "      <th>19446</th>\n",
              "      <td>found still crazi marvel entertain onli u live...</td>\n",
              "      <td>positive</td>\n",
              "      <td>positive</td>\n",
              "    </tr>\n",
              "    <tr>\n",
              "      <th>31265</th>\n",
              "      <td>jim mckay ha made one best film see yearth qui...</td>\n",
              "      <td>positive</td>\n",
              "      <td>positive</td>\n",
              "    </tr>\n",
              "    <tr>\n",
              "      <th>13910</th>\n",
              "      <td>didnt know willem dafo wa hard buck hed disgra...</td>\n",
              "      <td>negative</td>\n",
              "      <td>negative</td>\n",
              "    </tr>\n",
              "  </tbody>\n",
              "</table>\n",
              "</div>\n",
              "      <button class=\"colab-df-convert\" onclick=\"convertToInteractive('df-3bef9edd-891f-4e0d-b65f-7c93e2b9f9e2')\"\n",
              "              title=\"Convert this dataframe to an interactive table.\"\n",
              "              style=\"display:none;\">\n",
              "        \n",
              "  <svg xmlns=\"http://www.w3.org/2000/svg\" height=\"24px\"viewBox=\"0 0 24 24\"\n",
              "       width=\"24px\">\n",
              "    <path d=\"M0 0h24v24H0V0z\" fill=\"none\"/>\n",
              "    <path d=\"M18.56 5.44l.94 2.06.94-2.06 2.06-.94-2.06-.94-.94-2.06-.94 2.06-2.06.94zm-11 1L8.5 8.5l.94-2.06 2.06-.94-2.06-.94L8.5 2.5l-.94 2.06-2.06.94zm10 10l.94 2.06.94-2.06 2.06-.94-2.06-.94-.94-2.06-.94 2.06-2.06.94z\"/><path d=\"M17.41 7.96l-1.37-1.37c-.4-.4-.92-.59-1.43-.59-.52 0-1.04.2-1.43.59L10.3 9.45l-7.72 7.72c-.78.78-.78 2.05 0 2.83L4 21.41c.39.39.9.59 1.41.59.51 0 1.02-.2 1.41-.59l7.78-7.78 2.81-2.81c.8-.78.8-2.07 0-2.86zM5.41 20L4 18.59l7.72-7.72 1.47 1.35L5.41 20z\"/>\n",
              "  </svg>\n",
              "      </button>\n",
              "      \n",
              "  <style>\n",
              "    .colab-df-container {\n",
              "      display:flex;\n",
              "      flex-wrap:wrap;\n",
              "      gap: 12px;\n",
              "    }\n",
              "\n",
              "    .colab-df-convert {\n",
              "      background-color: #E8F0FE;\n",
              "      border: none;\n",
              "      border-radius: 50%;\n",
              "      cursor: pointer;\n",
              "      display: none;\n",
              "      fill: #1967D2;\n",
              "      height: 32px;\n",
              "      padding: 0 0 0 0;\n",
              "      width: 32px;\n",
              "    }\n",
              "\n",
              "    .colab-df-convert:hover {\n",
              "      background-color: #E2EBFA;\n",
              "      box-shadow: 0px 1px 2px rgba(60, 64, 67, 0.3), 0px 1px 3px 1px rgba(60, 64, 67, 0.15);\n",
              "      fill: #174EA6;\n",
              "    }\n",
              "\n",
              "    [theme=dark] .colab-df-convert {\n",
              "      background-color: #3B4455;\n",
              "      fill: #D2E3FC;\n",
              "    }\n",
              "\n",
              "    [theme=dark] .colab-df-convert:hover {\n",
              "      background-color: #434B5C;\n",
              "      box-shadow: 0px 1px 3px 1px rgba(0, 0, 0, 0.15);\n",
              "      filter: drop-shadow(0px 1px 2px rgba(0, 0, 0, 0.3));\n",
              "      fill: #FFFFFF;\n",
              "    }\n",
              "  </style>\n",
              "\n",
              "      <script>\n",
              "        const buttonEl =\n",
              "          document.querySelector('#df-3bef9edd-891f-4e0d-b65f-7c93e2b9f9e2 button.colab-df-convert');\n",
              "        buttonEl.style.display =\n",
              "          google.colab.kernel.accessAllowed ? 'block' : 'none';\n",
              "\n",
              "        async function convertToInteractive(key) {\n",
              "          const element = document.querySelector('#df-3bef9edd-891f-4e0d-b65f-7c93e2b9f9e2');\n",
              "          const dataTable =\n",
              "            await google.colab.kernel.invokeFunction('convertToInteractive',\n",
              "                                                     [key], {});\n",
              "          if (!dataTable) return;\n",
              "\n",
              "          const docLinkHtml = 'Like what you see? Visit the ' +\n",
              "            '<a target=\"_blank\" href=https://colab.research.google.com/notebooks/data_table.ipynb>data table notebook</a>'\n",
              "            + ' to learn more about interactive tables.';\n",
              "          element.innerHTML = '';\n",
              "          dataTable['output_type'] = 'display_data';\n",
              "          await google.colab.output.renderOutput(dataTable, element);\n",
              "          const docLink = document.createElement('div');\n",
              "          docLink.innerHTML = docLinkHtml;\n",
              "          element.appendChild(docLink);\n",
              "        }\n",
              "      </script>\n",
              "    </div>\n",
              "  </div>\n",
              "  "
            ]
          },
          "metadata": {},
          "execution_count": 87
        }
      ],
      "source": [
        "#join unseen y_test with predicted value into a data frame\n",
        "inspection=pd.DataFrame({'Actual':y_test, 'Predicted':y_pred_lr})\n",
        "\n",
        "#join X_test with the new dataframe\n",
        "inspection=pd.concat([X_test,inspection], axis=1)\n",
        "\n",
        "inspection.sample(20)"
      ]
    },
    {
      "cell_type": "markdown",
      "metadata": {
        "id": "rd2BU0L5nLj5"
      },
      "source": [
        "**Task 6**: generate the confusion matrix and classification report."
      ]
    },
    {
      "cell_type": "code",
      "execution_count": null,
      "metadata": {
        "colab": {
          "base_uri": "https://localhost:8080/"
        },
        "id": "TrcYtReIfLqK",
        "outputId": "0dae39c6-faef-487d-a4c8-15788afabec4"
      },
      "outputs": [
        {
          "output_type": "stream",
          "name": "stdout",
          "text": [
            "[[4365  596]\n",
            " [ 554 4485]]\n",
            "              precision    recall  f1-score   support\n",
            "\n",
            "    negative       0.89      0.88      0.88      4961\n",
            "    positive       0.88      0.89      0.89      5039\n",
            "\n",
            "    accuracy                           0.89     10000\n",
            "   macro avg       0.89      0.88      0.88     10000\n",
            "weighted avg       0.89      0.89      0.88     10000\n",
            "\n"
          ]
        }
      ],
      "source": [
        "#write your code below: \n",
        "\n",
        "\n",
        "#print confusion matrix and evaluation report\n",
        "print(cm)\n",
        "print(classification_report(y_test, y_pred_lr))"
      ]
    },
    {
      "cell_type": "code",
      "execution_count": null,
      "metadata": {
        "colab": {
          "base_uri": "https://localhost:8080/",
          "height": 449
        },
        "id": "VoNi3E0M835m",
        "outputId": "105a0d9a-d8c1-4a08-9f0d-8e010faf032c"
      },
      "outputs": [
        {
          "output_type": "display_data",
          "data": {
            "text/plain": [
              "<Figure size 640x480 with 2 Axes>"
            ],
            "image/png": "[encoded data removed]"
          },
          "metadata": {}
        }
      ],
      "source": [
        "#import classes to display Confusion Matrix\n",
        "\n",
        "from sklearn.metrics import ConfusionMatrixDisplay\n",
        "ConfusionMatrixDisplay.from_predictions(y_test, y_pred_lr)\n",
        "plt.show()"
      ]
    },
    {
      "cell_type": "code",
      "execution_count": null,
      "metadata": {
        "colab": {
          "base_uri": "https://localhost:8080/"
        },
        "id": "xdRWE8Doi65i",
        "outputId": "da1aaec9-cb64-4c4c-86b2-427253be8d5b"
      },
      "outputs": [
        {
          "output_type": "stream",
          "name": "stdout",
          "text": [
            "True Positive Rate:  0.890\n",
            "False Positive Rate:  0.120\n"
          ]
        }
      ],
      "source": [
        "# Computer TN FP FN TP\n",
        "tn, fp, fn, tp = confusion_matrix(y_test, y_pred_lr).ravel()\n",
        "\n",
        "# Compute FPT and TPR for this k\n",
        "tpr_lr = tp / (tp + fn)\n",
        "fpr_lr = fp / (fp + tn)\n",
        "\n",
        "print('True Positive Rate: ', '%.3f' % tpr_lr)\n",
        "print('False Positive Rate: ', '%.3f' % fpr_lr)\n"
      ]
    },
    {
      "cell_type": "code",
      "execution_count": null,
      "metadata": {
        "id": "b_bpz5RLkkEd"
      },
      "outputs": [],
      "source": [
        "from sklearn.preprocessing import LabelEncoder\n",
        "\n",
        "# encode labels as 0s and 1s so you can compute fpr and tfr for thresholds \n",
        "le = LabelEncoder()\n",
        "y_true = le.fit_transform(y_test)"
      ]
    },
    {
      "cell_type": "code",
      "execution_count": null,
      "metadata": {
        "colab": {
          "base_uri": "https://localhost:8080/",
          "height": 489
        },
        "id": "X7okwoF9jBEV",
        "outputId": "21a655ca-e219-4090-e47e-09d37a075e09"
      },
      "outputs": [
        {
          "output_type": "stream",
          "name": "stdout",
          "text": [
            "AUC: 0.947\n"
          ]
        },
        {
          "output_type": "display_data",
          "data": {
            "text/plain": [
              "<Figure size 640x480 with 1 Axes>"
            ],
            "image/png": "[encoded data removed]"
          },
          "metadata": {}
        }
      ],
      "source": [
        "#get fpr and tpr and plot the ROC curve\n",
        "from sklearn.metrics import roc_curve, roc_auc_score\n",
        "\n",
        "# Compute the false positive rate, true positive rate, and threshold\n",
        "fprs_lr, tprs_lr, thresholds = roc_curve(y_true, y_pred_probs_lr)\n",
        "auc_lr= metrics.auc(fprs_lr, tprs_lr)\n",
        "print('AUC:', '%.3f' % auc_lr)\n",
        "\n",
        "# plot the ROC curve and the best point\n",
        "plt.plot(fprs_lr, tprs_lr, label='ROC curve')\n",
        "plt.scatter(x=fpr_lr, y=tpr_lr, marker='o', color='red', label='0.5 threshold')\n",
        "plt.xlabel('False Positive Rate')\n",
        "plt.ylabel('True Positive Rate')\n",
        "plt.title('Receiver Operating Characteristic (ROC) Curve')\n",
        "plt.legend()\n",
        "plt.show()"
      ]
    },
    {
      "cell_type": "markdown",
      "metadata": {
        "id": "92wViQ0llfzN"
      },
      "source": [
        "####Find best threshold"
      ]
    },
    {
      "cell_type": "code",
      "execution_count": null,
      "metadata": {
        "colab": {
          "base_uri": "https://localhost:8080/"
        },
        "id": "g6qZL4yvlkum",
        "outputId": "4b511034-67ad-4c77-b858-8e42c0b2a276"
      },
      "outputs": [
        {
          "output_type": "stream",
          "name": "stdout",
          "text": [
            "0.4020507033937284\n"
          ]
        }
      ],
      "source": [
        "from sklearn.metrics import accuracy_score\n",
        "# Find the best threshold based on accuracy\n",
        "accuracy = []\n",
        "for threshold in thresholds:\n",
        "    y_pred_t = [1 if prob >= threshold else 0 for prob in y_pred_probs_lr]\n",
        "    accuracy.append(accuracy_score(y_true, y_pred_t))\n",
        "best_threshold = thresholds[accuracy.index(max(accuracy))]\n",
        "\n",
        "print(best_threshold)"
      ]
    },
    {
      "cell_type": "code",
      "execution_count": null,
      "metadata": {
        "colab": {
          "base_uri": "https://localhost:8080/"
        },
        "id": "u_6Ry1TCl2b9",
        "outputId": "cf7e2c7a-c393-4a5d-ba3e-c7237141e21a"
      },
      "outputs": [
        {
          "output_type": "stream",
          "name": "stdout",
          "text": [
            "[ True  True False ... False  True  True]\n"
          ]
        }
      ],
      "source": [
        "#get predicted probabilities for the best threshold\n",
        "y_pred_best_lr = (lr.predict_proba(X_test_vec)[:,1] >= best_threshold).astype(bool)\n",
        "\n",
        "print(y_pred_best_lr)"
      ]
    },
    {
      "cell_type": "code",
      "execution_count": null,
      "metadata": {
        "colab": {
          "base_uri": "https://localhost:8080/"
        },
        "id": "RoXx6h7Gl_WS",
        "outputId": "f6662a41-e1fe-4a9b-eff3-1764eb2e0a7f"
      },
      "outputs": [
        {
          "output_type": "stream",
          "name": "stdout",
          "text": [
            "[[4295  666]\n",
            " [ 468 4571]]\n",
            "True Positive Rate:  0.907\n",
            "False Positive Rate:  0.134\n"
          ]
        }
      ],
      "source": [
        "# Computer TN FP FN TP for the best threshold\n",
        "tn_bestThreshold, fp_bestThreshold, fn_bestThreshold, tp_bestThreshold = confusion_matrix(y_true, y_pred_best_lr).ravel()\n",
        "print(confusion_matrix(y_true, y_pred_best_lr))\n",
        "# Compute FPT and TPR for this k\n",
        "tpr_bestThreshold = tp_bestThreshold / (tp_bestThreshold + fn_bestThreshold)\n",
        "fpr_bestThreshold = fp_bestThreshold / (fp_bestThreshold + tn_bestThreshold)\n",
        "\n",
        "print('True Positive Rate: ', '%.3f' % tpr_bestThreshold)\n",
        "print('False Positive Rate: ', '%.3f' % fpr_bestThreshold)"
      ]
    },
    {
      "cell_type": "markdown",
      "metadata": {
        "id": "4zlE0amrRXja"
      },
      "source": [
        "### **2.3.2 ANN**"
      ]
    },
    {
      "cell_type": "markdown",
      "metadata": {
        "id": "d9g3g-E2xWKN"
      },
      "source": [
        "#### Model building"
      ]
    },
    {
      "cell_type": "code",
      "execution_count": null,
      "metadata": {
        "colab": {
          "base_uri": "https://localhost:8080/",
          "height": 92
        },
        "id": "sMJ-vXtmRg3i",
        "outputId": "4ceab737-892b-4927-bd77-48684c71621f"
      },
      "outputs": [
        {
          "output_type": "execute_result",
          "data": {
            "text/plain": [
              "MLPClassifier(early_stopping=True, hidden_layer_sizes=(32, 16), max_iter=1000,\n",
              "              random_state=2023)"
            ],
            "text/html": [
              "<style>#sk-container-id-3 {color: black;background-color: white;}#sk-container-id-3 pre{padding: 0;}#sk-container-id-3 div.sk-toggleable {background-color: white;}#sk-container-id-3 label.sk-toggleable__label {cursor: pointer;display: block;width: 100%;margin-bottom: 0;padding: 0.3em;box-sizing: border-box;text-align: center;}#sk-container-id-3 label.sk-toggleable__label-arrow:before {content: \"▸\";float: left;margin-right: 0.25em;color: #696969;}#sk-container-id-3 label.sk-toggleable__label-arrow:hover:before {color: black;}#sk-container-id-3 div.sk-estimator:hover label.sk-toggleable__label-arrow:before {color: black;}#sk-container-id-3 div.sk-toggleable__content {max-height: 0;max-width: 0;overflow: hidden;text-align: left;background-color: #f0f8ff;}#sk-container-id-3 div.sk-toggleable__content pre {margin: 0.2em;color: black;border-radius: 0.25em;background-color: #f0f8ff;}#sk-container-id-3 input.sk-toggleable__control:checked~div.sk-toggleable__content {max-height: 200px;max-width: 100%;overflow: auto;}#sk-container-id-3 input.sk-toggleable__control:checked~label.sk-toggleable__label-arrow:before {content: \"▾\";}#sk-container-id-3 div.sk-estimator input.sk-toggleable__control:checked~label.sk-toggleable__label {background-color: #d4ebff;}#sk-container-id-3 div.sk-label input.sk-toggleable__control:checked~label.sk-toggleable__label {background-color: #d4ebff;}#sk-container-id-3 input.sk-hidden--visually {border: 0;clip: rect(1px 1px 1px 1px);clip: rect(1px, 1px, 1px, 1px);height: 1px;margin: -1px;overflow: hidden;padding: 0;position: absolute;width: 1px;}#sk-container-id-3 div.sk-estimator {font-family: monospace;background-color: #f0f8ff;border: 1px dotted black;border-radius: 0.25em;box-sizing: border-box;margin-bottom: 0.5em;}#sk-container-id-3 div.sk-estimator:hover {background-color: #d4ebff;}#sk-container-id-3 div.sk-parallel-item::after {content: \"\";width: 100%;border-bottom: 1px solid gray;flex-grow: 1;}#sk-container-id-3 div.sk-label:hover label.sk-toggleable__label {background-color: #d4ebff;}#sk-container-id-3 div.sk-serial::before {content: \"\";position: absolute;border-left: 1px solid gray;box-sizing: border-box;top: 0;bottom: 0;left: 50%;z-index: 0;}#sk-container-id-3 div.sk-serial {display: flex;flex-direction: column;align-items: center;background-color: white;padding-right: 0.2em;padding-left: 0.2em;position: relative;}#sk-container-id-3 div.sk-item {position: relative;z-index: 1;}#sk-container-id-3 div.sk-parallel {display: flex;align-items: stretch;justify-content: center;background-color: white;position: relative;}#sk-container-id-3 div.sk-item::before, #sk-container-id-3 div.sk-parallel-item::before {content: \"\";position: absolute;border-left: 1px solid gray;box-sizing: border-box;top: 0;bottom: 0;left: 50%;z-index: -1;}#sk-container-id-3 div.sk-parallel-item {display: flex;flex-direction: column;z-index: 1;position: relative;background-color: white;}#sk-container-id-3 div.sk-parallel-item:first-child::after {align-self: flex-end;width: 50%;}#sk-container-id-3 div.sk-parallel-item:last-child::after {align-self: flex-start;width: 50%;}#sk-container-id-3 div.sk-parallel-item:only-child::after {width: 0;}#sk-container-id-3 div.sk-dashed-wrapped {border: 1px dashed gray;margin: 0 0.4em 0.5em 0.4em;box-sizing: border-box;padding-bottom: 0.4em;background-color: white;}#sk-container-id-3 div.sk-label label {font-family: monospace;font-weight: bold;display: inline-block;line-height: 1.2em;}#sk-container-id-3 div.sk-label-container {text-align: center;}#sk-container-id-3 div.sk-container {/* jupyter's `normalize.less` sets `[hidden] { display: none; }` but bootstrap.min.css set `[hidden] { display: none !important; }` so we also need the `!important` here to be able to override the default hidden behavior on the sphinx rendered scikit-learn.org. See: https://github.com/scikit-learn/scikit-learn/issues/21755 */display: inline-block !important;position: relative;}#sk-container-id-3 div.sk-text-repr-fallback {display: none;}</style><div id=\"sk-container-id-3\" class=\"sk-top-container\"><div class=\"sk-text-repr-fallback\"><pre>MLPClassifier(early_stopping=True, hidden_layer_sizes=(32, 16), max_iter=1000,\n",
              "              random_state=2023)</pre><b>In a Jupyter environment, please rerun this cell to show the HTML representation or trust the notebook. <br />On GitHub, the HTML representation is unable to render, please try loading this page with nbviewer.org.</b></div><div class=\"sk-container\" hidden><div class=\"sk-item\"><div class=\"sk-estimator sk-toggleable\"><input class=\"sk-toggleable__control sk-hidden--visually\" id=\"sk-estimator-id-3\" type=\"checkbox\" checked><label for=\"sk-estimator-id-3\" class=\"sk-toggleable__label sk-toggleable__label-arrow\">MLPClassifier</label><div class=\"sk-toggleable__content\"><pre>MLPClassifier(early_stopping=True, hidden_layer_sizes=(32, 16), max_iter=1000,\n",
              "              random_state=2023)</pre></div></div></div></div></div>"
            ]
          },
          "metadata": {},
          "execution_count": 96
        }
      ],
      "source": [
        "# create an MLP classifier with 2 hidden layers \n",
        "ann_clf = MLPClassifier(hidden_layer_sizes=(32, 16), max_iter=1000, random_state=2023, early_stopping=True)\n",
        "\n",
        "# train the classifier on the training data\n",
        "ann_clf.fit(X_train_vec, y_train)"
      ]
    },
    {
      "cell_type": "markdown",
      "metadata": {
        "id": "6fcn8v6Bxdff"
      },
      "source": [
        "#### Performance evaluation\n",
        "* Classification metrics and report\n",
        "* Confusion matrix\n",
        "* TPR and FPR\n",
        "* ROC and AUC\n",
        "\n",
        "\n"
      ]
    },
    {
      "cell_type": "markdown",
      "metadata": {
        "id": "VnT6RzcIoHyn"
      },
      "source": [
        "**Task 7**: Write your code to make predictions for the test data record the results into y_pred_ann"
      ]
    },
    {
      "cell_type": "code",
      "execution_count": null,
      "metadata": {
        "id": "pPpKtoknSJU9"
      },
      "outputs": [],
      "source": [
        "# write your code to evaluate the classifier on the testing data\n",
        "\n",
        "\n",
        "#get predicted probabilities for the main class\n",
        "y_pred_probs_ann = ann_clf.predict_proba(X_test_vec)\n",
        "y_pred_probs_ann = y_pred_probs_ann[:, 1]\n"
      ]
    },
    {
      "cell_type": "code",
      "execution_count": null,
      "metadata": {
        "colab": {
          "base_uri": "https://localhost:8080/"
        },
        "id": "ouHIhXUUTMcE",
        "outputId": "3d119d75-a2d8-478e-f182-0db1eb950a83"
      },
      "outputs": [
        {
          "output_type": "stream",
          "name": "stdout",
          "text": [
            "[[4391  570]\n",
            " [ 473 4566]]\n",
            "              precision    recall  f1-score   support\n",
            "\n",
            "    negative       0.90      0.89      0.89      4961\n",
            "    positive       0.89      0.91      0.90      5039\n",
            "\n",
            "    accuracy                           0.90     10000\n",
            "   macro avg       0.90      0.90      0.90     10000\n",
            "weighted avg       0.90      0.90      0.90     10000\n",
            "\n"
          ]
        }
      ],
      "source": [
        "#print confusion matrix and evaluation report\n",
        "cm=confusion_matrix(y_test, y_pred_ann)\n",
        "print(cm)\n",
        "print(classification_report(y_test, y_pred_ann))"
      ]
    },
    {
      "cell_type": "markdown",
      "metadata": {
        "id": "VLw3N-aErAVX"
      },
      "source": [
        "**Task 8:** Write your code to calculate AUC"
      ]
    },
    {
      "cell_type": "code",
      "execution_count": null,
      "metadata": {
        "colab": {
          "base_uri": "https://localhost:8080/"
        },
        "id": "E6ms5Llft-94",
        "outputId": "dc418d64-dadd-4af1-8a43-20a10c13ad8a"
      },
      "outputs": [
        {
          "output_type": "stream",
          "name": "stdout",
          "text": [
            "AUC: 0.954\n"
          ]
        }
      ],
      "source": [
        "# get fpr, tpr and thresholds\n",
        "fpr_ann, tpr_ann, thresholds = roc_curve(y_true, y_pred_probs_ann)\n",
        "\n",
        "#write your code to compute AUC\n",
        "\n",
        "\n",
        "print('AUC:', '%.3f' % auc_ann)"
      ]
    },
    {
      "cell_type": "markdown",
      "metadata": {
        "id": "F3yR0wgttzqc"
      },
      "source": [
        "### **2.3.3 Model comparision**"
      ]
    },
    {
      "cell_type": "code",
      "execution_count": null,
      "metadata": {
        "colab": {
          "base_uri": "https://localhost:8080/",
          "height": 599
        },
        "id": "MYhJ_vest1Ic",
        "outputId": "43a40bf0-3aea-4872-9ebf-0601163376ac"
      },
      "outputs": [
        {
          "output_type": "display_data",
          "data": {
            "text/plain": [
              "<Figure size 800x600 with 1 Axes>"
            ],
            "image/png": "[encoded data removed]"
          },
          "metadata": {}
        },
        {
          "output_type": "stream",
          "name": "stdout",
          "text": [
            "Logistic regression model AUC: 0.947\n",
            "scikit-learn ANN MLP AUC: 0.954\n"
          ]
        }
      ],
      "source": [
        "# Plot ROC curves\n",
        "plt.figure(figsize=(8, 6))\n",
        "plt.plot(fprs_lr, tprs_lr, color='darkorange', lw=2, label='Logistic regression model (AUC = %0.2f)' % auc_lr)\n",
        "plt.plot(fpr_ann, tpr_ann, color='navy', lw=2, label='scikit-learn ANN MLP (AUC = %0.2f)' % auc_ann)\n",
        "plt.plot([0, 1], [0, 1], color='gray', lw=1, linestyle='--')\n",
        "plt.xlim([0.0, 1.0])\n",
        "plt.ylim([0.0, 1.05])\n",
        "plt.xlabel('False Positive Rate')\n",
        "plt.ylabel('True Positive Rate')\n",
        "plt.title('Receiver operating characteristic')\n",
        "plt.legend(loc=\"lower right\")\n",
        "plt.show()\n",
        "\n",
        "# Compute and print AUC\n",
        "print('Logistic regression model AUC:','%.3f' %  auc_lr)\n",
        "print('scikit-learn ANN MLP AUC:', '%.3f' %auc_ann)"
      ]
    },
    {
      "cell_type": "markdown",
      "metadata": {
        "id": "hAvMwbIJrK5s"
      },
      "source": [
        "**Task 9**: Which model you'd choose and why?"
      ]
    },
    {
      "cell_type": "markdown",
      "metadata": {
        "id": "yAIPvEeNyJYr"
      },
      "source": [
        "## **3. ML Operationalisation**"
      ]
    },
    {
      "cell_type": "markdown",
      "metadata": {
        "id": "T9R8ntBo3Hxd"
      },
      "source": [
        "### **3.1 Import pickle and save the selected model**"
      ]
    },
    {
      "cell_type": "code",
      "execution_count": null,
      "metadata": {
        "id": "fZlJI4aqzMqb"
      },
      "outputs": [],
      "source": [
        "import pickle"
      ]
    },
    {
      "cell_type": "markdown",
      "metadata": {
        "id": "p905vQSeraih"
      },
      "source": [
        "Save your lr model to your selected folder"
      ]
    },
    {
      "cell_type": "code",
      "execution_count": null,
      "metadata": {
        "id": "-4KRxwo1zLJj"
      },
      "outputs": [],
      "source": [
        "path = '/content/drive/MyDrive/Colab Notebooks/MIS710/IMDB_lr_clf.pickle'\n",
        "\n",
        "with open(path, 'wb') as f:\n",
        "    pickle.dump(lr, f)"
      ]
    },
    {
      "cell_type": "markdown",
      "metadata": {
        "id": "JPLr3XRwrn4d"
      },
      "source": [
        "**Task 10:** Write code to save your ann model"
      ]
    },
    {
      "cell_type": "code",
      "execution_count": null,
      "metadata": {
        "id": "Qm2g19iBrw1r"
      },
      "outputs": [],
      "source": [
        "path = '/content/drive/MyDrive/Colab Notebooks/MIS710/IMDB_ann_clf.pickle'\n",
        "\n",
        "#write your code below to save  the ann model\n"
      ]
    },
    {
      "cell_type": "markdown",
      "metadata": {
        "id": "l9vaXAHsr7cX"
      },
      "source": [
        "Note we didn't specify any vocabulary when vectorising the processed reviews. The vectoriser created a vocabulary specifically for the IMDB dataset.\n",
        "\n",
        "As we want to apply our model(s) to new reviews, we need to save the load the vocabulary as well. "
      ]
    },
    {
      "cell_type": "code",
      "execution_count": null,
      "metadata": {
        "id": "SLhfE5h_A17J"
      },
      "outputs": [],
      "source": [
        "with open('/content/drive/MyDrive/Colab Notebooks/MIS710/IMDB_vocabulary.pkl', 'wb') as file:\n",
        "    pickle.dump(vectorizer.vocabulary_, file)"
      ]
    },
    {
      "cell_type": "markdown",
      "metadata": {
        "id": "Up9jUIz3z9B9"
      },
      "source": [
        "You can also download the file"
      ]
    },
    {
      "cell_type": "code",
      "execution_count": null,
      "metadata": {
        "id": "RiYSDSQX0J-g"
      },
      "outputs": [],
      "source": [
        "from google.colab import files"
      ]
    },
    {
      "cell_type": "code",
      "execution_count": null,
      "metadata": {
        "colab": {
          "base_uri": "https://localhost:8080/",
          "height": 17
        },
        "id": "qDX73uRBz7SV",
        "outputId": "112b576e-dc5e-4336-871b-988113aa13fe"
      },
      "outputs": [
        {
          "data": {
            "application/javascript": [
              "\n",
              "    async function download(id, filename, size) {\n",
              "      if (!google.colab.kernel.accessAllowed) {\n",
              "        return;\n",
              "      }\n",
              "      const div = document.createElement('div');\n",
              "      const label = document.createElement('label');\n",
              "      label.textContent = `Downloading \"${filename}\": `;\n",
              "      div.appendChild(label);\n",
              "      const progress = document.createElement('progress');\n",
              "      progress.max = size;\n",
              "      div.appendChild(progress);\n",
              "      document.body.appendChild(div);\n",
              "\n",
              "      const buffers = [];\n",
              "      let downloaded = 0;\n",
              "\n",
              "      const channel = await google.colab.kernel.comms.open(id);\n",
              "      // Send a message to notify the kernel that we're ready.\n",
              "      channel.send({})\n",
              "\n",
              "      for await (const message of channel.messages) {\n",
              "        // Send a message to notify the kernel that we're ready.\n",
              "        channel.send({})\n",
              "        if (message.buffers) {\n",
              "          for (const buffer of message.buffers) {\n",
              "            buffers.push(buffer);\n",
              "            downloaded += buffer.byteLength;\n",
              "            progress.value = downloaded;\n",
              "          }\n",
              "        }\n",
              "      }\n",
              "      const blob = new Blob(buffers, {type: 'application/binary'});\n",
              "      const a = document.createElement('a');\n",
              "      a.href = window.URL.createObjectURL(blob);\n",
              "      a.download = filename;\n",
              "      div.appendChild(a);\n",
              "      a.click();\n",
              "      div.remove();\n",
              "    }\n",
              "  "
            ],
            "text/plain": [
              "<IPython.core.display.Javascript object>"
            ]
          },
          "metadata": {},
          "output_type": "display_data"
        },
        {
          "data": {
            "application/javascript": [
              "download(\"download_9bc872f1-e31d-4507-9d9c-03a461e2f57b\", \"IMDB_ann_clf.pickle\", 1249055)"
            ],
            "text/plain": [
              "<IPython.core.display.Javascript object>"
            ]
          },
          "metadata": {},
          "output_type": "display_data"
        }
      ],
      "source": [
        "files.download('/content/drive/MyDrive/Colab Notebooks/MIS710/IMDB_ann_clf.pickle')"
      ]
    },
    {
      "cell_type": "markdown",
      "metadata": {
        "id": "xoMhKJ882Fp8"
      },
      "source": [
        "### **3.2 Load and use the model**"
      ]
    },
    {
      "cell_type": "markdown",
      "metadata": {
        "id": "RAKlmHkzsh4o"
      },
      "source": [
        "**Unpickle**: Let's load our model and vocabulary and use them to  perform a sentiment analysis."
      ]
    },
    {
      "cell_type": "code",
      "execution_count": null,
      "metadata": {
        "id": "MxRjDs-S2HfC"
      },
      "outputs": [],
      "source": [
        "with open(path, 'rb') as f:\n",
        "    model = pickle.load(f)\n"
      ]
    },
    {
      "cell_type": "code",
      "execution_count": null,
      "metadata": {
        "id": "OcDkrlYzBe0_"
      },
      "outputs": [],
      "source": [
        "# Load the vocabulary used to preprocess the training data\n",
        "with open('/content/drive/MyDrive/Colab Notebooks/MIS710/IMDB_vocabulary.pkl', 'rb') as file:\n",
        "    vocabulary = pickle.load(file)"
      ]
    },
    {
      "cell_type": "code",
      "execution_count": null,
      "metadata": {
        "colab": {
          "base_uri": "https://localhost:8080/"
        },
        "id": "hg13YT7GO4E1",
        "outputId": "043a2704-d99b-4c18-ed67-25b121098fbf"
      },
      "outputs": [
        {
          "output_type": "stream",
          "name": "stdout",
          "text": [
            "Size of vocabulary: 156040\n"
          ]
        }
      ],
      "source": [
        "#size of the vocabulary\n",
        "print(\"Size of vocabulary:\", len(vocabulary))"
      ]
    },
    {
      "cell_type": "markdown",
      "metadata": {
        "id": "TccwCOBis7Yu"
      },
      "source": [
        "As you see, we now have a vocabulary of 156040 words. Hope this is large enough and includes all words from the new reviews. If we don't pickle it, we don't have the same matrix space to apply the new reviews. "
      ]
    },
    {
      "cell_type": "markdown",
      "metadata": {
        "id": "OGEIZa7DSptk"
      },
      "source": [
        "**Load new data**. I have collected 14 reviews about Dr Cha, a 2023 Kdrama from youtube. We load new reviews from the 'production line'.\n",
        "\n"
      ]
    },
    {
      "cell_type": "code",
      "execution_count": null,
      "metadata": {
        "colab": {
          "base_uri": "https://localhost:8080/"
        },
        "id": "kvC7NfDQ8AH7",
        "outputId": "197ab4cc-4846-42de-d5d9-ecf3803de6cb"
      },
      "outputs": [
        {
          "output_type": "stream",
          "name": "stdout",
          "text": [
            "                                               review sentiment\n",
            "0   I just watched the first episode and it’s 10/1...  positive\n",
            "1   this is going to be absolutely hilarious I can...  positive\n",
            "2   Accidentally watched the first episode, it was...  positive\n",
            "3                          This actress is hilarious!  positive\n",
            "4                             Looks very entertaining  positive\n",
            "5                 annoying unnecesarry romantic scene  negative\n",
            "6                           I love this drama so much  positive\n",
            "7   Too convoluted and over dramatic. Dr Cha neede...  negative\n",
            "8   Really good to see Km Byung Chul in a more com...  positive\n",
            "9   disappointed if the writers keep this marriage...  negative\n",
            "10  I'm addicted to this movie, but If she doesn't...  positive\n",
            "11      I love it. Can't wait to see the next episode  positive\n",
            "12  The movie really disappoint me, his mother wil...  negative\n",
            "13  Loved the first 2 episodes and excited for the...  positive\n"
          ]
        }
      ],
      "source": [
        "new_reviews = pd.read_csv('/content/drive/MyDrive/Colab Notebooks/MIS710/DrCha_reviews.csv')\n",
        "print(new_reviews)"
      ]
    },
    {
      "cell_type": "markdown",
      "metadata": {
        "id": "ZvyT1DkoZ_GQ"
      },
      "source": [
        "In practice, we should create a data pipeline to automate the pre-process of new data. Let's repeat the pre-processing steps for now.\n",
        "\n",
        "**You can skip all import and def functions and jump to the Pre-processing steps below**"
      ]
    },
    {
      "cell_type": "code",
      "execution_count": null,
      "metadata": {
        "id": "TzaQV03AS4o3"
      },
      "outputs": [],
      "source": [
        "#import the Python module re to work with regular expressions\n",
        "import re"
      ]
    },
    {
      "cell_type": "code",
      "execution_count": null,
      "metadata": {
        "id": "g-Ymx5W6S4o3"
      },
      "outputs": [],
      "source": [
        "# Define function to clean text\n",
        "def clean_text(text):\n",
        "  # Remove HTML tags\n",
        "  text = re.sub(r'<.*?>', '', text)\n",
        "  # Remove punctuation and special characters\n",
        "  text = re.sub(r'[^\\w\\s]', '', text)\n",
        "  # Remove extra whitespace\n",
        "  text = re.sub(r'\\s+', ' ', text).strip()\n",
        "  return text"
      ]
    },
    {
      "cell_type": "code",
      "execution_count": null,
      "metadata": {
        "id": "df9pSxt-S4o5"
      },
      "outputs": [],
      "source": [
        "def lowercasing(text):\n",
        "  # Convert to lowercase\n",
        "  text = text.lower()\n",
        "  return text"
      ]
    },
    {
      "cell_type": "code",
      "execution_count": null,
      "metadata": {
        "id": "rmkltgrZS4o6"
      },
      "outputs": [],
      "source": [
        "import nltk\n",
        "from nltk.tokenize import word_tokenize\n",
        "from nltk.stem import PorterStemmer, WordNetLemmatizer\n",
        "from nltk.corpus import stopwords"
      ]
    },
    {
      "cell_type": "code",
      "execution_count": null,
      "metadata": {
        "colab": {
          "base_uri": "https://localhost:8080/"
        },
        "id": "2T4HSuV3S4o6",
        "outputId": "7d0d6e4a-13d8-4ff9-eded-db039c92dc9d"
      },
      "outputs": [
        {
          "name": "stderr",
          "output_type": "stream",
          "text": [
            "[nltk_data] Downloading package punkt to /root/nltk_data...\n",
            "[nltk_data]   Package punkt is already up-to-date!\n",
            "[nltk_data] Downloading package wordnet to /root/nltk_data...\n",
            "[nltk_data]   Package wordnet is already up-to-date!\n",
            "[nltk_data] Downloading package stopwords to /root/nltk_data...\n",
            "[nltk_data]   Package stopwords is already up-to-date!\n"
          ]
        },
        {
          "data": {
            "text/plain": [
              "True"
            ]
          },
          "execution_count": 98,
          "metadata": {},
          "output_type": "execute_result"
        }
      ],
      "source": [
        "nltk.download('punkt')\n",
        "nltk.download('wordnet')\n",
        "nltk.download('stopwords')"
      ]
    },
    {
      "cell_type": "code",
      "execution_count": null,
      "metadata": {
        "id": "g6fQ4unhS4o6"
      },
      "outputs": [],
      "source": [
        "# define stopwords without negation words\n",
        "stop_words = set(stopwords.words('english'))\n",
        "negation_words = {'no', 'not', 'nor', 'neither', 'none', 'never'}\n",
        "filtered_words = [word for word in stop_words if word not in negation_words]"
      ]
    },
    {
      "cell_type": "code",
      "execution_count": null,
      "metadata": {
        "id": "s-ZYlD74S4o6"
      },
      "outputs": [],
      "source": [
        "#define a function to perform tokenization, stemming and lemmatization\n",
        "def tokenize_stem_lemmatize(text):\n",
        "  #tokenization\n",
        "  tokens = nltk.word_tokenize(text.lower())\n",
        "    \n",
        "  #initialize stemmer and lemmatizer  \n",
        "  stemmer = PorterStemmer()\n",
        "  lemmatizer = WordNetLemmatizer()\n",
        "\n",
        "  #perform stemming and lemmatization \n",
        "  stemmed_tokens = [stemmer.stem(token) for token in tokens]\n",
        "  lemmatized_tokens = [lemmatizer.lemmatize(token) for token in stemmed_tokens if token not in filtered_words and token.lower() not in negation_words]\n",
        "  return ' '.join(lemmatized_tokens)"
      ]
    },
    {
      "cell_type": "markdown",
      "source": [
        "**Pre-processing steps**"
      ],
      "metadata": {
        "id": "UZUyrz31_cBc"
      }
    },
    {
      "cell_type": "code",
      "execution_count": null,
      "metadata": {
        "id": "wiPvbJALS4o4"
      },
      "outputs": [],
      "source": [
        "# Apply the clean_text function to the 'review' column \n",
        "new_reviews['review'] = new_reviews['review'].apply(clean_text)"
      ]
    },
    {
      "cell_type": "code",
      "execution_count": null,
      "metadata": {
        "id": "rqNtAyyxS4o5"
      },
      "outputs": [],
      "source": [
        "new_reviews['review']=new_reviews['review'].apply(lowercasing)"
      ]
    },
    {
      "cell_type": "code",
      "execution_count": null,
      "metadata": {
        "id": "NoA6_VmpS4o7"
      },
      "outputs": [],
      "source": [
        "# Tokenize, stem, and lemmatize the review text\n",
        "processed_text = new_reviews['review'].apply(tokenize_stem_lemmatize)\n"
      ]
    },
    {
      "cell_type": "code",
      "execution_count": null,
      "metadata": {
        "colab": {
          "base_uri": "https://localhost:8080/"
        },
        "id": "kFfEr73F9k-d",
        "outputId": "7a989b38-dab5-4ff8-d13d-7ddd1beffe88"
      },
      "outputs": [
        {
          "data": {
            "text/plain": [
              "0     watch first episod 1010 im love mom also left ...\n",
              "1         thi go absolut hilari cant wait synopsi funni\n",
              "2     accident watch first episod wa good couldnt st...\n",
              "3                                    thi actress hilari\n",
              "4                                   look veri entertain\n",
              "5                        annoy unnecesarri romant scene\n",
              "6                                   love thi drama much\n",
              "7     convolut dramat dr cha need assert confid fema...\n",
              "8               realli good see km byung chul comed set\n",
              "9         disappoint writer keep thi marriag togeth end\n",
              "10    im addict thi movi doesnt divorc husband watch...\n",
              "11                       love cant wait see next episod\n",
              "12    movi realli disappoint hi mother pain find hi ...\n",
              "13                    love first 2 episod excit remaind\n",
              "Name: review, dtype: object"
            ]
          },
          "execution_count": 102,
          "metadata": {},
          "output_type": "execute_result"
        }
      ],
      "source": [
        "processed_text"
      ]
    },
    {
      "cell_type": "code",
      "execution_count": null,
      "metadata": {
        "id": "HaEBsHxp94rZ"
      },
      "outputs": [],
      "source": [
        "# Create a vectorised representation of the text data\n",
        "from sklearn.feature_extraction.text import CountVectorizer\n",
        "vectorizer = CountVectorizer(vocabulary=vocabulary)\n",
        "X_vec = vectorizer.fit_transform(processed_text)\n"
      ]
    },
    {
      "cell_type": "code",
      "execution_count": null,
      "metadata": {
        "id": "brFD8A_c-NXI"
      },
      "outputs": [],
      "source": [
        "# Evaluate model\n",
        "y_pred = model.predict(X_vec)"
      ]
    },
    {
      "cell_type": "code",
      "execution_count": null,
      "metadata": {
        "colab": {
          "base_uri": "https://localhost:8080/",
          "height": 488
        },
        "id": "VjURH8pfPcOF",
        "outputId": "40be2351-c55b-456b-efea-7fe56e92f7e6"
      },
      "outputs": [
        {
          "output_type": "execute_result",
          "data": {
            "text/plain": [
              "                                               review    Actual Predicted\n",
              "0   i just watched the first episode and its 1010 ...  positive  positive\n",
              "1   this is going to be absolutely hilarious i can...  positive  positive\n",
              "2   accidentally watched the first episode it was ...  positive  positive\n",
              "3                           this actress is hilarious  positive  positive\n",
              "4                             looks very entertaining  positive  positive\n",
              "5                 annoying unnecesarry romantic scene  negative  negative\n",
              "6                           i love this drama so much  positive  positive\n",
              "7   too convoluted and over dramatic dr cha needed...  negative  negative\n",
              "8   really good to see km byung chul in a more com...  positive  positive\n",
              "9   disappointed if the writers keep this marriage...  negative  negative\n",
              "10  im addicted to this movie but if she doesnt di...  positive  negative\n",
              "11        i love it cant wait to see the next episode  positive  positive\n",
              "12  the movie really disappoint me his mother will...  negative  negative\n",
              "13  loved the first 2 episodes and excited for the...  positive  positive"
            ],
            "text/html": [
              "\n",
              "  <div id=\"df-57e93910-9030-4989-ad77-6f2b284462c4\">\n",
              "    <div class=\"colab-df-container\">\n",
              "      <div>\n",
              "<style scoped>\n",
              "    .dataframe tbody tr th:only-of-type {\n",
              "        vertical-align: middle;\n",
              "    }\n",
              "\n",
              "    .dataframe tbody tr th {\n",
              "        vertical-align: top;\n",
              "    }\n",
              "\n",
              "    .dataframe thead th {\n",
              "        text-align: right;\n",
              "    }\n",
              "</style>\n",
              "<table border=\"1\" class=\"dataframe\">\n",
              "  <thead>\n",
              "    <tr style=\"text-align: right;\">\n",
              "      <th></th>\n",
              "      <th>review</th>\n",
              "      <th>Actual</th>\n",
              "      <th>Predicted</th>\n",
              "    </tr>\n",
              "  </thead>\n",
              "  <tbody>\n",
              "    <tr>\n",
              "      <th>0</th>\n",
              "      <td>i just watched the first episode and its 1010 ...</td>\n",
              "      <td>positive</td>\n",
              "      <td>positive</td>\n",
              "    </tr>\n",
              "    <tr>\n",
              "      <th>1</th>\n",
              "      <td>this is going to be absolutely hilarious i can...</td>\n",
              "      <td>positive</td>\n",
              "      <td>positive</td>\n",
              "    </tr>\n",
              "    <tr>\n",
              "      <th>2</th>\n",
              "      <td>accidentally watched the first episode it was ...</td>\n",
              "      <td>positive</td>\n",
              "      <td>positive</td>\n",
              "    </tr>\n",
              "    <tr>\n",
              "      <th>3</th>\n",
              "      <td>this actress is hilarious</td>\n",
              "      <td>positive</td>\n",
              "      <td>positive</td>\n",
              "    </tr>\n",
              "    <tr>\n",
              "      <th>4</th>\n",
              "      <td>looks very entertaining</td>\n",
              "      <td>positive</td>\n",
              "      <td>positive</td>\n",
              "    </tr>\n",
              "    <tr>\n",
              "      <th>5</th>\n",
              "      <td>annoying unnecesarry romantic scene</td>\n",
              "      <td>negative</td>\n",
              "      <td>negative</td>\n",
              "    </tr>\n",
              "    <tr>\n",
              "      <th>6</th>\n",
              "      <td>i love this drama so much</td>\n",
              "      <td>positive</td>\n",
              "      <td>positive</td>\n",
              "    </tr>\n",
              "    <tr>\n",
              "      <th>7</th>\n",
              "      <td>too convoluted and over dramatic dr cha needed...</td>\n",
              "      <td>negative</td>\n",
              "      <td>negative</td>\n",
              "    </tr>\n",
              "    <tr>\n",
              "      <th>8</th>\n",
              "      <td>really good to see km byung chul in a more com...</td>\n",
              "      <td>positive</td>\n",
              "      <td>positive</td>\n",
              "    </tr>\n",
              "    <tr>\n",
              "      <th>9</th>\n",
              "      <td>disappointed if the writers keep this marriage...</td>\n",
              "      <td>negative</td>\n",
              "      <td>negative</td>\n",
              "    </tr>\n",
              "    <tr>\n",
              "      <th>10</th>\n",
              "      <td>im addicted to this movie but if she doesnt di...</td>\n",
              "      <td>positive</td>\n",
              "      <td>negative</td>\n",
              "    </tr>\n",
              "    <tr>\n",
              "      <th>11</th>\n",
              "      <td>i love it cant wait to see the next episode</td>\n",
              "      <td>positive</td>\n",
              "      <td>positive</td>\n",
              "    </tr>\n",
              "    <tr>\n",
              "      <th>12</th>\n",
              "      <td>the movie really disappoint me his mother will...</td>\n",
              "      <td>negative</td>\n",
              "      <td>negative</td>\n",
              "    </tr>\n",
              "    <tr>\n",
              "      <th>13</th>\n",
              "      <td>loved the first 2 episodes and excited for the...</td>\n",
              "      <td>positive</td>\n",
              "      <td>positive</td>\n",
              "    </tr>\n",
              "  </tbody>\n",
              "</table>\n",
              "</div>\n",
              "      <button class=\"colab-df-convert\" onclick=\"convertToInteractive('df-57e93910-9030-4989-ad77-6f2b284462c4')\"\n",
              "              title=\"Convert this dataframe to an interactive table.\"\n",
              "              style=\"display:none;\">\n",
              "        \n",
              "  <svg xmlns=\"http://www.w3.org/2000/svg\" height=\"24px\"viewBox=\"0 0 24 24\"\n",
              "       width=\"24px\">\n",
              "    <path d=\"M0 0h24v24H0V0z\" fill=\"none\"/>\n",
              "    <path d=\"M18.56 5.44l.94 2.06.94-2.06 2.06-.94-2.06-.94-.94-2.06-.94 2.06-2.06.94zm-11 1L8.5 8.5l.94-2.06 2.06-.94-2.06-.94L8.5 2.5l-.94 2.06-2.06.94zm10 10l.94 2.06.94-2.06 2.06-.94-2.06-.94-.94-2.06-.94 2.06-2.06.94z\"/><path d=\"M17.41 7.96l-1.37-1.37c-.4-.4-.92-.59-1.43-.59-.52 0-1.04.2-1.43.59L10.3 9.45l-7.72 7.72c-.78.78-.78 2.05 0 2.83L4 21.41c.39.39.9.59 1.41.59.51 0 1.02-.2 1.41-.59l7.78-7.78 2.81-2.81c.8-.78.8-2.07 0-2.86zM5.41 20L4 18.59l7.72-7.72 1.47 1.35L5.41 20z\"/>\n",
              "  </svg>\n",
              "      </button>\n",
              "      \n",
              "  <style>\n",
              "    .colab-df-container {\n",
              "      display:flex;\n",
              "      flex-wrap:wrap;\n",
              "      gap: 12px;\n",
              "    }\n",
              "\n",
              "    .colab-df-convert {\n",
              "      background-color: #E8F0FE;\n",
              "      border: none;\n",
              "      border-radius: 50%;\n",
              "      cursor: pointer;\n",
              "      display: none;\n",
              "      fill: #1967D2;\n",
              "      height: 32px;\n",
              "      padding: 0 0 0 0;\n",
              "      width: 32px;\n",
              "    }\n",
              "\n",
              "    .colab-df-convert:hover {\n",
              "      background-color: #E2EBFA;\n",
              "      box-shadow: 0px 1px 2px rgba(60, 64, 67, 0.3), 0px 1px 3px 1px rgba(60, 64, 67, 0.15);\n",
              "      fill: #174EA6;\n",
              "    }\n",
              "\n",
              "    [theme=dark] .colab-df-convert {\n",
              "      background-color: #3B4455;\n",
              "      fill: #D2E3FC;\n",
              "    }\n",
              "\n",
              "    [theme=dark] .colab-df-convert:hover {\n",
              "      background-color: #434B5C;\n",
              "      box-shadow: 0px 1px 3px 1px rgba(0, 0, 0, 0.15);\n",
              "      filter: drop-shadow(0px 1px 2px rgba(0, 0, 0, 0.3));\n",
              "      fill: #FFFFFF;\n",
              "    }\n",
              "  </style>\n",
              "\n",
              "      <script>\n",
              "        const buttonEl =\n",
              "          document.querySelector('#df-57e93910-9030-4989-ad77-6f2b284462c4 button.colab-df-convert');\n",
              "        buttonEl.style.display =\n",
              "          google.colab.kernel.accessAllowed ? 'block' : 'none';\n",
              "\n",
              "        async function convertToInteractive(key) {\n",
              "          const element = document.querySelector('#df-57e93910-9030-4989-ad77-6f2b284462c4');\n",
              "          const dataTable =\n",
              "            await google.colab.kernel.invokeFunction('convertToInteractive',\n",
              "                                                     [key], {});\n",
              "          if (!dataTable) return;\n",
              "\n",
              "          const docLinkHtml = 'Like what you see? Visit the ' +\n",
              "            '<a target=\"_blank\" href=https://colab.research.google.com/notebooks/data_table.ipynb>data table notebook</a>'\n",
              "            + ' to learn more about interactive tables.';\n",
              "          element.innerHTML = '';\n",
              "          dataTable['output_type'] = 'display_data';\n",
              "          await google.colab.output.renderOutput(dataTable, element);\n",
              "          const docLink = document.createElement('div');\n",
              "          docLink.innerHTML = docLinkHtml;\n",
              "          element.appendChild(docLink);\n",
              "        }\n",
              "      </script>\n",
              "    </div>\n",
              "  </div>\n",
              "  "
            ]
          },
          "metadata": {},
          "execution_count": 115
        }
      ],
      "source": [
        "#join unseen y_test with predicted value into a data frame\n",
        "inspection=pd.DataFrame({'Actual':new_reviews['sentiment'], 'Predicted':y_pred})\n",
        "\n",
        "#join X_test with the new dataframe\n",
        "inspection=pd.concat([new_reviews['review'],inspection], axis=1)\n",
        "\n",
        "inspection"
      ]
    },
    {
      "cell_type": "markdown",
      "metadata": {
        "id": "wZqj0LYFuf0F"
      },
      "source": [
        "**Task 11**: write your code to print confusion matrix and evaluation report"
      ]
    },
    {
      "cell_type": "code",
      "execution_count": null,
      "metadata": {
        "colab": {
          "base_uri": "https://localhost:8080/"
        },
        "id": "roj9cZS-PS_u",
        "outputId": "ae304f46-4668-4d33-e5e8-1093594e8c58"
      },
      "outputs": [
        {
          "output_type": "stream",
          "name": "stdout",
          "text": [
            "[[4 0]\n",
            " [1 9]]\n",
            "              precision    recall  f1-score   support\n",
            "\n",
            "    negative       0.80      1.00      0.89         4\n",
            "    positive       1.00      0.90      0.95        10\n",
            "\n",
            "    accuracy                           0.93        14\n",
            "   macro avg       0.90      0.95      0.92        14\n",
            "weighted avg       0.94      0.93      0.93        14\n",
            "\n"
          ]
        }
      ],
      "source": [
        "#print confusion matrix and evaluation report\n",
        "y_test=new_reviews['sentiment']\n",
        "cm=confusion_matrix(y_test, y_pred)\n",
        "print(cm)\n",
        "print(classification_report(y_test, y_pred))"
      ]
    },
    {
      "cell_type": "markdown",
      "metadata": {
        "id": "Nrv8-AnX3hED"
      },
      "source": [
        "\n",
        "**Task 12**: Optional tasks\n",
        "\n",
        "* You can collect movie reviews and analyse emotions expressed, but make sure you do the same preprocessing first.\n",
        "* Open the Deployment ipynb to Load the pickled model and vocabulary, and apply the model to conduct a sentiment analysis on DrCha reviews. \n",
        "* Collect more DrCha reviews or reviews of any other movies and run a sentiment analysis using your pickled model. "
      ]
    },
    {
      "cell_type": "markdown",
      "metadata": {
        "id": "-Mtzwlk8yMEu"
      },
      "source": [
        "# **Congratulations**\n",
        "Well done, you have completed your first sentiment analysis.\n",
        "Now, let's do another exercise! \n",
        "\n"
      ]
    },
    {
      "cell_type": "markdown",
      "metadata": {
        "id": "Ko24hXv9CPaA"
      },
      "source": [
        "# **3. Case Two: Women's E-Commerce Clothing Reviews**\n",
        "\n",
        "**Sentiment analysis**\n",
        "\n",
        "**Context**\n",
        "This is a Women’s Clothing E-Commerce dataset revolving around the reviews written by customers. Its nine supportive features offer a great environment to parse out the text through its multiple dimensions. Because this is real commercial data, it has been anonymized, and references to the company in the review text and body have been replaced with “retailer”.\n",
        "\n",
        "**Content**\n",
        "This dataset includes 23486 rows and 10 feature variables. Each row corresponds to a customer review, and includes the variables:\n",
        "\n",
        "* Clothing ID: Integer Categorical variable that refers to the specific piece being reviewed.\n",
        "* Age: Positive Integer variable of the reviewers age.\n",
        "* Title: String variable for the title of the review.\n",
        "* Review Text: String variable for the review body.\n",
        "* Rating: Positive Ordinal Integer variable for the product score granted by the customer from 1 Worst, to 5 Best.\n",
        "* Recommended IND: Binary variable stating where the customer recommends the product where 1 is recommended, 0 is not recommended.\n",
        "* Positive Feedback Count: Positive Integer documenting the number of other customers who found this review positive.\n",
        "* Division Name: Categorical name of the product high level division.\n",
        "* Department Name: Categorical name of the product department name.\n",
        "* Class Name: Categorical name of the product class name.\n",
        "\n",
        "**Inspiration**\n",
        "For the purpose of Topic 10, let's predict recommendation: Yes or No based on the Title and Review Text.\n",
        "\n",
        "Anonymous but real source\n",
        "\n",
        "**Further information**:\n",
        "\n",
        "https://www.kaggle.com/datasets/nicapotato/womens-ecommerce-clothing-reviews\n",
        "\n",
        "https://www.researchgate.net/publication/323545316_Statistical_Analysis_on_E-Commerce_Reviews_with_Sentiment_Classification_using_Bidirectional_Recurrent_Neural_Network "
      ]
    },
    {
      "cell_type": "markdown",
      "metadata": {
        "id": "Yc063HkDoiBI"
      },
      "source": [
        "## **3.1 Data Loading**"
      ]
    },
    {
      "cell_type": "code",
      "execution_count": null,
      "metadata": {
        "id": "PIc078bDyXax"
      },
      "outputs": [],
      "source": [
        "url='https://raw.githubusercontent.com/VanLan0/MIS710-ML/main/Datasets/Reviews.csv'\n"
      ]
    },
    {
      "cell_type": "code",
      "execution_count": null,
      "metadata": {
        "id": "_HhtEBk8v6n9"
      },
      "outputs": [],
      "source": [
        "# load dataset\n",
        "records = pd.read_csv(url, index_col=None)"
      ]
    },
    {
      "cell_type": "code",
      "execution_count": null,
      "metadata": {
        "colab": {
          "base_uri": "https://localhost:8080/",
          "height": 354
        },
        "id": "X6FypybYv-2y",
        "outputId": "78c4b30c-0382-4c64-a37d-a3a06a83af0c"
      },
      "outputs": [
        {
          "output_type": "execute_result",
          "data": {
            "text/plain": [
              "   Unnamed: 0  Clothing ID  Age                    Title  \\\n",
              "0           0          767   33                      NaN   \n",
              "1           1         1080   34                      NaN   \n",
              "2           2         1077   60  Some major design flaws   \n",
              "3           3         1049   50         My favorite buy!   \n",
              "4           4          847   47         Flattering shirt   \n",
              "\n",
              "                                         Review Text  Rating  Recommended IND  \\\n",
              "0  Absolutely wonderful - silky and sexy and comf...       4                1   \n",
              "1  Love this dress!  it's sooo pretty.  i happene...       5                1   \n",
              "2  I had such high hopes for this dress and reall...       3                0   \n",
              "3  I love, love, love this jumpsuit. it's fun, fl...       5                1   \n",
              "4  This shirt is very flattering to all due to th...       5                1   \n",
              "\n",
              "   Positive Feedback Count   Division Name Department Name Class Name  \n",
              "0                        0       Initmates        Intimate  Intimates  \n",
              "1                        4         General         Dresses    Dresses  \n",
              "2                        0         General         Dresses    Dresses  \n",
              "3                        0  General Petite         Bottoms      Pants  \n",
              "4                        6         General            Tops    Blouses  "
            ],
            "text/html": [
              "\n",
              "  <div id=\"df-7bd31ae1-bf6c-48c5-b359-ef249b3fd405\">\n",
              "    <div class=\"colab-df-container\">\n",
              "      <div>\n",
              "<style scoped>\n",
              "    .dataframe tbody tr th:only-of-type {\n",
              "        vertical-align: middle;\n",
              "    }\n",
              "\n",
              "    .dataframe tbody tr th {\n",
              "        vertical-align: top;\n",
              "    }\n",
              "\n",
              "    .dataframe thead th {\n",
              "        text-align: right;\n",
              "    }\n",
              "</style>\n",
              "<table border=\"1\" class=\"dataframe\">\n",
              "  <thead>\n",
              "    <tr style=\"text-align: right;\">\n",
              "      <th></th>\n",
              "      <th>Unnamed: 0</th>\n",
              "      <th>Clothing ID</th>\n",
              "      <th>Age</th>\n",
              "      <th>Title</th>\n",
              "      <th>Review Text</th>\n",
              "      <th>Rating</th>\n",
              "      <th>Recommended IND</th>\n",
              "      <th>Positive Feedback Count</th>\n",
              "      <th>Division Name</th>\n",
              "      <th>Department Name</th>\n",
              "      <th>Class Name</th>\n",
              "    </tr>\n",
              "  </thead>\n",
              "  <tbody>\n",
              "    <tr>\n",
              "      <th>0</th>\n",
              "      <td>0</td>\n",
              "      <td>767</td>\n",
              "      <td>33</td>\n",
              "      <td>NaN</td>\n",
              "      <td>Absolutely wonderful - silky and sexy and comf...</td>\n",
              "      <td>4</td>\n",
              "      <td>1</td>\n",
              "      <td>0</td>\n",
              "      <td>Initmates</td>\n",
              "      <td>Intimate</td>\n",
              "      <td>Intimates</td>\n",
              "    </tr>\n",
              "    <tr>\n",
              "      <th>1</th>\n",
              "      <td>1</td>\n",
              "      <td>1080</td>\n",
              "      <td>34</td>\n",
              "      <td>NaN</td>\n",
              "      <td>Love this dress!  it's sooo pretty.  i happene...</td>\n",
              "      <td>5</td>\n",
              "      <td>1</td>\n",
              "      <td>4</td>\n",
              "      <td>General</td>\n",
              "      <td>Dresses</td>\n",
              "      <td>Dresses</td>\n",
              "    </tr>\n",
              "    <tr>\n",
              "      <th>2</th>\n",
              "      <td>2</td>\n",
              "      <td>1077</td>\n",
              "      <td>60</td>\n",
              "      <td>Some major design flaws</td>\n",
              "      <td>I had such high hopes for this dress and reall...</td>\n",
              "      <td>3</td>\n",
              "      <td>0</td>\n",
              "      <td>0</td>\n",
              "      <td>General</td>\n",
              "      <td>Dresses</td>\n",
              "      <td>Dresses</td>\n",
              "    </tr>\n",
              "    <tr>\n",
              "      <th>3</th>\n",
              "      <td>3</td>\n",
              "      <td>1049</td>\n",
              "      <td>50</td>\n",
              "      <td>My favorite buy!</td>\n",
              "      <td>I love, love, love this jumpsuit. it's fun, fl...</td>\n",
              "      <td>5</td>\n",
              "      <td>1</td>\n",
              "      <td>0</td>\n",
              "      <td>General Petite</td>\n",
              "      <td>Bottoms</td>\n",
              "      <td>Pants</td>\n",
              "    </tr>\n",
              "    <tr>\n",
              "      <th>4</th>\n",
              "      <td>4</td>\n",
              "      <td>847</td>\n",
              "      <td>47</td>\n",
              "      <td>Flattering shirt</td>\n",
              "      <td>This shirt is very flattering to all due to th...</td>\n",
              "      <td>5</td>\n",
              "      <td>1</td>\n",
              "      <td>6</td>\n",
              "      <td>General</td>\n",
              "      <td>Tops</td>\n",
              "      <td>Blouses</td>\n",
              "    </tr>\n",
              "  </tbody>\n",
              "</table>\n",
              "</div>\n",
              "      <button class=\"colab-df-convert\" onclick=\"convertToInteractive('df-7bd31ae1-bf6c-48c5-b359-ef249b3fd405')\"\n",
              "              title=\"Convert this dataframe to an interactive table.\"\n",
              "              style=\"display:none;\">\n",
              "        \n",
              "  <svg xmlns=\"http://www.w3.org/2000/svg\" height=\"24px\"viewBox=\"0 0 24 24\"\n",
              "       width=\"24px\">\n",
              "    <path d=\"M0 0h24v24H0V0z\" fill=\"none\"/>\n",
              "    <path d=\"M18.56 5.44l.94 2.06.94-2.06 2.06-.94-2.06-.94-.94-2.06-.94 2.06-2.06.94zm-11 1L8.5 8.5l.94-2.06 2.06-.94-2.06-.94L8.5 2.5l-.94 2.06-2.06.94zm10 10l.94 2.06.94-2.06 2.06-.94-2.06-.94-.94-2.06-.94 2.06-2.06.94z\"/><path d=\"M17.41 7.96l-1.37-1.37c-.4-.4-.92-.59-1.43-.59-.52 0-1.04.2-1.43.59L10.3 9.45l-7.72 7.72c-.78.78-.78 2.05 0 2.83L4 21.41c.39.39.9.59 1.41.59.51 0 1.02-.2 1.41-.59l7.78-7.78 2.81-2.81c.8-.78.8-2.07 0-2.86zM5.41 20L4 18.59l7.72-7.72 1.47 1.35L5.41 20z\"/>\n",
              "  </svg>\n",
              "      </button>\n",
              "      \n",
              "  <style>\n",
              "    .colab-df-container {\n",
              "      display:flex;\n",
              "      flex-wrap:wrap;\n",
              "      gap: 12px;\n",
              "    }\n",
              "\n",
              "    .colab-df-convert {\n",
              "      background-color: #E8F0FE;\n",
              "      border: none;\n",
              "      border-radius: 50%;\n",
              "      cursor: pointer;\n",
              "      display: none;\n",
              "      fill: #1967D2;\n",
              "      height: 32px;\n",
              "      padding: 0 0 0 0;\n",
              "      width: 32px;\n",
              "    }\n",
              "\n",
              "    .colab-df-convert:hover {\n",
              "      background-color: #E2EBFA;\n",
              "      box-shadow: 0px 1px 2px rgba(60, 64, 67, 0.3), 0px 1px 3px 1px rgba(60, 64, 67, 0.15);\n",
              "      fill: #174EA6;\n",
              "    }\n",
              "\n",
              "    [theme=dark] .colab-df-convert {\n",
              "      background-color: #3B4455;\n",
              "      fill: #D2E3FC;\n",
              "    }\n",
              "\n",
              "    [theme=dark] .colab-df-convert:hover {\n",
              "      background-color: #434B5C;\n",
              "      box-shadow: 0px 1px 3px 1px rgba(0, 0, 0, 0.15);\n",
              "      filter: drop-shadow(0px 1px 2px rgba(0, 0, 0, 0.3));\n",
              "      fill: #FFFFFF;\n",
              "    }\n",
              "  </style>\n",
              "\n",
              "      <script>\n",
              "        const buttonEl =\n",
              "          document.querySelector('#df-7bd31ae1-bf6c-48c5-b359-ef249b3fd405 button.colab-df-convert');\n",
              "        buttonEl.style.display =\n",
              "          google.colab.kernel.accessAllowed ? 'block' : 'none';\n",
              "\n",
              "        async function convertToInteractive(key) {\n",
              "          const element = document.querySelector('#df-7bd31ae1-bf6c-48c5-b359-ef249b3fd405');\n",
              "          const dataTable =\n",
              "            await google.colab.kernel.invokeFunction('convertToInteractive',\n",
              "                                                     [key], {});\n",
              "          if (!dataTable) return;\n",
              "\n",
              "          const docLinkHtml = 'Like what you see? Visit the ' +\n",
              "            '<a target=\"_blank\" href=https://colab.research.google.com/notebooks/data_table.ipynb>data table notebook</a>'\n",
              "            + ' to learn more about interactive tables.';\n",
              "          element.innerHTML = '';\n",
              "          dataTable['output_type'] = 'display_data';\n",
              "          await google.colab.output.renderOutput(dataTable, element);\n",
              "          const docLink = document.createElement('div');\n",
              "          docLink.innerHTML = docLinkHtml;\n",
              "          element.appendChild(docLink);\n",
              "        }\n",
              "      </script>\n",
              "    </div>\n",
              "  </div>\n",
              "  "
            ]
          },
          "metadata": {},
          "execution_count": 119
        }
      ],
      "source": [
        "records.head()"
      ]
    },
    {
      "cell_type": "code",
      "execution_count": null,
      "metadata": {
        "colab": {
          "base_uri": "https://localhost:8080/"
        },
        "id": "Rly47wmfxnXB",
        "outputId": "524828c6-3767-4e5b-b90f-125a63c014fa"
      },
      "outputs": [
        {
          "output_type": "stream",
          "name": "stdout",
          "text": [
            "<class 'pandas.core.frame.DataFrame'>\n",
            "RangeIndex: 23486 entries, 0 to 23485\n",
            "Data columns (total 11 columns):\n",
            " #   Column                   Non-Null Count  Dtype \n",
            "---  ------                   --------------  ----- \n",
            " 0   Unnamed: 0               23486 non-null  int64 \n",
            " 1   Clothing ID              23486 non-null  int64 \n",
            " 2   Age                      23486 non-null  int64 \n",
            " 3   Title                    19676 non-null  object\n",
            " 4   Review Text              22641 non-null  object\n",
            " 5   Rating                   23486 non-null  int64 \n",
            " 6   Recommended IND          23486 non-null  int64 \n",
            " 7   Positive Feedback Count  23486 non-null  int64 \n",
            " 8   Division Name            23472 non-null  object\n",
            " 9   Department Name          23472 non-null  object\n",
            " 10  Class Name               23472 non-null  object\n",
            "dtypes: int64(6), object(5)\n",
            "memory usage: 2.0+ MB\n"
          ]
        }
      ],
      "source": [
        "records.info()"
      ]
    },
    {
      "cell_type": "markdown",
      "metadata": {
        "id": "DpqYCzsOz_Gv"
      },
      "source": [
        "## **3.2. Data Preparation, Exploration and Visualisation**"
      ]
    },
    {
      "cell_type": "markdown",
      "metadata": {
        "id": "1yFb93950HUR"
      },
      "source": [
        "### **Data cleansing**\n",
        "\n",
        "* Inspect columns and correct data types\n",
        "* Detecting and handling missing data\n"
      ]
    },
    {
      "cell_type": "markdown",
      "metadata": {
        "id": "3HvK_Wq9vDOl"
      },
      "source": [
        "**Detect missing data**"
      ]
    },
    {
      "cell_type": "code",
      "execution_count": null,
      "metadata": {
        "colab": {
          "base_uri": "https://localhost:8080/"
        },
        "id": "PNhEDagMwVUT",
        "outputId": "7bd1a184-db20-4f90-a5f8-44c621d77bcf"
      },
      "outputs": [
        {
          "output_type": "execute_result",
          "data": {
            "text/plain": [
              "Unnamed: 0                    0\n",
              "Clothing ID                   0\n",
              "Age                           0\n",
              "Title                      3810\n",
              "Review Text                 845\n",
              "Rating                        0\n",
              "Recommended IND               0\n",
              "Positive Feedback Count       0\n",
              "Division Name                14\n",
              "Department Name              14\n",
              "Class Name                   14\n",
              "dtype: int64"
            ]
          },
          "metadata": {},
          "execution_count": 121
        }
      ],
      "source": [
        "records.isnull().sum()"
      ]
    },
    {
      "cell_type": "markdown",
      "metadata": {
        "id": "OFyf9P9tu59m"
      },
      "source": [
        "**Feature engineering and selection**\n",
        "\n"
      ]
    },
    {
      "cell_type": "code",
      "execution_count": null,
      "metadata": {
        "id": "6-iM1gQcwCtr"
      },
      "outputs": [],
      "source": [
        "records=records.iloc[:, [2, 3, 4, 5, 6]]"
      ]
    },
    {
      "cell_type": "markdown",
      "metadata": {
        "id": "U71PW5TXdmtq"
      },
      "source": [
        "Let's merge review title and review text columns, there is no need to keep them separately. By merging them, we can remove some missing values in either column."
      ]
    },
    {
      "cell_type": "code",
      "execution_count": null,
      "metadata": {
        "id": "E92TVXW92-Tj"
      },
      "outputs": [],
      "source": [
        "#create a new column by cpncatenating title and review text\n",
        "records['Review'] = records.apply(lambda row: str(row['Title']) + str(row['Review Text']), axis=1)"
      ]
    },
    {
      "cell_type": "code",
      "execution_count": null,
      "metadata": {
        "id": "u4f-86BF3lL5"
      },
      "outputs": [],
      "source": [
        "records.drop(columns=['Title', 'Review Text'], axis=1, inplace=True )"
      ]
    },
    {
      "cell_type": "markdown",
      "metadata": {
        "id": "3ijLx8xQdxs3"
      },
      "source": [
        "We don't have anymore missing data!"
      ]
    },
    {
      "cell_type": "code",
      "execution_count": null,
      "metadata": {
        "colab": {
          "base_uri": "https://localhost:8080/"
        },
        "id": "oBqKvN8Mdu-m",
        "outputId": "a8dab4ba-ad13-427b-a7c3-22d1391d5073"
      },
      "outputs": [
        {
          "output_type": "execute_result",
          "data": {
            "text/plain": [
              "Age                0\n",
              "Rating             0\n",
              "Recommended IND    0\n",
              "Review             0\n",
              "dtype: int64"
            ]
          },
          "metadata": {},
          "execution_count": 9
        }
      ],
      "source": [
        "records.isnull().sum()"
      ]
    },
    {
      "cell_type": "code",
      "execution_count": null,
      "metadata": {
        "id": "bjZQHhSgyNF6"
      },
      "outputs": [],
      "source": [
        "#rename the recommended IND, this is the target for classification\n",
        "records = records.rename(columns={'Recommended IND': 'Recommended'})"
      ]
    },
    {
      "cell_type": "markdown",
      "metadata": {
        "id": "NwDSjVQa0VfV"
      },
      "source": [
        "### **EDA**\n",
        "\n",
        "* Analyse and visualise the sentiment column"
      ]
    },
    {
      "cell_type": "code",
      "execution_count": null,
      "metadata": {
        "colab": {
          "base_uri": "https://localhost:8080/"
        },
        "id": "SdE9xiC_0eWj",
        "outputId": "2e69acc8-cab2-437b-cb8d-f2f54689421a"
      },
      "outputs": [
        {
          "output_type": "stream",
          "name": "stdout",
          "text": [
            "1    19314\n",
            "0     4172\n",
            "Name: Recommended, dtype: int64\n"
          ]
        }
      ],
      "source": [
        "# Get frequency of positive and negative reviews\n",
        "sentiment_counts = records['Recommended'].value_counts()\n",
        "print(sentiment_counts)"
      ]
    },
    {
      "cell_type": "code",
      "execution_count": null,
      "metadata": {
        "colab": {
          "base_uri": "https://localhost:8080/",
          "height": 472
        },
        "id": "4l4Fhb0J0eWj",
        "outputId": "dafba6aa-d72b-4a0d-adc9-75de2ef979e2"
      },
      "outputs": [
        {
          "output_type": "display_data",
          "data": {
            "text/plain": [
              "<Figure size 640x480 with 1 Axes>"
            ],
            "image/png": "[encoded data removed]"
          },
          "metadata": {}
        }
      ],
      "source": [
        "# Plot bar chart of sentiment counts\n",
        "sns.countplot(data=records, x='Recommended')\n",
        "plt.title('Distribution of Recommendation')\n",
        "plt.xlabel('Recommended')\n",
        "plt.ylabel('Frequency')\n",
        "plt.show()"
      ]
    },
    {
      "cell_type": "code",
      "execution_count": null,
      "metadata": {
        "colab": {
          "base_uri": "https://localhost:8080/",
          "height": 466
        },
        "id": "zbTxNmVi4EjP",
        "outputId": "22bf33c1-c719-453c-b098-af778e376bc0"
      },
      "outputs": [
        {
          "data": {
            "text/plain": [
              "<Axes: xlabel='Age'>"
            ]
          },
          "execution_count": 14,
          "metadata": {},
          "output_type": "execute_result"
        },
        {
          "data": {
            "image/png": "[encoded data removed]",
            "text/plain": [
              "<Figure size 640x480 with 1 Axes>"
            ]
          },
          "metadata": {},
          "output_type": "display_data"
        }
      ],
      "source": [
        "sns.boxplot(data=records, x='Age',showmeans=True)"
      ]
    },
    {
      "cell_type": "code",
      "execution_count": null,
      "metadata": {
        "colab": {
          "base_uri": "https://localhost:8080/",
          "height": 657
        },
        "id": "vygXGfH14LIJ",
        "outputId": "67626858-7e1a-4517-eb8d-edf46b811218"
      },
      "outputs": [
        {
          "name": "stderr",
          "output_type": "stream",
          "text": [
            "<ipython-input-15-7857e5384bdf>:1: UserWarning: \n",
            "\n",
            "`distplot` is a deprecated function and will be removed in seaborn v0.14.0.\n",
            "\n",
            "Please adapt your code to use either `displot` (a figure-level function with\n",
            "similar flexibility) or `histplot` (an axes-level function for histograms).\n",
            "\n",
            "For a guide to updating your code to use the new functions, please see\n",
            "https://gist.github.com/mwaskom/de44147ed2974457ad6372750bbe5751\n",
            "\n",
            "  sns.distplot(records['Age'],bins=50)\n"
          ]
        },
        {
          "data": {
            "text/plain": [
              "<Axes: xlabel='Age', ylabel='Density'>"
            ]
          },
          "execution_count": 15,
          "metadata": {},
          "output_type": "execute_result"
        },
        {
          "data": {
            "image/png": "[encoded data removed]",
            "text/plain": [
              "<Figure size 640x480 with 1 Axes>"
            ]
          },
          "metadata": {},
          "output_type": "display_data"
        }
      ],
      "source": [
        "sns.distplot(records['Age'],bins=50)"
      ]
    },
    {
      "cell_type": "code",
      "execution_count": null,
      "metadata": {
        "id": "XRLGZ8pQ5t1v"
      },
      "outputs": [],
      "source": [
        "# Map the values in column \"Recommended\" to \"No\" and \"Yes\"\n",
        "records['Recommended_YN'] = records['Recommended'].map({0: 'No', 1: 'Yes'})"
      ]
    },
    {
      "cell_type": "code",
      "execution_count": null,
      "metadata": {
        "colab": {
          "base_uri": "https://localhost:8080/",
          "height": 466
        },
        "id": "-O8Q6VKv4rRu",
        "outputId": "182da4fe-882b-452c-cc12-dab1c7c521ef"
      },
      "outputs": [
        {
          "data": {
            "text/plain": [
              "<Axes: xlabel='Age', ylabel='Recommended_YN'>"
            ]
          },
          "execution_count": 82,
          "metadata": {},
          "output_type": "execute_result"
        },
        {
          "data": {
            "image/png": "[encoded data removed]",
            "text/plain": [
              "<Figure size 640x480 with 1 Axes>"
            ]
          },
          "metadata": {},
          "output_type": "display_data"
        }
      ],
      "source": [
        "sns.boxplot(data=records, x='Age', y='Recommended_YN')"
      ]
    },
    {
      "cell_type": "code",
      "execution_count": null,
      "metadata": {
        "colab": {
          "base_uri": "https://localhost:8080/",
          "height": 466
        },
        "id": "ChV8KdEw5Ael",
        "outputId": "40e84469-7190-4a59-d41a-2ef2bde575e7"
      },
      "outputs": [
        {
          "data": {
            "text/plain": [
              "<Axes: xlabel='Age', ylabel='Density'>"
            ]
          },
          "execution_count": 17,
          "metadata": {},
          "output_type": "execute_result"
        },
        {
          "data": {
            "image/png": "[encoded data removed]",
            "text/plain": [
              "<Figure size 640x480 with 1 Axes>"
            ]
          },
          "metadata": {},
          "output_type": "display_data"
        }
      ],
      "source": [
        "sns.kdeplot(data=records, x='Age', hue='Recommended_YN', multiple='stack')"
      ]
    },
    {
      "cell_type": "code",
      "execution_count": null,
      "metadata": {
        "colab": {
          "base_uri": "https://localhost:8080/",
          "height": 466
        },
        "id": "9v4tL3ItUOZ9",
        "outputId": "c7505a00-ba5e-4bc7-cfeb-175f323afbcf"
      },
      "outputs": [
        {
          "data": {
            "text/plain": [
              "<Axes: xlabel='Rating', ylabel='count'>"
            ]
          },
          "execution_count": 18,
          "metadata": {},
          "output_type": "execute_result"
        },
        {
          "data": {
            "image/png": "[encoded data removed]",
            "text/plain": [
              "<Figure size 640x480 with 1 Axes>"
            ]
          },
          "metadata": {},
          "output_type": "display_data"
        }
      ],
      "source": [
        "sns.countplot(data=records, x='Rating', hue='Recommended')"
      ]
    },
    {
      "cell_type": "markdown",
      "metadata": {
        "id": "h41-LEvc5b97"
      },
      "source": [
        "### **Text pre-processing**\n",
        "* Text cleaning: Remove any HTML tags, punctuation, and special characters from the reviews.\n",
        "* Lowercasing: Convert all text to lowercase to ensure that words with the same spelling but different capitalization are treated as the same word.\n",
        "* Tokenization: Split the text into individual words or tokens.\n",
        "* Stopword removal: Remove common words such as \"the\", \"and\", \"a\", etc. that do not add much meaning to the text.\n",
        "* Stemming/Lemmatization: Reduce words to their base form to normalize the text and group together words with similar meanings."
      ]
    },
    {
      "cell_type": "markdown",
      "metadata": {
        "id": "k2lPvdpA5b97"
      },
      "source": [
        "re is a built-in Python module for working with regular expressions. Regular expressions are a combination of alphanumeric characters and special characters. For example, the . character in a regular expression matches any single character, while the * character matches zero or more occurrences of the preceding character."
      ]
    },
    {
      "cell_type": "markdown",
      "metadata": {
        "id": "uOG5g_x-5b97"
      },
      "source": [
        "#### **Text cleaning**"
      ]
    },
    {
      "cell_type": "code",
      "execution_count": null,
      "metadata": {
        "id": "XTJZv6wu5b97"
      },
      "outputs": [],
      "source": [
        "import re"
      ]
    },
    {
      "cell_type": "markdown",
      "metadata": {
        "id": "n1aALZu75b97"
      },
      "source": [
        "The re.sub() method takes three arguments:\n",
        "\n",
        "1.   The regular expression pattern to search for.\n",
        "2.   The replacement string to use for each match of the pattern.\n",
        "3. The input string to perform the substitution on."
      ]
    },
    {
      "cell_type": "code",
      "execution_count": null,
      "metadata": {
        "id": "U9VUt3GQ5b97"
      },
      "outputs": [],
      "source": [
        "# Define function to clean text\n",
        "def clean_text(text):\n",
        "  # Remove HTML tags\n",
        "  text = re.sub(r'<.*?>', '', text)\n",
        "  # Remove punctuation and special characters\n",
        "  text = re.sub(r'[^\\w\\s]', '', text)\n",
        "  # Remove extra whitespace\n",
        "  text = re.sub(r'\\s+', ' ', text).strip()\n",
        "  # Remove the string 'nan' from column \"Text\", as we merged columns with missing texts together\n",
        "  text = re.sub(r'nan', '', text)\n",
        "  return text"
      ]
    },
    {
      "cell_type": "markdown",
      "metadata": {
        "id": "7PzwLJQf5b98"
      },
      "source": [
        "* The . (dot) metacharacter matches any single character except for a newline character. \n",
        "* The * (asterisk) metacharacter matches zero or more occurrences of the preceding character or group. \n",
        "\n",
        "* \\w matches any word character, which  includes all alphabetic characters (both upper- and lowercase) and digits, and the underscore character.\n",
        "\n",
        "* \\s matches any whitespace character, which includes spaces, tabs, newlines, and other types of whitespace.\n",
        "\n",
        "* \\s+ matches one or more consecutive whitespace characters. The + (plus) is a metacharacter that means \"one or more occurrences of the preceding pattern\"."
      ]
    },
    {
      "cell_type": "markdown",
      "metadata": {
        "id": "32Ttx3fje_xY"
      },
      "source": [
        "**Task 13:** Write code for records['Review'] to apply clean_text"
      ]
    },
    {
      "cell_type": "code",
      "execution_count": null,
      "metadata": {
        "id": "sBZimsty5b98"
      },
      "outputs": [],
      "source": [
        "# Apply the clean_text function to the 'review' column \n"
      ]
    },
    {
      "cell_type": "code",
      "execution_count": null,
      "metadata": {
        "id": "Rn91I5ta5b98"
      },
      "outputs": [],
      "source": [
        "def lowercasing(text):\n",
        "  # Convert to lowercase\n",
        "  text = text.lower()\n",
        "  return text"
      ]
    },
    {
      "cell_type": "markdown",
      "metadata": {
        "id": "22-iKKV9fvdq"
      },
      "source": [
        "**Task 14:** Write code for records['Review'] to apply lowercasing"
      ]
    },
    {
      "cell_type": "code",
      "execution_count": null,
      "metadata": {
        "id": "_oOyK86T5b99"
      },
      "outputs": [],
      "source": []
    },
    {
      "cell_type": "markdown",
      "metadata": {
        "id": "IjqcGvaN5b99"
      },
      "source": [
        "#### **Tokenization, Stemming and Lemmatization**\n",
        "\n",
        "* Tokenization breaks the text into individual words or tokens, and then stemming/lemmatization is applied on each token individually to obtain their root form.\n",
        "\n",
        "* Stemming can help in reducing  words to their root form, which can help in reducing the number of unique words and therefore reducing the size of the vocabulary. For example: studies, study, studied, studying -> study\n",
        "\n",
        "* Lemmatization reduces a word to its base or dictionary form, which can improve the accuracy of the analysis. By doing both stemming and lemmatization, we can get the benefits of both techniques and improve the overall performance of the sentiment analysis model."
      ]
    },
    {
      "cell_type": "markdown",
      "metadata": {
        "id": "gSLEyiJ_5b99"
      },
      "source": [
        "NLTK (Natural Language Toolkit) is a Python library used for natural language processing (NLP) tasks such as tokenization, stemming, lemmatization, part-of-speech tagging, and more."
      ]
    },
    {
      "cell_type": "code",
      "execution_count": null,
      "metadata": {
        "id": "YrkdR-ye5b99"
      },
      "outputs": [],
      "source": [
        "import nltk\n",
        "from nltk.tokenize import word_tokenize\n",
        "from nltk.stem import PorterStemmer, WordNetLemmatizer\n",
        "from nltk.corpus import stopwords"
      ]
    },
    {
      "cell_type": "markdown",
      "metadata": {
        "id": "En-PqhiP5b99"
      },
      "source": [
        "Punkt and WordNet are both modules in the Natural Language Toolkit (nltk) library in Python for natural language processing tasks.\n",
        "\n",
        "* Punkt is a module used for tokenization. The Punkt module is trained on large corpora and uses unsupervised learning algorithms to tokenize sentences effectively even when presented with challenging text.\n",
        "\n",
        "* WordNet is a large lexical database of English words for lemmatization."
      ]
    },
    {
      "cell_type": "code",
      "execution_count": null,
      "metadata": {
        "colab": {
          "base_uri": "https://localhost:8080/"
        },
        "id": "FzwdPHgZ5b99",
        "outputId": "509d1e73-5548-4cd2-f019-b5fbbfb409bb"
      },
      "outputs": [
        {
          "output_type": "stream",
          "name": "stderr",
          "text": [
            "[nltk_data] Downloading package punkt to /root/nltk_data...\n",
            "[nltk_data]   Package punkt is already up-to-date!\n",
            "[nltk_data] Downloading package wordnet to /root/nltk_data...\n",
            "[nltk_data]   Package wordnet is already up-to-date!\n",
            "[nltk_data] Downloading package stopwords to /root/nltk_data...\n",
            "[nltk_data]   Package stopwords is already up-to-date!\n"
          ]
        },
        {
          "output_type": "execute_result",
          "data": {
            "text/plain": [
              "True"
            ]
          },
          "metadata": {},
          "execution_count": 17
        }
      ],
      "source": [
        "nltk.download('punkt')\n",
        "nltk.download('wordnet')\n",
        "nltk.download('stopwords')"
      ]
    },
    {
      "cell_type": "code",
      "execution_count": null,
      "metadata": {
        "id": "pBns_YGW5b99"
      },
      "outputs": [],
      "source": [
        "# Get stopwords\n",
        "stop_words = set(stopwords.words('english'))\n",
        "#keep negation words because removing them may result in information loss\n",
        "negation_words = {'no', 'not', 'nor', 'neither', 'none', 'never'}\n",
        "\n",
        "filtered_words = [word for word in stop_words if word not in negation_words]"
      ]
    },
    {
      "cell_type": "code",
      "execution_count": null,
      "metadata": {
        "id": "u2qdp19b5b9-"
      },
      "outputs": [],
      "source": [
        "#define a function to perform tokenization, stemming and lemmatization\n",
        "def tokenize_stem_lemmatize(text):\n",
        "  #tokenization\n",
        "  tokens = nltk.word_tokenize(text.lower())\n",
        "    \n",
        "  #initialize stemmer and lemmatizer  \n",
        "  stemmer = PorterStemmer()\n",
        "  lemmatizer = WordNetLemmatizer()\n",
        "\n",
        "  #perform stemming and lemmatization \n",
        "  stemmed_tokens = [stemmer.stem(token) for token in tokens]\n",
        "  lemmatized_tokens = [lemmatizer.lemmatize(token) for token in stemmed_tokens if token not in filtered_words and token.lower() not in negation_words]\n",
        "  return ' '.join(lemmatized_tokens)"
      ]
    },
    {
      "cell_type": "markdown",
      "source": [
        "**Task 15:** Write code to tokenize, stem, and lemmatize the Review column"
      ],
      "metadata": {
        "id": "ifa3fdfQOE0-"
      }
    },
    {
      "cell_type": "code",
      "execution_count": null,
      "metadata": {
        "id": "3iD7km5-5b9-"
      },
      "outputs": [],
      "source": [
        "# Tokenize, stem, and lemmatize the text\n",
        "\n"
      ]
    },
    {
      "cell_type": "code",
      "execution_count": null,
      "metadata": {
        "id": "Jqxvb3pnamxq"
      },
      "outputs": [],
      "source": [
        "# Create a new DataFrame that contains the processed text and Age columns\n",
        "X = pd.DataFrame({'Processed_Text': processed_text, 'Age': records['Age'], 'Rating': records['Rating']})"
      ]
    },
    {
      "cell_type": "code",
      "execution_count": null,
      "metadata": {
        "colab": {
          "base_uri": "https://localhost:8080/"
        },
        "id": "WJrIr89zaw5m",
        "outputId": "9e802691-fdfe-4e35-bab5-426c153308a1"
      },
      "outputs": [
        {
          "output_type": "stream",
          "name": "stdout",
          "text": [
            "<class 'pandas.core.frame.DataFrame'>\n",
            "RangeIndex: 23486 entries, 0 to 23485\n",
            "Data columns (total 3 columns):\n",
            " #   Column          Non-Null Count  Dtype \n",
            "---  ------          --------------  ----- \n",
            " 0   Processed_Text  23486 non-null  object\n",
            " 1   Age             23486 non-null  int64 \n",
            " 2   Rating          23486 non-null  int64 \n",
            "dtypes: int64(2), object(1)\n",
            "memory usage: 550.6+ KB\n"
          ]
        }
      ],
      "source": [
        "X.info()"
      ]
    },
    {
      "cell_type": "code",
      "execution_count": null,
      "metadata": {
        "id": "S5GoOAe99JTI"
      },
      "outputs": [],
      "source": [
        "#X=processed_text\n",
        "y=records['Recommended']"
      ]
    },
    {
      "cell_type": "markdown",
      "metadata": {
        "id": "0Yo0TC6d5b9-"
      },
      "source": [
        "#### **Vectorization**"
      ]
    },
    {
      "cell_type": "markdown",
      "metadata": {
        "id": "iyjsLaT_5b9-"
      },
      "source": [
        "A vectorizer is a process of converting textual data into numerical vectors that can be used as input for machine learning algorithms.\n",
        "\n",
        "Using a bag-of-words model, a vectorizer counts the frequency of each word in a document and represents the document as a vector of word frequencies."
      ]
    },
    {
      "cell_type": "markdown",
      "metadata": {
        "id": "pdk2LFx15b9-"
      },
      "source": [
        "### **Data splitting**"
      ]
    },
    {
      "cell_type": "markdown",
      "source": [
        "**Task 15:** Write code to split data, don't forget to use stratify=y"
      ],
      "metadata": {
        "id": "PLGeF9s_AfXa"
      }
    },
    {
      "cell_type": "code",
      "execution_count": null,
      "metadata": {
        "id": "aGu8tXvW5b9-"
      },
      "outputs": [],
      "source": [
        "# Split the dataset into training and testing sets\n",
        "from sklearn.model_selection import train_test_split\n",
        "\n"
      ]
    },
    {
      "cell_type": "code",
      "execution_count": null,
      "metadata": {
        "colab": {
          "base_uri": "https://localhost:8080/",
          "height": 424
        },
        "id": "c6gDnQVV5b9-",
        "outputId": "3a119106-35e7-4056-bb96-e25e6414dc26"
      },
      "outputs": [
        {
          "output_type": "execute_result",
          "data": {
            "text/plain": [
              "                                          Processed_Text  Age  Rating\n",
              "22625  love 56 34a282936 size small wa great fit moss...   44       5\n",
              "15763  veri cute run largei bought thi store without ...   42       4\n",
              "22642             boho chiclov thi dress necklin gorgeou   39       5\n",
              "15436  uniqu peplum sweater soft comfi fabulousdark b...   44       5\n",
              "3812   xl run smallwould love thi skirt xl closer siz...   33       3\n",
              "...                                                  ...  ...     ...\n",
              "7629   comfort stylish great fitfind boyfriend jean a...   65       5\n",
              "14784  hopedi wish fit littl better unfortun littl ti...   57       1\n",
              "19131  gorgeou timeless trenchfirst im navi person mu...   57       5\n",
              "15572  dreami soft sweaterveri warm snuggli gorgeou c...   45       5\n",
              "242    super flatteringi went ahead order size base p...   26       5\n",
              "\n",
              "[18788 rows x 3 columns]"
            ],
            "text/html": [
              "\n",
              "  <div id=\"df-cad3ac33-809f-44e2-9ec3-834c28a39b0f\">\n",
              "    <div class=\"colab-df-container\">\n",
              "      <div>\n",
              "<style scoped>\n",
              "    .dataframe tbody tr th:only-of-type {\n",
              "        vertical-align: middle;\n",
              "    }\n",
              "\n",
              "    .dataframe tbody tr th {\n",
              "        vertical-align: top;\n",
              "    }\n",
              "\n",
              "    .dataframe thead th {\n",
              "        text-align: right;\n",
              "    }\n",
              "</style>\n",
              "<table border=\"1\" class=\"dataframe\">\n",
              "  <thead>\n",
              "    <tr style=\"text-align: right;\">\n",
              "      <th></th>\n",
              "      <th>Processed_Text</th>\n",
              "      <th>Age</th>\n",
              "      <th>Rating</th>\n",
              "    </tr>\n",
              "  </thead>\n",
              "  <tbody>\n",
              "    <tr>\n",
              "      <th>22625</th>\n",
              "      <td>love 56 34a282936 size small wa great fit moss...</td>\n",
              "      <td>44</td>\n",
              "      <td>5</td>\n",
              "    </tr>\n",
              "    <tr>\n",
              "      <th>15763</th>\n",
              "      <td>veri cute run largei bought thi store without ...</td>\n",
              "      <td>42</td>\n",
              "      <td>4</td>\n",
              "    </tr>\n",
              "    <tr>\n",
              "      <th>22642</th>\n",
              "      <td>boho chiclov thi dress necklin gorgeou</td>\n",
              "      <td>39</td>\n",
              "      <td>5</td>\n",
              "    </tr>\n",
              "    <tr>\n",
              "      <th>15436</th>\n",
              "      <td>uniqu peplum sweater soft comfi fabulousdark b...</td>\n",
              "      <td>44</td>\n",
              "      <td>5</td>\n",
              "    </tr>\n",
              "    <tr>\n",
              "      <th>3812</th>\n",
              "      <td>xl run smallwould love thi skirt xl closer siz...</td>\n",
              "      <td>33</td>\n",
              "      <td>3</td>\n",
              "    </tr>\n",
              "    <tr>\n",
              "      <th>...</th>\n",
              "      <td>...</td>\n",
              "      <td>...</td>\n",
              "      <td>...</td>\n",
              "    </tr>\n",
              "    <tr>\n",
              "      <th>7629</th>\n",
              "      <td>comfort stylish great fitfind boyfriend jean a...</td>\n",
              "      <td>65</td>\n",
              "      <td>5</td>\n",
              "    </tr>\n",
              "    <tr>\n",
              "      <th>14784</th>\n",
              "      <td>hopedi wish fit littl better unfortun littl ti...</td>\n",
              "      <td>57</td>\n",
              "      <td>1</td>\n",
              "    </tr>\n",
              "    <tr>\n",
              "      <th>19131</th>\n",
              "      <td>gorgeou timeless trenchfirst im navi person mu...</td>\n",
              "      <td>57</td>\n",
              "      <td>5</td>\n",
              "    </tr>\n",
              "    <tr>\n",
              "      <th>15572</th>\n",
              "      <td>dreami soft sweaterveri warm snuggli gorgeou c...</td>\n",
              "      <td>45</td>\n",
              "      <td>5</td>\n",
              "    </tr>\n",
              "    <tr>\n",
              "      <th>242</th>\n",
              "      <td>super flatteringi went ahead order size base p...</td>\n",
              "      <td>26</td>\n",
              "      <td>5</td>\n",
              "    </tr>\n",
              "  </tbody>\n",
              "</table>\n",
              "<p>18788 rows × 3 columns</p>\n",
              "</div>\n",
              "      <button class=\"colab-df-convert\" onclick=\"convertToInteractive('df-cad3ac33-809f-44e2-9ec3-834c28a39b0f')\"\n",
              "              title=\"Convert this dataframe to an interactive table.\"\n",
              "              style=\"display:none;\">\n",
              "        \n",
              "  <svg xmlns=\"http://www.w3.org/2000/svg\" height=\"24px\"viewBox=\"0 0 24 24\"\n",
              "       width=\"24px\">\n",
              "    <path d=\"M0 0h24v24H0V0z\" fill=\"none\"/>\n",
              "    <path d=\"M18.56 5.44l.94 2.06.94-2.06 2.06-.94-2.06-.94-.94-2.06-.94 2.06-2.06.94zm-11 1L8.5 8.5l.94-2.06 2.06-.94-2.06-.94L8.5 2.5l-.94 2.06-2.06.94zm10 10l.94 2.06.94-2.06 2.06-.94-2.06-.94-.94-2.06-.94 2.06-2.06.94z\"/><path d=\"M17.41 7.96l-1.37-1.37c-.4-.4-.92-.59-1.43-.59-.52 0-1.04.2-1.43.59L10.3 9.45l-7.72 7.72c-.78.78-.78 2.05 0 2.83L4 21.41c.39.39.9.59 1.41.59.51 0 1.02-.2 1.41-.59l7.78-7.78 2.81-2.81c.8-.78.8-2.07 0-2.86zM5.41 20L4 18.59l7.72-7.72 1.47 1.35L5.41 20z\"/>\n",
              "  </svg>\n",
              "      </button>\n",
              "      \n",
              "  <style>\n",
              "    .colab-df-container {\n",
              "      display:flex;\n",
              "      flex-wrap:wrap;\n",
              "      gap: 12px;\n",
              "    }\n",
              "\n",
              "    .colab-df-convert {\n",
              "      background-color: #E8F0FE;\n",
              "      border: none;\n",
              "      border-radius: 50%;\n",
              "      cursor: pointer;\n",
              "      display: none;\n",
              "      fill: #1967D2;\n",
              "      height: 32px;\n",
              "      padding: 0 0 0 0;\n",
              "      width: 32px;\n",
              "    }\n",
              "\n",
              "    .colab-df-convert:hover {\n",
              "      background-color: #E2EBFA;\n",
              "      box-shadow: 0px 1px 2px rgba(60, 64, 67, 0.3), 0px 1px 3px 1px rgba(60, 64, 67, 0.15);\n",
              "      fill: #174EA6;\n",
              "    }\n",
              "\n",
              "    [theme=dark] .colab-df-convert {\n",
              "      background-color: #3B4455;\n",
              "      fill: #D2E3FC;\n",
              "    }\n",
              "\n",
              "    [theme=dark] .colab-df-convert:hover {\n",
              "      background-color: #434B5C;\n",
              "      box-shadow: 0px 1px 3px 1px rgba(0, 0, 0, 0.15);\n",
              "      filter: drop-shadow(0px 1px 2px rgba(0, 0, 0, 0.3));\n",
              "      fill: #FFFFFF;\n",
              "    }\n",
              "  </style>\n",
              "\n",
              "      <script>\n",
              "        const buttonEl =\n",
              "          document.querySelector('#df-cad3ac33-809f-44e2-9ec3-834c28a39b0f button.colab-df-convert');\n",
              "        buttonEl.style.display =\n",
              "          google.colab.kernel.accessAllowed ? 'block' : 'none';\n",
              "\n",
              "        async function convertToInteractive(key) {\n",
              "          const element = document.querySelector('#df-cad3ac33-809f-44e2-9ec3-834c28a39b0f');\n",
              "          const dataTable =\n",
              "            await google.colab.kernel.invokeFunction('convertToInteractive',\n",
              "                                                     [key], {});\n",
              "          if (!dataTable) return;\n",
              "\n",
              "          const docLinkHtml = 'Like what you see? Visit the ' +\n",
              "            '<a target=\"_blank\" href=https://colab.research.google.com/notebooks/data_table.ipynb>data table notebook</a>'\n",
              "            + ' to learn more about interactive tables.';\n",
              "          element.innerHTML = '';\n",
              "          dataTable['output_type'] = 'display_data';\n",
              "          await google.colab.output.renderOutput(dataTable, element);\n",
              "          const docLink = document.createElement('div');\n",
              "          docLink.innerHTML = docLinkHtml;\n",
              "          element.appendChild(docLink);\n",
              "        }\n",
              "      </script>\n",
              "    </div>\n",
              "  </div>\n",
              "  "
            ]
          },
          "metadata": {},
          "execution_count": 25
        }
      ],
      "source": [
        "X_train"
      ]
    },
    {
      "cell_type": "markdown",
      "source": [
        "**Task 16:** Write code to vectorise X_test_vec"
      ],
      "metadata": {
        "id": "h0pwyDEDA4zS"
      }
    },
    {
      "cell_type": "code",
      "execution_count": null,
      "metadata": {
        "id": "8AM9_Bqe5b9-"
      },
      "outputs": [],
      "source": [
        "# Create a vector representation of the text data\n",
        "from sklearn.feature_extraction.text import CountVectorizer\n",
        "vectorizer = CountVectorizer()\n",
        "X_train_vec = vectorizer.fit_transform(X_train['Processed_Text'])\n",
        "\n",
        "#Write code to vectorise X_test_vec below\n"
      ]
    },
    {
      "cell_type": "markdown",
      "metadata": {
        "id": "X7CpT8TW5b9-"
      },
      "source": [
        "We have vectorised the Reviews, now add the other columns Age and Rating back"
      ]
    },
    {
      "cell_type": "code",
      "execution_count": null,
      "metadata": {
        "id": "ee2iMNrGxuOV"
      },
      "outputs": [],
      "source": [
        "# get the vocabulary of the corpus\n",
        "feature_names = list(vectorizer.vocabulary_.keys())"
      ]
    },
    {
      "cell_type": "code",
      "execution_count": null,
      "metadata": {
        "colab": {
          "base_uri": "https://localhost:8080/"
        },
        "id": "lXgTkV9Xxnso",
        "outputId": "3a4f6af9-c970-4ddf-e7a7-a94b284c10a6"
      },
      "outputs": [
        {
          "output_type": "stream",
          "name": "stdout",
          "text": [
            "   love  56  34a282936  size  small  wa  great  fit  moss  color  ...  \\\n",
            "0     0   0          0     0      0   0      0    0     0      0  ...   \n",
            "1     0   0          0     0      0   0      0    0     0      0  ...   \n",
            "2     0   0          0     0      0   0      0    0     0      0  ...   \n",
            "3     0   0          0     0      0   0      0    0     0      0  ...   \n",
            "4     0   0          0     0      0   0      0    0     0      0  ...   \n",
            "\n",
            "   easybought  leggingsmay  whatnot  yolk  contour  fitfind  contriv  \\\n",
            "0           0            0        0     0        0        0        0   \n",
            "1           0            0        0     0        0        0        0   \n",
            "2           0            0        0     0        0        0        0   \n",
            "3           0            0        0     0        0        0        0   \n",
            "4           0            0        0     0        0        0        0   \n",
            "\n",
            "   trenchfirst  Age  Rating  \n",
            "0            0   44       5  \n",
            "1            0   42       4  \n",
            "2            0   39       5  \n",
            "3            0   44       5  \n",
            "4            0   33       3  \n",
            "\n",
            "[5 rows x 18930 columns]\n"
          ]
        }
      ],
      "source": [
        "# Convert the sparse matrix to a dense matrix\n",
        "X_train_vec = X_train_vec.toarray()\n",
        "\n",
        "# make X_train_vec into columns\n",
        "X_train_vec = pd.DataFrame(X_train_vec, columns=feature_names)\n",
        "# merge the vectorized data with the Age column and fix indices\n",
        "X_train_vec['Age'] = X_train['Age'].reset_index(drop=True)\n",
        "X_train_vec['Rating'] = X_train['Rating'].reset_index(drop=True)\n",
        "\n",
        "# View the vectorized text and 'age' column\n",
        "print(X_train_vec.head())"
      ]
    },
    {
      "cell_type": "markdown",
      "source": [
        "**Task 17:** We have vectorised X_test as T_text_vec, now modify the previous code to add columns Age and Rating to the X_test_vec"
      ],
      "metadata": {
        "id": "J6Tn0_x4Cyzc"
      }
    },
    {
      "cell_type": "code",
      "execution_count": null,
      "metadata": {
        "colab": {
          "base_uri": "https://localhost:8080/"
        },
        "id": "EklqeNNm2Y4N",
        "outputId": "f2b50ee9-979c-4abb-a402-6f3e0a57bc88"
      },
      "outputs": [
        {
          "output_type": "stream",
          "name": "stdout",
          "text": [
            "   love  56  34a282936  size  small  wa  great  fit  moss  color  ...  \\\n",
            "0     0   0          0     0      0   0      0    0     0      0  ...   \n",
            "1     0   0          0     0      0   0      0    0     0      0  ...   \n",
            "2     0   0          0     0      0   0      0    0     0      0  ...   \n",
            "3     0   0          0     0      0   0      0    0     0      0  ...   \n",
            "4     0   0          0     1      0   0      0    0     0      0  ...   \n",
            "\n",
            "   easybought  leggingsmay  whatnot  yolk  contour  fitfind  contriv  \\\n",
            "0           0            0        0     0        0        0        0   \n",
            "1           0            0        0     0        0        0        0   \n",
            "2           0            0        0     0        0        0        0   \n",
            "3           0            0        0     0        0        0        0   \n",
            "4           0            0        0     0        0        0        0   \n",
            "\n",
            "   trenchfirst  Age  Rating  \n",
            "0            0   40       5  \n",
            "1            0   52       4  \n",
            "2            0   46       3  \n",
            "3            0   48       4  \n",
            "4            0   36       5  \n",
            "\n",
            "[5 rows x 18930 columns]\n"
          ]
        }
      ],
      "source": [
        "# Convert the sparse matrix to a dense matrix\n",
        "X_test_vec = X_test_vec.toarray()\n",
        "\n",
        "# make X_train_vec into columns\n",
        "X_test_vec = pd.DataFrame(X_test_vec, columns=feature_names)\n",
        "\n",
        "# Write your code below to merge the vectorized data with the Age and Rating columns and fix indices\n",
        "\n",
        "\n",
        "# View the vectorized text and 'age' column\n",
        "print(X_test_vec.head())"
      ]
    },
    {
      "cell_type": "markdown",
      "source": [
        "Let's inspect the datasets"
      ],
      "metadata": {
        "id": "9Y56ZyAHB6k9"
      }
    },
    {
      "cell_type": "code",
      "execution_count": null,
      "metadata": {
        "colab": {
          "base_uri": "https://localhost:8080/"
        },
        "id": "2cquY8l65b9_",
        "outputId": "6615b611-bf92-444f-9a8c-91fe7ee97977"
      },
      "outputs": [
        {
          "output_type": "stream",
          "name": "stdout",
          "text": [
            "Training:  [0 1]\n",
            "Training:  [ 3337 15451]\n",
            "Testing:  [0 1]\n",
            "Testing:  [ 835 3863]\n"
          ]
        }
      ],
      "source": [
        "def check_dataset(arg1, mydataset):\n",
        "# Get frequency of positive and negative reviews\n",
        "  unique, frequency = np.unique(mydataset, return_counts = True)\n",
        "# print unique values array\n",
        "  print(arg1, unique)\n",
        "# print frequency array\n",
        "  print(arg1, frequency)\n",
        "\n",
        "check_dataset('Training: ', y_train)\n",
        "check_dataset('Testing: ', y_test)"
      ]
    },
    {
      "cell_type": "markdown",
      "metadata": {
        "id": "DAX8wc6h5b9_"
      },
      "source": [
        "## **3.3. Sentiment analysis**"
      ]
    },
    {
      "cell_type": "markdown",
      "metadata": {
        "id": "jIZUgOPU5b9_"
      },
      "source": [
        "### **3.3.1 Logistic regression**"
      ]
    },
    {
      "cell_type": "markdown",
      "metadata": {
        "id": "MSG1M-Au6U48"
      },
      "source": [
        "#### Model building"
      ]
    },
    {
      "cell_type": "markdown",
      "source": [
        "**Task 18**: Write code to initialise and fit a lr model"
      ],
      "metadata": {
        "id": "eZrZ0zA5CTIm"
      }
    },
    {
      "cell_type": "code",
      "execution_count": null,
      "metadata": {
        "colab": {
          "base_uri": "https://localhost:8080/",
          "height": 75
        },
        "id": "_-F3_gZk5b9_",
        "outputId": "ea2fbe15-4684-447c-8c3e-dedb27b89957"
      },
      "outputs": [
        {
          "output_type": "execute_result",
          "data": {
            "text/plain": [
              "LogisticRegression(C=2, max_iter=1000, random_state=2023, solver='liblinear')"
            ],
            "text/html": [
              "<style>#sk-container-id-1 {color: black;background-color: white;}#sk-container-id-1 pre{padding: 0;}#sk-container-id-1 div.sk-toggleable {background-color: white;}#sk-container-id-1 label.sk-toggleable__label {cursor: pointer;display: block;width: 100%;margin-bottom: 0;padding: 0.3em;box-sizing: border-box;text-align: center;}#sk-container-id-1 label.sk-toggleable__label-arrow:before {content: \"▸\";float: left;margin-right: 0.25em;color: #696969;}#sk-container-id-1 label.sk-toggleable__label-arrow:hover:before {color: black;}#sk-container-id-1 div.sk-estimator:hover label.sk-toggleable__label-arrow:before {color: black;}#sk-container-id-1 div.sk-toggleable__content {max-height: 0;max-width: 0;overflow: hidden;text-align: left;background-color: #f0f8ff;}#sk-container-id-1 div.sk-toggleable__content pre {margin: 0.2em;color: black;border-radius: 0.25em;background-color: #f0f8ff;}#sk-container-id-1 input.sk-toggleable__control:checked~div.sk-toggleable__content {max-height: 200px;max-width: 100%;overflow: auto;}#sk-container-id-1 input.sk-toggleable__control:checked~label.sk-toggleable__label-arrow:before {content: \"▾\";}#sk-container-id-1 div.sk-estimator input.sk-toggleable__control:checked~label.sk-toggleable__label {background-color: #d4ebff;}#sk-container-id-1 div.sk-label input.sk-toggleable__control:checked~label.sk-toggleable__label {background-color: #d4ebff;}#sk-container-id-1 input.sk-hidden--visually {border: 0;clip: rect(1px 1px 1px 1px);clip: rect(1px, 1px, 1px, 1px);height: 1px;margin: -1px;overflow: hidden;padding: 0;position: absolute;width: 1px;}#sk-container-id-1 div.sk-estimator {font-family: monospace;background-color: #f0f8ff;border: 1px dotted black;border-radius: 0.25em;box-sizing: border-box;margin-bottom: 0.5em;}#sk-container-id-1 div.sk-estimator:hover {background-color: #d4ebff;}#sk-container-id-1 div.sk-parallel-item::after {content: \"\";width: 100%;border-bottom: 1px solid gray;flex-grow: 1;}#sk-container-id-1 div.sk-label:hover label.sk-toggleable__label {background-color: #d4ebff;}#sk-container-id-1 div.sk-serial::before {content: \"\";position: absolute;border-left: 1px solid gray;box-sizing: border-box;top: 0;bottom: 0;left: 50%;z-index: 0;}#sk-container-id-1 div.sk-serial {display: flex;flex-direction: column;align-items: center;background-color: white;padding-right: 0.2em;padding-left: 0.2em;position: relative;}#sk-container-id-1 div.sk-item {position: relative;z-index: 1;}#sk-container-id-1 div.sk-parallel {display: flex;align-items: stretch;justify-content: center;background-color: white;position: relative;}#sk-container-id-1 div.sk-item::before, #sk-container-id-1 div.sk-parallel-item::before {content: \"\";position: absolute;border-left: 1px solid gray;box-sizing: border-box;top: 0;bottom: 0;left: 50%;z-index: -1;}#sk-container-id-1 div.sk-parallel-item {display: flex;flex-direction: column;z-index: 1;position: relative;background-color: white;}#sk-container-id-1 div.sk-parallel-item:first-child::after {align-self: flex-end;width: 50%;}#sk-container-id-1 div.sk-parallel-item:last-child::after {align-self: flex-start;width: 50%;}#sk-container-id-1 div.sk-parallel-item:only-child::after {width: 0;}#sk-container-id-1 div.sk-dashed-wrapped {border: 1px dashed gray;margin: 0 0.4em 0.5em 0.4em;box-sizing: border-box;padding-bottom: 0.4em;background-color: white;}#sk-container-id-1 div.sk-label label {font-family: monospace;font-weight: bold;display: inline-block;line-height: 1.2em;}#sk-container-id-1 div.sk-label-container {text-align: center;}#sk-container-id-1 div.sk-container {/* jupyter's `normalize.less` sets `[hidden] { display: none; }` but bootstrap.min.css set `[hidden] { display: none !important; }` so we also need the `!important` here to be able to override the default hidden behavior on the sphinx rendered scikit-learn.org. See: https://github.com/scikit-learn/scikit-learn/issues/21755 */display: inline-block !important;position: relative;}#sk-container-id-1 div.sk-text-repr-fallback {display: none;}</style><div id=\"sk-container-id-1\" class=\"sk-top-container\"><div class=\"sk-text-repr-fallback\"><pre>LogisticRegression(C=2, max_iter=1000, random_state=2023, solver=&#x27;liblinear&#x27;)</pre><b>In a Jupyter environment, please rerun this cell to show the HTML representation or trust the notebook. <br />On GitHub, the HTML representation is unable to render, please try loading this page with nbviewer.org.</b></div><div class=\"sk-container\" hidden><div class=\"sk-item\"><div class=\"sk-estimator sk-toggleable\"><input class=\"sk-toggleable__control sk-hidden--visually\" id=\"sk-estimator-id-1\" type=\"checkbox\" checked><label for=\"sk-estimator-id-1\" class=\"sk-toggleable__label sk-toggleable__label-arrow\">LogisticRegression</label><div class=\"sk-toggleable__content\"><pre>LogisticRegression(C=2, max_iter=1000, random_state=2023, solver=&#x27;liblinear&#x27;)</pre></div></div></div></div></div>"
            ]
          },
          "metadata": {},
          "execution_count": 31
        }
      ],
      "source": [
        "# Train logistic regression model\n",
        "\n"
      ]
    },
    {
      "cell_type": "markdown",
      "source": [
        "**Task 18**: Make predictions"
      ],
      "metadata": {
        "id": "ALgcdqkpDNiZ"
      }
    },
    {
      "cell_type": "code",
      "execution_count": null,
      "metadata": {
        "id": "aUiA3oDb5b9_"
      },
      "outputs": [],
      "source": [
        "# Evaluate model\n"
      ]
    },
    {
      "cell_type": "code",
      "execution_count": null,
      "metadata": {
        "id": "P62JFw3S5b9_"
      },
      "outputs": [],
      "source": [
        "#get predicted probabilities for the main class\n",
        "y_pred_probs_lr = lr.predict_proba(X_test_vec)\n",
        "y_pred_probs_lr = y_pred_probs_lr[:, 1]"
      ]
    },
    {
      "cell_type": "code",
      "execution_count": null,
      "metadata": {
        "colab": {
          "base_uri": "https://localhost:8080/",
          "height": 677
        },
        "id": "7tCDqGjh5b9_",
        "outputId": "4edede4a-fb04-467a-889b-6009224d3077"
      },
      "outputs": [
        {
          "output_type": "execute_result",
          "data": {
            "text/plain": [
              "                                          Processed_Text  Age  Rating  Actual  \\\n",
              "11771  cute comfortableth blue thi jumpsuit actual li...   28       4       1   \n",
              "1593   gorgeou big floralthi beauti dress consid made...   59       4       1   \n",
              "5971   cute skirtth fabric wa southwestern look got l...   39       3       1   \n",
              "13396  disappointingi built new wardrob around three ...   64       2       0   \n",
              "16883  extrem soft comfort fit veri well travel reall...   57       5       1   \n",
              "12264  perfect fiti gener wear 27 jean fit perfectli ...   52       5       1   \n",
              "7920   satisfiednot great qualiti run bit lose dispro...   52       2       0   \n",
              "10289  fun jeanslov new jean fit perfect extrem flatt...   55       5       1   \n",
              "19886  great stapl piecelov love love thi jacket im a...   46       5       1   \n",
              "5830   good buy anoth pairi bought wear christma part...   40       5       1   \n",
              "15510                                                      33       4       1   \n",
              "4232   dress fit perfectli extrem comfort great day e...   59       5       1   \n",
              "19315                                                      49       5       1   \n",
              "10014  violetta dressthin thi late season color prett...   46       5       1   \n",
              "12963  niceth sweater squar fit ha chiffon ruffl bott...   49       5       1   \n",
              "11228  flowi yet flatteringgreat top late ive size us...   37       5       1   \n",
              "18680  pleasedi need outfit son christen 10 week wa b...   40       5       1   \n",
              "8533   absolut love thi jacketthi amaz jacket fit per...   57       5       1   \n",
              "18789  love add textur feminin basic sweater order sm...   35       5       1   \n",
              "9770   love thi topfit like dreami bought thi top bla...   22       5       1   \n",
              "\n",
              "       Predicted  \n",
              "11771          1  \n",
              "1593           1  \n",
              "5971           0  \n",
              "13396          0  \n",
              "16883          1  \n",
              "12264          1  \n",
              "7920           0  \n",
              "10289          1  \n",
              "19886          1  \n",
              "5830           1  \n",
              "15510          1  \n",
              "4232           1  \n",
              "19315          1  \n",
              "10014          1  \n",
              "12963          1  \n",
              "11228          1  \n",
              "18680          1  \n",
              "8533           1  \n",
              "18789          1  \n",
              "9770           1  "
            ],
            "text/html": [
              "\n",
              "  <div id=\"df-794af44a-8fc2-4d17-b347-b87c46cccdc8\">\n",
              "    <div class=\"colab-df-container\">\n",
              "      <div>\n",
              "<style scoped>\n",
              "    .dataframe tbody tr th:only-of-type {\n",
              "        vertical-align: middle;\n",
              "    }\n",
              "\n",
              "    .dataframe tbody tr th {\n",
              "        vertical-align: top;\n",
              "    }\n",
              "\n",
              "    .dataframe thead th {\n",
              "        text-align: right;\n",
              "    }\n",
              "</style>\n",
              "<table border=\"1\" class=\"dataframe\">\n",
              "  <thead>\n",
              "    <tr style=\"text-align: right;\">\n",
              "      <th></th>\n",
              "      <th>Processed_Text</th>\n",
              "      <th>Age</th>\n",
              "      <th>Rating</th>\n",
              "      <th>Actual</th>\n",
              "      <th>Predicted</th>\n",
              "    </tr>\n",
              "  </thead>\n",
              "  <tbody>\n",
              "    <tr>\n",
              "      <th>11771</th>\n",
              "      <td>cute comfortableth blue thi jumpsuit actual li...</td>\n",
              "      <td>28</td>\n",
              "      <td>4</td>\n",
              "      <td>1</td>\n",
              "      <td>1</td>\n",
              "    </tr>\n",
              "    <tr>\n",
              "      <th>1593</th>\n",
              "      <td>gorgeou big floralthi beauti dress consid made...</td>\n",
              "      <td>59</td>\n",
              "      <td>4</td>\n",
              "      <td>1</td>\n",
              "      <td>1</td>\n",
              "    </tr>\n",
              "    <tr>\n",
              "      <th>5971</th>\n",
              "      <td>cute skirtth fabric wa southwestern look got l...</td>\n",
              "      <td>39</td>\n",
              "      <td>3</td>\n",
              "      <td>1</td>\n",
              "      <td>0</td>\n",
              "    </tr>\n",
              "    <tr>\n",
              "      <th>13396</th>\n",
              "      <td>disappointingi built new wardrob around three ...</td>\n",
              "      <td>64</td>\n",
              "      <td>2</td>\n",
              "      <td>0</td>\n",
              "      <td>0</td>\n",
              "    </tr>\n",
              "    <tr>\n",
              "      <th>16883</th>\n",
              "      <td>extrem soft comfort fit veri well travel reall...</td>\n",
              "      <td>57</td>\n",
              "      <td>5</td>\n",
              "      <td>1</td>\n",
              "      <td>1</td>\n",
              "    </tr>\n",
              "    <tr>\n",
              "      <th>12264</th>\n",
              "      <td>perfect fiti gener wear 27 jean fit perfectli ...</td>\n",
              "      <td>52</td>\n",
              "      <td>5</td>\n",
              "      <td>1</td>\n",
              "      <td>1</td>\n",
              "    </tr>\n",
              "    <tr>\n",
              "      <th>7920</th>\n",
              "      <td>satisfiednot great qualiti run bit lose dispro...</td>\n",
              "      <td>52</td>\n",
              "      <td>2</td>\n",
              "      <td>0</td>\n",
              "      <td>0</td>\n",
              "    </tr>\n",
              "    <tr>\n",
              "      <th>10289</th>\n",
              "      <td>fun jeanslov new jean fit perfect extrem flatt...</td>\n",
              "      <td>55</td>\n",
              "      <td>5</td>\n",
              "      <td>1</td>\n",
              "      <td>1</td>\n",
              "    </tr>\n",
              "    <tr>\n",
              "      <th>19886</th>\n",
              "      <td>great stapl piecelov love love thi jacket im a...</td>\n",
              "      <td>46</td>\n",
              "      <td>5</td>\n",
              "      <td>1</td>\n",
              "      <td>1</td>\n",
              "    </tr>\n",
              "    <tr>\n",
              "      <th>5830</th>\n",
              "      <td>good buy anoth pairi bought wear christma part...</td>\n",
              "      <td>40</td>\n",
              "      <td>5</td>\n",
              "      <td>1</td>\n",
              "      <td>1</td>\n",
              "    </tr>\n",
              "    <tr>\n",
              "      <th>15510</th>\n",
              "      <td></td>\n",
              "      <td>33</td>\n",
              "      <td>4</td>\n",
              "      <td>1</td>\n",
              "      <td>1</td>\n",
              "    </tr>\n",
              "    <tr>\n",
              "      <th>4232</th>\n",
              "      <td>dress fit perfectli extrem comfort great day e...</td>\n",
              "      <td>59</td>\n",
              "      <td>5</td>\n",
              "      <td>1</td>\n",
              "      <td>1</td>\n",
              "    </tr>\n",
              "    <tr>\n",
              "      <th>19315</th>\n",
              "      <td></td>\n",
              "      <td>49</td>\n",
              "      <td>5</td>\n",
              "      <td>1</td>\n",
              "      <td>1</td>\n",
              "    </tr>\n",
              "    <tr>\n",
              "      <th>10014</th>\n",
              "      <td>violetta dressthin thi late season color prett...</td>\n",
              "      <td>46</td>\n",
              "      <td>5</td>\n",
              "      <td>1</td>\n",
              "      <td>1</td>\n",
              "    </tr>\n",
              "    <tr>\n",
              "      <th>12963</th>\n",
              "      <td>niceth sweater squar fit ha chiffon ruffl bott...</td>\n",
              "      <td>49</td>\n",
              "      <td>5</td>\n",
              "      <td>1</td>\n",
              "      <td>1</td>\n",
              "    </tr>\n",
              "    <tr>\n",
              "      <th>11228</th>\n",
              "      <td>flowi yet flatteringgreat top late ive size us...</td>\n",
              "      <td>37</td>\n",
              "      <td>5</td>\n",
              "      <td>1</td>\n",
              "      <td>1</td>\n",
              "    </tr>\n",
              "    <tr>\n",
              "      <th>18680</th>\n",
              "      <td>pleasedi need outfit son christen 10 week wa b...</td>\n",
              "      <td>40</td>\n",
              "      <td>5</td>\n",
              "      <td>1</td>\n",
              "      <td>1</td>\n",
              "    </tr>\n",
              "    <tr>\n",
              "      <th>8533</th>\n",
              "      <td>absolut love thi jacketthi amaz jacket fit per...</td>\n",
              "      <td>57</td>\n",
              "      <td>5</td>\n",
              "      <td>1</td>\n",
              "      <td>1</td>\n",
              "    </tr>\n",
              "    <tr>\n",
              "      <th>18789</th>\n",
              "      <td>love add textur feminin basic sweater order sm...</td>\n",
              "      <td>35</td>\n",
              "      <td>5</td>\n",
              "      <td>1</td>\n",
              "      <td>1</td>\n",
              "    </tr>\n",
              "    <tr>\n",
              "      <th>9770</th>\n",
              "      <td>love thi topfit like dreami bought thi top bla...</td>\n",
              "      <td>22</td>\n",
              "      <td>5</td>\n",
              "      <td>1</td>\n",
              "      <td>1</td>\n",
              "    </tr>\n",
              "  </tbody>\n",
              "</table>\n",
              "</div>\n",
              "      <button class=\"colab-df-convert\" onclick=\"convertToInteractive('df-794af44a-8fc2-4d17-b347-b87c46cccdc8')\"\n",
              "              title=\"Convert this dataframe to an interactive table.\"\n",
              "              style=\"display:none;\">\n",
              "        \n",
              "  <svg xmlns=\"http://www.w3.org/2000/svg\" height=\"24px\"viewBox=\"0 0 24 24\"\n",
              "       width=\"24px\">\n",
              "    <path d=\"M0 0h24v24H0V0z\" fill=\"none\"/>\n",
              "    <path d=\"M18.56 5.44l.94 2.06.94-2.06 2.06-.94-2.06-.94-.94-2.06-.94 2.06-2.06.94zm-11 1L8.5 8.5l.94-2.06 2.06-.94-2.06-.94L8.5 2.5l-.94 2.06-2.06.94zm10 10l.94 2.06.94-2.06 2.06-.94-2.06-.94-.94-2.06-.94 2.06-2.06.94z\"/><path d=\"M17.41 7.96l-1.37-1.37c-.4-.4-.92-.59-1.43-.59-.52 0-1.04.2-1.43.59L10.3 9.45l-7.72 7.72c-.78.78-.78 2.05 0 2.83L4 21.41c.39.39.9.59 1.41.59.51 0 1.02-.2 1.41-.59l7.78-7.78 2.81-2.81c.8-.78.8-2.07 0-2.86zM5.41 20L4 18.59l7.72-7.72 1.47 1.35L5.41 20z\"/>\n",
              "  </svg>\n",
              "      </button>\n",
              "      \n",
              "  <style>\n",
              "    .colab-df-container {\n",
              "      display:flex;\n",
              "      flex-wrap:wrap;\n",
              "      gap: 12px;\n",
              "    }\n",
              "\n",
              "    .colab-df-convert {\n",
              "      background-color: #E8F0FE;\n",
              "      border: none;\n",
              "      border-radius: 50%;\n",
              "      cursor: pointer;\n",
              "      display: none;\n",
              "      fill: #1967D2;\n",
              "      height: 32px;\n",
              "      padding: 0 0 0 0;\n",
              "      width: 32px;\n",
              "    }\n",
              "\n",
              "    .colab-df-convert:hover {\n",
              "      background-color: #E2EBFA;\n",
              "      box-shadow: 0px 1px 2px rgba(60, 64, 67, 0.3), 0px 1px 3px 1px rgba(60, 64, 67, 0.15);\n",
              "      fill: #174EA6;\n",
              "    }\n",
              "\n",
              "    [theme=dark] .colab-df-convert {\n",
              "      background-color: #3B4455;\n",
              "      fill: #D2E3FC;\n",
              "    }\n",
              "\n",
              "    [theme=dark] .colab-df-convert:hover {\n",
              "      background-color: #434B5C;\n",
              "      box-shadow: 0px 1px 3px 1px rgba(0, 0, 0, 0.15);\n",
              "      filter: drop-shadow(0px 1px 2px rgba(0, 0, 0, 0.3));\n",
              "      fill: #FFFFFF;\n",
              "    }\n",
              "  </style>\n",
              "\n",
              "      <script>\n",
              "        const buttonEl =\n",
              "          document.querySelector('#df-794af44a-8fc2-4d17-b347-b87c46cccdc8 button.colab-df-convert');\n",
              "        buttonEl.style.display =\n",
              "          google.colab.kernel.accessAllowed ? 'block' : 'none';\n",
              "\n",
              "        async function convertToInteractive(key) {\n",
              "          const element = document.querySelector('#df-794af44a-8fc2-4d17-b347-b87c46cccdc8');\n",
              "          const dataTable =\n",
              "            await google.colab.kernel.invokeFunction('convertToInteractive',\n",
              "                                                     [key], {});\n",
              "          if (!dataTable) return;\n",
              "\n",
              "          const docLinkHtml = 'Like what you see? Visit the ' +\n",
              "            '<a target=\"_blank\" href=https://colab.research.google.com/notebooks/data_table.ipynb>data table notebook</a>'\n",
              "            + ' to learn more about interactive tables.';\n",
              "          element.innerHTML = '';\n",
              "          dataTable['output_type'] = 'display_data';\n",
              "          await google.colab.output.renderOutput(dataTable, element);\n",
              "          const docLink = document.createElement('div');\n",
              "          docLink.innerHTML = docLinkHtml;\n",
              "          element.appendChild(docLink);\n",
              "        }\n",
              "      </script>\n",
              "    </div>\n",
              "  </div>\n",
              "  "
            ]
          },
          "metadata": {},
          "execution_count": 34
        }
      ],
      "source": [
        "#join unseen y_test with predicted value into a data frame\n",
        "inspection=pd.DataFrame({'Actual':y_test, 'Predicted':y_pred_lr})\n",
        "\n",
        "#join X_test with the new dataframe\n",
        "inspection=pd.concat([X_test,inspection], axis=1)\n",
        "\n",
        "inspection.sample(20)"
      ]
    },
    {
      "cell_type": "markdown",
      "metadata": {
        "id": "Sz40TFvx5b-A"
      },
      "source": [
        "#### Performance evaluation\n",
        "* Classification metrics and report\n",
        "* Confusion matrix \n",
        "* TPR and FPR\n",
        "* ROC and AUC\n"
      ]
    },
    {
      "cell_type": "markdown",
      "source": [],
      "metadata": {
        "id": "LcT86UiFF68w"
      }
    },
    {
      "cell_type": "markdown",
      "source": [
        "**Task 19**: Write code to print the confusion matrix and classification report"
      ],
      "metadata": {
        "id": "rwnV6tzDF7kj"
      }
    },
    {
      "cell_type": "code",
      "execution_count": null,
      "metadata": {
        "colab": {
          "base_uri": "https://localhost:8080/"
        },
        "id": "7Q9Vjj4t5b-A",
        "outputId": "034a086b-8344-4693-d187-0ddcb941337d"
      },
      "outputs": [
        {
          "output_type": "stream",
          "name": "stdout",
          "text": [
            "[[ 647  188]\n",
            " [ 127 3736]]\n",
            "              precision    recall  f1-score   support\n",
            "\n",
            "           0       0.84      0.77      0.80       835\n",
            "           1       0.95      0.97      0.96      3863\n",
            "\n",
            "    accuracy                           0.93      4698\n",
            "   macro avg       0.89      0.87      0.88      4698\n",
            "weighted avg       0.93      0.93      0.93      4698\n",
            "\n"
          ]
        }
      ],
      "source": [
        "#print confusion matrix and evaluation report\n",
        "\n",
        "print(cm_lr)\n",
        "print(classification_report(y_test, y_pred_lr))"
      ]
    },
    {
      "cell_type": "code",
      "execution_count": null,
      "metadata": {
        "colab": {
          "base_uri": "https://localhost:8080/"
        },
        "id": "JELyeK6V5b-A",
        "outputId": "26ce5a5d-38fa-4703-cc78-80b8191860ac"
      },
      "outputs": [
        {
          "output_type": "stream",
          "name": "stdout",
          "text": [
            "True Positive Rate:  0.967\n",
            "False Positive Rate:  0.225\n"
          ]
        }
      ],
      "source": [
        "# Computer TN FP FN TP\n",
        "tn_lr, fp_lr, fn_lr, tp_lr = confusion_matrix(y_test, y_pred_lr).ravel()\n",
        "\n",
        "# Compute FPT and TPR for this k\n",
        "tpr_lr = tp_lr / (tp_lr + fn_lr)\n",
        "fpr_lr = fp_lr / (fp_lr + tn_lr)\n",
        "\n",
        "print('True Positive Rate: ', '%.3f' % tpr_lr)\n",
        "print('False Positive Rate: ', '%.3f' % fpr_lr)\n"
      ]
    },
    {
      "cell_type": "code",
      "execution_count": null,
      "metadata": {
        "id": "gLyRwl605b-A"
      },
      "outputs": [],
      "source": [
        "from sklearn.preprocessing import LabelEncoder\n",
        "\n",
        "# encode labels as 0s and 1s to calculate true and false positive rates and thresholds\n",
        "le = LabelEncoder()\n",
        "y_true = le.fit_transform(y_test)\n"
      ]
    },
    {
      "cell_type": "code",
      "execution_count": null,
      "metadata": {
        "colab": {
          "base_uri": "https://localhost:8080/",
          "height": 489
        },
        "id": "GhgjJb0c5b-A",
        "outputId": "d3fbd612-885b-47ba-f21d-2d869b5facc6"
      },
      "outputs": [
        {
          "output_type": "stream",
          "name": "stdout",
          "text": [
            "AUC: 0.974\n"
          ]
        },
        {
          "output_type": "display_data",
          "data": {
            "text/plain": [
              "<Figure size 640x480 with 1 Axes>"
            ],
            "image/png": "[encoded data removed]"
          },
          "metadata": {}
        }
      ],
      "source": [
        "#get fpr and tpr and plot the ROC curve\n",
        "from sklearn.metrics import roc_curve, roc_auc_score\n",
        "\n",
        "# Compute the false positive rate, true positive rate, and threshold\n",
        "fprs_lr, tprs_lr, thresholds = roc_curve(y_true, y_pred_probs_lr)\n",
        "auc_lr=metrics.auc(fprs_lr, tprs_lr)\n",
        "print('AUC:', '%.3f' % auc_lr)\n",
        "\n",
        "# plot the ROC curve and the best point\n",
        "plt.plot(fprs_lr, tprs_lr, label='ROC curve')\n",
        "plt.scatter(x=fpr_lr, y=tpr_lr, marker='o', color='red', label='0.5 threshold')\n",
        "plt.xlabel('False Positive Rate')\n",
        "plt.ylabel('True Positive Rate')\n",
        "plt.title('Receiver Operating Characteristic (ROC) Curve')\n",
        "plt.legend()\n",
        "plt.show()"
      ]
    },
    {
      "cell_type": "markdown",
      "metadata": {
        "id": "S21hUoq25b-A"
      },
      "source": [
        "#### Threshold optimisation"
      ]
    },
    {
      "cell_type": "markdown",
      "source": [
        "Choose a criterion to optimise threshold: for example based on accuracy"
      ],
      "metadata": {
        "id": "ChcpRuITFluo"
      }
    },
    {
      "cell_type": "code",
      "execution_count": null,
      "metadata": {
        "colab": {
          "base_uri": "https://localhost:8080/"
        },
        "id": "4dFeX9XI5b-A",
        "outputId": "72e190d7-d7c3-4b2d-805f-9dbeb1ae9777"
      },
      "outputs": [
        {
          "output_type": "stream",
          "name": "stdout",
          "text": [
            "0.6012703552160357\n"
          ]
        }
      ],
      "source": [
        "from sklearn.metrics import accuracy_score\n",
        "# Find the best threshold based on accuracy\n",
        "accuracy = []\n",
        "for threshold in thresholds:\n",
        "    y_pred_t = [1 if prob >= threshold else 0 for prob in y_pred_probs_lr]\n",
        "    accuracy.append(accuracy_score(y_true, y_pred_t))\n",
        "best_threshold = thresholds[accuracy.index(max(accuracy))]\n",
        "\n",
        "print(best_threshold)"
      ]
    },
    {
      "cell_type": "markdown",
      "source": [
        "or based on f1 score"
      ],
      "metadata": {
        "id": "waxNAC3fFu1O"
      }
    },
    {
      "cell_type": "code",
      "execution_count": null,
      "metadata": {
        "colab": {
          "base_uri": "https://localhost:8080/"
        },
        "id": "yG4VTD3E_QpL",
        "outputId": "7368af14-1912-4eb4-afcd-12d324dfd31f"
      },
      "outputs": [
        {
          "output_type": "stream",
          "name": "stdout",
          "text": [
            "0.4317797391303467\n"
          ]
        }
      ],
      "source": [
        "from sklearn.metrics import f1_score\n",
        "# Find the best threshold based on F1 score\n",
        "f1 = []\n",
        "for threshold in thresholds:\n",
        "    y_pred_t = [1 if prob >= threshold else 0 for prob in y_pred_probs_lr]\n",
        "    f1.append(f1_score(y_test, y_pred_t))\n",
        "best_threshold = thresholds[f1.index(max(f1))]\n",
        "\n",
        "print(best_threshold)"
      ]
    },
    {
      "cell_type": "code",
      "execution_count": null,
      "metadata": {
        "colab": {
          "base_uri": "https://localhost:8080/"
        },
        "id": "0WMaYTcI5b-B",
        "outputId": "69a470fd-47c4-427c-f5b3-f99a0194b40b"
      },
      "outputs": [
        {
          "output_type": "stream",
          "name": "stdout",
          "text": [
            "[ True  True False ...  True  True  True]\n"
          ]
        }
      ],
      "source": [
        "#get predicted probabilities for the best threshold\n",
        "y_pred_best = (lr.predict_proba(X_test_vec)[:,1] >= best_threshold).astype(bool)\n",
        "\n",
        "print(y_pred_best)"
      ]
    },
    {
      "cell_type": "code",
      "execution_count": null,
      "metadata": {
        "colab": {
          "base_uri": "https://localhost:8080/"
        },
        "id": "81afRPkG5b-B",
        "outputId": "433a1a88-74b8-4d04-aa79-e6ec31a30416"
      },
      "outputs": [
        {
          "output_type": "stream",
          "name": "stdout",
          "text": [
            "[[ 680  155]\n",
            " [ 153 3710]]\n",
            "True Positive Rate:  0.960\n",
            "False Positive Rate:  0.186\n"
          ]
        }
      ],
      "source": [
        "# Computer TN FP FN TP for the best threshold\n",
        "tn_bestThreshold, fp_bestThreshold, fn_bestThreshold, tp_bestThreshold = confusion_matrix(y_true, y_pred_best).ravel()\n",
        "print(confusion_matrix(y_true, y_pred_best))\n",
        "# Compute FPT and TPR for this k\n",
        "tpr_bestThreshold = tp_bestThreshold / (tp_bestThreshold + fn_bestThreshold)\n",
        "fpr_bestThreshold = fp_bestThreshold / (fp_bestThreshold + tn_bestThreshold)\n",
        "\n",
        "print('True Positive Rate: ', '%.3f' % tpr_bestThreshold)\n",
        "print('False Positive Rate: ', '%.3f' % fpr_bestThreshold)"
      ]
    },
    {
      "cell_type": "code",
      "execution_count": null,
      "metadata": {
        "colab": {
          "base_uri": "https://localhost:8080/"
        },
        "id": "B-QZ-fqO-axI",
        "outputId": "3a2087b5-2c3a-4971-a167-146a1a7c557b"
      },
      "outputs": [
        {
          "output_type": "stream",
          "name": "stdout",
          "text": [
            "[[ 680  155]\n",
            " [ 153 3710]]\n",
            "              precision    recall  f1-score   support\n",
            "\n",
            "           0       0.82      0.81      0.82       835\n",
            "           1       0.96      0.96      0.96      3863\n",
            "\n",
            "    accuracy                           0.93      4698\n",
            "   macro avg       0.89      0.89      0.89      4698\n",
            "weighted avg       0.93      0.93      0.93      4698\n",
            "\n"
          ]
        }
      ],
      "source": [
        "#print confusion matrix and evaluation report\n",
        "cm=confusion_matrix(y_test, y_pred_best)\n",
        "print(cm)\n",
        "print(classification_report(y_test, y_pred_best))"
      ]
    },
    {
      "cell_type": "code",
      "execution_count": null,
      "metadata": {
        "colab": {
          "base_uri": "https://localhost:8080/",
          "height": 489
        },
        "id": "Imc6Og5q-MGS",
        "outputId": "9bb39298-32a1-4351-c4fb-0e4a100db444"
      },
      "outputs": [
        {
          "output_type": "display_data",
          "data": {
            "text/plain": [
              "<Figure size 640x480 with 1 Axes>"
            ],
            "image/png": "[encoded data removed]"
          },
          "metadata": {}
        },
        {
          "output_type": "stream",
          "name": "stdout",
          "text": [
            "AUC: 0.974\n"
          ]
        }
      ],
      "source": [
        "# plot the ROC curve and the best point\n",
        "plt.plot(fprs_lr, tprs_lr, label='ROC curve')\n",
        "plt.scatter(x=fpr_lr, y=tpr_lr, marker='o', color='red', label='0.5 threshold')\n",
        "plt.plot(fpr_bestThreshold, tpr_bestThreshold, marker='D', color='red', label='Best threshold')\n",
        "plt.xlabel('False Positive Rate')\n",
        "plt.ylabel('True Positive Rate')\n",
        "plt.title('Receiver Operating Characteristic (ROC) Curve')\n",
        "plt.legend()\n",
        "plt.show()\n",
        "\n",
        "print('AUC:', '%.3f' % auc_lr)"
      ]
    },
    {
      "cell_type": "markdown",
      "metadata": {
        "id": "xkqepiq56q3Q"
      },
      "source": [
        "### **3.3.2 ANN**"
      ]
    },
    {
      "cell_type": "markdown",
      "metadata": {
        "id": "KnlkWIIE6zHo"
      },
      "source": [
        "#### Model building"
      ]
    },
    {
      "cell_type": "markdown",
      "source": [],
      "metadata": {
        "id": "iLRT0PqFGMYW"
      }
    },
    {
      "cell_type": "markdown",
      "source": [
        "**Task 20**: Write code to create an ann_clf object and fit it with the training data"
      ],
      "metadata": {
        "id": "yhkT4SMPGM-U"
      }
    },
    {
      "cell_type": "code",
      "execution_count": null,
      "metadata": {
        "colab": {
          "base_uri": "https://localhost:8080/",
          "height": 92
        },
        "id": "CqCC3l7XInVV",
        "outputId": "0aa06208-f65f-4778-a0d8-958977b274b9"
      },
      "outputs": [
        {
          "output_type": "execute_result",
          "data": {
            "text/plain": [
              "MLPClassifier(early_stopping=True, hidden_layer_sizes=(32, 16, 8),\n",
              "              max_iter=1000, random_state=2023)"
            ],
            "text/html": [
              "<style>#sk-container-id-2 {color: black;background-color: white;}#sk-container-id-2 pre{padding: 0;}#sk-container-id-2 div.sk-toggleable {background-color: white;}#sk-container-id-2 label.sk-toggleable__label {cursor: pointer;display: block;width: 100%;margin-bottom: 0;padding: 0.3em;box-sizing: border-box;text-align: center;}#sk-container-id-2 label.sk-toggleable__label-arrow:before {content: \"▸\";float: left;margin-right: 0.25em;color: #696969;}#sk-container-id-2 label.sk-toggleable__label-arrow:hover:before {color: black;}#sk-container-id-2 div.sk-estimator:hover label.sk-toggleable__label-arrow:before {color: black;}#sk-container-id-2 div.sk-toggleable__content {max-height: 0;max-width: 0;overflow: hidden;text-align: left;background-color: #f0f8ff;}#sk-container-id-2 div.sk-toggleable__content pre {margin: 0.2em;color: black;border-radius: 0.25em;background-color: #f0f8ff;}#sk-container-id-2 input.sk-toggleable__control:checked~div.sk-toggleable__content {max-height: 200px;max-width: 100%;overflow: auto;}#sk-container-id-2 input.sk-toggleable__control:checked~label.sk-toggleable__label-arrow:before {content: \"▾\";}#sk-container-id-2 div.sk-estimator input.sk-toggleable__control:checked~label.sk-toggleable__label {background-color: #d4ebff;}#sk-container-id-2 div.sk-label input.sk-toggleable__control:checked~label.sk-toggleable__label {background-color: #d4ebff;}#sk-container-id-2 input.sk-hidden--visually {border: 0;clip: rect(1px 1px 1px 1px);clip: rect(1px, 1px, 1px, 1px);height: 1px;margin: -1px;overflow: hidden;padding: 0;position: absolute;width: 1px;}#sk-container-id-2 div.sk-estimator {font-family: monospace;background-color: #f0f8ff;border: 1px dotted black;border-radius: 0.25em;box-sizing: border-box;margin-bottom: 0.5em;}#sk-container-id-2 div.sk-estimator:hover {background-color: #d4ebff;}#sk-container-id-2 div.sk-parallel-item::after {content: \"\";width: 100%;border-bottom: 1px solid gray;flex-grow: 1;}#sk-container-id-2 div.sk-label:hover label.sk-toggleable__label {background-color: #d4ebff;}#sk-container-id-2 div.sk-serial::before {content: \"\";position: absolute;border-left: 1px solid gray;box-sizing: border-box;top: 0;bottom: 0;left: 50%;z-index: 0;}#sk-container-id-2 div.sk-serial {display: flex;flex-direction: column;align-items: center;background-color: white;padding-right: 0.2em;padding-left: 0.2em;position: relative;}#sk-container-id-2 div.sk-item {position: relative;z-index: 1;}#sk-container-id-2 div.sk-parallel {display: flex;align-items: stretch;justify-content: center;background-color: white;position: relative;}#sk-container-id-2 div.sk-item::before, #sk-container-id-2 div.sk-parallel-item::before {content: \"\";position: absolute;border-left: 1px solid gray;box-sizing: border-box;top: 0;bottom: 0;left: 50%;z-index: -1;}#sk-container-id-2 div.sk-parallel-item {display: flex;flex-direction: column;z-index: 1;position: relative;background-color: white;}#sk-container-id-2 div.sk-parallel-item:first-child::after {align-self: flex-end;width: 50%;}#sk-container-id-2 div.sk-parallel-item:last-child::after {align-self: flex-start;width: 50%;}#sk-container-id-2 div.sk-parallel-item:only-child::after {width: 0;}#sk-container-id-2 div.sk-dashed-wrapped {border: 1px dashed gray;margin: 0 0.4em 0.5em 0.4em;box-sizing: border-box;padding-bottom: 0.4em;background-color: white;}#sk-container-id-2 div.sk-label label {font-family: monospace;font-weight: bold;display: inline-block;line-height: 1.2em;}#sk-container-id-2 div.sk-label-container {text-align: center;}#sk-container-id-2 div.sk-container {/* jupyter's `normalize.less` sets `[hidden] { display: none; }` but bootstrap.min.css set `[hidden] { display: none !important; }` so we also need the `!important` here to be able to override the default hidden behavior on the sphinx rendered scikit-learn.org. See: https://github.com/scikit-learn/scikit-learn/issues/21755 */display: inline-block !important;position: relative;}#sk-container-id-2 div.sk-text-repr-fallback {display: none;}</style><div id=\"sk-container-id-2\" class=\"sk-top-container\"><div class=\"sk-text-repr-fallback\"><pre>MLPClassifier(early_stopping=True, hidden_layer_sizes=(32, 16, 8),\n",
              "              max_iter=1000, random_state=2023)</pre><b>In a Jupyter environment, please rerun this cell to show the HTML representation or trust the notebook. <br />On GitHub, the HTML representation is unable to render, please try loading this page with nbviewer.org.</b></div><div class=\"sk-container\" hidden><div class=\"sk-item\"><div class=\"sk-estimator sk-toggleable\"><input class=\"sk-toggleable__control sk-hidden--visually\" id=\"sk-estimator-id-2\" type=\"checkbox\" checked><label for=\"sk-estimator-id-2\" class=\"sk-toggleable__label sk-toggleable__label-arrow\">MLPClassifier</label><div class=\"sk-toggleable__content\"><pre>MLPClassifier(early_stopping=True, hidden_layer_sizes=(32, 16, 8),\n",
              "              max_iter=1000, random_state=2023)</pre></div></div></div></div></div>"
            ]
          },
          "metadata": {},
          "execution_count": 52
        }
      ],
      "source": [
        "from sklearn.neural_network import MLPClassifier\n",
        "# create an MLP classifier with 2 hidden layers \n",
        "\n",
        "\n",
        "# train the classifier on the training data\n",
        "ann_clf.fit(X_train_vec, y_train)\n",
        "\n"
      ]
    },
    {
      "cell_type": "markdown",
      "metadata": {
        "id": "cMoL96_86-d9"
      },
      "source": [
        "#### Performance evaluation"
      ]
    },
    {
      "cell_type": "markdown",
      "source": [
        "**Task 21**: Write code to make predictions using the test data "
      ],
      "metadata": {
        "id": "eR5nM0MTH_Jw"
      }
    },
    {
      "cell_type": "code",
      "execution_count": null,
      "metadata": {
        "id": "hNUS1DyNLVjr"
      },
      "outputs": [],
      "source": [
        "# evaluate the classifier on the testing data\n",
        "#y_pred_ann =\n",
        "\n",
        "#get predicted probabilities for the main class\n",
        "# y_pred_probs_ann = \n"
      ]
    },
    {
      "cell_type": "code",
      "execution_count": null,
      "metadata": {
        "colab": {
          "base_uri": "https://localhost:8080/"
        },
        "id": "jisesF1jLaOo",
        "outputId": "5661863d-7584-400c-b378-144c23da230b"
      },
      "outputs": [
        {
          "output_type": "stream",
          "name": "stdout",
          "text": [
            "[[ 680  155]\n",
            " [ 153 3710]]\n",
            "              precision    recall  f1-score   support\n",
            "\n",
            "           0       0.83      0.73      0.78       835\n",
            "           1       0.94      0.97      0.96      3863\n",
            "\n",
            "    accuracy                           0.93      4698\n",
            "   macro avg       0.89      0.85      0.87      4698\n",
            "weighted avg       0.92      0.93      0.92      4698\n",
            "\n"
          ]
        }
      ],
      "source": [
        "#print confusion matrix and evaluation report\n",
        "cm_ann=confusion_matrix(y_test, y_pred_ann)\n",
        "print(cm)\n",
        "print(classification_report(y_test, y_pred_ann))"
      ]
    },
    {
      "cell_type": "code",
      "execution_count": null,
      "metadata": {
        "colab": {
          "base_uri": "https://localhost:8080/"
        },
        "id": "tQ0B0TU_8Lsz",
        "outputId": "e33e7bcc-1142-4040-acd6-d40072c9e25d"
      },
      "outputs": [
        {
          "output_type": "stream",
          "name": "stdout",
          "text": [
            "True Positive Rate:  0.969\n",
            "False Positive Rate:  0.273\n"
          ]
        }
      ],
      "source": [
        "# Computer TN FP FN TP\n",
        "tn_ann, fp_ann, fn_ann, tp_ann = confusion_matrix(y_test, y_pred_ann).ravel()\n",
        "\n",
        "# Compute FPT and TPR for this k\n",
        "tpr_ann = tp_ann / (tp_ann + fn_ann)\n",
        "fpr_ann = fp_ann / (fp_ann + tn_ann)\n",
        "\n",
        "print('True Positive Rate: ', '%.3f' % tpr_ann)\n",
        "print('False Positive Rate: ', '%.3f' % fpr_ann)"
      ]
    },
    {
      "cell_type": "code",
      "execution_count": null,
      "metadata": {
        "colab": {
          "base_uri": "https://localhost:8080/",
          "height": 489
        },
        "id": "sP61Qf_WzgdM",
        "outputId": "e29ab630-cc32-4794-fa48-460a88e8c892"
      },
      "outputs": [
        {
          "output_type": "stream",
          "name": "stdout",
          "text": [
            "ANN AUC: 0.966\n"
          ]
        },
        {
          "output_type": "display_data",
          "data": {
            "text/plain": [
              "<Figure size 640x480 with 1 Axes>"
            ],
            "image/png": "[encoded data removed]"
          },
          "metadata": {}
        }
      ],
      "source": [
        "# Compute the false positive rate, true positive rate, and threshold\n",
        "fprs_ann, tprs_ann, thresholds = roc_curve(y_true, y_pred_probs_ann)\n",
        "auc_ann= metrics.auc(fprs_ann, tprs_ann)\n",
        "print('ANN AUC:', '%.3f' % auc_ann)\n",
        "\n",
        "# plot the ROC curve and the best point\n",
        "plt.plot(fprs_ann, tprs_ann, label='ROC curve')\n",
        "plt.scatter(x=fpr_ann, y=tpr_ann, marker='o', color='red', label='0.5 threshold')\n",
        "plt.xlabel('False Positive Rate')\n",
        "plt.ylabel('True Positive Rate')\n",
        "plt.title('Receiver Operating Characteristic (ROC) Curve')\n",
        "plt.legend()\n",
        "plt.show()"
      ]
    },
    {
      "cell_type": "markdown",
      "metadata": {
        "id": "tqei8Ido8weh"
      },
      "source": [
        "#### Threshold optimisation"
      ]
    },
    {
      "cell_type": "markdown",
      "source": [
        "**Task 22**: Write code to find the threshold for the best accuracy score"
      ],
      "metadata": {
        "id": "8teio5gVIfC4"
      }
    },
    {
      "cell_type": "code",
      "execution_count": null,
      "metadata": {
        "colab": {
          "base_uri": "https://localhost:8080/"
        },
        "id": "D-O2ZpFj4l1K",
        "outputId": "f9422b43-4a5e-445b-c31b-e6b11e3cb293"
      },
      "outputs": [
        {
          "output_type": "stream",
          "name": "stdout",
          "text": [
            "0.6540477312511694\n"
          ]
        }
      ],
      "source": [
        "# Write code to find the best threshold based on accuracy\n",
        "\n",
        "\n",
        "print(best_threshold)"
      ]
    },
    {
      "cell_type": "code",
      "execution_count": null,
      "metadata": {
        "id": "Dbh26eSP81kf"
      },
      "outputs": [],
      "source": [
        "#get predicted probabilities for the best threshold\n",
        "y_pred_best_ann = (ann_clf.predict_proba(X_test_vec)[:,1] >= best_threshold).astype(bool)"
      ]
    },
    {
      "cell_type": "code",
      "execution_count": null,
      "metadata": {
        "colab": {
          "base_uri": "https://localhost:8080/"
        },
        "id": "UmLcypJp9SxG",
        "outputId": "5c144c76-2717-4645-bcf8-ec6d3a403776"
      },
      "outputs": [
        {
          "output_type": "stream",
          "name": "stdout",
          "text": [
            "[[ 657  178]\n",
            " [ 149 3714]]\n",
            "True Positive Rate:  0.961\n",
            "False Positive Rate:  0.213\n"
          ]
        }
      ],
      "source": [
        "# Computer TN FP FN TP for the best threshold\n",
        "tn_bestThreshold, fp_bestThreshold, fn_bestThreshold, tp_bestThreshold = confusion_matrix(y_true, y_pred_best_ann).ravel()\n",
        "print(confusion_matrix(y_true, y_pred_best_ann))\n",
        "# Compute FPT and TPR for this k\n",
        "tpr_bestThreshold = tp_bestThreshold / (tp_bestThreshold + fn_bestThreshold)\n",
        "fpr_bestThreshold = fp_bestThreshold / (fp_bestThreshold + tn_bestThreshold)\n",
        "\n",
        "print('True Positive Rate: ', '%.3f' % tpr_bestThreshold)\n",
        "print('False Positive Rate: ', '%.3f' % fpr_bestThreshold)"
      ]
    },
    {
      "cell_type": "code",
      "execution_count": null,
      "metadata": {
        "colab": {
          "base_uri": "https://localhost:8080/"
        },
        "id": "TvEi-g0y9iWQ",
        "outputId": "1136de8f-edcd-4fc1-98f4-8df800da7090"
      },
      "outputs": [
        {
          "output_type": "stream",
          "name": "stdout",
          "text": [
            "[[ 657  178]\n",
            " [ 149 3714]]\n",
            "              precision    recall  f1-score   support\n",
            "\n",
            "           0       0.82      0.79      0.80       835\n",
            "           1       0.95      0.96      0.96      3863\n",
            "\n",
            "    accuracy                           0.93      4698\n",
            "   macro avg       0.88      0.87      0.88      4698\n",
            "weighted avg       0.93      0.93      0.93      4698\n",
            "\n"
          ]
        }
      ],
      "source": [
        "#print confusion matrix and evaluation report\n",
        "cm_ann_best=confusion_matrix(y_test, y_pred_best_ann)\n",
        "print(cm_ann_best)\n",
        "print(classification_report(y_test, y_pred_best_ann))"
      ]
    },
    {
      "cell_type": "code",
      "execution_count": null,
      "metadata": {
        "colab": {
          "base_uri": "https://localhost:8080/",
          "height": 489
        },
        "id": "ccCz1IX_9ukT",
        "outputId": "098e3789-df07-4952-922a-de79f9296273"
      },
      "outputs": [
        {
          "output_type": "display_data",
          "data": {
            "text/plain": [
              "<Figure size 640x480 with 1 Axes>"
            ],
            "image/png": "[encoded data removed]"
          },
          "metadata": {}
        },
        {
          "output_type": "stream",
          "name": "stdout",
          "text": [
            "ANN AUC: 0.966\n"
          ]
        }
      ],
      "source": [
        "# plot the ROC curve and the best point\n",
        "plt.plot(fprs_ann, tprs_ann, label='ROC curve')\n",
        "plt.scatter(x=fpr_ann, y=tpr_ann, marker='o', color='red', label='0.5 threshold')\n",
        "plt.plot(fpr_bestThreshold, tpr_bestThreshold, marker='D', color='red', label='Best threshold')\n",
        "plt.xlabel('False Positive Rate')\n",
        "plt.ylabel('True Positive Rate')\n",
        "plt.title('Receiver Operating Characteristic (ROC) Curve')\n",
        "plt.legend()\n",
        "plt.show()\n",
        "\n",
        "auc_ann=metrics.auc(fprs_ann, tprs_ann)\n",
        "print('ANN AUC:', '%.3f' % auc_ann)"
      ]
    },
    {
      "cell_type": "markdown",
      "metadata": {
        "id": "eqESvev493uz"
      },
      "source": [
        "### **3.3.3 Model comparison**"
      ]
    },
    {
      "cell_type": "markdown",
      "source": [
        "**Task 23:** Write code to show ROC curves of the lr and ann models "
      ],
      "metadata": {
        "id": "ioXThYOaJi1O"
      }
    },
    {
      "cell_type": "code",
      "execution_count": null,
      "metadata": {
        "colab": {
          "base_uri": "https://localhost:8080/",
          "height": 599
        },
        "id": "IvnsAJa_98CU",
        "outputId": "51138bdd-9575-4d5e-a8ad-95ec8299a636"
      },
      "outputs": [
        {
          "output_type": "display_data",
          "data": {
            "text/plain": [
              "<Figure size 800x600 with 1 Axes>"
            ],
            "image/png": "[encoded data removed]"
          },
          "metadata": {}
        },
        {
          "output_type": "stream",
          "name": "stdout",
          "text": [
            "scikit-learn MLP AUC: 0.97\n",
            "Keras MLP AUC: 0.97\n"
          ]
        }
      ],
      "source": [
        "# Plot ROC curves\n",
        "\n",
        "\n",
        "\n",
        "\n",
        "\n",
        "# Compute and print AUC\n",
        "print('scikit-learn MLP AUC:','%.2f' %  auc_lr)\n",
        "print('Keras MLP AUC:', '%.2f' %auc_ann)"
      ]
    },
    {
      "cell_type": "markdown",
      "source": [
        "# **Congratulations**\n",
        "\n",
        "**Optional tasks:**\n",
        "\n",
        "*   Compare and select a model. Explain your selection.\n",
        "*   Write code to pickle your selected model. Don't forget to pickly the vocabulary as well. \n",
        "*   Collect additional review data from the Internet. Unpickle the model and use the model to conduct sentiment analysis. Report the findings. \n",
        "*   If you cannot find thr above data, maybe split the original dataset into Training, Test and Validation subsets. Then build and test a model using the first two datasets, pickle it and validate it with the Validation dataset.\n",
        "\n"
      ],
      "metadata": {
        "id": "tidqE25UJ0AM"
      }
    }
  ],
  "metadata": {
    "colab": {
      "provenance": [],
      "toc_visible": true,
      "include_colab_link": true
    },
    "kernelspec": {
      "display_name": "Python 3",
      "name": "python3"
    },
    "language_info": {
      "name": "python"
    }
  },
  "nbformat": 4,
  "nbformat_minor": 0
}