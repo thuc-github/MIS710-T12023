{
  "cells": [
    {
      "cell_type": "markdown",
      "metadata": {
        "id": "MNkJtLWoPpW7"
      },
      "source": [
        "\n",
        "# **MIS710 Lecture 7: Introduction to Artificial Neural Networks**\n",
        "\n",
        "Author: Associate Professor Lemai Nguyen\n",
        "\n",
        "Objectives:\n",
        "\n",
        "* To learn to build and test ANN models for classification and regression\n",
        "* To evaluate the models based on the ML problem\n"
      ]
    },
    {
      "cell_type": "markdown",
      "metadata": {
        "id": "jxTV1VTuj9mC"
      },
      "source": [
        "**Loading basic Libraries**\n",
        "\n",
        "\n"
      ]
    },
    {
      "cell_type": "code",
      "execution_count": null,
      "metadata": {
        "id": "p9_TVAw2FOsS"
      },
      "outputs": [],
      "source": [
        "!pip install pydotplus #interface for graph visualisation\n",
        "!pip install graphviz #for graph visualisation"
      ]
    },
    {
      "cell_type": "code",
      "execution_count": 2,
      "metadata": {
        "id": "lVf5buwkml_I"
      },
      "outputs": [],
      "source": [
        "# load libraries\n",
        "import pandas as pd #for data manipulation and analysis\n",
        "import numpy as np\n",
        " \n",
        "import seaborn as sns\n",
        "import matplotlib.pyplot as plt\n"
      ]
    },
    {
      "cell_type": "markdown",
      "metadata": {
        "id": "-hYSwK4MBEXI"
      },
      "source": [
        "# **1. Case One: Biopsy**\n",
        "\n",
        "**Cancer Diagnosis**\n",
        "Predict the diagnosis (healthy or cancerous) based on a biopsy dataset.\n",
        "\n",
        "**Context**: The dataset was adapted from a biospy dataset. The dataset contains five (5) biological variables and the target variable. \n",
        "\n",
        "**Approaches**: ANN using schikit learn MLP Classifier and Keras\n",
        "\n",
        "**Dataset**: \n",
        "V1, V2, V7-V9: biological variables\n",
        "Diagnosis: healthy or cancerous\n",
        "\n",
        "**Source**: adapted from a dataset provided by Dr Mark Griffin, Industry Fellow, University of Queensland; https://www.kaggle.com/datasets/ukveteran/biopsy-data-on-breast-cancer-patients \n"
      ]
    },
    {
      "cell_type": "markdown",
      "metadata": {
        "id": "B38Q50gZm1vQ"
      },
      "source": [
        "## **1.1 Loading Data**\n",
        "\n",
        "\n",
        "1.   Load the dataset\n",
        "2.   Explore the data\n",
        "\n"
      ]
    },
    {
      "cell_type": "code",
      "execution_count": 3,
      "metadata": {
        "colab": {
          "base_uri": "https://localhost:8080/"
        },
        "id": "xXYXIiopFSPX",
        "outputId": "dbf674a6-e5bf-4ec7-f268-f61e6d1cbdba"
      },
      "outputs": [
        {
          "name": "stdout",
          "output_type": "stream",
          "text": [
            "          ID  V1  V2  V7  V8  V9 diagnosis\n",
            "0    1177399   8   3   1   6   2   healthy\n",
            "1    1246562  10   2   1   1   2   healthy\n",
            "2    1108370   9   5   2   1   5   healthy\n",
            "3    1165926   9   6   2   9  10   healthy\n",
            "4    1167439   2   3   2   5   1   healthy\n",
            "..       ...  ..  ..  ..  ..  ..       ...\n",
            "694  1124651   1   3   7   2   1   healthy\n",
            "695  1137156   2   2   7   1   1   healthy\n",
            "696  1147044   3   1   7   1   1   healthy\n",
            "697  1213375   8   4   7   8   2   healthy\n",
            "698   721482   4   4   7   3   1   healthy\n",
            "\n",
            "[699 rows x 7 columns]\n"
          ]
        }
      ],
      "source": [
        "# load dataset\n",
        "records = pd.read_csv('https://raw.githubusercontent.com/VanLan0/MIS710/main/biopsy_ln.csv')\n",
        "print(records)"
      ]
    },
    {
      "cell_type": "markdown",
      "metadata": {
        "id": "1kgPiugeC5nm"
      },
      "source": [
        "## **1.2 Inspecting and cleansing data**"
      ]
    },
    {
      "cell_type": "code",
      "execution_count": null,
      "metadata": {
        "colab": {
          "base_uri": "https://localhost:8080/"
        },
        "id": "Rm5pOPRG5hlT",
        "outputId": "31e06933-a8a0-4ef7-ac11-6541acb16444"
      },
      "outputs": [
        {
          "name": "stdout",
          "output_type": "stream",
          "text": [
            "          ID  V1  V2  V7  V8  V9  diagnosis\n",
            "257  1199731   3   1   1   1   1    healthy\n",
            "163  1239347   8   7   7   2   1  cancerous\n",
            "91   1222936   8   7   5  10   2  cancerous\n",
            "204  1306282   6   6   8  10   2  cancerous\n",
            "488  1299924   5   1   2   1   1    healthy\n",
            "281  1196263   4   1   1   1   1    healthy\n",
            "211  1207986   5   8   9  10   1  cancerous\n",
            "428  1227244   1   1   2   1   1    healthy\n",
            "65    555977   5   6   4  10   4  cancerous\n",
            "562  1071760   2   1   3   1   1    healthy\n"
          ]
        }
      ],
      "source": [
        "#Print a sample of 10 datapoints; hint: use the function sample()\n"
      ]
    },
    {
      "cell_type": "code",
      "execution_count": 5,
      "metadata": {
        "colab": {
          "base_uri": "https://localhost:8080/"
        },
        "id": "qaThdphidKgB",
        "outputId": "47c02467-f6bc-48fa-b44c-6f0ea058094e"
      },
      "outputs": [
        {
          "name": "stdout",
          "output_type": "stream",
          "text": [
            "<class 'pandas.core.frame.DataFrame'>\n",
            "RangeIndex: 699 entries, 0 to 698\n",
            "Data columns (total 7 columns):\n",
            " #   Column     Non-Null Count  Dtype \n",
            "---  ------     --------------  ----- \n",
            " 0   ID         699 non-null    int64 \n",
            " 1   V1         699 non-null    int64 \n",
            " 2   V2         699 non-null    int64 \n",
            " 3   V7         699 non-null    int64 \n",
            " 4   V8         699 non-null    int64 \n",
            " 5   V9         699 non-null    int64 \n",
            " 6   diagnosis  699 non-null    object\n",
            "dtypes: int64(6), object(1)\n",
            "memory usage: 38.4+ KB\n"
          ]
        }
      ],
      "source": [
        "#display variables and data types\n"
      ]
    },
    {
      "cell_type": "code",
      "execution_count": 6,
      "metadata": {
        "colab": {
          "base_uri": "https://localhost:8080/"
        },
        "id": "ytxVLaTRdqaP",
        "outputId": "da8a4254-4a0f-4642-9be7-5334a10ac747"
      },
      "outputs": [
        {
          "name": "stdout",
          "output_type": "stream",
          "text": [
            "ID           0\n",
            "V1           0\n",
            "V2           0\n",
            "V7           0\n",
            "V8           0\n",
            "V9           0\n",
            "diagnosis    0\n",
            "dtype: int64\n"
          ]
        }
      ],
      "source": [
        "#Inspect missing data\n"
      ]
    },
    {
      "cell_type": "code",
      "execution_count": 7,
      "metadata": {
        "colab": {
          "base_uri": "https://localhost:8080/"
        },
        "id": "QRhrC2p-vLHk",
        "outputId": "a9e72ad8-0887-4748-88ea-f8cf01c721be"
      },
      "outputs": [
        {
          "name": "stdout",
          "output_type": "stream",
          "text": [
            "Sample size: 699\n",
            "Number of columns: 7\n"
          ]
        }
      ],
      "source": [
        "print('Sample size:', records.shape[0])\n",
        "print('Number of columns:', records.shape[1]) "
      ]
    },
    {
      "cell_type": "code",
      "execution_count": 9,
      "metadata": {
        "colab": {
          "base_uri": "https://localhost:8080/"
        },
        "id": "wRUf0J7ZaFx4",
        "outputId": "c9816942-bb65-4d0c-c6fd-4f280c9d3f0d"
      },
      "outputs": [
        {
          "name": "stdout",
          "output_type": "stream",
          "text": [
            "<class 'pandas.core.frame.DataFrame'>\n",
            "RangeIndex: 699 entries, 0 to 698\n",
            "Data columns (total 6 columns):\n",
            " #   Column     Non-Null Count  Dtype \n",
            "---  ------     --------------  ----- \n",
            " 0   V1         699 non-null    int64 \n",
            " 1   V2         699 non-null    int64 \n",
            " 2   V7         699 non-null    int64 \n",
            " 3   V8         699 non-null    int64 \n",
            " 4   V9         699 non-null    int64 \n",
            " 5   diagnosis  699 non-null    object\n",
            "dtypes: int64(5), object(1)\n",
            "memory usage: 32.9+ KB\n"
          ]
        }
      ],
      "source": [
        "#drop an irrelevant variable(s), then display the remaining variables abd data types\n",
        "\n",
        "records.info()"
      ]
    },
    {
      "cell_type": "markdown",
      "metadata": {
        "id": "RJhziPbjRRem"
      },
      "source": [
        "## **1.3 EDA**\n",
        "1. Explore descriptive stats and histograms of continuous variables\n",
        "2. Explore descriptive stats and barcharts of categorical variables\n",
        "3. Explore relationships among the variables using heatmaps\n",
        "4. Explore logistric regression relationships between variables \n",
        "\n",
        "Convert data as needed for the exploration tasks"
      ]
    },
    {
      "cell_type": "markdown",
      "metadata": {
        "id": "0NWu_tqpwzlh"
      },
      "source": [
        "**univariable analyses**"
      ]
    },
    {
      "cell_type": "code",
      "execution_count": 10,
      "metadata": {
        "colab": {
          "base_uri": "https://localhost:8080/",
          "height": 300
        },
        "id": "w1OFeG-20rL2",
        "outputId": "592c82e7-0453-4e8a-f257-3ad3b0467860"
      },
      "outputs": [
        {
          "data": {
            "text/html": [
              "\n",
              "  <div id=\"df-2f13f85a-782b-41ff-8e0f-952472485d4b\">\n",
              "    <div class=\"colab-df-container\">\n",
              "      <div>\n",
              "<style scoped>\n",
              "    .dataframe tbody tr th:only-of-type {\n",
              "        vertical-align: middle;\n",
              "    }\n",
              "\n",
              "    .dataframe tbody tr th {\n",
              "        vertical-align: top;\n",
              "    }\n",
              "\n",
              "    .dataframe thead th {\n",
              "        text-align: right;\n",
              "    }\n",
              "</style>\n",
              "<table border=\"1\" class=\"dataframe\">\n",
              "  <thead>\n",
              "    <tr style=\"text-align: right;\">\n",
              "      <th></th>\n",
              "      <th>V1</th>\n",
              "      <th>V2</th>\n",
              "      <th>V7</th>\n",
              "      <th>V8</th>\n",
              "      <th>V9</th>\n",
              "    </tr>\n",
              "  </thead>\n",
              "  <tbody>\n",
              "    <tr>\n",
              "      <th>count</th>\n",
              "      <td>699.000000</td>\n",
              "      <td>699.000000</td>\n",
              "      <td>699.000000</td>\n",
              "      <td>699.000000</td>\n",
              "      <td>699.000000</td>\n",
              "    </tr>\n",
              "    <tr>\n",
              "      <th>mean</th>\n",
              "      <td>4.417740</td>\n",
              "      <td>3.134478</td>\n",
              "      <td>3.437768</td>\n",
              "      <td>2.866953</td>\n",
              "      <td>1.589413</td>\n",
              "    </tr>\n",
              "    <tr>\n",
              "      <th>std</th>\n",
              "      <td>2.815741</td>\n",
              "      <td>3.051459</td>\n",
              "      <td>2.438364</td>\n",
              "      <td>3.053634</td>\n",
              "      <td>1.715078</td>\n",
              "    </tr>\n",
              "    <tr>\n",
              "      <th>min</th>\n",
              "      <td>1.000000</td>\n",
              "      <td>1.000000</td>\n",
              "      <td>1.000000</td>\n",
              "      <td>1.000000</td>\n",
              "      <td>1.000000</td>\n",
              "    </tr>\n",
              "    <tr>\n",
              "      <th>25%</th>\n",
              "      <td>2.000000</td>\n",
              "      <td>1.000000</td>\n",
              "      <td>2.000000</td>\n",
              "      <td>1.000000</td>\n",
              "      <td>1.000000</td>\n",
              "    </tr>\n",
              "    <tr>\n",
              "      <th>50%</th>\n",
              "      <td>4.000000</td>\n",
              "      <td>1.000000</td>\n",
              "      <td>3.000000</td>\n",
              "      <td>1.000000</td>\n",
              "      <td>1.000000</td>\n",
              "    </tr>\n",
              "    <tr>\n",
              "      <th>75%</th>\n",
              "      <td>6.000000</td>\n",
              "      <td>5.000000</td>\n",
              "      <td>5.000000</td>\n",
              "      <td>4.000000</td>\n",
              "      <td>1.000000</td>\n",
              "    </tr>\n",
              "    <tr>\n",
              "      <th>max</th>\n",
              "      <td>10.000000</td>\n",
              "      <td>10.000000</td>\n",
              "      <td>10.000000</td>\n",
              "      <td>10.000000</td>\n",
              "      <td>10.000000</td>\n",
              "    </tr>\n",
              "  </tbody>\n",
              "</table>\n",
              "</div>\n",
              "      <button class=\"colab-df-convert\" onclick=\"convertToInteractive('df-2f13f85a-782b-41ff-8e0f-952472485d4b')\"\n",
              "              title=\"Convert this dataframe to an interactive table.\"\n",
              "              style=\"display:none;\">\n",
              "        \n",
              "  <svg xmlns=\"http://www.w3.org/2000/svg\" height=\"24px\"viewBox=\"0 0 24 24\"\n",
              "       width=\"24px\">\n",
              "    <path d=\"M0 0h24v24H0V0z\" fill=\"none\"/>\n",
              "    <path d=\"M18.56 5.44l.94 2.06.94-2.06 2.06-.94-2.06-.94-.94-2.06-.94 2.06-2.06.94zm-11 1L8.5 8.5l.94-2.06 2.06-.94-2.06-.94L8.5 2.5l-.94 2.06-2.06.94zm10 10l.94 2.06.94-2.06 2.06-.94-2.06-.94-.94-2.06-.94 2.06-2.06.94z\"/><path d=\"M17.41 7.96l-1.37-1.37c-.4-.4-.92-.59-1.43-.59-.52 0-1.04.2-1.43.59L10.3 9.45l-7.72 7.72c-.78.78-.78 2.05 0 2.83L4 21.41c.39.39.9.59 1.41.59.51 0 1.02-.2 1.41-.59l7.78-7.78 2.81-2.81c.8-.78.8-2.07 0-2.86zM5.41 20L4 18.59l7.72-7.72 1.47 1.35L5.41 20z\"/>\n",
              "  </svg>\n",
              "      </button>\n",
              "      \n",
              "  <style>\n",
              "    .colab-df-container {\n",
              "      display:flex;\n",
              "      flex-wrap:wrap;\n",
              "      gap: 12px;\n",
              "    }\n",
              "\n",
              "    .colab-df-convert {\n",
              "      background-color: #E8F0FE;\n",
              "      border: none;\n",
              "      border-radius: 50%;\n",
              "      cursor: pointer;\n",
              "      display: none;\n",
              "      fill: #1967D2;\n",
              "      height: 32px;\n",
              "      padding: 0 0 0 0;\n",
              "      width: 32px;\n",
              "    }\n",
              "\n",
              "    .colab-df-convert:hover {\n",
              "      background-color: #E2EBFA;\n",
              "      box-shadow: 0px 1px 2px rgba(60, 64, 67, 0.3), 0px 1px 3px 1px rgba(60, 64, 67, 0.15);\n",
              "      fill: #174EA6;\n",
              "    }\n",
              "\n",
              "    [theme=dark] .colab-df-convert {\n",
              "      background-color: #3B4455;\n",
              "      fill: #D2E3FC;\n",
              "    }\n",
              "\n",
              "    [theme=dark] .colab-df-convert:hover {\n",
              "      background-color: #434B5C;\n",
              "      box-shadow: 0px 1px 3px 1px rgba(0, 0, 0, 0.15);\n",
              "      filter: drop-shadow(0px 1px 2px rgba(0, 0, 0, 0.3));\n",
              "      fill: #FFFFFF;\n",
              "    }\n",
              "  </style>\n",
              "\n",
              "      <script>\n",
              "        const buttonEl =\n",
              "          document.querySelector('#df-2f13f85a-782b-41ff-8e0f-952472485d4b button.colab-df-convert');\n",
              "        buttonEl.style.display =\n",
              "          google.colab.kernel.accessAllowed ? 'block' : 'none';\n",
              "\n",
              "        async function convertToInteractive(key) {\n",
              "          const element = document.querySelector('#df-2f13f85a-782b-41ff-8e0f-952472485d4b');\n",
              "          const dataTable =\n",
              "            await google.colab.kernel.invokeFunction('convertToInteractive',\n",
              "                                                     [key], {});\n",
              "          if (!dataTable) return;\n",
              "\n",
              "          const docLinkHtml = 'Like what you see? Visit the ' +\n",
              "            '<a target=\"_blank\" href=https://colab.research.google.com/notebooks/data_table.ipynb>data table notebook</a>'\n",
              "            + ' to learn more about interactive tables.';\n",
              "          element.innerHTML = '';\n",
              "          dataTable['output_type'] = 'display_data';\n",
              "          await google.colab.output.renderOutput(dataTable, element);\n",
              "          const docLink = document.createElement('div');\n",
              "          docLink.innerHTML = docLinkHtml;\n",
              "          element.appendChild(docLink);\n",
              "        }\n",
              "      </script>\n",
              "    </div>\n",
              "  </div>\n",
              "  "
            ],
            "text/plain": [
              "               V1          V2          V7          V8          V9\n",
              "count  699.000000  699.000000  699.000000  699.000000  699.000000\n",
              "mean     4.417740    3.134478    3.437768    2.866953    1.589413\n",
              "std      2.815741    3.051459    2.438364    3.053634    1.715078\n",
              "min      1.000000    1.000000    1.000000    1.000000    1.000000\n",
              "25%      2.000000    1.000000    2.000000    1.000000    1.000000\n",
              "50%      4.000000    1.000000    3.000000    1.000000    1.000000\n",
              "75%      6.000000    5.000000    5.000000    4.000000    1.000000\n",
              "max     10.000000   10.000000   10.000000   10.000000   10.000000"
            ]
          },
          "execution_count": 10,
          "metadata": {},
          "output_type": "execute_result"
        }
      ],
      "source": [
        "#generate descriptive stats for numerical variables\n"
      ]
    },
    {
      "cell_type": "code",
      "execution_count": null,
      "metadata": {
        "id": "owNEshpvAb1G"
      },
      "outputs": [],
      "source": [
        "#create a stats for each variable and display it histograms for \n",
        "for i in records.iloc[:,:]: \n",
        "    print('Exploring :', i, '\\n', records[i].describe())\n",
        "    plt.hist(records[i])\n",
        "    plt.title(i)\n",
        "    plt.show()"
      ]
    },
    {
      "cell_type": "code",
      "execution_count": 12,
      "metadata": {
        "colab": {
          "base_uri": "https://localhost:8080/",
          "height": 449
        },
        "id": "VEcOor4L84Fe",
        "outputId": "3d04064b-a2b7-4a4d-e992-d897060e5e12"
      },
      "outputs": [
        {
          "data": {
            "image/png": "[encoded data removed]",
            "text/plain": [
              "<Figure size 640x480 with 1 Axes>"
            ]
          },
          "metadata": {},
          "output_type": "display_data"
        }
      ],
      "source": [
        "#create barchats for disgnosis\n",
        "\n",
        "plt.show()"
      ]
    },
    {
      "cell_type": "code",
      "execution_count": null,
      "metadata": {
        "colab": {
          "base_uri": "https://localhost:8080/"
        },
        "id": "LMhWCwXc95r-",
        "outputId": "7b510020-5f64-4ab6-c94b-d60bc9215331"
      },
      "outputs": [
        {
          "data": {
            "text/plain": [
              "healthy      489\n",
              "cancerous    210\n",
              "Name: diagnosis, dtype: int64"
            ]
          },
          "execution_count": 18,
          "metadata": {},
          "output_type": "execute_result"
        }
      ],
      "source": [
        "#create frequency stats for diagnosis\n"
      ]
    },
    {
      "cell_type": "markdown",
      "metadata": {
        "id": "7KjQJRcDwuNx"
      },
      "source": [
        "**multi-variable analyses**"
      ]
    },
    {
      "cell_type": "code",
      "execution_count": null,
      "metadata": {
        "colab": {
          "base_uri": "https://localhost:8080/",
          "height": 1000
        },
        "id": "8HHwvXQLu3gd",
        "outputId": "3b3baf1e-c464-4360-ce85-55e9fb88d714"
      },
      "outputs": [
        {
          "data": {
            "image/png": "[encoded data removed]",
            "text/plain": [
              "<Figure size 432x288 with 1 Axes>"
            ]
          },
          "metadata": {
            "needs_background": "light"
          },
          "output_type": "display_data"
        },
        {
          "data": {
            "image/png": "[encoded data removed]",
            "text/plain": [
              "<Figure size 432x288 with 1 Axes>"
            ]
          },
          "metadata": {
            "needs_background": "light"
          },
          "output_type": "display_data"
        },
        {
          "data": {
            "image/png": "[encoded data removed]",
            "text/plain": [
              "<Figure size 432x288 with 1 Axes>"
            ]
          },
          "metadata": {
            "needs_background": "light"
          },
          "output_type": "display_data"
        },
        {
          "data": {
            "image/png": "[encoded data removed]",
            "text/plain": [
              "<Figure size 432x288 with 1 Axes>"
            ]
          },
          "metadata": {
            "needs_background": "light"
          },
          "output_type": "display_data"
        }
      ],
      "source": [
        "# complete the for loop below to generate the following boxplots - hint: data=records, x=i, y='diagnosis'\n",
        "for i in records.columns[1:5]:\n",
        "  \n",
        "  plt.show()"
      ]
    },
    {
      "cell_type": "code",
      "execution_count": null,
      "metadata": {
        "colab": {
          "base_uri": "https://localhost:8080/",
          "height": 286
        },
        "id": "EwrpTLYjOIE1",
        "outputId": "7710258a-e138-4861-962b-3cff313cab07"
      },
      "outputs": [
        {
          "data": {
            "text/plain": [
              "<matplotlib.axes._subplots.AxesSubplot at 0x7f2904796a90>"
            ]
          },
          "execution_count": 7,
          "metadata": {},
          "output_type": "execute_result"
        },
        {
          "data": {
            "image/png": "[encoded data removed]",
            "text/plain": [
              "<Figure size 432x288 with 2 Axes>"
            ]
          },
          "metadata": {
            "needs_background": "light"
          },
          "output_type": "display_data"
        }
      ],
      "source": [
        "#generate a heatmap"
      ]
    },
    {
      "cell_type": "markdown",
      "metadata": {
        "id": "o-q_DuqLExFJ"
      },
      "source": [
        "## **1.4 Data preparation and feature selection**"
      ]
    },
    {
      "cell_type": "code",
      "execution_count": 14,
      "metadata": {
        "colab": {
          "base_uri": "https://localhost:8080/"
        },
        "id": "oeNvz-YvcYpX",
        "outputId": "bb1dfd5b-c463-4131-ea9d-03d5b9b1ab0b"
      },
      "outputs": [
        {
          "name": "stdout",
          "output_type": "stream",
          "text": [
            "     V1  V2  V7  V8  V9  diagnosis\n",
            "401   1   1   2   1   2          0\n",
            "388   3   1   1   1   1          0\n",
            "395   3   2   2   1   1          0\n",
            "586   4   1   3   2   1          0\n",
            "14    8  10   3   9   1          0\n",
            "105   8   7   5  10   1          1\n",
            "284   3   1   1   1   1          0\n",
            "39    8   6   3   4   2          1\n",
            "10    5   6   3   1   1          0\n",
            "48    3   7   4   8   1          1\n"
          ]
        }
      ],
      "source": [
        "#convert categorical data to numerical \n",
        "def coding_diagnosis(x):\n",
        "        if x=='cancerous': return 1\n",
        "        if x=='healthy': return 0\n",
        "       \n",
        "records['diagnosis'] = records['diagnosis'].apply(coding_diagnosis)\n",
        "\n",
        "print(records.sample(10))"
      ]
    },
    {
      "cell_type": "code",
      "execution_count": null,
      "metadata": {
        "colab": {
          "base_uri": "https://localhost:8080/",
          "height": 485
        },
        "id": "wWtdCU5J1l41",
        "outputId": "d5f0ee91-90cd-41c9-8df1-7a905a5b6030"
      },
      "outputs": [
        {
          "name": "stderr",
          "output_type": "stream",
          "text": [
            "<ipython-input-21-4871b880c812>:2: FutureWarning: The default value of numeric_only in DataFrame.corr is deprecated. In a future version, it will default to False. Select only valid columns or specify the value of numeric_only to silence this warning.\n",
            "  sns.heatmap(records.corr(), cbar=0, linewidths=2,vmax=1, vmin=0, square=True, cmap='Blues', annot=True)\n"
          ]
        },
        {
          "data": {
            "image/png": "[encoded data removed]",
            "text/plain": [
              "<Figure size 640x480 with 1 Axes>"
            ]
          },
          "metadata": {},
          "output_type": "display_data"
        }
      ],
      "source": [
        "#generate heatmaps to explore relationships\n",
        "sns.heatmap(records.corr(), cbar=0, linewidths=2,vmax=1, vmin=0, square=True, cmap='Blues', annot=True)\n",
        "plt.show()"
      ]
    },
    {
      "cell_type": "markdown",
      "metadata": {
        "id": "IDG1zi7KE_ZS"
      },
      "source": [
        "What can you observe in all the above analyses?"
      ]
    },
    {
      "cell_type": "markdown",
      "metadata": {
        "id": "qFe8ZT95O9Yd"
      },
      "source": [
        "### **Save file for future analyses**"
      ]
    },
    {
      "cell_type": "code",
      "execution_count": 1,
      "metadata": {
        "colab": {
          "base_uri": "https://localhost:8080/"
        },
        "id": "cOgMN48MPSEK",
        "outputId": "cb5c942a-2b75-4bbc-817d-09f37775cf28"
      },
      "outputs": [
        {
          "name": "stdout",
          "output_type": "stream",
          "text": [
            "Mounted at /content/drive\n"
          ]
        }
      ],
      "source": [
        "from google.colab import drive\n",
        "drive.mount('/content/drive')"
      ]
    },
    {
      "cell_type": "code",
      "execution_count": null,
      "metadata": {
        "id": "GD21DuPJPT0I"
      },
      "outputs": [],
      "source": [
        "import io"
      ]
    },
    {
      "cell_type": "code",
      "execution_count": null,
      "metadata": {
        "id": "MTUeBU39O_Kt"
      },
      "outputs": [],
      "source": [
        "try:\n",
        "    # save the DataFrame to a CSV file\n",
        "    records.to_csv('/content/drive/My Drive/Colab Notebooks/MIS710/biopsy_processed.csv', index=False)\n",
        "    print('File saved successfully!')\n",
        "except Exception as e:\n",
        "    print(f'An error occurred: {e}')\n",
        "File saved successfully!"
      ]
    },
    {
      "cell_type": "markdown",
      "metadata": {
        "id": "WZn9TsB0IlVZ"
      },
      "source": [
        "### **Feature Selection**\n",
        "\n",
        "* Select predictors (attributes) for Classification\n",
        "* Set role (Target)"
      ]
    },
    {
      "cell_type": "code",
      "execution_count": 15,
      "metadata": {
        "id": "eklK57M5Iuba"
      },
      "outputs": [],
      "source": [
        "#Selecting predictors\n",
        "features =['V1', 'V2', 'V7', 'V8', 'V9'] \n",
        "\n",
        "#complete the code below\n",
        "X= records[features]\n",
        "y= records['diagnosis']  # Target variable\n"
      ]
    },
    {
      "cell_type": "markdown",
      "metadata": {
        "id": "7ZZL19jGNYpv"
      },
      "source": [
        "## **1.5 Split the dataset**\n",
        "\n",
        "Split arrays or matrices into random train and test subsets\n",
        "https://scikit-learn.org/stable/modules/generated/sklearn.model_selection.train_test_split.html?highlight=train_test_split#sklearn.model_selection.train_test_split"
      ]
    },
    {
      "cell_type": "code",
      "execution_count": 16,
      "metadata": {
        "id": "BcDVgvyvFCGR"
      },
      "outputs": [],
      "source": [
        "from sklearn.model_selection import train_test_split"
      ]
    },
    {
      "cell_type": "code",
      "execution_count": 17,
      "metadata": {
        "colab": {
          "base_uri": "https://localhost:8080/"
        },
        "id": "5WQVc9ZINezn",
        "outputId": "c281b769-ed68-4eab-edeb-c8447e43d36e"
      },
      "outputs": [
        {
          "name": "stdout",
          "output_type": "stream",
          "text": [
            "(489, 5)\n",
            "(489,)\n",
            "(210, 5)\n",
            "(210,)\n"
          ]
        }
      ],
      "source": [
        "# Split dataset into training set and test set\n",
        "X_train, X_test, y_train, y_test = train_test_split(X, y, test_size=0.3, stratify=y, random_state=2023)  # 80% training and 20% testing \n",
        "\n",
        "#inspect the split datasets\n",
        "print(X_train.shape)\n",
        "print(y_train.shape)\n",
        "print(X_test.shape)\n",
        "print(y_test.shape)"
      ]
    },
    {
      "cell_type": "code",
      "execution_count": 18,
      "metadata": {
        "colab": {
          "base_uri": "https://localhost:8080/"
        },
        "id": "zGQ0HEwnFsRy",
        "outputId": "b7eed30d-0f8a-4e3f-ea0e-269280675322"
      },
      "outputs": [
        {
          "name": "stdout",
          "output_type": "stream",
          "text": [
            "147\n",
            "63\n"
          ]
        }
      ],
      "source": [
        "#how many cancer cases are in the training and test sets\n",
        "print((y_train==1).sum())\n",
        "print((y_test==1).sum())"
      ]
    },
    {
      "cell_type": "markdown",
      "metadata": {
        "id": "kapFagnShSXb"
      },
      "source": [
        "**Normalise data**"
      ]
    },
    {
      "cell_type": "code",
      "execution_count": 19,
      "metadata": {
        "id": "pfUexlnJE5VF"
      },
      "outputs": [],
      "source": [
        "from sklearn.preprocessing import StandardScaler"
      ]
    },
    {
      "cell_type": "code",
      "execution_count": 21,
      "metadata": {
        "id": "ZcMmoxbzhU4p"
      },
      "outputs": [],
      "source": [
        "# Standardize data\n",
        "scaler = StandardScaler()\n",
        "\n",
        "# The following line of code normalises X_train\n",
        "X_train_norm = scaler.fit_transform(X_train)\n",
        "\n",
        "#Write your own code to normalise X_test"
      ]
    },
    {
      "cell_type": "markdown",
      "metadata": {
        "id": "DEhDWoQDhCAj"
      },
      "source": [
        "## **1.5 Initialise and Train a MLPClassifier for the classification problem**\n",
        "\n",
        "Read about the MLP classifiers at:\n",
        "https://scikit-learn.org/stable/modules/generated/sklearn.neural_network.MLPClassifier.html \n"
      ]
    },
    {
      "cell_type": "code",
      "execution_count": 22,
      "metadata": {
        "id": "Olzi4LsvhFpG"
      },
      "outputs": [],
      "source": [
        "#import classes and functions\n",
        "from sklearn.neural_network import MLPClassifier\n",
        "from sklearn import metrics #Import scikit-learn metrics module for accuracy calculation\n",
        "from sklearn.metrics import classification_report, confusion_matrix\n",
        "from sklearn.metrics import roc_curve, roc_auc_score\n",
        "from sklearn.metrics import accuracy_score\n",
        "from sklearn.metrics import f1_score"
      ]
    },
    {
      "cell_type": "markdown",
      "metadata": {
        "id": "8wY6t9fohgAF"
      },
      "source": [
        "**Your task: Train a neural network**"
      ]
    },
    {
      "cell_type": "code",
      "execution_count": 31,
      "metadata": {
        "id": "xPaIx5PhhlkI"
      },
      "outputs": [],
      "source": [
        "# create an MLP classifier with 2 hidden layers - you can change the layers and sizes\n",
        "ann_clf = MLPClassifier(hidden_layer_sizes=(32, 16), max_iter=1000, random_state=2023, early_stopping=True)\n"
      ]
    },
    {
      "cell_type": "code",
      "execution_count": 34,
      "metadata": {
        "colab": {
          "base_uri": "https://localhost:8080/",
          "height": 92
        },
        "id": "4pUVaWTJyo1f",
        "outputId": "572c96f2-397e-40c7-f86c-6c4280d35cb1"
      },
      "outputs": [
        {
          "data": {
            "text/html": [
              "<style>#sk-container-id-4 {color: black;background-color: white;}#sk-container-id-4 pre{padding: 0;}#sk-container-id-4 div.sk-toggleable {background-color: white;}#sk-container-id-4 label.sk-toggleable__label {cursor: pointer;display: block;width: 100%;margin-bottom: 0;padding: 0.3em;box-sizing: border-box;text-align: center;}#sk-container-id-4 label.sk-toggleable__label-arrow:before {content: \"▸\";float: left;margin-right: 0.25em;color: #696969;}#sk-container-id-4 label.sk-toggleable__label-arrow:hover:before {color: black;}#sk-container-id-4 div.sk-estimator:hover label.sk-toggleable__label-arrow:before {color: black;}#sk-container-id-4 div.sk-toggleable__content {max-height: 0;max-width: 0;overflow: hidden;text-align: left;background-color: #f0f8ff;}#sk-container-id-4 div.sk-toggleable__content pre {margin: 0.2em;color: black;border-radius: 0.25em;background-color: #f0f8ff;}#sk-container-id-4 input.sk-toggleable__control:checked~div.sk-toggleable__content {max-height: 200px;max-width: 100%;overflow: auto;}#sk-container-id-4 input.sk-toggleable__control:checked~label.sk-toggleable__label-arrow:before {content: \"▾\";}#sk-container-id-4 div.sk-estimator input.sk-toggleable__control:checked~label.sk-toggleable__label {background-color: #d4ebff;}#sk-container-id-4 div.sk-label input.sk-toggleable__control:checked~label.sk-toggleable__label {background-color: #d4ebff;}#sk-container-id-4 input.sk-hidden--visually {border: 0;clip: rect(1px 1px 1px 1px);clip: rect(1px, 1px, 1px, 1px);height: 1px;margin: -1px;overflow: hidden;padding: 0;position: absolute;width: 1px;}#sk-container-id-4 div.sk-estimator {font-family: monospace;background-color: #f0f8ff;border: 1px dotted black;border-radius: 0.25em;box-sizing: border-box;margin-bottom: 0.5em;}#sk-container-id-4 div.sk-estimator:hover {background-color: #d4ebff;}#sk-container-id-4 div.sk-parallel-item::after {content: \"\";width: 100%;border-bottom: 1px solid gray;flex-grow: 1;}#sk-container-id-4 div.sk-label:hover label.sk-toggleable__label {background-color: #d4ebff;}#sk-container-id-4 div.sk-serial::before {content: \"\";position: absolute;border-left: 1px solid gray;box-sizing: border-box;top: 0;bottom: 0;left: 50%;z-index: 0;}#sk-container-id-4 div.sk-serial {display: flex;flex-direction: column;align-items: center;background-color: white;padding-right: 0.2em;padding-left: 0.2em;position: relative;}#sk-container-id-4 div.sk-item {position: relative;z-index: 1;}#sk-container-id-4 div.sk-parallel {display: flex;align-items: stretch;justify-content: center;background-color: white;position: relative;}#sk-container-id-4 div.sk-item::before, #sk-container-id-4 div.sk-parallel-item::before {content: \"\";position: absolute;border-left: 1px solid gray;box-sizing: border-box;top: 0;bottom: 0;left: 50%;z-index: -1;}#sk-container-id-4 div.sk-parallel-item {display: flex;flex-direction: column;z-index: 1;position: relative;background-color: white;}#sk-container-id-4 div.sk-parallel-item:first-child::after {align-self: flex-end;width: 50%;}#sk-container-id-4 div.sk-parallel-item:last-child::after {align-self: flex-start;width: 50%;}#sk-container-id-4 div.sk-parallel-item:only-child::after {width: 0;}#sk-container-id-4 div.sk-dashed-wrapped {border: 1px dashed gray;margin: 0 0.4em 0.5em 0.4em;box-sizing: border-box;padding-bottom: 0.4em;background-color: white;}#sk-container-id-4 div.sk-label label {font-family: monospace;font-weight: bold;display: inline-block;line-height: 1.2em;}#sk-container-id-4 div.sk-label-container {text-align: center;}#sk-container-id-4 div.sk-container {/* jupyter's `normalize.less` sets `[hidden] { display: none; }` but bootstrap.min.css set `[hidden] { display: none !important; }` so we also need the `!important` here to be able to override the default hidden behavior on the sphinx rendered scikit-learn.org. See: https://github.com/scikit-learn/scikit-learn/issues/21755 */display: inline-block !important;position: relative;}#sk-container-id-4 div.sk-text-repr-fallback {display: none;}</style><div id=\"sk-container-id-4\" class=\"sk-top-container\"><div class=\"sk-text-repr-fallback\"><pre>MLPClassifier(early_stopping=True, hidden_layer_sizes=(32, 16), max_iter=1000,\n",
              "              random_state=2023)</pre><b>In a Jupyter environment, please rerun this cell to show the HTML representation or trust the notebook. <br />On GitHub, the HTML representation is unable to render, please try loading this page with nbviewer.org.</b></div><div class=\"sk-container\" hidden><div class=\"sk-item\"><div class=\"sk-estimator sk-toggleable\"><input class=\"sk-toggleable__control sk-hidden--visually\" id=\"sk-estimator-id-4\" type=\"checkbox\" checked><label for=\"sk-estimator-id-4\" class=\"sk-toggleable__label sk-toggleable__label-arrow\">MLPClassifier</label><div class=\"sk-toggleable__content\"><pre>MLPClassifier(early_stopping=True, hidden_layer_sizes=(32, 16), max_iter=1000,\n",
              "              random_state=2023)</pre></div></div></div></div></div>"
            ],
            "text/plain": [
              "MLPClassifier(early_stopping=True, hidden_layer_sizes=(32, 16), max_iter=1000,\n",
              "              random_state=2023)"
            ]
          },
          "execution_count": 34,
          "metadata": {},
          "output_type": "execute_result"
        }
      ],
      "source": [
        "# complethe the code to fit the model with the training data, note you should use X_train_norm\n"
      ]
    },
    {
      "cell_type": "markdown",
      "metadata": {
        "id": "MqoO09v3iATB"
      },
      "source": [
        "## **1.6 Model evaluation**"
      ]
    },
    {
      "cell_type": "markdown",
      "metadata": {
        "id": "X7X4kFpT0d3F"
      },
      "source": [
        "**Your task: follow the instructions below**"
      ]
    },
    {
      "cell_type": "code",
      "execution_count": 35,
      "metadata": {
        "id": "V6R-r_iLiIAQ"
      },
      "outputs": [],
      "source": [
        "# use the classifier on the testing data to make predictions - think carefully which X you should use\n"
      ]
    },
    {
      "cell_type": "code",
      "execution_count": 36,
      "metadata": {
        "id": "Ju8etkodzQSv"
      },
      "outputs": [],
      "source": [
        "#get predicted probabilities for the main class\n",
        "y_pred_probs = ann_clf.predict_proba(X_test_norm)\n",
        "y_pred_probs = y_pred_probs[:, 1]"
      ]
    },
    {
      "cell_type": "markdown",
      "metadata": {
        "id": "PCEXEkQPzXw4"
      },
      "source": [
        "**Your task: Run and interpret the results below**"
      ]
    },
    {
      "cell_type": "code",
      "execution_count": 37,
      "metadata": {
        "colab": {
          "base_uri": "https://localhost:8080/"
        },
        "id": "Na-46wR3Fj5V",
        "outputId": "0bb51434-575e-4024-c3c7-42d5b793b999"
      },
      "outputs": [
        {
          "name": "stdout",
          "output_type": "stream",
          "text": [
            "[[139   8]\n",
            " [ 14  49]]\n",
            "              precision    recall  f1-score   support\n",
            "\n",
            "           0       0.91      0.95      0.93       147\n",
            "           1       0.86      0.78      0.82        63\n",
            "\n",
            "    accuracy                           0.90       210\n",
            "   macro avg       0.88      0.86      0.87       210\n",
            "weighted avg       0.89      0.90      0.89       210\n",
            "\n"
          ]
        }
      ],
      "source": [
        "#print confusion matrix and evaluation report\n",
        "cm=confusion_matrix(y_test, y_pred)\n",
        "print(cm)\n",
        "print(classification_report(y_test, y_pred))"
      ]
    },
    {
      "cell_type": "code",
      "execution_count": 38,
      "metadata": {
        "colab": {
          "base_uri": "https://localhost:8080/",
          "height": 391
        },
        "id": "ukVi25IEi3nJ",
        "outputId": "85c1a89b-52db-41dc-c4a4-443cdd4711f0"
      },
      "outputs": [
        {
          "data": {
            "image/png": "[encoded data removed]",
            "text/plain": [
              "<Figure size 500x400 with 2 Axes>"
            ]
          },
          "metadata": {},
          "output_type": "display_data"
        }
      ],
      "source": [
        "# Display confusion matrix\n",
        "df_cm = pd.DataFrame(cm, index=['Actual Negative', 'Actual Positive'], columns=['Predicted Negative', 'Predicted Positive'])\n",
        "plt.figure(figsize=(5,4))\n",
        "plt.title('Confusion Matrix')\n",
        "sns.heatmap(df_cm, annot=True, cmap='Blues', fmt='g')\n",
        "plt.show()"
      ]
    },
    {
      "cell_type": "markdown",
      "metadata": {
        "id": "pWgPby900Qa8"
      },
      "source": [
        "**Your task: Interpret the outcomes below**"
      ]
    },
    {
      "cell_type": "code",
      "execution_count": 39,
      "metadata": {
        "colab": {
          "base_uri": "https://localhost:8080/",
          "height": 898
        },
        "id": "Yw2pwSYVjVpD",
        "outputId": "961cb295-ac2c-4c91-bfa6-cf9dd96e2ac7"
      },
      "outputs": [
        {
          "name": "stdout",
          "output_type": "stream",
          "text": [
            "AUC: 0.934\n"
          ]
        },
        {
          "data": {
            "image/png": "[encoded data removed]",
            "text/plain": [
              "<Figure size 640x480 with 1 Axes>"
            ]
          },
          "metadata": {},
          "output_type": "display_data"
        },
        {
          "data": {
            "image/png": "[encoded data removed]",
            "text/plain": [
              "<Figure size 640x480 with 2 Axes>"
            ]
          },
          "metadata": {},
          "output_type": "display_data"
        }
      ],
      "source": [
        "#import classes to display RocCurve and Confusion Matrix, read example from the website and try on your own\n",
        "from sklearn.metrics import RocCurveDisplay\n",
        "from sklearn.metrics import ConfusionMatrixDisplay\n",
        "\n",
        "fpr_mlp, tpr_mlp, thresholds = roc_curve(y_test, y_pred_probs)\n",
        "auc_mlp=metrics.auc(fpr_mlp, tpr_mlp)\n",
        "print('AUC:', '%.3f' % auc_mlp)\n",
        "\n",
        "#RocCurveDisplay.from_estimator(logreg,X_test, y_test)\n",
        "RocCurveDisplay.from_predictions(y_test, y_pred_probs)\n",
        "ConfusionMatrixDisplay.from_predictions(y_test, y_pred)\n",
        "plt.show()\n",
        "\n"
      ]
    },
    {
      "cell_type": "code",
      "execution_count": null,
      "metadata": {
        "colab": {
          "base_uri": "https://localhost:8080/",
          "height": 363
        },
        "id": "2HEMoFLxiYRZ",
        "outputId": "3b8d379b-42bd-416c-9549-a10c2008396c"
      },
      "outputs": [
        {
          "data": {
            "text/html": [
              "\n",
              "  <div id=\"df-8c8be526-e2fa-42b3-9962-e785f099ecee\">\n",
              "    <div class=\"colab-df-container\">\n",
              "      <div>\n",
              "<style scoped>\n",
              "    .dataframe tbody tr th:only-of-type {\n",
              "        vertical-align: middle;\n",
              "    }\n",
              "\n",
              "    .dataframe tbody tr th {\n",
              "        vertical-align: top;\n",
              "    }\n",
              "\n",
              "    .dataframe thead th {\n",
              "        text-align: right;\n",
              "    }\n",
              "</style>\n",
              "<table border=\"1\" class=\"dataframe\">\n",
              "  <thead>\n",
              "    <tr style=\"text-align: right;\">\n",
              "      <th></th>\n",
              "      <th>V1</th>\n",
              "      <th>V2</th>\n",
              "      <th>V7</th>\n",
              "      <th>V8</th>\n",
              "      <th>V9</th>\n",
              "      <th>Actual</th>\n",
              "      <th>Predicted</th>\n",
              "      <th>Probability: %5.3f</th>\n",
              "    </tr>\n",
              "  </thead>\n",
              "  <tbody>\n",
              "    <tr>\n",
              "      <th>121</th>\n",
              "      <td>5</td>\n",
              "      <td>5</td>\n",
              "      <td>7</td>\n",
              "      <td>3</td>\n",
              "      <td>7</td>\n",
              "      <td>1</td>\n",
              "      <td>0</td>\n",
              "      <td>0.470559</td>\n",
              "    </tr>\n",
              "    <tr>\n",
              "      <th>162</th>\n",
              "      <td>10</td>\n",
              "      <td>8</td>\n",
              "      <td>7</td>\n",
              "      <td>9</td>\n",
              "      <td>1</td>\n",
              "      <td>1</td>\n",
              "      <td>1</td>\n",
              "      <td>0.666424</td>\n",
              "    </tr>\n",
              "    <tr>\n",
              "      <th>288</th>\n",
              "      <td>5</td>\n",
              "      <td>3</td>\n",
              "      <td>1</td>\n",
              "      <td>1</td>\n",
              "      <td>1</td>\n",
              "      <td>0</td>\n",
              "      <td>0</td>\n",
              "      <td>0.469973</td>\n",
              "    </tr>\n",
              "    <tr>\n",
              "      <th>335</th>\n",
              "      <td>1</td>\n",
              "      <td>1</td>\n",
              "      <td>1</td>\n",
              "      <td>1</td>\n",
              "      <td>1</td>\n",
              "      <td>0</td>\n",
              "      <td>0</td>\n",
              "      <td>0.350331</td>\n",
              "    </tr>\n",
              "    <tr>\n",
              "      <th>244</th>\n",
              "      <td>2</td>\n",
              "      <td>1</td>\n",
              "      <td>1</td>\n",
              "      <td>1</td>\n",
              "      <td>1</td>\n",
              "      <td>0</td>\n",
              "      <td>0</td>\n",
              "      <td>0.366391</td>\n",
              "    </tr>\n",
              "    <tr>\n",
              "      <th>582</th>\n",
              "      <td>2</td>\n",
              "      <td>1</td>\n",
              "      <td>3</td>\n",
              "      <td>1</td>\n",
              "      <td>1</td>\n",
              "      <td>0</td>\n",
              "      <td>0</td>\n",
              "      <td>0.387566</td>\n",
              "    </tr>\n",
              "    <tr>\n",
              "      <th>619</th>\n",
              "      <td>4</td>\n",
              "      <td>1</td>\n",
              "      <td>3</td>\n",
              "      <td>6</td>\n",
              "      <td>1</td>\n",
              "      <td>0</td>\n",
              "      <td>0</td>\n",
              "      <td>0.447778</td>\n",
              "    </tr>\n",
              "    <tr>\n",
              "      <th>566</th>\n",
              "      <td>1</td>\n",
              "      <td>1</td>\n",
              "      <td>3</td>\n",
              "      <td>2</td>\n",
              "      <td>1</td>\n",
              "      <td>0</td>\n",
              "      <td>0</td>\n",
              "      <td>0.379406</td>\n",
              "    </tr>\n",
              "    <tr>\n",
              "      <th>110</th>\n",
              "      <td>8</td>\n",
              "      <td>8</td>\n",
              "      <td>6</td>\n",
              "      <td>10</td>\n",
              "      <td>1</td>\n",
              "      <td>1</td>\n",
              "      <td>1</td>\n",
              "      <td>0.646968</td>\n",
              "    </tr>\n",
              "    <tr>\n",
              "      <th>136</th>\n",
              "      <td>10</td>\n",
              "      <td>10</td>\n",
              "      <td>7</td>\n",
              "      <td>10</td>\n",
              "      <td>1</td>\n",
              "      <td>1</td>\n",
              "      <td>1</td>\n",
              "      <td>0.690678</td>\n",
              "    </tr>\n",
              "  </tbody>\n",
              "</table>\n",
              "</div>\n",
              "      <button class=\"colab-df-convert\" onclick=\"convertToInteractive('df-8c8be526-e2fa-42b3-9962-e785f099ecee')\"\n",
              "              title=\"Convert this dataframe to an interactive table.\"\n",
              "              style=\"display:none;\">\n",
              "        \n",
              "  <svg xmlns=\"http://www.w3.org/2000/svg\" height=\"24px\"viewBox=\"0 0 24 24\"\n",
              "       width=\"24px\">\n",
              "    <path d=\"M0 0h24v24H0V0z\" fill=\"none\"/>\n",
              "    <path d=\"M18.56 5.44l.94 2.06.94-2.06 2.06-.94-2.06-.94-.94-2.06-.94 2.06-2.06.94zm-11 1L8.5 8.5l.94-2.06 2.06-.94-2.06-.94L8.5 2.5l-.94 2.06-2.06.94zm10 10l.94 2.06.94-2.06 2.06-.94-2.06-.94-.94-2.06-.94 2.06-2.06.94z\"/><path d=\"M17.41 7.96l-1.37-1.37c-.4-.4-.92-.59-1.43-.59-.52 0-1.04.2-1.43.59L10.3 9.45l-7.72 7.72c-.78.78-.78 2.05 0 2.83L4 21.41c.39.39.9.59 1.41.59.51 0 1.02-.2 1.41-.59l7.78-7.78 2.81-2.81c.8-.78.8-2.07 0-2.86zM5.41 20L4 18.59l7.72-7.72 1.47 1.35L5.41 20z\"/>\n",
              "  </svg>\n",
              "      </button>\n",
              "      \n",
              "  <style>\n",
              "    .colab-df-container {\n",
              "      display:flex;\n",
              "      flex-wrap:wrap;\n",
              "      gap: 12px;\n",
              "    }\n",
              "\n",
              "    .colab-df-convert {\n",
              "      background-color: #E8F0FE;\n",
              "      border: none;\n",
              "      border-radius: 50%;\n",
              "      cursor: pointer;\n",
              "      display: none;\n",
              "      fill: #1967D2;\n",
              "      height: 32px;\n",
              "      padding: 0 0 0 0;\n",
              "      width: 32px;\n",
              "    }\n",
              "\n",
              "    .colab-df-convert:hover {\n",
              "      background-color: #E2EBFA;\n",
              "      box-shadow: 0px 1px 2px rgba(60, 64, 67, 0.3), 0px 1px 3px 1px rgba(60, 64, 67, 0.15);\n",
              "      fill: #174EA6;\n",
              "    }\n",
              "\n",
              "    [theme=dark] .colab-df-convert {\n",
              "      background-color: #3B4455;\n",
              "      fill: #D2E3FC;\n",
              "    }\n",
              "\n",
              "    [theme=dark] .colab-df-convert:hover {\n",
              "      background-color: #434B5C;\n",
              "      box-shadow: 0px 1px 3px 1px rgba(0, 0, 0, 0.15);\n",
              "      filter: drop-shadow(0px 1px 2px rgba(0, 0, 0, 0.3));\n",
              "      fill: #FFFFFF;\n",
              "    }\n",
              "  </style>\n",
              "\n",
              "      <script>\n",
              "        const buttonEl =\n",
              "          document.querySelector('#df-8c8be526-e2fa-42b3-9962-e785f099ecee button.colab-df-convert');\n",
              "        buttonEl.style.display =\n",
              "          google.colab.kernel.accessAllowed ? 'block' : 'none';\n",
              "\n",
              "        async function convertToInteractive(key) {\n",
              "          const element = document.querySelector('#df-8c8be526-e2fa-42b3-9962-e785f099ecee');\n",
              "          const dataTable =\n",
              "            await google.colab.kernel.invokeFunction('convertToInteractive',\n",
              "                                                     [key], {});\n",
              "          if (!dataTable) return;\n",
              "\n",
              "          const docLinkHtml = 'Like what you see? Visit the ' +\n",
              "            '<a target=\"_blank\" href=https://colab.research.google.com/notebooks/data_table.ipynb>data table notebook</a>'\n",
              "            + ' to learn more about interactive tables.';\n",
              "          element.innerHTML = '';\n",
              "          dataTable['output_type'] = 'display_data';\n",
              "          await google.colab.output.renderOutput(dataTable, element);\n",
              "          const docLink = document.createElement('div');\n",
              "          docLink.innerHTML = docLinkHtml;\n",
              "          element.appendChild(docLink);\n",
              "        }\n",
              "      </script>\n",
              "    </div>\n",
              "  </div>\n",
              "  "
            ],
            "text/plain": [
              "     V1  V2  V7  V8  V9  Actual  Predicted  Probability: %5.3f\n",
              "121   5   5   7   3   7       1          0            0.470559\n",
              "162  10   8   7   9   1       1          1            0.666424\n",
              "288   5   3   1   1   1       0          0            0.469973\n",
              "335   1   1   1   1   1       0          0            0.350331\n",
              "244   2   1   1   1   1       0          0            0.366391\n",
              "582   2   1   3   1   1       0          0            0.387566\n",
              "619   4   1   3   6   1       0          0            0.447778\n",
              "566   1   1   3   2   1       0          0            0.379406\n",
              "110   8   8   6  10   1       1          1            0.646968\n",
              "136  10  10   7  10   1       1          1            0.690678"
            ]
          },
          "execution_count": 42,
          "metadata": {},
          "output_type": "execute_result"
        }
      ],
      "source": [
        "inspection=pd.DataFrame({'Actual':y_test, 'Predicted':y_pred, f'Probability: %5.3f':y_pred_probs})\n",
        "inspection=pd.concat([X_test,inspection], axis=1)\n",
        "inspection.sample(10)"
      ]
    },
    {
      "cell_type": "markdown",
      "metadata": {
        "id": "YkBEHRcWnh5Q"
      },
      "source": [
        "## **1.7 A brief Intro to Keras**\n",
        "scikit-learn's MLP and Keras are popular libraries for building and training artificial neural networks (ANNs) in Python. \n",
        "\n",
        "Scikit-learn's MLP has a simpler and more straightforward API compared to Keras. Keras has a more complex and flexible API, which allows you to build models using a variety of functional and sequential APIs.\n",
        "\n",
        "Scikit-learn's MLP supports only fully connected feedforward neural networks. Keras supports a wider range of architectures including convolutional neural networks (CNNs), recurrent neural networks (RNNs), and more. Keras is built on top of TensorFlow, which allows you to use GPUs and TPUs for faster computation, especially when working with large datasets or complex models. \n",
        "\n",
        "Scikit-learn's MLP is designed to be easy to use, especially for beginners who are new to deep learning. Keras, on the other hand, requires more expertise and knowledge of deep learning concepts, but it provides more flexibility and control over the model."
      ]
    },
    {
      "cell_type": "code",
      "execution_count": null,
      "metadata": {
        "id": "0XPd-t7qiJ-2"
      },
      "outputs": [],
      "source": [
        "from tensorflow.keras.models import Sequential\n",
        "from tensorflow.keras.layers import Dense\n",
        "from tensorflow.keras.callbacks import EarlyStopping"
      ]
    },
    {
      "cell_type": "code",
      "execution_count": null,
      "metadata": {
        "colab": {
          "base_uri": "https://localhost:8080/"
        },
        "id": "UHoyywSyLD5h",
        "outputId": "e210b5e4-6214-4521-b69e-036c83c4509c"
      },
      "outputs": [
        {
          "name": "stdout",
          "output_type": "stream",
          "text": [
            "(489, 5)\n",
            "(489,)\n",
            "(210, 5)\n",
            "(210,)\n"
          ]
        }
      ],
      "source": [
        "# Split dataset into training set and test set\n",
        "X_train, X_test, y_train, y_test = train_test_split(X, y, test_size=0.3, stratify=y, random_state=2023)  # 80% training and 20% testing \n",
        "\n",
        "#inspect the split datasets\n",
        "print(X_train.shape)\n",
        "print(y_train.shape)\n",
        "print(X_test.shape)\n",
        "print(y_test.shape)"
      ]
    },
    {
      "cell_type": "code",
      "execution_count": null,
      "metadata": {
        "id": "8nUCmGE3ns-H"
      },
      "outputs": [],
      "source": [
        "# Standardize data\n",
        "scaler = StandardScaler()\n",
        "X_train_norm = scaler.fit_transform(X_train)\n",
        "X_test_norm = scaler.fit_transform(X_test)"
      ]
    },
    {
      "cell_type": "code",
      "execution_count": null,
      "metadata": {
        "id": "T5DctZLnn1-8"
      },
      "outputs": [],
      "source": [
        "# Construct the ANN model structure\n",
        "model = Sequential()\n",
        "model.add(Dense(32, activation='relu', input_shape=(X_train_norm.shape[1],)))\n",
        "model.add(Dense(16, activation='relu'))\n",
        "model.add(Dense(1, activation='sigmoid'))\n",
        "\n",
        "# Compile model\n",
        "model.compile(loss='binary_crossentropy', optimizer='adam', metrics=['accuracy'])"
      ]
    },
    {
      "cell_type": "code",
      "execution_count": null,
      "metadata": {
        "id": "C4DSKBcMn2pI"
      },
      "outputs": [],
      "source": [
        "# Train model\n",
        "early_stopping = EarlyStopping(patience=5, monitor='val_loss')\n",
        "model.fit(X_train_norm, y_train, validation_split=0.2, epochs=50, batch_size=32, callbacks=[early_stopping])\n"
      ]
    },
    {
      "cell_type": "code",
      "execution_count": null,
      "metadata": {
        "colab": {
          "base_uri": "https://localhost:8080/"
        },
        "id": "hfjSFfH0n8EC",
        "outputId": "d8faff65-bd87-4df9-a645-80f0b8acd562"
      },
      "outputs": [
        {
          "name": "stdout",
          "output_type": "stream",
          "text": [
            "7/7 [==============================] - 0s 2ms/step\n"
          ]
        }
      ],
      "source": [
        "# Predict test data labels\n",
        "y_pred_probs = model.predict(X_test_norm)\n",
        "y_pred = (y_pred_probs > 0.5)"
      ]
    },
    {
      "cell_type": "code",
      "execution_count": null,
      "metadata": {
        "colab": {
          "base_uri": "https://localhost:8080/"
        },
        "id": "23cVbzzuoDGR",
        "outputId": "5e7bbdf2-224b-4722-fa08-f086e0329f61"
      },
      "outputs": [
        {
          "name": "stdout",
          "output_type": "stream",
          "text": [
            "[[142   5]\n",
            " [  3  60]]\n",
            "              precision    recall  f1-score   support\n",
            "\n",
            "           0       0.98      0.97      0.97       147\n",
            "           1       0.92      0.95      0.94        63\n",
            "\n",
            "    accuracy                           0.96       210\n",
            "   macro avg       0.95      0.96      0.96       210\n",
            "weighted avg       0.96      0.96      0.96       210\n",
            "\n"
          ]
        }
      ],
      "source": [
        "#print confusion matrix and evaluation report\n",
        "from sklearn.metrics import classification_report, confusion_matrix\n",
        "cm_keras=confusion_matrix(y_test, y_pred)\n",
        "print(confusion_matrix(y_test, y_pred))\n",
        "print(classification_report(y_test, y_pred))"
      ]
    },
    {
      "cell_type": "code",
      "execution_count": null,
      "metadata": {
        "colab": {
          "base_uri": "https://localhost:8080/",
          "height": 391
        },
        "id": "cGW7smbIn_WK",
        "outputId": "f2fcb44c-0433-4b1e-db36-a23ba9a5dea6"
      },
      "outputs": [
        {
          "data": {
            "image/png": "[encoded data removed]",
            "text/plain": [
              "<Figure size 500x400 with 2 Axes>"
            ]
          },
          "metadata": {},
          "output_type": "display_data"
        }
      ],
      "source": [
        "\n",
        "# Display confusion matrix\n",
        "df_cm = pd.DataFrame(cm_keras, index=['Actual Negative', 'Actual Positive'], columns=['Predicted Negative', 'Predicted Positive'])\n",
        "plt.figure(figsize=(5,4))\n",
        "plt.title('Confusion Matrix')\n",
        "sns.heatmap(df_cm, annot=True, cmap='Blues', fmt='g')\n",
        "plt.show()"
      ]
    },
    {
      "cell_type": "code",
      "execution_count": null,
      "metadata": {
        "colab": {
          "base_uri": "https://localhost:8080/",
          "height": 899
        },
        "id": "goX-SEAQoI0c",
        "outputId": "4a28350b-c677-4078-bffe-7abc36a2797f"
      },
      "outputs": [
        {
          "name": "stdout",
          "output_type": "stream",
          "text": [
            "AUC: 0.991\n"
          ]
        },
        {
          "data": {
            "image/png": "[encoded data removed]",
            "text/plain": [
              "<Figure size 640x480 with 1 Axes>"
            ]
          },
          "metadata": {},
          "output_type": "display_data"
        },
        {
          "data": {
            "image/png": "[encoded data removed]",
            "text/plain": [
              "<Figure size 640x480 with 2 Axes>"
            ]
          },
          "metadata": {},
          "output_type": "display_data"
        }
      ],
      "source": [
        "#Calculate AUC for the keras model\n",
        "fpr_keras, tpr_keras, thresholds = roc_curve(y_test, y_pred_probs_keras)\n",
        "auc_keras=metrics.auc(fpr_keras, tpr_keras)\n",
        "print('AUC:', '%.3f' % auc_keras)\n",
        "\n",
        "#RocCurveDisplay.from_estimator(logreg,X_test, y_test)\n",
        "RocCurveDisplay.from_predictions(y_test, y_pred_probs_keras)\n",
        "ConfusionMatrixDisplay.from_predictions(y_test, y_pred_keras)\n",
        "plt.show()"
      ]
    },
    {
      "cell_type": "markdown",
      "metadata": {
        "id": "OjCdijXSP_J2"
      },
      "source": [
        "## **1.8 Model comparison**"
      ]
    },
    {
      "cell_type": "code",
      "execution_count": null,
      "metadata": {
        "id": "nNZepI7gQE_S"
      },
      "outputs": [],
      "source": [
        "# calculate performance metrics for ann_clf\n",
        "accuracy_mlp = accuracy_score(y_test, y_pred)\n",
        "precision_mlp = precision_score(y_test, y_pred)\n",
        "recall_mlp = recall_score(y_test, y_pred)\n",
        "f1_mlp = f1_score(y_test, y_pred)\n",
        "\n",
        "print('MLP Accuracy: ','%.2f' % accuracy_mlp)\n",
        "print('MLP Precision: ', '%.2f' % precision_mlp)\n",
        "print('MLP Recall: ',  '%.2f' % recall_mlp)\n",
        "print('MLP F1 :',  '%.2f' % f1_mlp)"
      ]
    },
    {
      "cell_type": "code",
      "execution_count": null,
      "metadata": {
        "id": "NK9llONnQXv0"
      },
      "outputs": [],
      "source": [
        "#Write your own code to calculate performance metrics for the keras mlp and print them out"
      ]
    },
    {
      "cell_type": "code",
      "execution_count": null,
      "metadata": {
        "id": "2Yq-mBxAQqRP"
      },
      "outputs": [],
      "source": [
        "#write our code to get fpr_mlp, tpr_mlp and fpr_keras, tpr_keras"
      ]
    },
    {
      "cell_type": "code",
      "execution_count": null,
      "metadata": {
        "id": "_XZPFtHlQpQI"
      },
      "outputs": [],
      "source": [
        "# Plot ROC curves\n",
        "plt.figure(figsize=(8, 6))\n",
        "plt.plot(fpr_mlp, tpr_mlp, color='darkorange', lw=2, label='scikit-learn MLP (AUC = %0.2f)' % auc_mlp)\n",
        "plt.plot(fpr_keras, tpr_keras, color='navy', lw=2, label='Keras MLP (AUC = %0.2f)' % auc_keras)\n",
        "plt.plot([0, 1], [0, 1], color='gray', lw=1, linestyle='--')\n",
        "plt.xlim([0.0, 1.0])\n",
        "plt.ylim([0.0, 1.05])\n",
        "plt.xlabel('False Positive Rate')\n",
        "plt.ylabel('True Positive Rate')\n",
        "plt.title('Receiver operating characteristic')\n",
        "plt.legend(loc=\"lower right\")\n",
        "plt.show()\n",
        "\n",
        "# Compute and print AUC\n",
        "print('scikit-learn MLP AUC:','%.2f' %  auc_mlp)\n",
        "print('Keras MLP AUC:', '%.2f' %auc_keras)"
      ]
    },
    {
      "cell_type": "markdown",
      "metadata": {
        "id": "-tquMENACBcA"
      },
      "source": [
        "# **2. Case Two: Health insurance**\n",
        "\n",
        "**MLP regression**\n",
        "\n",
        "https://www.kaggle.com/datasets/mirichoi0218/insurance \n",
        "\n",
        "**Context**\n",
        "Machine Learning with R by Brett Lantz is a book that provides an introduction to machine learning using R. As far as I can tell, Packt Publishing does not make its datasets available online unless you buy the book and create a user account which can be a problem if you are checking the book out from the library or borrowing the book from a friend. All of these datasets are in the public domain but simply needed some cleaning up and recoding to match the format in the book.\n",
        "\n",
        "Content - Columns\n",
        "\n",
        "* age: age of primary beneficiary\n",
        "\n",
        "* sex: insurance contractor gender, female, male\n",
        "\n",
        "* bmi: Body mass index, providing an understanding of body, weights that are relatively high or low relative to height,\n",
        "objective index of body weight (kg / m ^ 2) using the ratio of height to weight, ideally 18.5 to 24.9\n",
        "\n",
        "* children: Number of children covered by health insurance / Number of dependents\n",
        "\n",
        "* smoker: Smoking\n",
        "\n",
        "* region: the beneficiary's residential area in the US, northeast, southeast, southwest, northwest.\n",
        "\n",
        "* charges: Individual medical costs billed by health insurance\n",
        "\n",
        "**Acknowledgements**\n",
        "The dataset is available on GitHub here.\n",
        "\n",
        "**Inspiration**\n",
        "Can you accurately predict insurance costs?\n",
        "\n"
      ]
    },
    {
      "cell_type": "markdown",
      "metadata": {
        "id": "e2wju-8wynqR"
      },
      "source": [
        "# **Using ANN for regression problems**\n",
        "\n",
        "Read about MLP regressors at:\n",
        "https://scikit-learn.org/stable/modules/generated/sklearn.neural_network.MLPRegressor.html#sklearn.neural_network.MLPRegressor\n",
        "\n",
        "Train Test Split:\n",
        "https://scikit-learn.org/stable/modules/generated/sklearn.model_selection.train_test_split.html?highlight=train_test_split#sklearn.model_selection.train_test_split"
      ]
    },
    {
      "cell_type": "markdown",
      "metadata": {
        "id": "BU71teG1dpmW"
      },
      "source": [
        "## **2.1 Loadding data**"
      ]
    },
    {
      "cell_type": "code",
      "execution_count": 44,
      "metadata": {
        "id": "krhPWsq5yr9d"
      },
      "outputs": [],
      "source": [
        "url='https://raw.githubusercontent.com/VanLan0/MIS710/main/insurance.csv'"
      ]
    },
    {
      "cell_type": "code",
      "execution_count": 45,
      "metadata": {
        "colab": {
          "base_uri": "https://localhost:8080/",
          "height": 206
        },
        "id": "u--5Oupwyugh",
        "outputId": "25a534d0-cca5-4a0d-b505-08e5e72fd8b3"
      },
      "outputs": [
        {
          "data": {
            "text/html": [
              "\n",
              "  <div id=\"df-aa2d7fcc-9980-41ed-a1ca-476eb70a6df7\">\n",
              "    <div class=\"colab-df-container\">\n",
              "      <div>\n",
              "<style scoped>\n",
              "    .dataframe tbody tr th:only-of-type {\n",
              "        vertical-align: middle;\n",
              "    }\n",
              "\n",
              "    .dataframe tbody tr th {\n",
              "        vertical-align: top;\n",
              "    }\n",
              "\n",
              "    .dataframe thead th {\n",
              "        text-align: right;\n",
              "    }\n",
              "</style>\n",
              "<table border=\"1\" class=\"dataframe\">\n",
              "  <thead>\n",
              "    <tr style=\"text-align: right;\">\n",
              "      <th></th>\n",
              "      <th>age</th>\n",
              "      <th>sex</th>\n",
              "      <th>bmi</th>\n",
              "      <th>dependants</th>\n",
              "      <th>smoker</th>\n",
              "      <th>region</th>\n",
              "      <th>charges</th>\n",
              "    </tr>\n",
              "  </thead>\n",
              "  <tbody>\n",
              "    <tr>\n",
              "      <th>0</th>\n",
              "      <td>19</td>\n",
              "      <td>female</td>\n",
              "      <td>27.900</td>\n",
              "      <td>0</td>\n",
              "      <td>yes</td>\n",
              "      <td>southwest</td>\n",
              "      <td>16884.92400</td>\n",
              "    </tr>\n",
              "    <tr>\n",
              "      <th>1</th>\n",
              "      <td>18</td>\n",
              "      <td>male</td>\n",
              "      <td>33.770</td>\n",
              "      <td>1</td>\n",
              "      <td>no</td>\n",
              "      <td>southeast</td>\n",
              "      <td>1725.55230</td>\n",
              "    </tr>\n",
              "    <tr>\n",
              "      <th>2</th>\n",
              "      <td>28</td>\n",
              "      <td>male</td>\n",
              "      <td>33.000</td>\n",
              "      <td>3</td>\n",
              "      <td>no</td>\n",
              "      <td>southeast</td>\n",
              "      <td>4449.46200</td>\n",
              "    </tr>\n",
              "    <tr>\n",
              "      <th>3</th>\n",
              "      <td>33</td>\n",
              "      <td>male</td>\n",
              "      <td>22.705</td>\n",
              "      <td>0</td>\n",
              "      <td>no</td>\n",
              "      <td>northwest</td>\n",
              "      <td>21984.47061</td>\n",
              "    </tr>\n",
              "    <tr>\n",
              "      <th>4</th>\n",
              "      <td>32</td>\n",
              "      <td>male</td>\n",
              "      <td>28.880</td>\n",
              "      <td>0</td>\n",
              "      <td>no</td>\n",
              "      <td>northwest</td>\n",
              "      <td>3866.85520</td>\n",
              "    </tr>\n",
              "  </tbody>\n",
              "</table>\n",
              "</div>\n",
              "      <button class=\"colab-df-convert\" onclick=\"convertToInteractive('df-aa2d7fcc-9980-41ed-a1ca-476eb70a6df7')\"\n",
              "              title=\"Convert this dataframe to an interactive table.\"\n",
              "              style=\"display:none;\">\n",
              "        \n",
              "  <svg xmlns=\"http://www.w3.org/2000/svg\" height=\"24px\"viewBox=\"0 0 24 24\"\n",
              "       width=\"24px\">\n",
              "    <path d=\"M0 0h24v24H0V0z\" fill=\"none\"/>\n",
              "    <path d=\"M18.56 5.44l.94 2.06.94-2.06 2.06-.94-2.06-.94-.94-2.06-.94 2.06-2.06.94zm-11 1L8.5 8.5l.94-2.06 2.06-.94-2.06-.94L8.5 2.5l-.94 2.06-2.06.94zm10 10l.94 2.06.94-2.06 2.06-.94-2.06-.94-.94-2.06-.94 2.06-2.06.94z\"/><path d=\"M17.41 7.96l-1.37-1.37c-.4-.4-.92-.59-1.43-.59-.52 0-1.04.2-1.43.59L10.3 9.45l-7.72 7.72c-.78.78-.78 2.05 0 2.83L4 21.41c.39.39.9.59 1.41.59.51 0 1.02-.2 1.41-.59l7.78-7.78 2.81-2.81c.8-.78.8-2.07 0-2.86zM5.41 20L4 18.59l7.72-7.72 1.47 1.35L5.41 20z\"/>\n",
              "  </svg>\n",
              "      </button>\n",
              "      \n",
              "  <style>\n",
              "    .colab-df-container {\n",
              "      display:flex;\n",
              "      flex-wrap:wrap;\n",
              "      gap: 12px;\n",
              "    }\n",
              "\n",
              "    .colab-df-convert {\n",
              "      background-color: #E8F0FE;\n",
              "      border: none;\n",
              "      border-radius: 50%;\n",
              "      cursor: pointer;\n",
              "      display: none;\n",
              "      fill: #1967D2;\n",
              "      height: 32px;\n",
              "      padding: 0 0 0 0;\n",
              "      width: 32px;\n",
              "    }\n",
              "\n",
              "    .colab-df-convert:hover {\n",
              "      background-color: #E2EBFA;\n",
              "      box-shadow: 0px 1px 2px rgba(60, 64, 67, 0.3), 0px 1px 3px 1px rgba(60, 64, 67, 0.15);\n",
              "      fill: #174EA6;\n",
              "    }\n",
              "\n",
              "    [theme=dark] .colab-df-convert {\n",
              "      background-color: #3B4455;\n",
              "      fill: #D2E3FC;\n",
              "    }\n",
              "\n",
              "    [theme=dark] .colab-df-convert:hover {\n",
              "      background-color: #434B5C;\n",
              "      box-shadow: 0px 1px 3px 1px rgba(0, 0, 0, 0.15);\n",
              "      filter: drop-shadow(0px 1px 2px rgba(0, 0, 0, 0.3));\n",
              "      fill: #FFFFFF;\n",
              "    }\n",
              "  </style>\n",
              "\n",
              "      <script>\n",
              "        const buttonEl =\n",
              "          document.querySelector('#df-aa2d7fcc-9980-41ed-a1ca-476eb70a6df7 button.colab-df-convert');\n",
              "        buttonEl.style.display =\n",
              "          google.colab.kernel.accessAllowed ? 'block' : 'none';\n",
              "\n",
              "        async function convertToInteractive(key) {\n",
              "          const element = document.querySelector('#df-aa2d7fcc-9980-41ed-a1ca-476eb70a6df7');\n",
              "          const dataTable =\n",
              "            await google.colab.kernel.invokeFunction('convertToInteractive',\n",
              "                                                     [key], {});\n",
              "          if (!dataTable) return;\n",
              "\n",
              "          const docLinkHtml = 'Like what you see? Visit the ' +\n",
              "            '<a target=\"_blank\" href=https://colab.research.google.com/notebooks/data_table.ipynb>data table notebook</a>'\n",
              "            + ' to learn more about interactive tables.';\n",
              "          element.innerHTML = '';\n",
              "          dataTable['output_type'] = 'display_data';\n",
              "          await google.colab.output.renderOutput(dataTable, element);\n",
              "          const docLink = document.createElement('div');\n",
              "          docLink.innerHTML = docLinkHtml;\n",
              "          element.appendChild(docLink);\n",
              "        }\n",
              "      </script>\n",
              "    </div>\n",
              "  </div>\n",
              "  "
            ],
            "text/plain": [
              "   age     sex     bmi  dependants smoker     region      charges\n",
              "0   19  female  27.900           0    yes  southwest  16884.92400\n",
              "1   18    male  33.770           1     no  southeast   1725.55230\n",
              "2   28    male  33.000           3     no  southeast   4449.46200\n",
              "3   33    male  22.705           0     no  northwest  21984.47061\n",
              "4   32    male  28.880           0     no  northwest   3866.85520"
            ]
          },
          "execution_count": 45,
          "metadata": {},
          "output_type": "execute_result"
        }
      ],
      "source": [
        "#loading data\n",
        "records = pd.read_csv(url)\n",
        "records.head()"
      ]
    },
    {
      "cell_type": "markdown",
      "metadata": {
        "id": "08pat59qduSW"
      },
      "source": [
        "## **2.2 Cleansing and preprocessing data**"
      ]
    },
    {
      "cell_type": "code",
      "execution_count": null,
      "metadata": {
        "colab": {
          "base_uri": "https://localhost:8080/"
        },
        "id": "n-z9fRtX7Ir9",
        "outputId": "f2703632-e054-4325-c12f-4c7014abce63"
      },
      "outputs": [
        {
          "name": "stdout",
          "output_type": "stream",
          "text": [
            "age           0\n",
            "sex           0\n",
            "bmi           0\n",
            "dependants    0\n",
            "smoker        0\n",
            "region        0\n",
            "charges       0\n",
            "dtype: int64\n"
          ]
        }
      ],
      "source": [
        "#Inspect missing data\n"
      ]
    },
    {
      "cell_type": "code",
      "execution_count": 46,
      "metadata": {
        "colab": {
          "base_uri": "https://localhost:8080/"
        },
        "id": "IlysE2Vd7YBw",
        "outputId": "f7ffb358-f586-4dce-e9cb-b23e8ac1926a"
      },
      "outputs": [
        {
          "name": "stdout",
          "output_type": "stream",
          "text": [
            "<class 'pandas.core.frame.DataFrame'>\n",
            "RangeIndex: 1338 entries, 0 to 1337\n",
            "Data columns (total 9 columns):\n",
            " #   Column            Non-Null Count  Dtype  \n",
            "---  ------            --------------  -----  \n",
            " 0   age               1338 non-null   int64  \n",
            " 1   bmi               1338 non-null   float64\n",
            " 2   dependants        1338 non-null   int64  \n",
            " 3   charges           1338 non-null   float64\n",
            " 4   sex_male          1338 non-null   uint8  \n",
            " 5   smoker_yes        1338 non-null   uint8  \n",
            " 6   region_northwest  1338 non-null   uint8  \n",
            " 7   region_southeast  1338 non-null   uint8  \n",
            " 8   region_southwest  1338 non-null   uint8  \n",
            "dtypes: float64(2), int64(2), uint8(5)\n",
            "memory usage: 48.5 KB\n",
            "None\n"
          ]
        }
      ],
      "source": [
        "#Convert categorical variables to numerical using get dummies\n",
        "\n",
        "print(records.info())\n"
      ]
    },
    {
      "cell_type": "code",
      "execution_count": 47,
      "metadata": {
        "id": "irt4C8V4cvC8"
      },
      "outputs": [],
      "source": [
        "records=records.rename(columns={'smoker_yes': 'smoker'})"
      ]
    },
    {
      "cell_type": "markdown",
      "metadata": {
        "id": "RZ5FNa9Nd2XS"
      },
      "source": [
        "## **2.3 EDA - Do it yourself**"
      ]
    },
    {
      "cell_type": "markdown",
      "metadata": {
        "id": "Q-L013KUh-9P"
      },
      "source": [
        "## **2.4 Data Preparation Splitting**"
      ]
    },
    {
      "cell_type": "markdown",
      "metadata": {
        "id": "K_qzZwoISGIj"
      },
      "source": [
        "### **Save file for future analyses**"
      ]
    },
    {
      "cell_type": "markdown",
      "metadata": {
        "id": "NmC36ntfSLQ1"
      },
      "source": [
        "Do it yourself\n",
        "* mount google drive\n",
        "* import io\n",
        "* save the records data frame to Insurance_processed.csv"
      ]
    },
    {
      "cell_type": "markdown",
      "metadata": {
        "id": "oYHod5vcPoB5"
      },
      "source": [
        "### **Feature selection**"
      ]
    },
    {
      "cell_type": "code",
      "execution_count": 48,
      "metadata": {
        "id": "pqWAXVcw7o9F"
      },
      "outputs": [],
      "source": [
        "X=records.drop('charges', axis=1)\n",
        "y=records['charges']"
      ]
    },
    {
      "cell_type": "markdown",
      "metadata": {
        "id": "eIIG9BPs-CcV"
      },
      "source": [
        "**Load libraries**"
      ]
    },
    {
      "cell_type": "code",
      "execution_count": 49,
      "metadata": {
        "id": "2dnVcVK_-EXx"
      },
      "outputs": [],
      "source": [
        "from sklearn.model_selection import train_test_split\n",
        "from sklearn.neural_network import MLPRegressor\n",
        "from sklearn.preprocessing import StandardScaler\n",
        "from sklearn.metrics import mean_squared_error, r2_score, mean_absolute_error\n"
      ]
    },
    {
      "cell_type": "code",
      "execution_count": 60,
      "metadata": {
        "id": "Pg7SzqrP-R1v"
      },
      "outputs": [],
      "source": [
        "# Split the dataset into training and testing sets, use test_size=0.2, random_state=2023)"
      ]
    },
    {
      "cell_type": "code",
      "execution_count": 61,
      "metadata": {
        "id": "UNB6OSmC7rlD"
      },
      "outputs": [],
      "source": [
        "# Normalize the X_train and X_norm data using StandardScaler\n",
        "scaler = StandardScaler()\n"
      ]
    },
    {
      "cell_type": "markdown",
      "metadata": {
        "id": "BYHIaVU4iGDI"
      },
      "source": [
        "## **2.5 Initialise and Train a MLPRegressor for the regression problem**"
      ]
    },
    {
      "cell_type": "code",
      "execution_count": 62,
      "metadata": {
        "colab": {
          "base_uri": "https://localhost:8080/",
          "height": 129
        },
        "id": "SUShoVPY-mI_",
        "outputId": "6097babf-3ed1-4a89-92a5-9c81e646ff86"
      },
      "outputs": [
        {
          "name": "stderr",
          "output_type": "stream",
          "text": [
            "/usr/local/lib/python3.9/dist-packages/sklearn/neural_network/_multilayer_perceptron.py:686: ConvergenceWarning: Stochastic Optimizer: Maximum iterations (1000) reached and the optimization hasn't converged yet.\n",
            "  warnings.warn(\n"
          ]
        },
        {
          "data": {
            "text/html": [
              "<style>#sk-container-id-6 {color: black;background-color: white;}#sk-container-id-6 pre{padding: 0;}#sk-container-id-6 div.sk-toggleable {background-color: white;}#sk-container-id-6 label.sk-toggleable__label {cursor: pointer;display: block;width: 100%;margin-bottom: 0;padding: 0.3em;box-sizing: border-box;text-align: center;}#sk-container-id-6 label.sk-toggleable__label-arrow:before {content: \"▸\";float: left;margin-right: 0.25em;color: #696969;}#sk-container-id-6 label.sk-toggleable__label-arrow:hover:before {color: black;}#sk-container-id-6 div.sk-estimator:hover label.sk-toggleable__label-arrow:before {color: black;}#sk-container-id-6 div.sk-toggleable__content {max-height: 0;max-width: 0;overflow: hidden;text-align: left;background-color: #f0f8ff;}#sk-container-id-6 div.sk-toggleable__content pre {margin: 0.2em;color: black;border-radius: 0.25em;background-color: #f0f8ff;}#sk-container-id-6 input.sk-toggleable__control:checked~div.sk-toggleable__content {max-height: 200px;max-width: 100%;overflow: auto;}#sk-container-id-6 input.sk-toggleable__control:checked~label.sk-toggleable__label-arrow:before {content: \"▾\";}#sk-container-id-6 div.sk-estimator input.sk-toggleable__control:checked~label.sk-toggleable__label {background-color: #d4ebff;}#sk-container-id-6 div.sk-label input.sk-toggleable__control:checked~label.sk-toggleable__label {background-color: #d4ebff;}#sk-container-id-6 input.sk-hidden--visually {border: 0;clip: rect(1px 1px 1px 1px);clip: rect(1px, 1px, 1px, 1px);height: 1px;margin: -1px;overflow: hidden;padding: 0;position: absolute;width: 1px;}#sk-container-id-6 div.sk-estimator {font-family: monospace;background-color: #f0f8ff;border: 1px dotted black;border-radius: 0.25em;box-sizing: border-box;margin-bottom: 0.5em;}#sk-container-id-6 div.sk-estimator:hover {background-color: #d4ebff;}#sk-container-id-6 div.sk-parallel-item::after {content: \"\";width: 100%;border-bottom: 1px solid gray;flex-grow: 1;}#sk-container-id-6 div.sk-label:hover label.sk-toggleable__label {background-color: #d4ebff;}#sk-container-id-6 div.sk-serial::before {content: \"\";position: absolute;border-left: 1px solid gray;box-sizing: border-box;top: 0;bottom: 0;left: 50%;z-index: 0;}#sk-container-id-6 div.sk-serial {display: flex;flex-direction: column;align-items: center;background-color: white;padding-right: 0.2em;padding-left: 0.2em;position: relative;}#sk-container-id-6 div.sk-item {position: relative;z-index: 1;}#sk-container-id-6 div.sk-parallel {display: flex;align-items: stretch;justify-content: center;background-color: white;position: relative;}#sk-container-id-6 div.sk-item::before, #sk-container-id-6 div.sk-parallel-item::before {content: \"\";position: absolute;border-left: 1px solid gray;box-sizing: border-box;top: 0;bottom: 0;left: 50%;z-index: -1;}#sk-container-id-6 div.sk-parallel-item {display: flex;flex-direction: column;z-index: 1;position: relative;background-color: white;}#sk-container-id-6 div.sk-parallel-item:first-child::after {align-self: flex-end;width: 50%;}#sk-container-id-6 div.sk-parallel-item:last-child::after {align-self: flex-start;width: 50%;}#sk-container-id-6 div.sk-parallel-item:only-child::after {width: 0;}#sk-container-id-6 div.sk-dashed-wrapped {border: 1px dashed gray;margin: 0 0.4em 0.5em 0.4em;box-sizing: border-box;padding-bottom: 0.4em;background-color: white;}#sk-container-id-6 div.sk-label label {font-family: monospace;font-weight: bold;display: inline-block;line-height: 1.2em;}#sk-container-id-6 div.sk-label-container {text-align: center;}#sk-container-id-6 div.sk-container {/* jupyter's `normalize.less` sets `[hidden] { display: none; }` but bootstrap.min.css set `[hidden] { display: none !important; }` so we also need the `!important` here to be able to override the default hidden behavior on the sphinx rendered scikit-learn.org. See: https://github.com/scikit-learn/scikit-learn/issues/21755 */display: inline-block !important;position: relative;}#sk-container-id-6 div.sk-text-repr-fallback {display: none;}</style><div id=\"sk-container-id-6\" class=\"sk-top-container\"><div class=\"sk-text-repr-fallback\"><pre>MLPRegressor(hidden_layer_sizes=(32, 16), max_iter=1000, random_state=2023)</pre><b>In a Jupyter environment, please rerun this cell to show the HTML representation or trust the notebook. <br />On GitHub, the HTML representation is unable to render, please try loading this page with nbviewer.org.</b></div><div class=\"sk-container\" hidden><div class=\"sk-item\"><div class=\"sk-estimator sk-toggleable\"><input class=\"sk-toggleable__control sk-hidden--visually\" id=\"sk-estimator-id-6\" type=\"checkbox\" checked><label for=\"sk-estimator-id-6\" class=\"sk-toggleable__label sk-toggleable__label-arrow\">MLPRegressor</label><div class=\"sk-toggleable__content\"><pre>MLPRegressor(hidden_layer_sizes=(32, 16), max_iter=1000, random_state=2023)</pre></div></div></div></div></div>"
            ],
            "text/plain": [
              "MLPRegressor(hidden_layer_sizes=(32, 16), max_iter=1000, random_state=2023)"
            ]
          },
          "execution_count": 62,
          "metadata": {},
          "output_type": "execute_result"
        }
      ],
      "source": [
        "# Create an ANN model and fit it to the scaled training data\n",
        "model = MLPRegressor(hidden_layer_sizes=(32,16), activation='relu', solver='adam', max_iter=1000, random_state=2023)\n",
        "\n",
        "#fit the model yourself\n",
        "model.fit(X_train_norm, y_train)"
      ]
    },
    {
      "cell_type": "markdown",
      "metadata": {
        "id": "ewhMo-dEiQtL"
      },
      "source": [
        "## **2.6 Model Evaluation**"
      ]
    },
    {
      "cell_type": "code",
      "execution_count": 63,
      "metadata": {
        "id": "cj_T8SQe-p5n"
      },
      "outputs": [],
      "source": [
        "# Use the trained model to predict on the normalised test data, hint: y_pred_mlp = \n",
        "\n"
      ]
    },
    {
      "cell_type": "code",
      "execution_count": 64,
      "metadata": {
        "colab": {
          "base_uri": "https://localhost:8080/"
        },
        "id": "-XU3evKclMt_",
        "outputId": "9db332e3-79e4-4006-a9a6-21b62c9d63c9"
      },
      "outputs": [
        {
          "name": "stdout",
          "output_type": "stream",
          "text": [
            "RMSE: 5481.391\n",
            "R-squared: 0.772\n",
            "MAE: 3931.512\n"
          ]
        }
      ],
      "source": [
        "# Calculate RMSE, R-squared, and MAE\n",
        "rmse = np.sqrt(mean_squared_error(y_test, y_pred_mlp))\n",
        "r2 = r2_score(y_test, y_pred_mlp)\n",
        "mae = mean_absolute_error(y_test, y_pred_mlp)\n",
        "\n",
        "# Print the evaluation metrics\n",
        "print(\"RMSE: {:.3f}\" .format(rmse))\n",
        "print(\"R-squared: {:.3f}\" .format(r2))\n",
        "print(\"MAE: {:.3f}\" .format(mae))"
      ]
    },
    {
      "cell_type": "code",
      "execution_count": 65,
      "metadata": {
        "colab": {
          "base_uri": "https://localhost:8080/"
        },
        "id": "HuT56Ibtep1T",
        "outputId": "6261e367-a312-4564-cd60-baadfde03dcc"
      },
      "outputs": [
        {
          "data": {
            "text/plain": [
              "count     1338.000000\n",
              "mean     13270.422265\n",
              "std      12110.011237\n",
              "min       1121.873900\n",
              "25%       4740.287150\n",
              "50%       9382.033000\n",
              "75%      16639.912515\n",
              "max      63770.428010\n",
              "Name: charges, dtype: float64"
            ]
          },
          "execution_count": 65,
          "metadata": {},
          "output_type": "execute_result"
        }
      ],
      "source": [
        "records.charges.describe()"
      ]
    },
    {
      "cell_type": "code",
      "execution_count": 66,
      "metadata": {
        "colab": {
          "base_uri": "https://localhost:8080/",
          "height": 430
        },
        "id": "MVLGob6UevCD",
        "outputId": "98178b6c-5134-428f-d055-8d2dec749f17"
      },
      "outputs": [
        {
          "data": {
            "image/png": "[encoded data removed]",
            "text/plain": [
              "<Figure size 640x480 with 1 Axes>"
            ]
          },
          "metadata": {},
          "output_type": "display_data"
        }
      ],
      "source": [
        "#Plot residuals, i.e. the differences between the actual and predicted values. \n",
        "plt.hist(x=y_test-y_pred_mlp, bins=50)\n",
        "plt.xlabel='error'\n",
        "plt.ylabels='count'\n",
        "plt.show()"
      ]
    },
    {
      "cell_type": "code",
      "execution_count": 68,
      "metadata": {
        "id": "CVPfLmpSfCqp"
      },
      "outputs": [],
      "source": [
        "import matplotlib.pyplot as plt\n",
        "from importlib import reload\n",
        "plt=reload(plt)"
      ]
    },
    {
      "cell_type": "code",
      "execution_count": 69,
      "metadata": {
        "colab": {
          "base_uri": "https://localhost:8080/",
          "height": 472
        },
        "id": "BZuLrycRe7Le",
        "outputId": "e4dbc7c6-8421-4f4f-b25a-490faf365c9e"
      },
      "outputs": [
        {
          "data": {
            "image/png": "[encoded data removed]",
            "text/plain": [
              "<Figure size 640x480 with 1 Axes>"
            ]
          },
          "metadata": {},
          "output_type": "display_data"
        }
      ],
      "source": [
        "# Create a scatter plot of residuals against predicted values\n",
        "plt.scatter(y_pred, y_test-y_pred_mlp)\n",
        "plt.title('Residual Plot')\n",
        "plt.ylabel('Residuals')\n",
        "plt.xlabel('Predicted values')\n",
        "plt.show()"
      ]
    },
    {
      "cell_type": "markdown",
      "metadata": {
        "id": "ujUhdCSriY5p"
      },
      "source": [
        "## **2.7 A Brief Intro to Keras (cont)**"
      ]
    },
    {
      "cell_type": "code",
      "execution_count": null,
      "metadata": {
        "id": "HNDYo7_Winhl"
      },
      "outputs": [],
      "source": [
        "from sklearn.metrics import mean_squared_error, mean_absolute_error, r2_score\n",
        "from keras.models import Sequential\n",
        "from keras.layers import Dense\n",
        "from keras.callbacks import History"
      ]
    },
    {
      "cell_type": "code",
      "execution_count": null,
      "metadata": {
        "colab": {
          "base_uri": "https://localhost:8080/"
        },
        "id": "YyWj_mxLi0B3",
        "outputId": "586d26be-b88e-4555-de31-3e920479a300"
      },
      "outputs": [
        {
          "data": {
            "text/plain": [
              "(1070, 8)"
            ]
          },
          "execution_count": 112,
          "metadata": {},
          "output_type": "execute_result"
        }
      ],
      "source": [
        "X_train_norm.shape"
      ]
    },
    {
      "cell_type": "code",
      "execution_count": null,
      "metadata": {
        "id": "Q9N5u4H0j2Ul"
      },
      "outputs": [],
      "source": [
        "# define the keras model\n",
        "model = Sequential()\n",
        "model.add(Dense(32, input_dim=6, activation='relu', input_shape=(X_train_norm.shape[1],)))\n",
        "model.add(Dense(16, activation='relu'))\n",
        "model.add(Dense(1, activation='linear'))\n",
        "\n",
        "# compile the keras model\n",
        "model.compile(loss='mean_squared_error', optimizer='adam', metrics=['mean_squared_error'])\n",
        "\n",
        "# fit the keras model on the dataset\n",
        "history = History()\n",
        "history=model.fit(X_train_norm, y_train, epochs=100, batch_size=32, verbose=0, callbacks=[history])\n",
        "\n"
      ]
    },
    {
      "cell_type": "code",
      "execution_count": null,
      "metadata": {
        "colab": {
          "base_uri": "https://localhost:8080/"
        },
        "id": "pXjpp0R5kKIl",
        "outputId": "24231121-bad8-4d15-8a51-a3a3bef43888"
      },
      "outputs": [
        {
          "name": "stdout",
          "output_type": "stream",
          "text": [
            "9/9 [==============================] - 0s 2ms/step\n",
            "RMSE: 5638.58\n",
            "MAE: 4051.75\n",
            "R-squared: 0.80\n"
          ]
        }
      ],
      "source": [
        "# make predictions using the model\n",
        "y_pred_keras = model.predict(X_test_norm)\n",
        "\n",
        "# calculate evaluation metrics\n",
        "rmse = np.sqrt(mean_squared_error(y_test, y_pred_keras))\n",
        "mae = mean_absolute_error(y_test, y_pred_keras)\n",
        "r2 = r2_score(y_test, y_pred_keras)\n",
        "\n",
        "print('RMSE: {:.2f}'.format(rmse))\n",
        "print('MAE: {:.2f}'.format(mae))\n",
        "print('R-squared: {:.2f}'.format(r2))\n"
      ]
    },
    {
      "cell_type": "code",
      "execution_count": null,
      "metadata": {
        "colab": {
          "base_uri": "https://localhost:8080/",
          "height": 927
        },
        "id": "MpjcwJ81kuF5",
        "outputId": "c6821057-36ec-41a8-f3a5-dea230ec39b7"
      },
      "outputs": [
        {
          "data": {
            "image/png": "[encoded data removed]",
            "text/plain": [
              "<Figure size 640x480 with 1 Axes>"
            ]
          },
          "metadata": {},
          "output_type": "display_data"
        },
        {
          "data": {
            "image/png": "[encoded data removed]",
            "text/plain": [
              "<Figure size 640x480 with 1 Axes>"
            ]
          },
          "metadata": {},
          "output_type": "display_data"
        }
      ],
      "source": [
        "# plot the loss and accuracy over epochs\n",
        "plt.plot(history.history['loss'])\n",
        "plt.title('Model Loss')\n",
        "plt.ylabel('Loss')\n",
        "plt.xlabel('Epoch')\n",
        "plt.show()\n",
        "\n",
        "plt.plot(history.history['mean_squared_error'])\n",
        "plt.title('Model Mean Squared Error')\n",
        "plt.ylabel('Mean Squared Error')\n",
        "plt.xlabel('Epoch')\n",
        "plt.show()"
      ]
    },
    {
      "cell_type": "code",
      "execution_count": null,
      "metadata": {
        "id": "tDzy2L9vrnNR"
      },
      "outputs": [],
      "source": [
        "# Print the residuals\n",
        "residuals = y_test - y_pred_keras.squeeze()\n"
      ]
    },
    {
      "cell_type": "code",
      "execution_count": null,
      "metadata": {
        "colab": {
          "base_uri": "https://localhost:8080/",
          "height": 430
        },
        "id": "PM0pfMIsrZrY",
        "outputId": "f4009c26-0330-42a2-fbb0-93cece7e8909"
      },
      "outputs": [
        {
          "data": {
            "image/png": "[encoded data removed]",
            "text/plain": [
              "<Figure size 640x480 with 1 Axes>"
            ]
          },
          "metadata": {},
          "output_type": "display_data"
        }
      ],
      "source": [
        "#Plot residuals, i.e. the differences between the actual and predicted values. \n",
        "plt.hist(residuals, bins=50)\n",
        "plt.xlabel='error'\n",
        "plt.ylabels='count'\n",
        "plt.show()"
      ]
    },
    {
      "cell_type": "code",
      "execution_count": null,
      "metadata": {
        "colab": {
          "base_uri": "https://localhost:8080/",
          "height": 472
        },
        "id": "UG8l5ITXtedA",
        "outputId": "160ab10e-4dc7-4634-e9bc-fa57089367e3"
      },
      "outputs": [
        {
          "data": {
            "image/png": "[encoded data removed]",
            "text/plain": [
              "<Figure size 640x480 with 1 Axes>"
            ]
          },
          "metadata": {},
          "output_type": "display_data"
        }
      ],
      "source": [
        "# Create a scatter plot of residuals against predicted values\n",
        "plt.scatter(y_pred_keras, residuals)\n",
        "plt.title('Residual Plot')\n",
        "plt.ylabel('Residuals')\n",
        "plt.xlabel('Predicted values')\n",
        "plt.show()"
      ]
    },
    {
      "cell_type": "markdown",
      "metadata": {
        "id": "X_oDobxnSd1m"
      },
      "source": [
        "## **2.8 Model Comparison**"
      ]
    },
    {
      "cell_type": "markdown",
      "metadata": {
        "id": "yiWD85zC2CVV"
      },
      "source": [
        "Compare the above two MPLRegressor and keras models "
      ]
    },
    {
      "cell_type": "code",
      "execution_count": null,
      "metadata": {
        "id": "QCgmovu3SyH1"
      },
      "outputs": [],
      "source": [
        "# Calculate the regression line for y_test and y_pred_mlp\n",
        "slope_mlp, intercept_mlp = np.polyfit(y_test, y_pred_mlp, 1)\n",
        "regression_line_mlp = slope_mlp * y_test + intercept_mlp"
      ]
    },
    {
      "cell_type": "code",
      "execution_count": null,
      "metadata": {
        "id": "V6YaV1GrSy_S"
      },
      "outputs": [],
      "source": [
        "#write your code to calculate the regression line for y_test and y_pred_keras"
      ]
    },
    {
      "cell_type": "code",
      "execution_count": null,
      "metadata": {
        "id": "p2YTIu-5S8of"
      },
      "outputs": [],
      "source": [
        "# Create a scatter plot of true against predicted values for MLP and Keras\n",
        "plt.scatter(y_test, y_pred_mlp)\n",
        "plt.plot(y_test, regression_line_mlp, color='blue')\n",
        "plt.scatter(y_test, y_pred_keras, marker='D', s=10, color='orange')\n",
        "plt.plot(y_test, regression_line_keras, color='orange')\n",
        "plt.title('true against predicted values for keras')\n",
        "plt.ylabel('Predicted values')\n",
        "plt.xlabel('True values')\n",
        "plt.legend(loc=\"lower right\")\n",
        "plt.show()"
      ]
    },
    {
      "cell_type": "markdown",
      "metadata": {},
      "source": [
        "# Image Recognition Using Convolutional Neural Networks"
      ]
    },
    {
      "cell_type": "markdown",
      "metadata": {},
      "source": [
        "## Overview\n",
        "\n",
        "In this project, you will learn how to build a convolutional neural network (CNN) to recognize images of different objects. You will use the CIFAR-10 dataset, which consists of 60,000 32x32 color images in 10 classes, with 6,000 images per class.\n",
        "\n"
      ]
    },
    {
      "cell_type": "markdown",
      "metadata": {},
      "source": [
        "## Steps:\n",
        "\n",
        "* Install the necessary libraries: TensorFlow, Keras, and NumPy.\n",
        "* Load the CIFAR-10 dataset and preprocess the data.\n",
        "* Define the CNN architecture, which should include convolutional layers, pooling layers, and fully connected layers.\n",
        "* Compile the CNN model and train it using the training dataset.\n",
        "* Evaluate the accuracy of the CNN model using the testing dataset.\n",
        "* Use the trained model to make predictions on new images.\n",
        "\n",
        "## Tips:\n",
        "\n",
        "* Experiment with different CNN architectures to improve the accuracy of the model.\n",
        "* Use data augmentation techniques to increase the size of the dataset and prevent overfitting.\n",
        "* Visualize the filters learned by the convolutional layers to gain insights into what the model is learning.\n",
        "* Use transfer learning to leverage pre-trained models and reduce the training time.\n"
      ]
    },
    {
      "cell_type": "code",
      "execution_count": null,
      "metadata": {},
      "outputs": [],
      "source": [
        "from keras.datasets import cifar10\n",
        "from keras.utils import np_utils\n",
        "import numpy as np\n",
        "from keras.models import Sequential\n",
        "from keras.layers import Dense, Dropout, Flatten\n",
        "from keras.layers.convolutional import Conv2D, MaxPooling2D\n",
        "import numpy as np\n",
        "from keras.preprocessing import image\n",
        "from tensorflow import keras\n",
        "from tensorflow.keras import layers\n",
        "import matplotlib.pyplot as plt\n"
      ]
    },
    {
      "cell_type": "code",
      "execution_count": null,
      "metadata": {},
      "outputs": [
        {
          "name": "stdout",
          "output_type": "stream",
          "text": [
            "Example training images and their labels: [6, 9, 9, 4, 1]\n",
            "Corresponding classes for the labels: ['frog', 'truck', 'truck', 'deer', 'automobile']\n"
          ]
        },
        {
          "data": {
            "image/png": "[encoded data removed]",
            "text/plain": [
              "<Figure size 1600x600 with 5 Axes>"
            ]
          },
          "metadata": {},
          "output_type": "display_data"
        }
      ],
      "source": [
        "# Load the CIFAR-10 dataset and preprocess the data\n",
        "(X_train, y_train), (X_test, y_test) = cifar10.load_data()\n",
        "\n",
        "cifar_classes = ['airplane', 'automobile', 'bird', 'cat', 'deer', 'dog', 'frog', 'horse', 'ship', 'truck']\n",
        "print('Example training images and their labels: ' + str([x[0] for x in y_train[0:5]])) \n",
        "print('Corresponding classes for the labels: ' + str([cifar_classes[x[0]] for x in y_train[0:5]]))\n",
        "\n",
        "f, axarr = plt.subplots(1, 5)\n",
        "f.set_size_inches(16, 6)\n",
        "\n",
        "for i in range(5):\n",
        "    img = X_train[i]\n",
        "    axarr[i].imshow(img)\n",
        "plt.show()\n"
      ]
    },
    {
      "cell_type": "code",
      "execution_count": null,
      "metadata": {},
      "outputs": [],
      "source": [
        "# Normalize the inputs\n",
        "X_train = X_train.astype('float32') / 255\n",
        "X_test = X_test.astype('float32') / 255\n",
        "\n",
        "# One-hot encode the outputs\n",
        "num_classes = len(np.unique(y_train))\n",
        "y_train = np_utils.to_categorical(y_train, num_classes)\n",
        "y_test = np_utils.to_categorical(y_test, num_classes)"
      ]
    },
    {
      "cell_type": "code",
      "execution_count": null,
      "metadata": {},
      "outputs": [],
      "source": [
        "# Define the CNN architecture\n",
        "\n",
        "model = Sequential()\n",
        "model.add(Conv2D(32, (3, 3), activation='relu', input_shape=X_train.shape[1:]))\n",
        "model.add(MaxPooling2D())\n",
        "model.add(Conv2D(64, (3, 3), activation='relu'))\n",
        "model.add(MaxPooling2D())\n",
        "model.add(Flatten())\n",
        "model.add(Dense(512, activation='relu'))\n",
        "model.add(Dropout(0.5))\n",
        "model.add(Dense(num_classes, activation='softmax'))"
      ]
    },
    {
      "cell_type": "code",
      "execution_count": null,
      "metadata": {},
      "outputs": [
        {
          "name": "stdout",
          "output_type": "stream",
          "text": [
            "Epoch 1/10\n",
            "782/782 [==============================] - 6s 6ms/step - loss: 1.4841 - accuracy: 0.4629 - val_loss: 1.1377 - val_accuracy: 0.6017\n",
            "Epoch 2/10\n",
            "782/782 [==============================] - 5s 6ms/step - loss: 1.1239 - accuracy: 0.6045 - val_loss: 0.9820 - val_accuracy: 0.6574\n",
            "Epoch 3/10\n",
            "782/782 [==============================] - 4s 5ms/step - loss: 0.9716 - accuracy: 0.6614 - val_loss: 0.9024 - val_accuracy: 0.6841\n",
            "Epoch 4/10\n",
            "782/782 [==============================] - 4s 5ms/step - loss: 0.8710 - accuracy: 0.6971 - val_loss: 0.8590 - val_accuracy: 0.7006\n",
            "Epoch 5/10\n",
            "782/782 [==============================] - 5s 6ms/step - loss: 0.7988 - accuracy: 0.7200 - val_loss: 0.8040 - val_accuracy: 0.7205\n",
            "Epoch 6/10\n",
            "782/782 [==============================] - 4s 5ms/step - loss: 0.7229 - accuracy: 0.7469 - val_loss: 0.8170 - val_accuracy: 0.7234\n",
            "Epoch 7/10\n",
            "782/782 [==============================] - 4s 5ms/step - loss: 0.6715 - accuracy: 0.7652 - val_loss: 0.8059 - val_accuracy: 0.7239\n",
            "Epoch 8/10\n",
            "782/782 [==============================] - 5s 6ms/step - loss: 0.6173 - accuracy: 0.7830 - val_loss: 0.7867 - val_accuracy: 0.7286\n",
            "Epoch 9/10\n",
            "782/782 [==============================] - 5s 7ms/step - loss: 0.5605 - accuracy: 0.8012 - val_loss: 0.7826 - val_accuracy: 0.7347\n",
            "Epoch 10/10\n",
            "782/782 [==============================] - 4s 5ms/step - loss: 0.5202 - accuracy: 0.8187 - val_loss: 0.7792 - val_accuracy: 0.7433\n"
          ]
        },
        {
          "data": {
            "text/plain": [
              "<keras.callbacks.History at 0x7fcc9c7237f0>"
            ]
          },
          "metadata": {},
          "output_type": "display_data"
        }
      ],
      "source": [
        "# Compile the CNN model and train it using the training dataset\n",
        "model.compile(loss='categorical_crossentropy', optimizer='adam', metrics=['accuracy'])\n",
        "model.fit(X_train, y_train, validation_data=(X_test, y_test), epochs=10, batch_size=64)"
      ]
    },
    {
      "cell_type": "code",
      "execution_count": null,
      "metadata": {},
      "outputs": [
        {
          "name": "stdout",
          "output_type": "stream",
          "text": [
            "Accuracy: 74.33%\n"
          ]
        }
      ],
      "source": [
        "# Evaluate the accuracy of the CNN model using the testing dataset\n",
        "scores = model.evaluate(X_test, y_test, verbose=0)\n",
        "print(\"Accuracy: %.2f%%\" % (scores[1]*100))\n"
      ]
    },
    {
      "cell_type": "code",
      "execution_count": null,
      "metadata": {},
      "outputs": [],
      "source": [
        "# Load the CIFAR-10 dataset\n",
        "(x_train, y_train), (x_test, y_test) = cifar10.load_data()\n",
        "\n",
        "# Normalize the images\n",
        "x_train = x_train / 255.0\n",
        "x_test = x_test / 255.0\n",
        "\n",
        "# Convert labels to one-hot encoding\n",
        "from keras.utils import to_categorical\n",
        "\n",
        "y_train = to_categorical(y_train)\n",
        "y_test = to_categorical(y_test)\n",
        "\n",
        "# Define the classes\n",
        "classes = ('plane', 'car', 'bird', 'cat', 'deer', 'dog', 'frog', 'horse', 'ship', 'truck')"
      ]
    },
    {
      "cell_type": "code",
      "execution_count": null,
      "metadata": {},
      "outputs": [
        {
          "name": "stdout",
          "output_type": "stream",
          "text": [
            "Model: \"sequential_4\"\n",
            "_________________________________________________________________\n",
            " Layer (type)                Output Shape              Param #   \n",
            "=================================================================\n",
            " flatten_5 (Flatten)         (None, 3072)              0         \n",
            "                                                                 \n",
            " dense_24 (Dense)            (None, 512)               1573376   \n",
            "                                                                 \n",
            " dense_25 (Dense)            (None, 256)               131328    \n",
            "                                                                 \n",
            " dense_26 (Dense)            (None, 10)                2570      \n",
            "                                                                 \n",
            "=================================================================\n",
            "Total params: 1,707,274\n",
            "Trainable params: 1,707,274\n",
            "Non-trainable params: 0\n",
            "_________________________________________________________________\n"
          ]
        }
      ],
      "source": [
        "from keras.models import Sequential\n",
        "from keras.layers import Flatten, Dense\n",
        "\n",
        "# Define the MLP model\n",
        "model = Sequential()\n",
        "model.add(Flatten(input_shape=(32, 32, 3)))\n",
        "model.add(Dense(512, activation='relu'))\n",
        "model.add(Dense(256, activation='relu'))\n",
        "model.add(Dense(10, activation='softmax'))\n",
        "\n",
        "# Print the model summary\n",
        "model.summary()\n"
      ]
    },
    {
      "cell_type": "code",
      "execution_count": null,
      "metadata": {},
      "outputs": [],
      "source": [
        "# Compile the model\n",
        "model.compile(loss='categorical_crossentropy', optimizer='sgd', metrics=['accuracy'])\n"
      ]
    },
    {
      "cell_type": "code",
      "execution_count": null,
      "metadata": {},
      "outputs": [
        {
          "name": "stdout",
          "output_type": "stream",
          "text": [
            "Epoch 1/10\n",
            "391/391 [==============================] - 2s 4ms/step - loss: 1.9635 - accuracy: 0.2999\n",
            "Epoch 2/10\n",
            "391/391 [==============================] - 2s 5ms/step - loss: 1.7963 - accuracy: 0.3671\n",
            "Epoch 3/10\n",
            "391/391 [==============================] - 3s 7ms/step - loss: 1.7296 - accuracy: 0.3926\n",
            "Epoch 4/10\n",
            "391/391 [==============================] - 2s 6ms/step - loss: 1.6806 - accuracy: 0.4098\n",
            "Epoch 5/10\n",
            "391/391 [==============================] - 2s 4ms/step - loss: 1.6418 - accuracy: 0.4260\n",
            "Epoch 6/10\n",
            "391/391 [==============================] - 2s 4ms/step - loss: 1.6104 - accuracy: 0.4366\n",
            "Epoch 7/10\n",
            "391/391 [==============================] - 2s 4ms/step - loss: 1.5837 - accuracy: 0.4438\n",
            "Epoch 8/10\n",
            "391/391 [==============================] - 2s 4ms/step - loss: 1.5579 - accuracy: 0.4543\n",
            "Epoch 9/10\n",
            "391/391 [==============================] - 2s 6ms/step - loss: 1.5387 - accuracy: 0.4616\n",
            "Epoch 10/10\n",
            "391/391 [==============================] - 2s 4ms/step - loss: 1.5196 - accuracy: 0.4661\n"
          ]
        },
        {
          "data": {
            "text/plain": [
              "<keras.callbacks.History at 0x7fcd716d1460>"
            ]
          },
          "metadata": {},
          "output_type": "display_data"
        }
      ],
      "source": [
        "# Train the model\n",
        "model.fit(x_train, y_train, epochs=10, batch_size=128)\n"
      ]
    },
    {
      "cell_type": "code",
      "execution_count": null,
      "metadata": {},
      "outputs": [
        {
          "name": "stdout",
          "output_type": "stream",
          "text": [
            "313/313 [==============================] - 1s 3ms/step - loss: 1.5523 - accuracy: 0.4520\n",
            "Test accuracy: 0.4519999921321869\n"
          ]
        }
      ],
      "source": [
        "# Evaluate the model on the test set\n",
        "loss, accuracy = model.evaluate(x_test, y_test)\n",
        "print('Test accuracy:', accuracy)\n"
      ]
    },
    {
      "cell_type": "code",
      "execution_count": null,
      "metadata": {},
      "outputs": [
        {
          "data": {
            "image/png": "[encoded data removed]",
            "text/plain": [
              "<Figure size 640x480 with 1 Axes>"
            ]
          },
          "metadata": {},
          "output_type": "display_data"
        },
        {
          "data": {
            "image/png": "[encoded data removed]",
            "text/plain": [
              "<Figure size 640x480 with 1 Axes>"
            ]
          },
          "metadata": {},
          "output_type": "display_data"
        }
      ],
      "source": [
        "# Print out the training and validation performance\n",
        "import matplotlib.pyplot as plt\n",
        "\n",
        "plt.plot(history.history['accuracy'])\n",
        "plt.plot(history.history['val_accuracy'])\n",
        "plt.title('Model Accuracy')\n",
        "plt.ylabel('Accuracy')\n",
        "plt.xlabel('Epoch')\n",
        "plt.legend(['Train', 'Validation'], loc='upper left')\n",
        "plt.show()\n",
        "\n",
        "plt.plot(history.history['loss'])\n",
        "plt.plot(history.history['val_loss'])\n",
        "plt.title('Model Loss')\n",
        "plt.ylabel('Loss')\n",
        "plt.xlabel('Epoch')\n",
        "plt.legend(['Train', 'Validation'], loc='upper left')\n",
        "plt.show()\n",
        "\n",
        "\n"
      ]
    }
  ],
  "metadata": {
    "colab": {
      "provenance": [],
      "toc_visible": true
    },
    "kernelspec": {
      "display_name": "Python 3",
      "name": "python3"
    },
    "language_info": {
      "name": "python"
    }
  },
  "nbformat": 4,
  "nbformat_minor": 0
}
